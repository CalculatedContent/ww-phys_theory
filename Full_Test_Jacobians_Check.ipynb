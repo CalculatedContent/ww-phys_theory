{
  "nbformat": 4,
  "nbformat_minor": 0,
  "metadata": {
    "colab": {
      "name": "Full-Test-Jacobians-Check.ipynb",
      "provenance": [],
      "collapsed_sections": [],
      "machine_shape": "hm",
      "authorship_tag": "ABX9TyNAlaJal3J7fbDHL/dE0u3J",
      "include_colab_link": true
    },
    "kernelspec": {
      "name": "python3",
      "display_name": "Python 3"
    },
    "accelerator": "GPU"
  },
  "cells": [
    {
      "cell_type": "markdown",
      "metadata": {
        "id": "view-in-github",
        "colab_type": "text"
      },
      "source": [
        "<a href=\"https://colab.research.google.com/github/CalculatedContent/ww-phys_theory/blob/master/Full_Test_Jacobians_Check.ipynb\" target=\"_parent\"><img src=\"https://colab.research.google.com/assets/colab-badge.svg\" alt=\"Open In Colab\"/></a>"
      ]
    },
    {
      "cell_type": "markdown",
      "metadata": {
        "id": "4YGlUg538lQ4",
        "colab_type": "text"
      },
      "source": [
        "# Compare Batched to Unbatched JJ\n",
        "\n",
        "\n",
        "\n"
      ]
    },
    {
      "cell_type": "code",
      "metadata": {
        "id": "4JBCL3Qj8pl6",
        "colab_type": "code",
        "colab": {
          "base_uri": "https://localhost:8080/",
          "height": 34
        },
        "outputId": "376f1614-9b28-41c8-b754-f72cb4391c18"
      },
      "source": [
        "Jdir =  '/content/drive/My Drive/J_resnets_fullsvd'\n",
        "\n",
        "thismodel = 'resnet110_cifar10'\n",
        "num_classes= 10\n",
        "num_data = 50000\n",
        "\n",
        "training = False\n",
        "batched = False\n",
        "start_batch = 0\n",
        "batch_size = 100\n",
        "\n",
        "device = 'cuda:0'\n"
      ],
      "execution_count": 19,
      "outputs": [
        {
          "output_type": "stream",
          "text": [
            "time: 2.82 ms\n"
          ],
          "name": "stdout"
        }
      ]
    },
    {
      "cell_type": "code",
      "metadata": {
        "id": "lSlymHmAIph5",
        "colab_type": "code",
        "colab": {
          "base_uri": "https://localhost:8080/",
          "height": 136
        },
        "outputId": "280d113c-7df5-407c-eba8-5b791bbeb341"
      },
      "source": [
        "!pip install torch==1.5.0+cu101 torchvision==0.6.0+cu101 -f https://download.pytorch.org/whl/torch_stable.html"
      ],
      "execution_count": 20,
      "outputs": [
        {
          "output_type": "stream",
          "text": [
            "Looking in links: https://download.pytorch.org/whl/torch_stable.html\n",
            "Requirement already satisfied: torch==1.5.0+cu101 in /usr/local/lib/python3.6/dist-packages (1.5.0+cu101)\n",
            "Requirement already satisfied: torchvision==0.6.0+cu101 in /usr/local/lib/python3.6/dist-packages (0.6.0+cu101)\n",
            "Requirement already satisfied: future in /usr/local/lib/python3.6/dist-packages (from torch==1.5.0+cu101) (0.16.0)\n",
            "Requirement already satisfied: numpy in /usr/local/lib/python3.6/dist-packages (from torch==1.5.0+cu101) (1.18.5)\n",
            "Requirement already satisfied: pillow>=4.1.1 in /usr/local/lib/python3.6/dist-packages (from torchvision==0.6.0+cu101) (7.0.0)\n",
            "time: 2.38 s\n"
          ],
          "name": "stdout"
        }
      ]
    },
    {
      "cell_type": "code",
      "metadata": {
        "id": "hZplJz8WqCkD",
        "colab_type": "code",
        "colab": {
          "base_uri": "https://localhost:8080/",
          "height": 85
        },
        "outputId": "aaa5ce4f-b064-4b1b-9722-3b8e90f8b469"
      },
      "source": [
        "!pip install ipython-autotime\n",
        "%load_ext autotime"
      ],
      "execution_count": 21,
      "outputs": [
        {
          "output_type": "stream",
          "text": [
            "Requirement already satisfied: ipython-autotime in /usr/local/lib/python3.6/dist-packages (0.1)\n",
            "The autotime extension is already loaded. To reload it, use:\n",
            "  %reload_ext autotime\n",
            "time: 2.53 s\n"
          ],
          "name": "stdout"
        }
      ]
    },
    {
      "cell_type": "code",
      "metadata": {
        "id": "XQGrAUZLSEy_",
        "colab_type": "code",
        "colab": {
          "base_uri": "https://localhost:8080/",
          "height": 51
        },
        "outputId": "02a68240-97bf-4ccc-f35b-efee1b2debc6"
      },
      "source": [
        "from google.colab import drive\n",
        "drive.mount('/content/drive')\n"
      ],
      "execution_count": 22,
      "outputs": [
        {
          "output_type": "stream",
          "text": [
            "Drive already mounted at /content/drive; to attempt to forcibly remount, call drive.mount(\"/content/drive\", force_remount=True).\n",
            "time: 1.93 ms\n"
          ],
          "name": "stdout"
        }
      ]
    },
    {
      "cell_type": "code",
      "metadata": {
        "id": "L9UHqdnHqCcv",
        "colab_type": "code",
        "colab": {
          "base_uri": "https://localhost:8080/",
          "height": 340
        },
        "outputId": "b42ac5a9-b88b-41d8-f48e-8599cad52a30"
      },
      "source": [
        "!pip install pytorchcv\n",
        "!pip install powerlaw\n",
        "!pip install GPUtil\n",
        "import GPUtil"
      ],
      "execution_count": 23,
      "outputs": [
        {
          "output_type": "stream",
          "text": [
            "Requirement already satisfied: pytorchcv in /usr/local/lib/python3.6/dist-packages (0.0.58)\n",
            "Requirement already satisfied: numpy in /usr/local/lib/python3.6/dist-packages (from pytorchcv) (1.18.5)\n",
            "Requirement already satisfied: requests in /usr/local/lib/python3.6/dist-packages (from pytorchcv) (2.23.0)\n",
            "Requirement already satisfied: chardet<4,>=3.0.2 in /usr/local/lib/python3.6/dist-packages (from requests->pytorchcv) (3.0.4)\n",
            "Requirement already satisfied: certifi>=2017.4.17 in /usr/local/lib/python3.6/dist-packages (from requests->pytorchcv) (2020.4.5.2)\n",
            "Requirement already satisfied: idna<3,>=2.5 in /usr/local/lib/python3.6/dist-packages (from requests->pytorchcv) (2.9)\n",
            "Requirement already satisfied: urllib3!=1.25.0,!=1.25.1,<1.26,>=1.21.1 in /usr/local/lib/python3.6/dist-packages (from requests->pytorchcv) (1.24.3)\n",
            "Requirement already satisfied: powerlaw in /usr/local/lib/python3.6/dist-packages (1.4.6)\n",
            "Requirement already satisfied: matplotlib in /usr/local/lib/python3.6/dist-packages (from powerlaw) (3.2.2)\n",
            "Requirement already satisfied: mpmath in /usr/local/lib/python3.6/dist-packages (from powerlaw) (1.1.0)\n",
            "Requirement already satisfied: numpy in /usr/local/lib/python3.6/dist-packages (from powerlaw) (1.18.5)\n",
            "Requirement already satisfied: scipy in /usr/local/lib/python3.6/dist-packages (from powerlaw) (1.4.1)\n",
            "Requirement already satisfied: python-dateutil>=2.1 in /usr/local/lib/python3.6/dist-packages (from matplotlib->powerlaw) (2.8.1)\n",
            "Requirement already satisfied: cycler>=0.10 in /usr/local/lib/python3.6/dist-packages (from matplotlib->powerlaw) (0.10.0)\n",
            "Requirement already satisfied: pyparsing!=2.0.4,!=2.1.2,!=2.1.6,>=2.0.1 in /usr/local/lib/python3.6/dist-packages (from matplotlib->powerlaw) (2.4.7)\n",
            "Requirement already satisfied: kiwisolver>=1.0.1 in /usr/local/lib/python3.6/dist-packages (from matplotlib->powerlaw) (1.2.0)\n",
            "Requirement already satisfied: six>=1.5 in /usr/local/lib/python3.6/dist-packages (from python-dateutil>=2.1->matplotlib->powerlaw) (1.12.0)\n",
            "Requirement already satisfied: GPUtil in /usr/local/lib/python3.6/dist-packages (1.4.0)\n",
            "time: 6.87 s\n"
          ],
          "name": "stdout"
        }
      ]
    },
    {
      "cell_type": "code",
      "metadata": {
        "id": "0rBl2Oq6DQu9",
        "colab_type": "code",
        "colab": {
          "base_uri": "https://localhost:8080/",
          "height": 51
        },
        "outputId": "fde9022a-563e-4784-f431-17d82f5d0d92"
      },
      "source": [
        "!import os\n",
        "import time\n",
        "\n",
        "import numpy as np\n",
        "import pandas as pd\n",
        "\n",
        "import torch\n",
        "import torch.nn as nn\n",
        "import torch.nn.functional as F\n",
        "from torch.utils.data import DataLoader\n",
        "from torch.utils.data.dataset import Subset\n",
        "\n",
        "from torchvision import datasets\n",
        "from torchvision import transforms\n",
        "\n",
        "import matplotlib.pyplot as plt\n",
        "from PIL import Image\n",
        "\n",
        "import math\n",
        "import copy\n",
        "\n",
        "import gc\n"
      ],
      "execution_count": 24,
      "outputs": [
        {
          "output_type": "stream",
          "text": [
            "/bin/bash: import: command not found\n",
            "time: 928 ms\n"
          ],
          "name": "stdout"
        }
      ]
    },
    {
      "cell_type": "markdown",
      "metadata": {
        "id": "eRm23SSZoRyb",
        "colab_type": "text"
      },
      "source": [
        "### Run InstallPhysTheory notebook "
      ]
    },
    {
      "cell_type": "code",
      "metadata": {
        "id": "XcXIRwl3NGhs",
        "colab_type": "code",
        "colab": {
          "base_uri": "https://localhost:8080/",
          "height": 34
        },
        "outputId": "0171d138-661d-4401-d053-7f4fcbabc67a"
      },
      "source": [
        "import sys\n",
        "sys.path.append(\"/content/drive/My Drive/Jacobian\")\n",
        "import jacobian as jac\n",
        "import utils"
      ],
      "execution_count": 25,
      "outputs": [
        {
          "output_type": "stream",
          "text": [
            "time: 1.59 ms\n"
          ],
          "name": "stdout"
        }
      ]
    },
    {
      "cell_type": "code",
      "metadata": {
        "id": "iOROJGbR14rP",
        "colab_type": "code",
        "colab": {}
      },
      "source": [
        ""
      ],
      "execution_count": 25,
      "outputs": []
    },
    {
      "cell_type": "code",
      "metadata": {
        "id": "UMx_m3Gi_X__",
        "colab_type": "code",
        "colab": {
          "base_uri": "https://localhost:8080/",
          "height": 34
        },
        "outputId": "f628dd39-a877-4491-8729-188af9e565fa"
      },
      "source": [
        "def jacobian_full(model, data_loader, batch_size, num_classes=10, device='cuda:0'): \n",
        "  '''compute a full of J^{T}J Jacobian directly.  '''\n",
        "\n",
        "  model.eval()\n",
        "  model = model.to(device)\n",
        "\n",
        "  J_right = jac.construct_diagJ(model, data_loader, batch_size=batch_size, device=device) \n",
        "  J_left = J_right.transpose(1,0)\n",
        "  JJ = torch.mm(J_right, J_left)\n",
        "  JJMat = JJ.detach().cpu().numpy()\n",
        "\n",
        "  del J_right, J_left, JJ\n",
        "  gc.collect()\n",
        "  torch.cuda.empty_cache()\n",
        "\n",
        "  return JJMat"
      ],
      "execution_count": 26,
      "outputs": [
        {
          "output_type": "stream",
          "text": [
            "time: 6.26 ms\n"
          ],
          "name": "stdout"
        }
      ]
    },
    {
      "cell_type": "markdown",
      "metadata": {
        "id": "AlaD-n5OsIcO",
        "colab_type": "text"
      },
      "source": [
        "### ResNet "
      ]
    },
    {
      "cell_type": "code",
      "metadata": {
        "id": "nT8SeVRcyv2R",
        "colab_type": "code",
        "colab": {
          "base_uri": "https://localhost:8080/",
          "height": 34
        },
        "outputId": "d469e14f-5eab-4dba-e11f-5d597fd7158a"
      },
      "source": [
        "import pytorchcv\n",
        "from pytorchcv.model_provider import get_model as ptcv_get_model"
      ],
      "execution_count": 27,
      "outputs": [
        {
          "output_type": "stream",
          "text": [
            "time: 1.13 ms\n"
          ],
          "name": "stdout"
        }
      ]
    },
    {
      "cell_type": "markdown",
      "metadata": {
        "id": "b6pvm9Wh1MJz",
        "colab_type": "text"
      },
      "source": [
        "### Compute JJ, in batches or all at once\n"
      ]
    },
    {
      "cell_type": "code",
      "metadata": {
        "id": "XPJqJb2yZINy",
        "colab_type": "code",
        "colab": {
          "base_uri": "https://localhost:8080/",
          "height": 34
        },
        "outputId": "ce9b2627-8067-49b6-ff25-1f3c26e6f88a"
      },
      "source": [
        "def get_datasets(thismodel, batch_size):\n",
        "  print(\"getting dataset for \", thismodel)\n",
        "  if thismodel.endswith('cifar100'):\n",
        "    print(\"loading cifar100\")\n",
        "    train_dataset = datasets.CIFAR100(\n",
        "      root='data', \n",
        "      train=True, \n",
        "      transform=transforms.ToTensor(),\n",
        "      download=True)\n",
        "    test_dataset = datasets.CIFAR100(\n",
        "      root='data', \n",
        "      train=False, \n",
        "      transform=transforms.ToTensor(),\n",
        "      download=True) \n",
        " \n",
        "    train_loader = DataLoader(\n",
        "      dataset=train_dataset, \n",
        "      batch_size=batch_size,\n",
        "      num_workers=4,\n",
        "      shuffle=False)\n",
        "    test_loader = DataLoader(\n",
        "      dataset=test_dataset, \n",
        "      batch_size=batch_size,\n",
        "      num_workers=4,\n",
        "      shuffle=False)\n",
        "\n",
        "  else:\n",
        "    print(\"loading cifar10\")\n",
        "    train_dataset, test_dataset, train_loader, test_loader = utils.get_data(batch_size=batch_size)\n",
        "\n",
        "      \n",
        "  return train_dataset, test_dataset, train_loader, test_loader"
      ],
      "execution_count": 28,
      "outputs": [
        {
          "output_type": "stream",
          "text": [
            "time: 7.86 ms\n"
          ],
          "name": "stdout"
        }
      ]
    },
    {
      "cell_type": "code",
      "metadata": {
        "id": "OOrW3nihw7aP",
        "colab_type": "code",
        "colab": {
          "base_uri": "https://localhost:8080/",
          "height": 343
        },
        "outputId": "fa3f2dc7-3a78-4f49-d308-83d94327393e"
      },
      "source": [
        "print(thismodel)\n",
        "train_dataset, test_dataset, train_loader, test_loader = get_datasets(thismodel, batch_size)#utils.get_data(batch_size=batch_size)\n",
        "\n",
        "print(train_dataset)\n",
        "GPUtil.showUtilization()\n"
      ],
      "execution_count": 29,
      "outputs": [
        {
          "output_type": "stream",
          "text": [
            "resnet110_cifar10\n",
            "getting dataset for  resnet110_cifar10\n",
            "loading cifar10\n",
            "Files already downloaded and verified\n",
            "Files already downloaded and verified\n",
            "Dataset CIFAR10\n",
            "    Number of datapoints: 50000\n",
            "    Root location: data\n",
            "    Split: Train\n",
            "    StandardTransform\n",
            "Transform: Compose(\n",
            "               ToTensor()\n",
            "               Normalize(mean=[0.4913725490196078, 0.4823529411764706, 0.4466666666666667], std=[0.24705882352941178, 0.24352941176470588, 0.2615686274509804])\n",
            "           )\n",
            "| ID | GPU | MEM |\n",
            "------------------\n",
            "|  0 |  0% |  4% |\n",
            "time: 1.77 s\n"
          ],
          "name": "stdout"
        }
      ]
    },
    {
      "cell_type": "code",
      "metadata": {
        "id": "nZsgnzt1co7q",
        "colab_type": "code",
        "colab": {
          "base_uri": "https://localhost:8080/",
          "height": 71
        },
        "outputId": "adb37c61-38ec-4d41-8dc7-e8668e64e390"
      },
      "source": [
        "model = ptcv_get_model(thismodel, pretrained=True)  \n",
        "\n",
        "#jacobian_batched_full(thismodel, model, test_loader, batch_size=batch_size, num_classes=num_classes, start_batch=start_batch)\n",
        "\n",
        "#JJMat_true = jacobian_full(model, test_loader, batch_size=batch_size, num_classes=num_classes)"
      ],
      "execution_count": 30,
      "outputs": [
        {
          "output_type": "stream",
          "text": [
            "Downloading /root/.torch/models/resnet110_cifar10-0369-4d6ca1fc.pth.zip from https://github.com/osmr/imgclsmob/releases/download/v0.0.163/resnet110_cifar10-0369-4d6ca1fc.pth.zip...\n",
            "time: 947 ms\n"
          ],
          "name": "stdout"
        }
      ]
    },
    {
      "cell_type": "code",
      "metadata": {
        "id": "sLUU2qoKq5Br",
        "colab_type": "code",
        "colab": {}
      },
      "source": [
        ""
      ],
      "execution_count": 30,
      "outputs": []
    },
    {
      "cell_type": "code",
      "metadata": {
        "id": "hHIBjIe-oeso",
        "colab_type": "code",
        "colab": {
          "base_uri": "https://localhost:8080/",
          "height": 51
        },
        "outputId": "cb26eccd-2438-4487-af1e-b037fd185010"
      },
      "source": [
        "dataset = \"training\" if training else \"test\"\n",
        "\n",
        "\n",
        "if batched:\n",
        "  print(\"Reading batched JJBlocks for \", thismodel)\n",
        "  JJMat = None\n",
        "  import os, glob\n",
        "  os.chdir(Jdir)\n",
        "  for filename in glob.glob(\"Jfull_{}__*.csv\".format(thismodel)):\n",
        "    print(filename)\n",
        "    JJBlock = np.loadtxt(filename)\n",
        "    JJMat = np.vstack([JJMat, JJBlock]) if JJMat is not None else JJBlock\n",
        "\n",
        "else:\n",
        "  data_loader = train_loader if training else test_loader\n",
        "  print(\"Recomputing {} full JJMat directly using {} dataset\".format(thismodel, dataset))\n",
        "  JJMat = jacobian_full(model, data_loader, batch_size=batch_size, num_classes=num_classes)\n"
      ],
      "execution_count": 31,
      "outputs": [
        {
          "output_type": "stream",
          "text": [
            "Recomputing resnet110_cifar10 full JJMat directly using test dataset\n",
            "time: 57.1 s\n"
          ],
          "name": "stdout"
        }
      ]
    },
    {
      "cell_type": "code",
      "metadata": {
        "id": "uIrGvtf8q6rj",
        "colab_type": "code",
        "colab": {
          "base_uri": "https://localhost:8080/",
          "height": 34
        },
        "outputId": "88503380-ad73-4dc6-952c-13b9e976461f"
      },
      "source": [
        "type(JJMat)"
      ],
      "execution_count": 32,
      "outputs": [
        {
          "output_type": "execute_result",
          "data": {
            "text/plain": [
              "numpy.ndarray"
            ]
          },
          "metadata": {
            "tags": []
          },
          "execution_count": 32
        },
        {
          "output_type": "stream",
          "text": [
            "time: 2.68 ms\n"
          ],
          "name": "stdout"
        }
      ]
    },
    {
      "cell_type": "code",
      "metadata": {
        "id": "gFPx0jDe1ptp",
        "colab_type": "code",
        "colab": {
          "base_uri": "https://localhost:8080/",
          "height": 34
        },
        "outputId": "03558407-c5be-432f-86c0-1ceddcaae660"
      },
      "source": [
        "import powerlaw"
      ],
      "execution_count": 33,
      "outputs": [
        {
          "output_type": "stream",
          "text": [
            "time: 751 µs\n"
          ],
          "name": "stdout"
        }
      ]
    },
    {
      "cell_type": "code",
      "metadata": {
        "id": "4xDgoLd133yt",
        "colab_type": "code",
        "colab": {
          "base_uri": "https://localhost:8080/",
          "height": 634
        },
        "outputId": "511dcb09-6bff-4edb-ac16-5ef95dbd4368"
      },
      "source": [
        "JJDiag = np.diag(JJMat)\n",
        "fit = powerlaw.Fit(JJDiag, xmin=0.01)\n",
        "alpha = fit.alpha\n",
        "D = fit.D\n",
        "xmin = fit.xmin\n",
        "\n",
        "dataset = \"training\" if training else \"test\"\n",
        "\n",
        "\n",
        "plt.hist(JJDiag, bins=100);\n",
        "plt.title(\"JJMat Diag {} {} data, alpha= {:2.2}\".format(thismodel, dataset, alpha))\n",
        "plt.xlabel(r\"diag$(\\mathbf{J}^{T}\\mathbf{J})$\")\n",
        "plt.show()\n",
        "\n",
        "print(\"alpha, D, xmin\")\n",
        "print(alpha, D, xmin)\n",
        "\n",
        "fig2 = fit.plot_pdf(color='b', linewidth=2)\n",
        "fit.power_law.plot_pdf(color='b', linestyle='--', ax=fig2)\n",
        "fit.plot_ccdf(color='r', linewidth=2, ax=fig2)\n",
        "fit.power_law.plot_ccdf(color='r', linestyle='--', ax=fig2)\n",
        "\n",
        "plt.title(\"{} PDF (blue) and CDF(red)\".format(thismodel))\n",
        "\n",
        "fig2.set_ylabel(u\"p(X),  p(X≥x)\")\n",
        "fig2.set_xlabel(r\"eigenvalues\")\n",
        "\n",
        "plt.show()\n"
      ],
      "execution_count": 34,
      "outputs": [
        {
          "output_type": "display_data",
          "data": {
            "image/png": "[encoded data removed]",
            "text/plain": [
              "<Figure size 432x288 with 1 Axes>"
            ]
          },
          "metadata": {
            "tags": [],
            "needs_background": "light"
          }
        },
        {
          "output_type": "stream",
          "text": [
            "alpha, D, xmin\n",
            "1.0975259841501288 0.509581965635861 0.01\n"
          ],
          "name": "stdout"
        },
        {
          "output_type": "display_data",
          "data": {
            "image/png": "[encoded data removed]",
            "text/plain": [
              "<Figure size 432x288 with 1 Axes>"
            ]
          },
          "metadata": {
            "tags": [],
            "needs_background": "light"
          }
        },
        {
          "output_type": "stream",
          "text": [
            "time: 707 ms\n"
          ],
          "name": "stdout"
        }
      ]
    },
    {
      "cell_type": "code",
      "metadata": {
        "id": "YsxEPxFXk_EK",
        "colab_type": "code",
        "colab": {
          "base_uri": "https://localhost:8080/",
          "height": 597
        },
        "outputId": "18bb53f2-94c3-48c0-ec77-dd11e6c5d1be"
      },
      "source": [
        "norm = num_classes*3*32*32 \n",
        "evals = np.linalg.eigvalsh(JJMat)\n",
        "evals  = (1.0/ norm)*evals\n",
        "\n",
        "fit = powerlaw.Fit(evals, xmin=0.01)\n",
        "alpha = fit.alpha\n",
        "D = fit.D\n",
        "max_eval = np.max(evals)\n",
        "\n",
        "plt.hist(evals, bins=100)\n",
        "plt.title(\"{}  alpha = {:0.2f} max  = {:0.2f} \".format(thismodel, alpha, max_eval))\n",
        "plt.show()\n",
        "\n",
        "print(alpha, D, max_eval)\n",
        "\n",
        "\n",
        "fig2 = fit.plot_pdf(color='b', linewidth=2)\n",
        "fit.power_law.plot_pdf(color='b', linestyle='--', ax=fig2)\n",
        "fit.plot_ccdf(color='r', linewidth=2, ax=fig2)\n",
        "fit.power_law.plot_ccdf(color='r', linestyle='--', ax=fig2)\n",
        "\n",
        "plt.title(\"{} PDF (blue) and CDF(red)\".format(thismodel))\n",
        "\n",
        "fig2.set_ylabel(u\"p(X),  p(X≥x)\")\n",
        "fig2.set_xlabel(r\"eigenvalues\")\n",
        "\n",
        "plt.show()\n"
      ],
      "execution_count": 38,
      "outputs": [
        {
          "output_type": "display_data",
          "data": {
            "image/png": "[encoded data removed]",
            "text/plain": [
              "<Figure size 432x288 with 1 Axes>"
            ]
          },
          "metadata": {
            "tags": [],
            "needs_background": "light"
          }
        },
        {
          "output_type": "stream",
          "text": [
            "1.6884239225126718 0.0997269494936106 1.1466715\n"
          ],
          "name": "stdout"
        },
        {
          "output_type": "display_data",
          "data": {
            "image/png": "[encoded data removed]",
            "text/plain": [
              "<Figure size 432x288 with 1 Axes>"
            ]
          },
          "metadata": {
            "tags": [],
            "needs_background": "light"
          }
        },
        {
          "output_type": "stream",
          "text": [
            "time: 2min 10s\n"
          ],
          "name": "stdout"
        }
      ]
    },
    {
      "cell_type": "code",
      "metadata": {
        "id": "vnBimw7ATrsz",
        "colab_type": "code",
        "colab": {
          "base_uri": "https://localhost:8080/",
          "height": 316
        },
        "outputId": "5ae7d24b-fb96-48cb-cfaa-fa4a9ef5cb7b"
      },
      "source": [
        ""
      ],
      "execution_count": 37,
      "outputs": [
        {
          "output_type": "display_data",
          "data": {
            "image/png": "[encoded data removed]",
            "text/plain": [
              "<Figure size 432x288 with 1 Axes>"
            ]
          },
          "metadata": {
            "tags": [],
            "needs_background": "light"
          }
        },
        {
          "output_type": "stream",
          "text": [
            "time: 595 ms\n"
          ],
          "name": "stdout"
        }
      ]
    },
    {
      "cell_type": "code",
      "metadata": {
        "id": "JLGrXY6sWA8L",
        "colab_type": "code",
        "colab": {}
      },
      "source": [
        "data = np.log10(evals[evals>0])\n",
        "plt.hist(data, bins=100);\n",
        "plt.title(\"Log Normal ESD {}\".format(thismodel))"
      ],
      "execution_count": null,
      "outputs": []
    },
    {
      "cell_type": "code",
      "metadata": {
        "id": "AOW_Oq-eWdtX",
        "colab_type": "code",
        "colab": {}
      },
      "source": [
        "R, p = fit.distribution_compare('power_law', 'lognormal')\n",
        "print(R,p)"
      ],
      "execution_count": null,
      "outputs": []
    },
    {
      "cell_type": "code",
      "metadata": {
        "id": "O-dJX3r2SsW4",
        "colab_type": "code",
        "colab": {}
      },
      "source": [
        "break"
      ],
      "execution_count": null,
      "outputs": []
    },
    {
      "cell_type": "code",
      "metadata": {
        "id": "lMCoqqEVSsbG",
        "colab_type": "code",
        "colab": {}
      },
      "source": [
        ""
      ],
      "execution_count": null,
      "outputs": []
    },
    {
      "cell_type": "code",
      "metadata": {
        "id": "VPBg9QXLKtdu",
        "colab_type": "code",
        "colab": {}
      },
      "source": [
        "alphas = []\n",
        "Ds = []\n",
        "xmin = 10**mu\n",
        "\n",
        "cutoffs =  [1.5, 1.4, 1.3, 1.2, 1.1, 1.0, 0.9, 0.8, 0.7, 0.6, 0.5, 0.4, 0.3]\n",
        "\n",
        "for max_eval in cutoffs:\n",
        "  print(max_eval)\n",
        "  data  = evals[evals < max_eval]\n",
        "  fit = powerlaw.Fit(data, xmin=xmin, xmax= max_eval)#\n",
        "  alpha = fit.alpha\n",
        "\n",
        "  alphas.append(alpha)\n",
        "  Ds.append(D)\n",
        "  \n",
        "  fig2 = fit.plot_pdf(color='b', linewidth=2)\n",
        "  fit.power_law.plot_pdf(color='b', linestyle='--', ax=fig2)\n",
        "  fit.plot_ccdf(color='r', linewidth=2, ax=fig2)\n",
        "  fit.power_law.plot_ccdf(color='r', linestyle='--', ax=fig2)\n",
        "  plt.title(\"PL fit a={:2.2} D={:2.2}, cutoff={:2.2}\".format(alpha, D, max_eval))\n",
        "  plt.show()\n",
        "\n",
        "\n",
        "  print(\"alpha, D\", alpha, D)\n",
        "\n",
        "  R, p = fit.distribution_compare('power_law', 'lognormal')\n",
        "  print(R,p)\n",
        "  if R > 0.0:\n",
        "    print('log normal?',R, p)\n",
        "\n",
        "  R, p = fit.distribution_compare('power_law', 'truncated_power_law')\n",
        "  print(R,p)\n",
        "\n",
        "  if R > 0.0:\n",
        "    print('truncated_power_law?',R, p)\n",
        "\n",
        "  print(\" \")"
      ],
      "execution_count": null,
      "outputs": []
    },
    {
      "cell_type": "code",
      "metadata": {
        "id": "N4POG1xMhHRX",
        "colab_type": "code",
        "colab": {}
      },
      "source": [
        "plt.scatter(cutoffs, alphas)\n",
        "plt.title(thismodel)\n",
        "plt.xlabel('cutoff')\n",
        "plt.ylabel(r\"$\\alpha$ PL expoment\")"
      ],
      "execution_count": null,
      "outputs": []
    },
    {
      "cell_type": "code",
      "metadata": {
        "id": "cRlAJff_hdef",
        "colab_type": "code",
        "colab": {}
      },
      "source": [
        "plt.scatter(cutoffs, Ds)\n",
        "\n",
        "plt.xlabel('cutoff')\n",
        "plt.ylabel(r\"$D$ \")"
      ],
      "execution_count": null,
      "outputs": []
    },
    {
      "cell_type": "code",
      "metadata": {
        "id": "IQ6HxIPKj6Kw",
        "colab_type": "code",
        "colab": {}
      },
      "source": [
        "data = evals[evals>0.0]\n",
        "plt.hist(np.log10(data),bins=100);"
      ],
      "execution_count": null,
      "outputs": []
    },
    {
      "cell_type": "code",
      "metadata": {
        "id": "MhwiMIkMkCNR",
        "colab_type": "code",
        "colab": {}
      },
      "source": [
        "\n",
        "fit = powerlaw.Fit(evals, xmin=xmin)\n",
        "alpha = fit.alpha\n",
        "print(xmin, alpha, fit.D)\n",
        "\n",
        "print('. ')\n",
        "fit = powerlaw.Fit(evals)\n",
        "alpha = fit.alpha\n",
        "print(0.0, alpha, fit.D)"
      ],
      "execution_count": null,
      "outputs": []
    },
    {
      "cell_type": "code",
      "metadata": {
        "id": "jK84CTHknL9P",
        "colab_type": "code",
        "colab": {}
      },
      "source": [
        "\n",
        "fit = powerlaw.Fit(evals, xmin=xmin, discrete=True)\n",
        "alpha = fit.alpha\n",
        "print(xmin, alpha, fit.D)\n"
      ],
      "execution_count": null,
      "outputs": []
    },
    {
      "cell_type": "code",
      "metadata": {
        "id": "xU1yoy-cl2p0",
        "colab_type": "code",
        "colab": {}
      },
      "source": [
        ""
      ],
      "execution_count": null,
      "outputs": []
    },
    {
      "cell_type": "markdown",
      "metadata": {
        "id": "f3JcNLHXm4Kn",
        "colab_type": "text"
      },
      "source": [
        "## Set xmin\n"
      ]
    },
    {
      "cell_type": "code",
      "metadata": {
        "id": "4ij1gA99m8kQ",
        "colab_type": "code",
        "colab": {}
      },
      "source": [
        "xmin"
      ],
      "execution_count": null,
      "outputs": []
    },
    {
      "cell_type": "code",
      "metadata": {
        "id": "dpNVNrnzm5mF",
        "colab_type": "code",
        "colab": {}
      },
      "source": [
        "alphas = []\n",
        "Ds = []\n",
        "xmin = 10**mu\n",
        "\n",
        "cutoffs =  [0.7, 0.75, 0.8, 0.85, 0.9, 0.95, 1.0, 1.05, 1.1]\n",
        "\n",
        "for min_eval in cutoffs:\n",
        "  print(min_eval)\n",
        "  fit = powerlaw.Fit(evals, xmin=xmin)\n",
        "  alpha = fit.alpha\n",
        "\n",
        "  alphas.append(alpha)\n",
        "  Ds.append(D)\n",
        "  \n",
        "  fig2 = fit.plot_pdf(color='b', linewidth=2)\n",
        "  fit.power_law.plot_pdf(color='b', linestyle='--', ax=fig2)\n",
        "  fit.plot_ccdf(color='r', linewidth=2, ax=fig2)\n",
        "  fit.power_law.plot_ccdf(color='r', linestyle='--', ax=fig2)\n",
        "  plt.title(\"PL fit a={:2.2} D={:2.2}, min_eval={:2.2}\".format(alpha, D, min_eval))\n",
        "  plt.show()\n",
        "\n",
        "\n",
        "  print(\"xmin alpha, D\", xmin, alpha, D)\n",
        "  for distname, _ in fit.supported_distributions.items():\n",
        "    R, p = fit.distribution_compare('power_law', distname)\n",
        "    if R > 0.0:\n",
        "      print(distname,R, p)\n"
      ],
      "execution_count": null,
      "outputs": []
    },
    {
      "cell_type": "code",
      "metadata": {
        "id": "cfnPdXVmnpI4",
        "colab_type": "code",
        "colab": {}
      },
      "source": [
        "plt.scatter(cutoffs, alphas)\n",
        "plt.title(thismodel)\n",
        "plt.xlabel('cutoff')\n",
        "plt.ylabel(r\"$\\alpha$ PL expoment\")"
      ],
      "execution_count": null,
      "outputs": []
    },
    {
      "cell_type": "code",
      "metadata": {
        "id": "FbK5DUC2ooZc",
        "colab_type": "code",
        "colab": {}
      },
      "source": [
        ""
      ],
      "execution_count": null,
      "outputs": []
    }
  ]
}