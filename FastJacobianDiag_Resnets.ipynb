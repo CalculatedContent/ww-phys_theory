{
  "nbformat": 4,
  "nbformat_minor": 0,
  "metadata": {
    "colab": {
      "name": "FastJacobianDiag-Resnets.ipynb",
      "provenance": [],
      "collapsed_sections": [],
      "machine_shape": "hm",
      "authorship_tag": "ABX9TyNLNRIsQibffEXmQhcaZlLH",
      "include_colab_link": true
    },
    "kernelspec": {
      "name": "python3",
      "display_name": "Python 3"
    },
    "accelerator": "GPU",
    "widgets": {
      "application/vnd.jupyter.widget-state+json": {
        "83c42510f12f4983ba4222edc2c2d793": {
          "model_module": "@jupyter-widgets/controls",
          "model_name": "HBoxModel",
          "state": {
            "_view_name": "HBoxView",
            "_dom_classes": [],
            "_model_name": "HBoxModel",
            "_view_module": "@jupyter-widgets/controls",
            "_model_module_version": "1.5.0",
            "_view_count": null,
            "_view_module_version": "1.5.0",
            "box_style": "",
            "layout": "IPY_MODEL_8c919d8b865e4d929d9c259b642f4406",
            "_model_module": "@jupyter-widgets/controls",
            "children": [
              "IPY_MODEL_11812ad884a041c8bfc457e4f30a1103",
              "IPY_MODEL_bcd00315080948b7ac67d1d7f70debab"
            ]
          }
        },
        "8c919d8b865e4d929d9c259b642f4406": {
          "model_module": "@jupyter-widgets/base",
          "model_name": "LayoutModel",
          "state": {
            "_view_name": "LayoutView",
            "grid_template_rows": null,
            "right": null,
            "justify_content": null,
            "_view_module": "@jupyter-widgets/base",
            "overflow": null,
            "_model_module_version": "1.2.0",
            "_view_count": null,
            "flex_flow": null,
            "width": null,
            "min_width": null,
            "border": null,
            "align_items": null,
            "bottom": null,
            "_model_module": "@jupyter-widgets/base",
            "top": null,
            "grid_column": null,
            "overflow_y": null,
            "overflow_x": null,
            "grid_auto_flow": null,
            "grid_area": null,
            "grid_template_columns": null,
            "flex": null,
            "_model_name": "LayoutModel",
            "justify_items": null,
            "grid_row": null,
            "max_height": null,
            "align_content": null,
            "visibility": null,
            "align_self": null,
            "height": null,
            "min_height": null,
            "padding": null,
            "grid_auto_rows": null,
            "grid_gap": null,
            "max_width": null,
            "order": null,
            "_view_module_version": "1.2.0",
            "grid_template_areas": null,
            "object_position": null,
            "object_fit": null,
            "grid_auto_columns": null,
            "margin": null,
            "display": null,
            "left": null
          }
        },
        "11812ad884a041c8bfc457e4f30a1103": {
          "model_module": "@jupyter-widgets/controls",
          "model_name": "FloatProgressModel",
          "state": {
            "_view_name": "ProgressView",
            "style": "IPY_MODEL_45dee3c143254bf29160f428e62c28ba",
            "_dom_classes": [],
            "description": "",
            "_model_name": "FloatProgressModel",
            "bar_style": "info",
            "max": 1,
            "_view_module": "@jupyter-widgets/controls",
            "_model_module_version": "1.5.0",
            "value": 1,
            "_view_count": null,
            "_view_module_version": "1.5.0",
            "orientation": "horizontal",
            "min": 0,
            "description_tooltip": null,
            "_model_module": "@jupyter-widgets/controls",
            "layout": "IPY_MODEL_8072d8cf944b4e6cb30a9c9293cf020c"
          }
        },
        "bcd00315080948b7ac67d1d7f70debab": {
          "model_module": "@jupyter-widgets/controls",
          "model_name": "HTMLModel",
          "state": {
            "_view_name": "HTMLView",
            "style": "IPY_MODEL_82235c6b615f464eb20d2b0ce90bf871",
            "_dom_classes": [],
            "description": "",
            "_model_name": "HTMLModel",
            "placeholder": "​",
            "_view_module": "@jupyter-widgets/controls",
            "_model_module_version": "1.5.0",
            "value": " 170500096/? [00:20&lt;00:00, 76782926.99it/s]",
            "_view_count": null,
            "_view_module_version": "1.5.0",
            "description_tooltip": null,
            "_model_module": "@jupyter-widgets/controls",
            "layout": "IPY_MODEL_6528f78f07344cff82d2e62202e7310d"
          }
        },
        "45dee3c143254bf29160f428e62c28ba": {
          "model_module": "@jupyter-widgets/controls",
          "model_name": "ProgressStyleModel",
          "state": {
            "_view_name": "StyleView",
            "_model_name": "ProgressStyleModel",
            "description_width": "initial",
            "_view_module": "@jupyter-widgets/base",
            "_model_module_version": "1.5.0",
            "_view_count": null,
            "_view_module_version": "1.2.0",
            "bar_color": null,
            "_model_module": "@jupyter-widgets/controls"
          }
        },
        "8072d8cf944b4e6cb30a9c9293cf020c": {
          "model_module": "@jupyter-widgets/base",
          "model_name": "LayoutModel",
          "state": {
            "_view_name": "LayoutView",
            "grid_template_rows": null,
            "right": null,
            "justify_content": null,
            "_view_module": "@jupyter-widgets/base",
            "overflow": null,
            "_model_module_version": "1.2.0",
            "_view_count": null,
            "flex_flow": null,
            "width": null,
            "min_width": null,
            "border": null,
            "align_items": null,
            "bottom": null,
            "_model_module": "@jupyter-widgets/base",
            "top": null,
            "grid_column": null,
            "overflow_y": null,
            "overflow_x": null,
            "grid_auto_flow": null,
            "grid_area": null,
            "grid_template_columns": null,
            "flex": null,
            "_model_name": "LayoutModel",
            "justify_items": null,
            "grid_row": null,
            "max_height": null,
            "align_content": null,
            "visibility": null,
            "align_self": null,
            "height": null,
            "min_height": null,
            "padding": null,
            "grid_auto_rows": null,
            "grid_gap": null,
            "max_width": null,
            "order": null,
            "_view_module_version": "1.2.0",
            "grid_template_areas": null,
            "object_position": null,
            "object_fit": null,
            "grid_auto_columns": null,
            "margin": null,
            "display": null,
            "left": null
          }
        },
        "82235c6b615f464eb20d2b0ce90bf871": {
          "model_module": "@jupyter-widgets/controls",
          "model_name": "DescriptionStyleModel",
          "state": {
            "_view_name": "StyleView",
            "_model_name": "DescriptionStyleModel",
            "description_width": "",
            "_view_module": "@jupyter-widgets/base",
            "_model_module_version": "1.5.0",
            "_view_count": null,
            "_view_module_version": "1.2.0",
            "_model_module": "@jupyter-widgets/controls"
          }
        },
        "6528f78f07344cff82d2e62202e7310d": {
          "model_module": "@jupyter-widgets/base",
          "model_name": "LayoutModel",
          "state": {
            "_view_name": "LayoutView",
            "grid_template_rows": null,
            "right": null,
            "justify_content": null,
            "_view_module": "@jupyter-widgets/base",
            "overflow": null,
            "_model_module_version": "1.2.0",
            "_view_count": null,
            "flex_flow": null,
            "width": null,
            "min_width": null,
            "border": null,
            "align_items": null,
            "bottom": null,
            "_model_module": "@jupyter-widgets/base",
            "top": null,
            "grid_column": null,
            "overflow_y": null,
            "overflow_x": null,
            "grid_auto_flow": null,
            "grid_area": null,
            "grid_template_columns": null,
            "flex": null,
            "_model_name": "LayoutModel",
            "justify_items": null,
            "grid_row": null,
            "max_height": null,
            "align_content": null,
            "visibility": null,
            "align_self": null,
            "height": null,
            "min_height": null,
            "padding": null,
            "grid_auto_rows": null,
            "grid_gap": null,
            "max_width": null,
            "order": null,
            "_view_module_version": "1.2.0",
            "grid_template_areas": null,
            "object_position": null,
            "object_fit": null,
            "grid_auto_columns": null,
            "margin": null,
            "display": null,
            "left": null
          }
        }
      }
    }
  },
  "cells": [
    {
      "cell_type": "markdown",
      "metadata": {
        "id": "view-in-github",
        "colab_type": "text"
      },
      "source": [
        "<a href=\"https://colab.research.google.com/github/CalculatedContent/ww-phys_theory/blob/master/FastJacobianDiag_Resnets.ipynb\" target=\"_parent\"><img src=\"https://colab.research.google.com/assets/colab-badge.svg\" alt=\"Open In Colab\"/></a>"
      ]
    },
    {
      "cell_type": "markdown",
      "metadata": {
        "id": "4YGlUg538lQ4",
        "colab_type": "text"
      },
      "source": [
        "## Generate different ResNet Fast Jacobian Diagonal data![alt text](https://)\n",
        "\n",
        "\n",
        "\n",
        "```\n",
        "resnet20_cifar10\n",
        "resnet56_cifar10\n",
        "resnet110_cifar10\n",
        "resnet164bn_cifar10\n",
        "resnet272bn_cifar10\n",
        "resnet542bn_cifar10\n",
        "resnet1001_cifar10\n",
        "resnet1202_cifar10\n",
        "```\n",
        "\n",
        "\n"
      ]
    },
    {
      "cell_type": "code",
      "metadata": {
        "id": "4JBCL3Qj8pl6",
        "colab_type": "code",
        "colab": {
          "base_uri": "https://localhost:8080/",
          "height": 34
        },
        "outputId": "4cd48291-8e05-4890-e335-c5a4f5db7938"
      },
      "source": [
        "Jdir =  '/content/drive/My Drive/resnets_fast'\n",
        "\n",
        "thismodel = 'resnet20_cifar10'\n",
        "inum_start = 0\n",
        "batch_size = 100"
      ],
      "execution_count": 24,
      "outputs": [
        {
          "output_type": "stream",
          "text": [
            "time: 2.11 ms\n"
          ],
          "name": "stdout"
        }
      ]
    },
    {
      "cell_type": "code",
      "metadata": {
        "id": "lSlymHmAIph5",
        "colab_type": "code",
        "outputId": "c623b60d-c5aa-434f-9ac7-c52a28a3c51a",
        "colab": {
          "base_uri": "https://localhost:8080/",
          "height": 136
        }
      },
      "source": [
        "\n",
        "!pip install torch==1.5.0+cu101 torchvision==0.6.0+cu101 -f https://download.pytorch.org/whl/torch_stable.html"
      ],
      "execution_count": 25,
      "outputs": [
        {
          "output_type": "stream",
          "text": [
            "Looking in links: https://download.pytorch.org/whl/torch_stable.html\n",
            "Requirement already satisfied: torch==1.5.0+cu101 in /usr/local/lib/python3.6/dist-packages (1.5.0+cu101)\n",
            "Requirement already satisfied: torchvision==0.6.0+cu101 in /usr/local/lib/python3.6/dist-packages (0.6.0+cu101)\n",
            "Requirement already satisfied: future in /usr/local/lib/python3.6/dist-packages (from torch==1.5.0+cu101) (0.16.0)\n",
            "Requirement already satisfied: numpy in /usr/local/lib/python3.6/dist-packages (from torch==1.5.0+cu101) (1.18.4)\n",
            "Requirement already satisfied: pillow>=4.1.1 in /usr/local/lib/python3.6/dist-packages (from torchvision==0.6.0+cu101) (7.0.0)\n",
            "time: 2.77 s\n"
          ],
          "name": "stdout"
        }
      ]
    },
    {
      "cell_type": "code",
      "metadata": {
        "id": "hZplJz8WqCkD",
        "colab_type": "code",
        "outputId": "47a20ff0-70aa-4a07-f3cf-bd855d77ebf7",
        "colab": {
          "base_uri": "https://localhost:8080/",
          "height": 85
        }
      },
      "source": [
        "!pip install ipython-autotime\n",
        "%load_ext autotime"
      ],
      "execution_count": 26,
      "outputs": [
        {
          "output_type": "stream",
          "text": [
            "Requirement already satisfied: ipython-autotime in /usr/local/lib/python3.6/dist-packages (0.1)\n",
            "The autotime extension is already loaded. To reload it, use:\n",
            "  %reload_ext autotime\n",
            "time: 2.68 s\n"
          ],
          "name": "stdout"
        }
      ]
    },
    {
      "cell_type": "code",
      "metadata": {
        "id": "KBc9xEiMgn5N",
        "colab_type": "code",
        "outputId": "8a5c339c-f662-4dfc-cdb4-884006dc84d6",
        "colab": {
          "base_uri": "https://localhost:8080/",
          "height": 343
        }
      },
      "source": [
        "!pip install pytorchcv\n",
        "!pip install powerlaw"
      ],
      "execution_count": 27,
      "outputs": [
        {
          "output_type": "stream",
          "text": [
            "Requirement already satisfied: pytorchcv in /usr/local/lib/python3.6/dist-packages (0.0.58)\n",
            "Requirement already satisfied: requests in /usr/local/lib/python3.6/dist-packages (from pytorchcv) (2.23.0)\n",
            "Requirement already satisfied: numpy in /usr/local/lib/python3.6/dist-packages (from pytorchcv) (1.18.4)\n",
            "Requirement already satisfied: chardet<4,>=3.0.2 in /usr/local/lib/python3.6/dist-packages (from requests->pytorchcv) (3.0.4)\n",
            "Requirement already satisfied: urllib3!=1.25.0,!=1.25.1,<1.26,>=1.21.1 in /usr/local/lib/python3.6/dist-packages (from requests->pytorchcv) (1.24.3)\n",
            "Requirement already satisfied: certifi>=2017.4.17 in /usr/local/lib/python3.6/dist-packages (from requests->pytorchcv) (2020.4.5.1)\n",
            "Requirement already satisfied: idna<3,>=2.5 in /usr/local/lib/python3.6/dist-packages (from requests->pytorchcv) (2.9)\n",
            "Requirement already satisfied: powerlaw in /usr/local/lib/python3.6/dist-packages (1.4.6)\n",
            "Requirement already satisfied: numpy in /usr/local/lib/python3.6/dist-packages (from powerlaw) (1.18.4)\n",
            "Requirement already satisfied: scipy in /usr/local/lib/python3.6/dist-packages (from powerlaw) (1.4.1)\n",
            "Requirement already satisfied: matplotlib in /usr/local/lib/python3.6/dist-packages (from powerlaw) (3.2.1)\n",
            "Requirement already satisfied: mpmath in /usr/local/lib/python3.6/dist-packages (from powerlaw) (1.1.0)\n",
            "Requirement already satisfied: kiwisolver>=1.0.1 in /usr/local/lib/python3.6/dist-packages (from matplotlib->powerlaw) (1.2.0)\n",
            "Requirement already satisfied: cycler>=0.10 in /usr/local/lib/python3.6/dist-packages (from matplotlib->powerlaw) (0.10.0)\n",
            "Requirement already satisfied: python-dateutil>=2.1 in /usr/local/lib/python3.6/dist-packages (from matplotlib->powerlaw) (2.8.1)\n",
            "Requirement already satisfied: pyparsing!=2.0.4,!=2.1.2,!=2.1.6,>=2.0.1 in /usr/local/lib/python3.6/dist-packages (from matplotlib->powerlaw) (2.4.7)\n",
            "Requirement already satisfied: six in /usr/local/lib/python3.6/dist-packages (from cycler>=0.10->matplotlib->powerlaw) (1.12.0)\n",
            "time: 5.32 s\n"
          ],
          "name": "stdout"
        }
      ]
    },
    {
      "cell_type": "code",
      "metadata": {
        "id": "81Phn2n_jEvO",
        "colab_type": "code",
        "outputId": "fc308316-b268-4f34-c3ce-4d735627c8e3",
        "colab": {
          "base_uri": "https://localhost:8080/",
          "height": 102
        }
      },
      "source": [
        "!pip install GPUtil\n",
        "import GPUtil\n",
        "\n",
        "\n",
        "GPUtil.showUtilization()"
      ],
      "execution_count": 28,
      "outputs": [
        {
          "output_type": "stream",
          "text": [
            "Requirement already satisfied: GPUtil in /usr/local/lib/python3.6/dist-packages (1.4.0)\n",
            "| ID | GPU | MEM |\n",
            "------------------\n",
            "|  0 |  0% |  0% |\n",
            "time: 2.8 s\n"
          ],
          "name": "stdout"
        }
      ]
    },
    {
      "cell_type": "code",
      "metadata": {
        "id": "XQGrAUZLSEy_",
        "colab_type": "code",
        "outputId": "819ba43a-0de4-4e2d-9a00-11b4610e178e",
        "colab": {
          "base_uri": "https://localhost:8080/",
          "height": 51
        }
      },
      "source": [
        "from google.colab import drive\n",
        "drive.mount('/content/drive')\n"
      ],
      "execution_count": 29,
      "outputs": [
        {
          "output_type": "stream",
          "text": [
            "Drive already mounted at /content/drive; to attempt to forcibly remount, call drive.mount(\"/content/drive\", force_remount=True).\n",
            "time: 1.7 ms\n"
          ],
          "name": "stdout"
        }
      ]
    },
    {
      "cell_type": "code",
      "metadata": {
        "id": "aRar-xgtIYyF",
        "colab_type": "code",
        "colab": {}
      },
      "source": [
        ""
      ],
      "execution_count": 0,
      "outputs": []
    },
    {
      "cell_type": "code",
      "metadata": {
        "id": "koMMhkFpIbJ3",
        "colab_type": "code",
        "outputId": "bf2a3fde-26db-4e1c-d6f1-16523e78c91d",
        "colab": {
          "base_uri": "https://localhost:8080/",
          "height": 51
        }
      },
      "source": [
        "!mkdir \"$Jdir\"\n",
        "!cd \"$Jdir\"; ls | grep $thismodel"
      ],
      "execution_count": 30,
      "outputs": [
        {
          "output_type": "stream",
          "text": [
            "mkdir: cannot create directory ‘/content/drive/My Drive/resnets_fast’: File exists\n",
            "time: 1.51 s\n"
          ],
          "name": "stdout"
        }
      ]
    },
    {
      "cell_type": "code",
      "metadata": {
        "id": "IYTykGa3Zy1a",
        "colab_type": "code",
        "outputId": "c81df37e-d7b3-4d17-e679-f613e84fee8d",
        "colab": {
          "base_uri": "https://localhost:8080/",
          "height": 51
        }
      },
      "source": [
        "!cd \"$Jdir\";pwd"
      ],
      "execution_count": 31,
      "outputs": [
        {
          "output_type": "stream",
          "text": [
            "/content/drive/My Drive/resnets_fast\n",
            "time: 869 ms\n"
          ],
          "name": "stdout"
        }
      ]
    },
    {
      "cell_type": "code",
      "metadata": {
        "id": "0rBl2Oq6DQu9",
        "colab_type": "code",
        "outputId": "b646e23a-8a03-4a89-d416-060968880495",
        "colab": {
          "base_uri": "https://localhost:8080/",
          "height": 51
        }
      },
      "source": [
        "!import os\n",
        "import time\n",
        "\n",
        "import numpy as np\n",
        "import pandas as pd\n",
        "\n",
        "import torch\n",
        "import torch.nn as nn\n",
        "import torch.nn.functional as F\n",
        "from torch.utils.data import DataLoader\n",
        "from torch.utils.data.dataset import Subset\n",
        "\n",
        "from torchvision import datasets\n",
        "from torchvision import transforms\n",
        "\n",
        "import matplotlib.pyplot as plt\n",
        "from PIL import Image\n",
        "\n",
        "import math\n",
        "import copy\n",
        "\n",
        "\n"
      ],
      "execution_count": 32,
      "outputs": [
        {
          "output_type": "stream",
          "text": [
            "/bin/bash: import: command not found\n",
            "time: 798 ms\n"
          ],
          "name": "stdout"
        }
      ]
    },
    {
      "cell_type": "code",
      "metadata": {
        "id": "XcXIRwl3NGhs",
        "colab_type": "code",
        "outputId": "aa459f8c-d541-43f0-e01d-ac7093717ac9",
        "colab": {
          "base_uri": "https://localhost:8080/",
          "height": 34
        }
      },
      "source": [
        "def get_data(batch_size=100, train_range=None, test_range=None):\n",
        "  normalize = transforms.Normalize(mean=[x/255.0 for x in [125.3, 123.0, 113.9]], std=[x / 255.0 for x in [63.0, 62.1, 66.7]])\n",
        "  transform_train = transforms.Compose([\n",
        "          transforms.ToTensor(),\n",
        "          normalize])\n",
        "  transform_test = transforms.Compose([\n",
        "        transforms.ToTensor(),\n",
        "        normalize])\n",
        "  train_dataset = datasets.CIFAR10(root='data', \n",
        "                                train=True, \n",
        "                                transform=transform_train,\n",
        "                                download=True)\n",
        "  test_dataset = datasets.CIFAR10(root='data', \n",
        "                                train=False, \n",
        "                                transform=transform_test,\n",
        "                                download=True)  \n",
        "  \n",
        "  if train_range:\n",
        "      train_dataset = torch.utils.data.Subset(train_dataset, train_range)\n",
        "\n",
        "  if test_range:\n",
        "      teat_dataset = torch.utils.data.Subset(test_dataset, test_range)\n",
        "\n",
        "\n",
        "  train_loader = DataLoader(dataset=train_dataset, \n",
        "                          batch_size=batch_size,\n",
        "                          num_workers=4,\n",
        "                          shuffle=False)\n",
        "  test_loader = DataLoader(dataset=test_dataset, \n",
        "                         batch_size=batch_size,\n",
        "                         num_workers=4,\n",
        "                         shuffle=False)\n",
        "  return train_dataset, test_dataset, train_loader, test_loader"
      ],
      "execution_count": 33,
      "outputs": [
        {
          "output_type": "stream",
          "text": [
            "time: 17.1 ms\n"
          ],
          "name": "stdout"
        }
      ]
    },
    {
      "cell_type": "markdown",
      "metadata": {
        "id": "DmtV_hb3ShMf",
        "colab_type": "text"
      },
      "source": [
        "### $J^{T}J$ Diagonal elements\n",
        "\n"
      ]
    },
    {
      "cell_type": "code",
      "metadata": {
        "id": "ay4hgME-SgaV",
        "colab_type": "code",
        "outputId": "d03b36da-f954-4c24-cbcb-9c29339eaed7",
        "colab": {
          "base_uri": "https://localhost:8080/",
          "height": 34
        }
      },
      "source": [
        "\n",
        "from torch.autograd.gradcheck import zero_gradients\n",
        "\n",
        "def fast_jacobian(inputs, output, batch_size, data_dim):\n",
        "\t\"\"\"\n",
        "\tinput: input for the function for which the Jacobian will\n",
        "\tcomputed. It will be batch_size*data_dim. Make sure that the\n",
        "\tinput is flagged as requires_grad=True with the torch.autograd.Variable\n",
        "\twrapper. \n",
        "\toutput: output of the function for which the Jacobian will\n",
        "\tbe computed. It will be batch_size*classes\n",
        "\treturn: Jacobian of dimension batch_size*classes*data_dim\n",
        "\t\"\"\"\n",
        "\tassert inputs.requires_grad\n",
        "\tprint(\"inputs: \",inputs.shape)\n",
        "\tnum_classes = output.size()[1] #0 index is batch\n",
        "\n",
        "\tjacobian = torch.zeros(num_classes, *inputs.size())\n",
        "\tgrad_output = torch.zeros(*output.size())\n",
        "\tif inputs.is_cuda:\n",
        "\t\tgrad_output = grad_output.cuda()\n",
        "\t\tjacobian = jacobian.cuda()\n",
        "\n",
        "\t#zero out gradients\n",
        "\t#compute gradient for one of the classes\n",
        "\tfor i in range(num_classes):\n",
        "\t\tzero_gradients(inputs)\n",
        "\t\tgrad_output.zero_()\n",
        "\t\tgrad_output[:,i] = 1\n",
        "\t\toutput.backward(grad_output, retain_graph=True)\n",
        "\t\tjacobian[i] = inputs.grad.data\n",
        "\n",
        "\tJ =  torch.transpose(jacobian, dim0=0, dim1=1)\n",
        "\tprint(\"fast J: \",J.shape, data_dim)\n",
        "\tJ = J.reshape(batch_size, data_dim)\n",
        " \n",
        "\treturn J\n"
      ],
      "execution_count": 34,
      "outputs": [
        {
          "output_type": "stream",
          "text": [
            "time: 15.9 ms\n"
          ],
          "name": "stdout"
        }
      ]
    },
    {
      "cell_type": "code",
      "metadata": {
        "id": "sDPfkFkRNlKA",
        "colab_type": "code",
        "colab": {
          "base_uri": "https://localhost:8080/",
          "height": 34
        },
        "outputId": "35a3f0ff-fac4-4a42-abbb-b5297f9a8f78"
      },
      "source": [
        "def jacobian_diagonal(model, data_loader, batch_size, num_classes=10, device='cuda:0', data_dim=3*32*32):\n",
        "  '''compute J(J*v) diagnonal elements , where J is the jacobian,'''\n",
        "\n",
        "  # compute Jdiag\n",
        "  Jdiag = []\n",
        "  model.eval()\n",
        "  model = model.to(device)\n",
        "\n",
        "  for batch, data in enumerate(data_loader):\n",
        "    features, _ = data\n",
        "    \n",
        "    inputs = features.to(device)\n",
        "    inputs.requires_grad=True\n",
        "    outputs = model(inputs)\n",
        "\n",
        "    J = fast_jacobian(inputs, outputs, batch_size, num_classes*data_dim)\n",
        "\n",
        "    Jt = J.clone().transpose_(0,1)\n",
        "    batch_diag = torch.mm(J,Jt).to('cpu')\n",
        "    \n",
        "    del J, Jt\n",
        "    torch.cuda.empty_cache()\n",
        "\n",
        "    for ib in range(batch_size):\n",
        "      Jdiag.append(batch_diag[ib, ib].to('cpu').numpy())\n",
        "\n",
        "    del batch_diag\n",
        "    torch.cuda.empty_cache()\n",
        "\n",
        "  return np.array(Jdiag)"
      ],
      "execution_count": 35,
      "outputs": [
        {
          "output_type": "stream",
          "text": [
            "time: 19.8 ms\n"
          ],
          "name": "stdout"
        }
      ]
    },
    {
      "cell_type": "markdown",
      "metadata": {
        "id": "AlaD-n5OsIcO",
        "colab_type": "text"
      },
      "source": [
        "### ResNet "
      ]
    },
    {
      "cell_type": "code",
      "metadata": {
        "id": "nT8SeVRcyv2R",
        "colab_type": "code",
        "outputId": "1db3af11-7732-40a0-baa8-15f1614671a1",
        "colab": {
          "base_uri": "https://localhost:8080/",
          "height": 170
        }
      },
      "source": [
        "import pytorchcv\n",
        "from pytorchcv.model_provider import get_model as ptcv_get_model\n",
        "\n",
        "import powerlaw\n",
        "for modelname in pytorchcv.model_provider._models.keys():\n",
        "    if modelname.startswith('resnet') and modelname.endswith('cifar10'):\n",
        "        print(modelname)"
      ],
      "execution_count": 36,
      "outputs": [
        {
          "output_type": "stream",
          "text": [
            "resnet20_cifar10\n",
            "resnet56_cifar10\n",
            "resnet110_cifar10\n",
            "resnet164bn_cifar10\n",
            "resnet272bn_cifar10\n",
            "resnet542bn_cifar10\n",
            "resnet1001_cifar10\n",
            "resnet1202_cifar10\n",
            "time: 4.42 ms\n"
          ],
          "name": "stdout"
        }
      ]
    },
    {
      "cell_type": "code",
      "metadata": {
        "id": "YGXLYhowgjRX",
        "colab_type": "code",
        "outputId": "07a6e4f5-6ccb-4c70-cade-b1aab0aa3b93",
        "colab": {
          "base_uri": "https://localhost:8080/",
          "height": 34
        }
      },
      "source": [
        "num_classes= 10\n",
        "device = 'cuda:0'\n",
        "num_data = 50000"
      ],
      "execution_count": 37,
      "outputs": [
        {
          "output_type": "stream",
          "text": [
            "time: 1.51 ms\n"
          ],
          "name": "stdout"
        }
      ]
    },
    {
      "cell_type": "code",
      "metadata": {
        "id": "OOrW3nihw7aP",
        "colab_type": "code",
        "outputId": "c0b52628-a733-4e55-cf28-4c25fdded5d9",
        "colab": {
          "base_uri": "https://localhost:8080/",
          "height": 1000,
          "referenced_widgets": [
            "83c42510f12f4983ba4222edc2c2d793",
            "8c919d8b865e4d929d9c259b642f4406",
            "11812ad884a041c8bfc457e4f30a1103",
            "bcd00315080948b7ac67d1d7f70debab",
            "45dee3c143254bf29160f428e62c28ba",
            "8072d8cf944b4e6cb30a9c9293cf020c",
            "82235c6b615f464eb20d2b0ce90bf871",
            "6528f78f07344cff82d2e62202e7310d"
          ]
        }
      },
      "source": [
        "\n",
        "model = ptcv_get_model(thismodel, pretrained=True)\n",
        "\n",
        "for num in range(inum_start, 10):\n",
        "  print(\"num {}\".format(num))\n",
        "  istart = num*5000\n",
        "  iend = (num+1)*5000\n",
        "  train_dataset, _, train_loader, _ = get_data(batch_size=batch_size, train_range=range(istart, iend))\n",
        "\n",
        "  Jdiag = jacobian_diagonal(model, train_loader, batch_size)\n",
        "  \n",
        "  filename = \"{}/Jdiag_fast_{}__{}.csv\".format(Jdir, thismodel, num)\n",
        "  np.savetxt(filename, Jdiag, delimiter='\\t')\n"
      ],
      "execution_count": 0,
      "outputs": [
        {
          "output_type": "stream",
          "text": [
            "num 0\n",
            "Downloading https://www.cs.toronto.edu/~kriz/cifar-10-python.tar.gz to data/cifar-10-python.tar.gz\n"
          ],
          "name": "stdout"
        },
        {
          "output_type": "display_data",
          "data": {
            "application/vnd.jupyter.widget-view+json": {
              "model_id": "83c42510f12f4983ba4222edc2c2d793",
              "version_minor": 0,
              "version_major": 2
            },
            "text/plain": [
              "HBox(children=(FloatProgress(value=1.0, bar_style='info', max=1.0), HTML(value='')))"
            ]
          },
          "metadata": {
            "tags": []
          }
        },
        {
          "output_type": "stream",
          "text": [
            "Extracting data/cifar-10-python.tar.gz to data\n",
            "Files already downloaded and verified\n",
            "inputs:  torch.Size([100, 3, 32, 32])\n",
            "fast J:  torch.Size([100, 10, 3, 32, 32]) 30720\n",
            "inputs:  torch.Size([100, 3, 32, 32])\n",
            "fast J:  torch.Size([100, 10, 3, 32, 32]) 30720\n",
            "inputs:  torch.Size([100, 3, 32, 32])\n",
            "fast J:  torch.Size([100, 10, 3, 32, 32]) 30720\n",
            "inputs:  torch.Size([100, 3, 32, 32])\n",
            "fast J:  torch.Size([100, 10, 3, 32, 32]) 30720\n",
            "inputs:  torch.Size([100, 3, 32, 32])\n",
            "fast J:  torch.Size([100, 10, 3, 32, 32]) 30720\n",
            "inputs:  torch.Size([100, 3, 32, 32])\n",
            "fast J:  torch.Size([100, 10, 3, 32, 32]) 30720\n",
            "inputs:  torch.Size([100, 3, 32, 32])\n",
            "fast J:  torch.Size([100, 10, 3, 32, 32]) 30720\n",
            "inputs:  torch.Size([100, 3, 32, 32])\n",
            "fast J:  torch.Size([100, 10, 3, 32, 32]) 30720\n",
            "inputs:  torch.Size([100, 3, 32, 32])\n",
            "fast J:  torch.Size([100, 10, 3, 32, 32]) 30720\n",
            "inputs:  torch.Size([100, 3, 32, 32])\n",
            "fast J:  torch.Size([100, 10, 3, 32, 32]) 30720\n",
            "inputs:  torch.Size([100, 3, 32, 32])\n",
            "fast J:  torch.Size([100, 10, 3, 32, 32]) 30720\n",
            "inputs:  torch.Size([100, 3, 32, 32])\n",
            "fast J:  torch.Size([100, 10, 3, 32, 32]) 30720\n",
            "inputs:  torch.Size([100, 3, 32, 32])\n",
            "fast J:  torch.Size([100, 10, 3, 32, 32]) 30720\n",
            "inputs:  torch.Size([100, 3, 32, 32])\n",
            "fast J:  torch.Size([100, 10, 3, 32, 32]) 30720\n",
            "inputs:  torch.Size([100, 3, 32, 32])\n",
            "fast J:  torch.Size([100, 10, 3, 32, 32]) 30720\n",
            "inputs:  torch.Size([100, 3, 32, 32])\n",
            "fast J:  torch.Size([100, 10, 3, 32, 32]) 30720\n",
            "inputs:  torch.Size([100, 3, 32, 32])\n",
            "fast J:  torch.Size([100, 10, 3, 32, 32]) 30720\n",
            "inputs:  torch.Size([100, 3, 32, 32])\n",
            "fast J:  torch.Size([100, 10, 3, 32, 32]) 30720\n",
            "inputs:  torch.Size([100, 3, 32, 32])\n",
            "fast J:  torch.Size([100, 10, 3, 32, 32]) 30720\n",
            "inputs:  torch.Size([100, 3, 32, 32])\n",
            "fast J:  torch.Size([100, 10, 3, 32, 32]) 30720\n",
            "inputs:  torch.Size([100, 3, 32, 32])\n",
            "fast J:  torch.Size([100, 10, 3, 32, 32]) 30720\n",
            "inputs:  torch.Size([100, 3, 32, 32])\n",
            "fast J:  torch.Size([100, 10, 3, 32, 32]) 30720\n",
            "inputs:  torch.Size([100, 3, 32, 32])\n",
            "fast J:  torch.Size([100, 10, 3, 32, 32]) 30720\n",
            "inputs:  torch.Size([100, 3, 32, 32])\n",
            "fast J:  torch.Size([100, 10, 3, 32, 32]) 30720\n",
            "inputs:  torch.Size([100, 3, 32, 32])\n",
            "fast J:  torch.Size([100, 10, 3, 32, 32]) 30720\n",
            "inputs:  torch.Size([100, 3, 32, 32])\n",
            "fast J:  torch.Size([100, 10, 3, 32, 32]) 30720\n",
            "inputs:  torch.Size([100, 3, 32, 32])\n",
            "fast J:  torch.Size([100, 10, 3, 32, 32]) 30720\n",
            "inputs:  torch.Size([100, 3, 32, 32])\n",
            "fast J:  torch.Size([100, 10, 3, 32, 32]) 30720\n",
            "inputs:  torch.Size([100, 3, 32, 32])\n",
            "fast J:  torch.Size([100, 10, 3, 32, 32]) 30720\n",
            "inputs:  torch.Size([100, 3, 32, 32])\n",
            "fast J:  torch.Size([100, 10, 3, 32, 32]) 30720\n",
            "inputs:  torch.Size([100, 3, 32, 32])\n",
            "fast J:  torch.Size([100, 10, 3, 32, 32]) 30720\n",
            "inputs:  torch.Size([100, 3, 32, 32])\n",
            "fast J:  torch.Size([100, 10, 3, 32, 32]) 30720\n",
            "inputs:  torch.Size([100, 3, 32, 32])\n",
            "fast J:  torch.Size([100, 10, 3, 32, 32]) 30720\n",
            "inputs:  torch.Size([100, 3, 32, 32])\n",
            "fast J:  torch.Size([100, 10, 3, 32, 32]) 30720\n",
            "inputs:  torch.Size([100, 3, 32, 32])\n",
            "fast J:  torch.Size([100, 10, 3, 32, 32]) 30720\n",
            "inputs:  torch.Size([100, 3, 32, 32])\n",
            "fast J:  torch.Size([100, 10, 3, 32, 32]) 30720\n",
            "inputs:  torch.Size([100, 3, 32, 32])\n",
            "fast J:  torch.Size([100, 10, 3, 32, 32]) 30720\n",
            "inputs:  torch.Size([100, 3, 32, 32])\n",
            "fast J:  torch.Size([100, 10, 3, 32, 32]) 30720\n",
            "inputs:  torch.Size([100, 3, 32, 32])\n",
            "fast J:  torch.Size([100, 10, 3, 32, 32]) 30720\n",
            "inputs:  torch.Size([100, 3, 32, 32])\n",
            "fast J:  torch.Size([100, 10, 3, 32, 32]) 30720\n",
            "inputs:  torch.Size([100, 3, 32, 32])\n",
            "fast J:  torch.Size([100, 10, 3, 32, 32]) 30720\n",
            "inputs:  torch.Size([100, 3, 32, 32])\n",
            "fast J:  torch.Size([100, 10, 3, 32, 32]) 30720\n",
            "inputs:  torch.Size([100, 3, 32, 32])\n",
            "fast J:  torch.Size([100, 10, 3, 32, 32]) 30720\n",
            "inputs:  torch.Size([100, 3, 32, 32])\n",
            "fast J:  torch.Size([100, 10, 3, 32, 32]) 30720\n",
            "inputs:  torch.Size([100, 3, 32, 32])\n",
            "fast J:  torch.Size([100, 10, 3, 32, 32]) 30720\n",
            "inputs:  torch.Size([100, 3, 32, 32])\n",
            "fast J:  torch.Size([100, 10, 3, 32, 32]) 30720\n",
            "inputs:  torch.Size([100, 3, 32, 32])\n",
            "fast J:  torch.Size([100, 10, 3, 32, 32]) 30720\n",
            "inputs:  torch.Size([100, 3, 32, 32])\n",
            "fast J:  torch.Size([100, 10, 3, 32, 32]) 30720\n",
            "inputs:  torch.Size([100, 3, 32, 32])\n",
            "fast J:  torch.Size([100, 10, 3, 32, 32]) 30720\n",
            "inputs:  torch.Size([100, 3, 32, 32])\n",
            "fast J:  torch.Size([100, 10, 3, 32, 32]) 30720\n",
            "num 1\n",
            "Files already downloaded and verified\n",
            "Files already downloaded and verified\n",
            "inputs:  torch.Size([100, 3, 32, 32])\n",
            "fast J:  torch.Size([100, 10, 3, 32, 32]) 30720\n",
            "inputs:  torch.Size([100, 3, 32, 32])\n",
            "fast J:  torch.Size([100, 10, 3, 32, 32]) 30720\n",
            "inputs:  torch.Size([100, 3, 32, 32])\n",
            "fast J:  torch.Size([100, 10, 3, 32, 32]) 30720\n",
            "inputs:  torch.Size([100, 3, 32, 32])\n",
            "fast J:  torch.Size([100, 10, 3, 32, 32]) 30720\n",
            "inputs:  torch.Size([100, 3, 32, 32])\n",
            "fast J:  torch.Size([100, 10, 3, 32, 32]) 30720\n",
            "inputs:  torch.Size([100, 3, 32, 32])\n",
            "fast J:  torch.Size([100, 10, 3, 32, 32]) 30720\n",
            "inputs:  torch.Size([100, 3, 32, 32])\n",
            "fast J:  torch.Size([100, 10, 3, 32, 32]) 30720\n",
            "inputs:  torch.Size([100, 3, 32, 32])\n",
            "fast J:  torch.Size([100, 10, 3, 32, 32]) 30720\n",
            "inputs:  torch.Size([100, 3, 32, 32])\n",
            "fast J:  torch.Size([100, 10, 3, 32, 32]) 30720\n",
            "inputs:  torch.Size([100, 3, 32, 32])\n",
            "fast J:  torch.Size([100, 10, 3, 32, 32]) 30720\n",
            "inputs:  torch.Size([100, 3, 32, 32])\n",
            "fast J:  torch.Size([100, 10, 3, 32, 32]) 30720\n",
            "inputs:  torch.Size([100, 3, 32, 32])\n",
            "fast J:  torch.Size([100, 10, 3, 32, 32]) 30720\n",
            "inputs:  torch.Size([100, 3, 32, 32])\n",
            "fast J:  torch.Size([100, 10, 3, 32, 32]) 30720\n",
            "inputs:  torch.Size([100, 3, 32, 32])\n",
            "fast J:  torch.Size([100, 10, 3, 32, 32]) 30720\n",
            "inputs:  torch.Size([100, 3, 32, 32])\n",
            "fast J:  torch.Size([100, 10, 3, 32, 32]) 30720\n",
            "inputs:  torch.Size([100, 3, 32, 32])\n",
            "fast J:  torch.Size([100, 10, 3, 32, 32]) 30720\n",
            "inputs:  torch.Size([100, 3, 32, 32])\n",
            "fast J:  torch.Size([100, 10, 3, 32, 32]) 30720\n",
            "inputs:  torch.Size([100, 3, 32, 32])\n",
            "fast J:  torch.Size([100, 10, 3, 32, 32]) 30720\n",
            "inputs:  torch.Size([100, 3, 32, 32])\n",
            "fast J:  torch.Size([100, 10, 3, 32, 32]) 30720\n",
            "inputs:  torch.Size([100, 3, 32, 32])\n",
            "fast J:  torch.Size([100, 10, 3, 32, 32]) 30720\n",
            "inputs:  torch.Size([100, 3, 32, 32])\n",
            "fast J:  torch.Size([100, 10, 3, 32, 32]) 30720\n",
            "inputs:  torch.Size([100, 3, 32, 32])\n",
            "fast J:  torch.Size([100, 10, 3, 32, 32]) 30720\n",
            "inputs:  torch.Size([100, 3, 32, 32])\n",
            "fast J:  torch.Size([100, 10, 3, 32, 32]) 30720\n",
            "inputs:  torch.Size([100, 3, 32, 32])\n",
            "fast J:  torch.Size([100, 10, 3, 32, 32]) 30720\n",
            "inputs:  torch.Size([100, 3, 32, 32])\n",
            "fast J:  torch.Size([100, 10, 3, 32, 32]) 30720\n",
            "inputs:  torch.Size([100, 3, 32, 32])\n",
            "fast J:  torch.Size([100, 10, 3, 32, 32]) 30720\n",
            "inputs:  torch.Size([100, 3, 32, 32])\n",
            "fast J:  torch.Size([100, 10, 3, 32, 32]) 30720\n",
            "inputs:  torch.Size([100, 3, 32, 32])\n",
            "fast J:  torch.Size([100, 10, 3, 32, 32]) 30720\n",
            "inputs:  torch.Size([100, 3, 32, 32])\n",
            "fast J:  torch.Size([100, 10, 3, 32, 32]) 30720\n",
            "inputs:  torch.Size([100, 3, 32, 32])\n",
            "fast J:  torch.Size([100, 10, 3, 32, 32]) 30720\n",
            "inputs:  torch.Size([100, 3, 32, 32])\n",
            "fast J:  torch.Size([100, 10, 3, 32, 32]) 30720\n",
            "inputs:  torch.Size([100, 3, 32, 32])\n",
            "fast J:  torch.Size([100, 10, 3, 32, 32]) 30720\n",
            "inputs:  torch.Size([100, 3, 32, 32])\n",
            "fast J:  torch.Size([100, 10, 3, 32, 32]) 30720\n",
            "inputs:  torch.Size([100, 3, 32, 32])\n",
            "fast J:  torch.Size([100, 10, 3, 32, 32]) 30720\n",
            "inputs:  torch.Size([100, 3, 32, 32])\n",
            "fast J:  torch.Size([100, 10, 3, 32, 32]) 30720\n",
            "inputs:  torch.Size([100, 3, 32, 32])\n",
            "fast J:  torch.Size([100, 10, 3, 32, 32]) 30720\n",
            "inputs:  torch.Size([100, 3, 32, 32])\n",
            "fast J:  torch.Size([100, 10, 3, 32, 32]) 30720\n",
            "inputs:  torch.Size([100, 3, 32, 32])\n",
            "fast J:  torch.Size([100, 10, 3, 32, 32]) 30720\n",
            "inputs:  torch.Size([100, 3, 32, 32])\n",
            "fast J:  torch.Size([100, 10, 3, 32, 32]) 30720\n",
            "inputs:  torch.Size([100, 3, 32, 32])\n",
            "fast J:  torch.Size([100, 10, 3, 32, 32]) 30720\n",
            "inputs:  torch.Size([100, 3, 32, 32])\n",
            "fast J:  torch.Size([100, 10, 3, 32, 32]) 30720\n",
            "inputs:  torch.Size([100, 3, 32, 32])\n",
            "fast J:  torch.Size([100, 10, 3, 32, 32]) 30720\n",
            "inputs:  torch.Size([100, 3, 32, 32])\n",
            "fast J:  torch.Size([100, 10, 3, 32, 32]) 30720\n",
            "inputs:  torch.Size([100, 3, 32, 32])\n",
            "fast J:  torch.Size([100, 10, 3, 32, 32]) 30720\n",
            "inputs:  torch.Size([100, 3, 32, 32])\n",
            "fast J:  torch.Size([100, 10, 3, 32, 32]) 30720\n",
            "inputs:  torch.Size([100, 3, 32, 32])\n",
            "fast J:  torch.Size([100, 10, 3, 32, 32]) 30720\n",
            "inputs:  torch.Size([100, 3, 32, 32])\n",
            "fast J:  torch.Size([100, 10, 3, 32, 32]) 30720\n",
            "inputs:  torch.Size([100, 3, 32, 32])\n",
            "fast J:  torch.Size([100, 10, 3, 32, 32]) 30720\n",
            "inputs:  torch.Size([100, 3, 32, 32])\n",
            "fast J:  torch.Size([100, 10, 3, 32, 32]) 30720\n",
            "inputs:  torch.Size([100, 3, 32, 32])\n",
            "fast J:  torch.Size([100, 10, 3, 32, 32]) 30720\n",
            "num 2\n",
            "Files already downloaded and verified\n",
            "Files already downloaded and verified\n",
            "inputs:  torch.Size([100, 3, 32, 32])\n",
            "fast J:  torch.Size([100, 10, 3, 32, 32]) 30720\n",
            "inputs:  torch.Size([100, 3, 32, 32])\n",
            "fast J:  torch.Size([100, 10, 3, 32, 32]) 30720\n",
            "inputs:  torch.Size([100, 3, 32, 32])\n",
            "fast J:  torch.Size([100, 10, 3, 32, 32]) 30720\n",
            "inputs:  torch.Size([100, 3, 32, 32])\n",
            "fast J:  torch.Size([100, 10, 3, 32, 32]) 30720\n",
            "inputs:  torch.Size([100, 3, 32, 32])\n",
            "fast J:  torch.Size([100, 10, 3, 32, 32]) 30720\n",
            "inputs:  torch.Size([100, 3, 32, 32])\n",
            "fast J:  torch.Size([100, 10, 3, 32, 32]) 30720\n",
            "inputs:  torch.Size([100, 3, 32, 32])\n",
            "fast J:  torch.Size([100, 10, 3, 32, 32]) 30720\n",
            "inputs:  torch.Size([100, 3, 32, 32])\n",
            "fast J:  torch.Size([100, 10, 3, 32, 32]) 30720\n",
            "inputs:  torch.Size([100, 3, 32, 32])\n",
            "fast J:  torch.Size([100, 10, 3, 32, 32]) 30720\n",
            "inputs:  torch.Size([100, 3, 32, 32])\n",
            "fast J:  torch.Size([100, 10, 3, 32, 32]) 30720\n",
            "inputs:  torch.Size([100, 3, 32, 32])\n",
            "fast J:  torch.Size([100, 10, 3, 32, 32]) 30720\n",
            "inputs:  torch.Size([100, 3, 32, 32])\n",
            "fast J:  torch.Size([100, 10, 3, 32, 32]) 30720\n",
            "inputs:  torch.Size([100, 3, 32, 32])\n",
            "fast J:  torch.Size([100, 10, 3, 32, 32]) 30720\n",
            "inputs:  torch.Size([100, 3, 32, 32])\n",
            "fast J:  torch.Size([100, 10, 3, 32, 32]) 30720\n",
            "inputs:  torch.Size([100, 3, 32, 32])\n",
            "fast J:  torch.Size([100, 10, 3, 32, 32]) 30720\n",
            "inputs:  torch.Size([100, 3, 32, 32])\n",
            "fast J:  torch.Size([100, 10, 3, 32, 32]) 30720\n",
            "inputs:  torch.Size([100, 3, 32, 32])\n",
            "fast J:  torch.Size([100, 10, 3, 32, 32]) 30720\n",
            "inputs:  torch.Size([100, 3, 32, 32])\n",
            "fast J:  torch.Size([100, 10, 3, 32, 32]) 30720\n",
            "inputs:  torch.Size([100, 3, 32, 32])\n",
            "fast J:  torch.Size([100, 10, 3, 32, 32]) 30720\n",
            "inputs:  torch.Size([100, 3, 32, 32])\n",
            "fast J:  torch.Size([100, 10, 3, 32, 32]) 30720\n",
            "inputs:  torch.Size([100, 3, 32, 32])\n",
            "fast J:  torch.Size([100, 10, 3, 32, 32]) 30720\n",
            "inputs:  torch.Size([100, 3, 32, 32])\n",
            "fast J:  torch.Size([100, 10, 3, 32, 32]) 30720\n",
            "inputs:  torch.Size([100, 3, 32, 32])\n",
            "fast J:  torch.Size([100, 10, 3, 32, 32]) 30720\n",
            "inputs:  torch.Size([100, 3, 32, 32])\n",
            "fast J:  torch.Size([100, 10, 3, 32, 32]) 30720\n",
            "inputs:  torch.Size([100, 3, 32, 32])\n",
            "fast J:  torch.Size([100, 10, 3, 32, 32]) 30720\n",
            "inputs:  torch.Size([100, 3, 32, 32])\n",
            "fast J:  torch.Size([100, 10, 3, 32, 32]) 30720\n",
            "inputs:  torch.Size([100, 3, 32, 32])\n",
            "fast J:  torch.Size([100, 10, 3, 32, 32]) 30720\n",
            "inputs:  torch.Size([100, 3, 32, 32])\n",
            "fast J:  torch.Size([100, 10, 3, 32, 32]) 30720\n",
            "inputs:  torch.Size([100, 3, 32, 32])\n",
            "fast J:  torch.Size([100, 10, 3, 32, 32]) 30720\n",
            "inputs:  torch.Size([100, 3, 32, 32])\n",
            "fast J:  torch.Size([100, 10, 3, 32, 32]) 30720\n",
            "inputs:  torch.Size([100, 3, 32, 32])\n",
            "fast J:  torch.Size([100, 10, 3, 32, 32]) 30720\n",
            "inputs:  torch.Size([100, 3, 32, 32])\n",
            "fast J:  torch.Size([100, 10, 3, 32, 32]) 30720\n",
            "inputs:  torch.Size([100, 3, 32, 32])\n",
            "fast J:  torch.Size([100, 10, 3, 32, 32]) 30720\n",
            "inputs:  torch.Size([100, 3, 32, 32])\n",
            "fast J:  torch.Size([100, 10, 3, 32, 32]) 30720\n",
            "inputs:  torch.Size([100, 3, 32, 32])\n",
            "fast J:  torch.Size([100, 10, 3, 32, 32]) 30720\n",
            "inputs:  torch.Size([100, 3, 32, 32])\n",
            "fast J:  torch.Size([100, 10, 3, 32, 32]) 30720\n",
            "inputs:  torch.Size([100, 3, 32, 32])\n",
            "fast J:  torch.Size([100, 10, 3, 32, 32]) 30720\n",
            "inputs:  torch.Size([100, 3, 32, 32])\n",
            "fast J:  torch.Size([100, 10, 3, 32, 32]) 30720\n",
            "inputs:  torch.Size([100, 3, 32, 32])\n",
            "fast J:  torch.Size([100, 10, 3, 32, 32]) 30720\n",
            "inputs:  torch.Size([100, 3, 32, 32])\n",
            "fast J:  torch.Size([100, 10, 3, 32, 32]) 30720\n",
            "inputs:  torch.Size([100, 3, 32, 32])\n",
            "fast J:  torch.Size([100, 10, 3, 32, 32]) 30720\n",
            "inputs:  torch.Size([100, 3, 32, 32])\n",
            "fast J:  torch.Size([100, 10, 3, 32, 32]) 30720\n",
            "inputs:  torch.Size([100, 3, 32, 32])\n",
            "fast J:  torch.Size([100, 10, 3, 32, 32]) 30720\n",
            "inputs:  torch.Size([100, 3, 32, 32])\n",
            "fast J:  torch.Size([100, 10, 3, 32, 32]) 30720\n",
            "inputs:  torch.Size([100, 3, 32, 32])\n",
            "fast J:  torch.Size([100, 10, 3, 32, 32]) 30720\n",
            "inputs:  torch.Size([100, 3, 32, 32])\n",
            "fast J:  torch.Size([100, 10, 3, 32, 32]) 30720\n",
            "inputs:  torch.Size([100, 3, 32, 32])\n",
            "fast J:  torch.Size([100, 10, 3, 32, 32]) 30720\n",
            "inputs:  torch.Size([100, 3, 32, 32])\n",
            "fast J:  torch.Size([100, 10, 3, 32, 32]) 30720\n",
            "inputs:  torch.Size([100, 3, 32, 32])\n",
            "fast J:  torch.Size([100, 10, 3, 32, 32]) 30720\n",
            "inputs:  torch.Size([100, 3, 32, 32])\n",
            "fast J:  torch.Size([100, 10, 3, 32, 32]) 30720\n",
            "num 3\n",
            "Files already downloaded and verified\n",
            "Files already downloaded and verified\n",
            "inputs:  torch.Size([100, 3, 32, 32])\n",
            "fast J:  torch.Size([100, 10, 3, 32, 32]) 30720\n",
            "inputs:  torch.Size([100, 3, 32, 32])\n",
            "fast J:  torch.Size([100, 10, 3, 32, 32]) 30720\n",
            "inputs:  torch.Size([100, 3, 32, 32])\n",
            "fast J:  torch.Size([100, 10, 3, 32, 32]) 30720\n",
            "inputs:  torch.Size([100, 3, 32, 32])\n",
            "fast J:  torch.Size([100, 10, 3, 32, 32]) 30720\n",
            "inputs:  torch.Size([100, 3, 32, 32])\n",
            "fast J:  torch.Size([100, 10, 3, 32, 32]) 30720\n",
            "inputs:  torch.Size([100, 3, 32, 32])\n",
            "fast J:  torch.Size([100, 10, 3, 32, 32]) 30720\n",
            "inputs:  torch.Size([100, 3, 32, 32])\n",
            "fast J:  torch.Size([100, 10, 3, 32, 32]) 30720\n",
            "inputs:  torch.Size([100, 3, 32, 32])\n",
            "fast J:  torch.Size([100, 10, 3, 32, 32]) 30720\n",
            "inputs:  torch.Size([100, 3, 32, 32])\n",
            "fast J:  torch.Size([100, 10, 3, 32, 32]) 30720\n",
            "inputs:  torch.Size([100, 3, 32, 32])\n",
            "fast J:  torch.Size([100, 10, 3, 32, 32]) 30720\n",
            "inputs:  torch.Size([100, 3, 32, 32])\n",
            "fast J:  torch.Size([100, 10, 3, 32, 32]) 30720\n",
            "inputs:  torch.Size([100, 3, 32, 32])\n",
            "fast J:  torch.Size([100, 10, 3, 32, 32]) 30720\n",
            "inputs:  torch.Size([100, 3, 32, 32])\n",
            "fast J:  torch.Size([100, 10, 3, 32, 32]) 30720\n",
            "inputs:  torch.Size([100, 3, 32, 32])\n",
            "fast J:  torch.Size([100, 10, 3, 32, 32]) 30720\n",
            "inputs:  torch.Size([100, 3, 32, 32])\n",
            "fast J:  torch.Size([100, 10, 3, 32, 32]) 30720\n",
            "inputs:  torch.Size([100, 3, 32, 32])\n",
            "fast J:  torch.Size([100, 10, 3, 32, 32]) 30720\n",
            "inputs:  torch.Size([100, 3, 32, 32])\n",
            "fast J:  torch.Size([100, 10, 3, 32, 32]) 30720\n",
            "inputs:  torch.Size([100, 3, 32, 32])\n",
            "fast J:  torch.Size([100, 10, 3, 32, 32]) 30720\n",
            "inputs:  torch.Size([100, 3, 32, 32])\n",
            "fast J:  torch.Size([100, 10, 3, 32, 32]) 30720\n",
            "inputs:  torch.Size([100, 3, 32, 32])\n",
            "fast J:  torch.Size([100, 10, 3, 32, 32]) 30720\n",
            "inputs:  torch.Size([100, 3, 32, 32])\n",
            "fast J:  torch.Size([100, 10, 3, 32, 32]) 30720\n",
            "inputs:  torch.Size([100, 3, 32, 32])\n",
            "fast J:  torch.Size([100, 10, 3, 32, 32]) 30720\n",
            "inputs:  torch.Size([100, 3, 32, 32])\n",
            "fast J:  torch.Size([100, 10, 3, 32, 32]) 30720\n",
            "inputs:  torch.Size([100, 3, 32, 32])\n",
            "fast J:  torch.Size([100, 10, 3, 32, 32]) 30720\n",
            "inputs:  torch.Size([100, 3, 32, 32])\n",
            "fast J:  torch.Size([100, 10, 3, 32, 32]) 30720\n",
            "inputs:  torch.Size([100, 3, 32, 32])\n",
            "fast J:  torch.Size([100, 10, 3, 32, 32]) 30720\n",
            "inputs:  torch.Size([100, 3, 32, 32])\n",
            "fast J:  torch.Size([100, 10, 3, 32, 32]) 30720\n",
            "inputs:  torch.Size([100, 3, 32, 32])\n",
            "fast J:  torch.Size([100, 10, 3, 32, 32]) 30720\n",
            "inputs:  torch.Size([100, 3, 32, 32])\n",
            "fast J:  torch.Size([100, 10, 3, 32, 32]) 30720\n",
            "inputs:  torch.Size([100, 3, 32, 32])\n",
            "fast J:  torch.Size([100, 10, 3, 32, 32]) 30720\n",
            "inputs:  torch.Size([100, 3, 32, 32])\n",
            "fast J:  torch.Size([100, 10, 3, 32, 32]) 30720\n",
            "inputs:  torch.Size([100, 3, 32, 32])\n",
            "fast J:  torch.Size([100, 10, 3, 32, 32]) 30720\n",
            "inputs:  torch.Size([100, 3, 32, 32])\n",
            "fast J:  torch.Size([100, 10, 3, 32, 32]) 30720\n",
            "inputs:  torch.Size([100, 3, 32, 32])\n",
            "fast J:  torch.Size([100, 10, 3, 32, 32]) 30720\n",
            "inputs:  torch.Size([100, 3, 32, 32])\n",
            "fast J:  torch.Size([100, 10, 3, 32, 32]) 30720\n",
            "inputs:  torch.Size([100, 3, 32, 32])\n",
            "fast J:  torch.Size([100, 10, 3, 32, 32]) 30720\n",
            "inputs:  torch.Size([100, 3, 32, 32])\n",
            "fast J:  torch.Size([100, 10, 3, 32, 32]) 30720\n",
            "inputs:  torch.Size([100, 3, 32, 32])\n",
            "fast J:  torch.Size([100, 10, 3, 32, 32]) 30720\n",
            "inputs:  torch.Size([100, 3, 32, 32])\n",
            "fast J:  torch.Size([100, 10, 3, 32, 32]) 30720\n",
            "inputs:  torch.Size([100, 3, 32, 32])\n",
            "fast J:  torch.Size([100, 10, 3, 32, 32]) 30720\n",
            "inputs:  torch.Size([100, 3, 32, 32])\n",
            "fast J:  torch.Size([100, 10, 3, 32, 32]) 30720\n",
            "inputs:  torch.Size([100, 3, 32, 32])\n",
            "fast J:  torch.Size([100, 10, 3, 32, 32]) 30720\n",
            "inputs:  torch.Size([100, 3, 32, 32])\n",
            "fast J:  torch.Size([100, 10, 3, 32, 32]) 30720\n",
            "inputs:  torch.Size([100, 3, 32, 32])\n",
            "fast J:  torch.Size([100, 10, 3, 32, 32]) 30720\n",
            "inputs:  torch.Size([100, 3, 32, 32])\n",
            "fast J:  torch.Size([100, 10, 3, 32, 32]) 30720\n",
            "inputs:  torch.Size([100, 3, 32, 32])\n",
            "fast J:  torch.Size([100, 10, 3, 32, 32]) 30720\n",
            "inputs:  torch.Size([100, 3, 32, 32])\n",
            "fast J:  torch.Size([100, 10, 3, 32, 32]) 30720\n",
            "inputs:  torch.Size([100, 3, 32, 32])\n",
            "fast J:  torch.Size([100, 10, 3, 32, 32]) 30720\n",
            "inputs:  torch.Size([100, 3, 32, 32])\n",
            "fast J:  torch.Size([100, 10, 3, 32, 32]) 30720\n",
            "inputs:  torch.Size([100, 3, 32, 32])\n",
            "fast J:  torch.Size([100, 10, 3, 32, 32]) 30720\n",
            "num 4\n",
            "Files already downloaded and verified\n",
            "Files already downloaded and verified\n",
            "inputs:  torch.Size([100, 3, 32, 32])\n",
            "fast J:  torch.Size([100, 10, 3, 32, 32]) 30720\n",
            "inputs:  torch.Size([100, 3, 32, 32])\n",
            "fast J:  torch.Size([100, 10, 3, 32, 32]) 30720\n",
            "inputs:  torch.Size([100, 3, 32, 32])\n",
            "fast J:  torch.Size([100, 10, 3, 32, 32]) 30720\n",
            "inputs:  torch.Size([100, 3, 32, 32])\n",
            "fast J:  torch.Size([100, 10, 3, 32, 32]) 30720\n",
            "inputs:  torch.Size([100, 3, 32, 32])\n",
            "fast J:  torch.Size([100, 10, 3, 32, 32]) 30720\n",
            "inputs:  torch.Size([100, 3, 32, 32])\n",
            "fast J:  torch.Size([100, 10, 3, 32, 32]) 30720\n",
            "inputs:  torch.Size([100, 3, 32, 32])\n",
            "fast J:  torch.Size([100, 10, 3, 32, 32]) 30720\n",
            "inputs:  torch.Size([100, 3, 32, 32])\n",
            "fast J:  torch.Size([100, 10, 3, 32, 32]) 30720\n",
            "inputs:  torch.Size([100, 3, 32, 32])\n",
            "fast J:  torch.Size([100, 10, 3, 32, 32]) 30720\n",
            "inputs:  torch.Size([100, 3, 32, 32])\n",
            "fast J:  torch.Size([100, 10, 3, 32, 32]) 30720\n",
            "inputs:  torch.Size([100, 3, 32, 32])\n",
            "fast J:  torch.Size([100, 10, 3, 32, 32]) 30720\n",
            "inputs:  torch.Size([100, 3, 32, 32])\n",
            "fast J:  torch.Size([100, 10, 3, 32, 32]) 30720\n",
            "inputs:  torch.Size([100, 3, 32, 32])\n",
            "fast J:  torch.Size([100, 10, 3, 32, 32]) 30720\n",
            "inputs:  torch.Size([100, 3, 32, 32])\n",
            "fast J:  torch.Size([100, 10, 3, 32, 32]) 30720\n",
            "inputs:  torch.Size([100, 3, 32, 32])\n",
            "fast J:  torch.Size([100, 10, 3, 32, 32]) 30720\n",
            "inputs:  torch.Size([100, 3, 32, 32])\n",
            "fast J:  torch.Size([100, 10, 3, 32, 32]) 30720\n",
            "inputs:  torch.Size([100, 3, 32, 32])\n",
            "fast J:  torch.Size([100, 10, 3, 32, 32]) 30720\n",
            "inputs:  torch.Size([100, 3, 32, 32])\n",
            "fast J:  torch.Size([100, 10, 3, 32, 32]) 30720\n",
            "inputs:  torch.Size([100, 3, 32, 32])\n",
            "fast J:  torch.Size([100, 10, 3, 32, 32]) 30720\n",
            "inputs:  torch.Size([100, 3, 32, 32])\n",
            "fast J:  torch.Size([100, 10, 3, 32, 32]) 30720\n",
            "inputs:  torch.Size([100, 3, 32, 32])\n",
            "fast J:  torch.Size([100, 10, 3, 32, 32]) 30720\n",
            "inputs:  torch.Size([100, 3, 32, 32])\n",
            "fast J:  torch.Size([100, 10, 3, 32, 32]) 30720\n",
            "inputs:  torch.Size([100, 3, 32, 32])\n",
            "fast J:  torch.Size([100, 10, 3, 32, 32]) 30720\n",
            "inputs:  torch.Size([100, 3, 32, 32])\n",
            "fast J:  torch.Size([100, 10, 3, 32, 32]) 30720\n",
            "inputs:  torch.Size([100, 3, 32, 32])\n",
            "fast J:  torch.Size([100, 10, 3, 32, 32]) 30720\n",
            "inputs:  torch.Size([100, 3, 32, 32])\n",
            "fast J:  torch.Size([100, 10, 3, 32, 32]) 30720\n",
            "inputs:  torch.Size([100, 3, 32, 32])\n",
            "fast J:  torch.Size([100, 10, 3, 32, 32]) 30720\n",
            "inputs:  torch.Size([100, 3, 32, 32])\n",
            "fast J:  torch.Size([100, 10, 3, 32, 32]) 30720\n",
            "inputs:  torch.Size([100, 3, 32, 32])\n",
            "fast J:  torch.Size([100, 10, 3, 32, 32]) 30720\n",
            "inputs:  torch.Size([100, 3, 32, 32])\n",
            "fast J:  torch.Size([100, 10, 3, 32, 32]) 30720\n",
            "inputs:  torch.Size([100, 3, 32, 32])\n",
            "fast J:  torch.Size([100, 10, 3, 32, 32]) 30720\n",
            "inputs:  torch.Size([100, 3, 32, 32])\n",
            "fast J:  torch.Size([100, 10, 3, 32, 32]) 30720\n",
            "inputs:  torch.Size([100, 3, 32, 32])\n",
            "fast J:  torch.Size([100, 10, 3, 32, 32]) 30720\n",
            "inputs:  torch.Size([100, 3, 32, 32])\n"
          ],
          "name": "stdout"
        }
      ]
    },
    {
      "cell_type": "code",
      "metadata": {
        "id": "QpHu7_6J_L08",
        "colab_type": "code",
        "colab": {}
      },
      "source": [
        ""
      ],
      "execution_count": 0,
      "outputs": []
    }
  ]
}