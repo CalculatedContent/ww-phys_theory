{
  "nbformat": 4,
  "nbformat_minor": 0,
  "metadata": {
    "colab": {
      "name": " Jacobians-2.ipynb",
      "provenance": [],
      "collapsed_sections": [],
      "machine_shape": "hm",
      "authorship_tag": "ABX9TyM3v73UZqBbTeY3ESnbxfmk",
      "include_colab_link": true
    },
    "kernelspec": {
      "name": "python3",
      "display_name": "Python 3"
    },
    "accelerator": "GPU",
    "widgets": {
      "application/vnd.jupyter.widget-state+json": {
        "1c95a8fb0e4a4564a9f3ac34507b40a4": {
          "model_module": "@jupyter-widgets/controls",
          "model_name": "HBoxModel",
          "state": {
            "_view_name": "HBoxView",
            "_dom_classes": [],
            "_model_name": "HBoxModel",
            "_view_module": "@jupyter-widgets/controls",
            "_model_module_version": "1.5.0",
            "_view_count": null,
            "_view_module_version": "1.5.0",
            "box_style": "",
            "layout": "IPY_MODEL_9f450b00e23e4145bff6d38d20e1a5f2",
            "_model_module": "@jupyter-widgets/controls",
            "children": [
              "IPY_MODEL_5e2aebc0ac1c447c981c536307463353",
              "IPY_MODEL_3ac030fba76f4cb6b6b2b0a19d084454"
            ]
          }
        },
        "9f450b00e23e4145bff6d38d20e1a5f2": {
          "model_module": "@jupyter-widgets/base",
          "model_name": "LayoutModel",
          "state": {
            "_view_name": "LayoutView",
            "grid_template_rows": null,
            "right": null,
            "justify_content": null,
            "_view_module": "@jupyter-widgets/base",
            "overflow": null,
            "_model_module_version": "1.2.0",
            "_view_count": null,
            "flex_flow": null,
            "width": null,
            "min_width": null,
            "border": null,
            "align_items": null,
            "bottom": null,
            "_model_module": "@jupyter-widgets/base",
            "top": null,
            "grid_column": null,
            "overflow_y": null,
            "overflow_x": null,
            "grid_auto_flow": null,
            "grid_area": null,
            "grid_template_columns": null,
            "flex": null,
            "_model_name": "LayoutModel",
            "justify_items": null,
            "grid_row": null,
            "max_height": null,
            "align_content": null,
            "visibility": null,
            "align_self": null,
            "height": null,
            "min_height": null,
            "padding": null,
            "grid_auto_rows": null,
            "grid_gap": null,
            "max_width": null,
            "order": null,
            "_view_module_version": "1.2.0",
            "grid_template_areas": null,
            "object_position": null,
            "object_fit": null,
            "grid_auto_columns": null,
            "margin": null,
            "display": null,
            "left": null
          }
        },
        "5e2aebc0ac1c447c981c536307463353": {
          "model_module": "@jupyter-widgets/controls",
          "model_name": "FloatProgressModel",
          "state": {
            "_view_name": "ProgressView",
            "style": "IPY_MODEL_efa90d46bc674fecaa5c2652fda44ec0",
            "_dom_classes": [],
            "description": "",
            "_model_name": "FloatProgressModel",
            "bar_style": "info",
            "max": 1,
            "_view_module": "@jupyter-widgets/controls",
            "_model_module_version": "1.5.0",
            "value": 1,
            "_view_count": null,
            "_view_module_version": "1.5.0",
            "orientation": "horizontal",
            "min": 0,
            "description_tooltip": null,
            "_model_module": "@jupyter-widgets/controls",
            "layout": "IPY_MODEL_0f20ada3f9334c6f8ba4507ee89af2c4"
          }
        },
        "3ac030fba76f4cb6b6b2b0a19d084454": {
          "model_module": "@jupyter-widgets/controls",
          "model_name": "HTMLModel",
          "state": {
            "_view_name": "HTMLView",
            "style": "IPY_MODEL_0858a17136e147ce8119e400ba58fa00",
            "_dom_classes": [],
            "description": "",
            "_model_name": "HTMLModel",
            "placeholder": "​",
            "_view_module": "@jupyter-widgets/controls",
            "_model_module_version": "1.5.0",
            "value": " 170500096/? [00:20&lt;00:00, 54479065.56it/s]",
            "_view_count": null,
            "_view_module_version": "1.5.0",
            "description_tooltip": null,
            "_model_module": "@jupyter-widgets/controls",
            "layout": "IPY_MODEL_3f66d0e2349a4759a69004764d186195"
          }
        },
        "efa90d46bc674fecaa5c2652fda44ec0": {
          "model_module": "@jupyter-widgets/controls",
          "model_name": "ProgressStyleModel",
          "state": {
            "_view_name": "StyleView",
            "_model_name": "ProgressStyleModel",
            "description_width": "initial",
            "_view_module": "@jupyter-widgets/base",
            "_model_module_version": "1.5.0",
            "_view_count": null,
            "_view_module_version": "1.2.0",
            "bar_color": null,
            "_model_module": "@jupyter-widgets/controls"
          }
        },
        "0f20ada3f9334c6f8ba4507ee89af2c4": {
          "model_module": "@jupyter-widgets/base",
          "model_name": "LayoutModel",
          "state": {
            "_view_name": "LayoutView",
            "grid_template_rows": null,
            "right": null,
            "justify_content": null,
            "_view_module": "@jupyter-widgets/base",
            "overflow": null,
            "_model_module_version": "1.2.0",
            "_view_count": null,
            "flex_flow": null,
            "width": null,
            "min_width": null,
            "border": null,
            "align_items": null,
            "bottom": null,
            "_model_module": "@jupyter-widgets/base",
            "top": null,
            "grid_column": null,
            "overflow_y": null,
            "overflow_x": null,
            "grid_auto_flow": null,
            "grid_area": null,
            "grid_template_columns": null,
            "flex": null,
            "_model_name": "LayoutModel",
            "justify_items": null,
            "grid_row": null,
            "max_height": null,
            "align_content": null,
            "visibility": null,
            "align_self": null,
            "height": null,
            "min_height": null,
            "padding": null,
            "grid_auto_rows": null,
            "grid_gap": null,
            "max_width": null,
            "order": null,
            "_view_module_version": "1.2.0",
            "grid_template_areas": null,
            "object_position": null,
            "object_fit": null,
            "grid_auto_columns": null,
            "margin": null,
            "display": null,
            "left": null
          }
        },
        "0858a17136e147ce8119e400ba58fa00": {
          "model_module": "@jupyter-widgets/controls",
          "model_name": "DescriptionStyleModel",
          "state": {
            "_view_name": "StyleView",
            "_model_name": "DescriptionStyleModel",
            "description_width": "",
            "_view_module": "@jupyter-widgets/base",
            "_model_module_version": "1.5.0",
            "_view_count": null,
            "_view_module_version": "1.2.0",
            "_model_module": "@jupyter-widgets/controls"
          }
        },
        "3f66d0e2349a4759a69004764d186195": {
          "model_module": "@jupyter-widgets/base",
          "model_name": "LayoutModel",
          "state": {
            "_view_name": "LayoutView",
            "grid_template_rows": null,
            "right": null,
            "justify_content": null,
            "_view_module": "@jupyter-widgets/base",
            "overflow": null,
            "_model_module_version": "1.2.0",
            "_view_count": null,
            "flex_flow": null,
            "width": null,
            "min_width": null,
            "border": null,
            "align_items": null,
            "bottom": null,
            "_model_module": "@jupyter-widgets/base",
            "top": null,
            "grid_column": null,
            "overflow_y": null,
            "overflow_x": null,
            "grid_auto_flow": null,
            "grid_area": null,
            "grid_template_columns": null,
            "flex": null,
            "_model_name": "LayoutModel",
            "justify_items": null,
            "grid_row": null,
            "max_height": null,
            "align_content": null,
            "visibility": null,
            "align_self": null,
            "height": null,
            "min_height": null,
            "padding": null,
            "grid_auto_rows": null,
            "grid_gap": null,
            "max_width": null,
            "order": null,
            "_view_module_version": "1.2.0",
            "grid_template_areas": null,
            "object_position": null,
            "object_fit": null,
            "grid_auto_columns": null,
            "margin": null,
            "display": null,
            "left": null
          }
        }
      }
    }
  },
  "cells": [
    {
      "cell_type": "markdown",
      "metadata": {
        "id": "view-in-github",
        "colab_type": "text"
      },
      "source": [
        "<a href=\"https://colab.research.google.com/github/CalculatedContent/ww-phys_theory/blob/master/Jacobians_2.ipynb\" target=\"_parent\"><img src=\"https://colab.research.google.com/assets/colab-badge.svg\" alt=\"Open In Colab\"/></a>"
      ]
    },
    {
      "cell_type": "code",
      "metadata": {
        "id": "ZOAvU6VYDKCC",
        "colab_type": "code",
        "outputId": "ca1659c6-331b-41b3-c074-16829c029ec9",
        "colab": {
          "base_uri": "https://localhost:8080/",
          "height": 119
        }
      },
      "source": [
        "!pip install torch==1.5.0+cu101 torchvision==0.6.0+cu101 -f https://download.pytorch.org/whl/torch_stable.html"
      ],
      "execution_count": 1,
      "outputs": [
        {
          "output_type": "stream",
          "text": [
            "Looking in links: https://download.pytorch.org/whl/torch_stable.html\n",
            "Requirement already satisfied: torch==1.5.0+cu101 in /usr/local/lib/python3.6/dist-packages (1.5.0+cu101)\n",
            "Requirement already satisfied: torchvision==0.6.0+cu101 in /usr/local/lib/python3.6/dist-packages (0.6.0+cu101)\n",
            "Requirement already satisfied: numpy in /usr/local/lib/python3.6/dist-packages (from torch==1.5.0+cu101) (1.18.4)\n",
            "Requirement already satisfied: future in /usr/local/lib/python3.6/dist-packages (from torch==1.5.0+cu101) (0.16.0)\n",
            "Requirement already satisfied: pillow>=4.1.1 in /usr/local/lib/python3.6/dist-packages (from torchvision==0.6.0+cu101) (7.0.0)\n"
          ],
          "name": "stdout"
        }
      ]
    },
    {
      "cell_type": "code",
      "metadata": {
        "id": "lSlymHmAIph5",
        "colab_type": "code",
        "colab": {}
      },
      "source": [
        "thismodel = 'resnet164bn_cifar10'\n",
        "inum_start = 0"
      ],
      "execution_count": 0,
      "outputs": []
    },
    {
      "cell_type": "code",
      "metadata": {
        "id": "hZplJz8WqCkD",
        "colab_type": "code",
        "outputId": "37634943-3f86-43d1-8c0e-7f0ebefe75e4",
        "colab": {
          "base_uri": "https://localhost:8080/",
          "height": 190
        }
      },
      "source": [
        "!pip install ipython-autotime\n",
        "%load_ext autotime"
      ],
      "execution_count": 3,
      "outputs": [
        {
          "output_type": "stream",
          "text": [
            "Collecting ipython-autotime\n",
            "  Downloading https://files.pythonhosted.org/packages/e6/f9/0626bbdb322e3a078d968e87e3b01341e7890544de891d0cb613641220e6/ipython-autotime-0.1.tar.bz2\n",
            "Building wheels for collected packages: ipython-autotime\n",
            "  Building wheel for ipython-autotime (setup.py) ... \u001b[?25l\u001b[?25hdone\n",
            "  Created wheel for ipython-autotime: filename=ipython_autotime-0.1-cp36-none-any.whl size=1832 sha256=fc9c598662583cf9f3410e210c9789029afd98c2d33b0ad81d628579bb84a6f3\n",
            "  Stored in directory: /root/.cache/pip/wheels/d2/df/81/2db1e54bc91002cec40334629bc39cfa86dff540b304ebcd6e\n",
            "Successfully built ipython-autotime\n",
            "Installing collected packages: ipython-autotime\n",
            "Successfully installed ipython-autotime-0.1\n"
          ],
          "name": "stdout"
        }
      ]
    },
    {
      "cell_type": "code",
      "metadata": {
        "id": "KBc9xEiMgn5N",
        "colab_type": "code",
        "colab": {
          "base_uri": "https://localhost:8080/",
          "height": 547
        },
        "outputId": "1fed62a1-d6cf-41e8-b039-22320a0c22b1"
      },
      "source": [
        "!pip install pytorchcv\n",
        "!pip install powerlaw"
      ],
      "execution_count": 4,
      "outputs": [
        {
          "output_type": "stream",
          "text": [
            "Collecting pytorchcv\n",
            "\u001b[?25l  Downloading https://files.pythonhosted.org/packages/93/be/0bcd80dfc0d64e75ceb67836385402fece3c3b964c349172a21358813b25/pytorchcv-0.0.58-py2.py3-none-any.whl (435kB)\n",
            "\r\u001b[K     |▊                               | 10kB 29.3MB/s eta 0:00:01\r\u001b[K     |█▌                              | 20kB 3.1MB/s eta 0:00:01\r\u001b[K     |██▎                             | 30kB 3.9MB/s eta 0:00:01\r\u001b[K     |███                             | 40kB 2.9MB/s eta 0:00:01\r\u001b[K     |███▊                            | 51kB 3.3MB/s eta 0:00:01\r\u001b[K     |████▌                           | 61kB 4.0MB/s eta 0:00:01\r\u001b[K     |█████▎                          | 71kB 4.3MB/s eta 0:00:01\r\u001b[K     |██████                          | 81kB 4.5MB/s eta 0:00:01\r\u001b[K     |██████▊                         | 92kB 5.0MB/s eta 0:00:01\r\u001b[K     |███████▌                        | 102kB 4.8MB/s eta 0:00:01\r\u001b[K     |████████▎                       | 112kB 4.8MB/s eta 0:00:01\r\u001b[K     |█████████                       | 122kB 4.8MB/s eta 0:00:01\r\u001b[K     |█████████▉                      | 133kB 4.8MB/s eta 0:00:01\r\u001b[K     |██████████▌                     | 143kB 4.8MB/s eta 0:00:01\r\u001b[K     |███████████▎                    | 153kB 4.8MB/s eta 0:00:01\r\u001b[K     |████████████                    | 163kB 4.8MB/s eta 0:00:01\r\u001b[K     |████████████▉                   | 174kB 4.8MB/s eta 0:00:01\r\u001b[K     |█████████████▌                  | 184kB 4.8MB/s eta 0:00:01\r\u001b[K     |██████████████▎                 | 194kB 4.8MB/s eta 0:00:01\r\u001b[K     |███████████████                 | 204kB 4.8MB/s eta 0:00:01\r\u001b[K     |███████████████▉                | 215kB 4.8MB/s eta 0:00:01\r\u001b[K     |████████████████▋               | 225kB 4.8MB/s eta 0:00:01\r\u001b[K     |█████████████████▎              | 235kB 4.8MB/s eta 0:00:01\r\u001b[K     |██████████████████              | 245kB 4.8MB/s eta 0:00:01\r\u001b[K     |██████████████████▉             | 256kB 4.8MB/s eta 0:00:01\r\u001b[K     |███████████████████▋            | 266kB 4.8MB/s eta 0:00:01\r\u001b[K     |████████████████████▎           | 276kB 4.8MB/s eta 0:00:01\r\u001b[K     |█████████████████████           | 286kB 4.8MB/s eta 0:00:01\r\u001b[K     |█████████████████████▉          | 296kB 4.8MB/s eta 0:00:01\r\u001b[K     |██████████████████████▋         | 307kB 4.8MB/s eta 0:00:01\r\u001b[K     |███████████████████████▍        | 317kB 4.8MB/s eta 0:00:01\r\u001b[K     |████████████████████████        | 327kB 4.8MB/s eta 0:00:01\r\u001b[K     |████████████████████████▉       | 337kB 4.8MB/s eta 0:00:01\r\u001b[K     |█████████████████████████▋      | 348kB 4.8MB/s eta 0:00:01\r\u001b[K     |██████████████████████████▍     | 358kB 4.8MB/s eta 0:00:01\r\u001b[K     |███████████████████████████     | 368kB 4.8MB/s eta 0:00:01\r\u001b[K     |███████████████████████████▉    | 378kB 4.8MB/s eta 0:00:01\r\u001b[K     |████████████████████████████▋   | 389kB 4.8MB/s eta 0:00:01\r\u001b[K     |█████████████████████████████▍  | 399kB 4.8MB/s eta 0:00:01\r\u001b[K     |██████████████████████████████▏ | 409kB 4.8MB/s eta 0:00:01\r\u001b[K     |██████████████████████████████▉ | 419kB 4.8MB/s eta 0:00:01\r\u001b[K     |███████████████████████████████▋| 430kB 4.8MB/s eta 0:00:01\r\u001b[K     |████████████████████████████████| 440kB 4.8MB/s \n",
            "\u001b[?25hRequirement already satisfied: numpy in /usr/local/lib/python3.6/dist-packages (from pytorchcv) (1.18.4)\n",
            "Requirement already satisfied: requests in /usr/local/lib/python3.6/dist-packages (from pytorchcv) (2.23.0)\n",
            "Requirement already satisfied: certifi>=2017.4.17 in /usr/local/lib/python3.6/dist-packages (from requests->pytorchcv) (2020.4.5.1)\n",
            "Requirement already satisfied: idna<3,>=2.5 in /usr/local/lib/python3.6/dist-packages (from requests->pytorchcv) (2.9)\n",
            "Requirement already satisfied: urllib3!=1.25.0,!=1.25.1,<1.26,>=1.21.1 in /usr/local/lib/python3.6/dist-packages (from requests->pytorchcv) (1.24.3)\n",
            "Requirement already satisfied: chardet<4,>=3.0.2 in /usr/local/lib/python3.6/dist-packages (from requests->pytorchcv) (3.0.4)\n",
            "Installing collected packages: pytorchcv\n",
            "Successfully installed pytorchcv-0.0.58\n",
            "Collecting powerlaw\n",
            "  Downloading https://files.pythonhosted.org/packages/d5/4e/3ceab890fafff8e78a5fd7f5340c232c38b21d181fcd32d7a31079db3646/powerlaw-1.4.6.tar.gz\n",
            "Requirement already satisfied: scipy in /usr/local/lib/python3.6/dist-packages (from powerlaw) (1.4.1)\n",
            "Requirement already satisfied: numpy in /usr/local/lib/python3.6/dist-packages (from powerlaw) (1.18.4)\n",
            "Requirement already satisfied: matplotlib in /usr/local/lib/python3.6/dist-packages (from powerlaw) (3.2.1)\n",
            "Requirement already satisfied: mpmath in /usr/local/lib/python3.6/dist-packages (from powerlaw) (1.1.0)\n",
            "Requirement already satisfied: kiwisolver>=1.0.1 in /usr/local/lib/python3.6/dist-packages (from matplotlib->powerlaw) (1.2.0)\n",
            "Requirement already satisfied: pyparsing!=2.0.4,!=2.1.2,!=2.1.6,>=2.0.1 in /usr/local/lib/python3.6/dist-packages (from matplotlib->powerlaw) (2.4.7)\n",
            "Requirement already satisfied: cycler>=0.10 in /usr/local/lib/python3.6/dist-packages (from matplotlib->powerlaw) (0.10.0)\n",
            "Requirement already satisfied: python-dateutil>=2.1 in /usr/local/lib/python3.6/dist-packages (from matplotlib->powerlaw) (2.8.1)\n",
            "Requirement already satisfied: six in /usr/local/lib/python3.6/dist-packages (from cycler>=0.10->matplotlib->powerlaw) (1.12.0)\n",
            "Building wheels for collected packages: powerlaw\n",
            "  Building wheel for powerlaw (setup.py) ... \u001b[?25l\u001b[?25hdone\n",
            "  Created wheel for powerlaw: filename=powerlaw-1.4.6-cp36-none-any.whl size=24787 sha256=bc554e9c67dfb4bc1aa0d23e743cb511575dace16160d26b7f305e21ff62fd57\n",
            "  Stored in directory: /root/.cache/pip/wheels/e0/27/02/08d0e2865072bfd8d7c655e290521e3feca3fc22f1ac460601\n",
            "Successfully built powerlaw\n",
            "Installing collected packages: powerlaw\n",
            "Successfully installed powerlaw-1.4.6\n",
            "time: 6.23 s\n"
          ],
          "name": "stdout"
        }
      ]
    },
    {
      "cell_type": "code",
      "metadata": {
        "id": "81Phn2n_jEvO",
        "colab_type": "code",
        "colab": {
          "base_uri": "https://localhost:8080/",
          "height": 238
        },
        "outputId": "9bdee3b1-f27c-48c0-871b-eb7a2a45b701"
      },
      "source": [
        "!pip install GPUtil\n",
        "import GPUtil\n",
        "\n",
        "\n",
        "GPUtil.showUtilization()"
      ],
      "execution_count": 5,
      "outputs": [
        {
          "output_type": "stream",
          "text": [
            "Collecting GPUtil\n",
            "  Downloading https://files.pythonhosted.org/packages/ed/0e/5c61eedde9f6c87713e89d794f01e378cfd9565847d4576fa627d758c554/GPUtil-1.4.0.tar.gz\n",
            "Building wheels for collected packages: GPUtil\n",
            "  Building wheel for GPUtil (setup.py) ... \u001b[?25l\u001b[?25hdone\n",
            "  Created wheel for GPUtil: filename=GPUtil-1.4.0-cp36-none-any.whl size=7413 sha256=76133e2c70801ebfd078dbd7a38c838596a8fe124b1928d8291e222e85531a6b\n",
            "  Stored in directory: /root/.cache/pip/wheels/3d/77/07/80562de4bb0786e5ea186911a2c831fdd0018bda69beab71fd\n",
            "Successfully built GPUtil\n",
            "Installing collected packages: GPUtil\n",
            "Successfully installed GPUtil-1.4.0\n",
            "| ID | GPU | MEM |\n",
            "------------------\n",
            "|  0 |  0% |  0% |\n",
            "time: 3.16 s\n"
          ],
          "name": "stdout"
        }
      ]
    },
    {
      "cell_type": "code",
      "metadata": {
        "id": "XQGrAUZLSEy_",
        "colab_type": "code",
        "colab": {
          "base_uri": "https://localhost:8080/",
          "height": 139
        },
        "outputId": "0a92b2ba-c61f-42f4-ff5a-11208e581daa"
      },
      "source": [
        "from google.colab import drive\n",
        "drive.mount('/content/drive')\n"
      ],
      "execution_count": 6,
      "outputs": [
        {
          "output_type": "stream",
          "text": [
            "Go to this URL in a browser: https://accounts.google.com/o/oauth2/auth?client_id=947318989803-6bn6qk8qdgf4n4g3pfee6491hc0brc4i.apps.googleusercontent.com&redirect_uri=urn%3aietf%3awg%3aoauth%3a2.0%3aoob&response_type=code&scope=email%20https%3a%2f%2fwww.googleapis.com%2fauth%2fdocs.test%20https%3a%2f%2fwww.googleapis.com%2fauth%2fdrive%20https%3a%2f%2fwww.googleapis.com%2fauth%2fdrive.photos.readonly%20https%3a%2f%2fwww.googleapis.com%2fauth%2fpeopleapi.readonly\n",
            "\n",
            "Enter your authorization code:\n",
            "··········\n",
            "Mounted at /content/drive\n",
            "time: 5min 3s\n"
          ],
          "name": "stdout"
        }
      ]
    },
    {
      "cell_type": "code",
      "metadata": {
        "id": "aRar-xgtIYyF",
        "colab_type": "code",
        "colab": {
          "base_uri": "https://localhost:8080/",
          "height": 34
        },
        "outputId": "1c116c55-77ca-4e72-d30d-e1cd1f6951c3"
      },
      "source": [
        "Jdir =  '/content/drive/My Drive/jacobians'"
      ],
      "execution_count": 7,
      "outputs": [
        {
          "output_type": "stream",
          "text": [
            "time: 970 µs\n"
          ],
          "name": "stdout"
        }
      ]
    },
    {
      "cell_type": "code",
      "metadata": {
        "id": "koMMhkFpIbJ3",
        "colab_type": "code",
        "colab": {
          "base_uri": "https://localhost:8080/",
          "height": 765
        },
        "outputId": "7693d47b-b3a1-4366-8adb-1b67c0b02d22"
      },
      "source": [
        "#!mkdir \"$Jdir\"\n",
        "!ls \"$Jdir\""
      ],
      "execution_count": 8,
      "outputs": [
        {
          "output_type": "stream",
          "text": [
            "Jdiag_resnet20_cifar10_0.csv\t  Jdiag_resnet272bn_cifar10_3.csv\n",
            "Jdiag_resnet20_cifar10_1.csv\t  Jdiag_resnet272bn_cifar10_40.csv\n",
            "Jdiag_resnet20_cifar10_2.csv\t  Jdiag_resnet272bn_cifar10_41.csv\n",
            "Jdiag_resnet20_cifar10_3.csv\t  Jdiag_resnet272bn_cifar10_42.csv\n",
            "Jdiag_resnet20_cifar10_4.csv\t  Jdiag_resnet272bn_cifar10_43.csv\n",
            "Jdiag_resnet20_cifar10_5.csv\t  Jdiag_resnet272bn_cifar10_44.csv\n",
            "Jdiag_resnet20_cifar10_6.csv\t  Jdiag_resnet272bn_cifar10_45.csv\n",
            "Jdiag_resnet20_cifar10_7.csv\t  Jdiag_resnet272bn_cifar10_46.csv\n",
            "Jdiag_resnet20_cifar10_8.csv\t  Jdiag_resnet272bn_cifar10_47.csv\n",
            "Jdiag_resnet20_cifar10_9.csv\t  Jdiag_resnet272bn_cifar10_48.csv\n",
            "Jdiag_resnet272bn_cifar10_0.csv   Jdiag_resnet272bn_cifar10_49.csv\n",
            "Jdiag_resnet272bn_cifar10_10.csv  Jdiag_resnet272bn_cifar10_4.csv\n",
            "Jdiag_resnet272bn_cifar10_11.csv  Jdiag_resnet272bn_cifar10_5.csv\n",
            "Jdiag_resnet272bn_cifar10_12.csv  Jdiag_resnet272bn_cifar10_6.csv\n",
            "Jdiag_resnet272bn_cifar10_13.csv  Jdiag_resnet272bn_cifar10_7.csv\n",
            "Jdiag_resnet272bn_cifar10_14.csv  Jdiag_resnet272bn_cifar10_8.csv\n",
            "Jdiag_resnet272bn_cifar10_15.csv  Jdiag_resnet272bn_cifar10_9.csv\n",
            "Jdiag_resnet272bn_cifar10_16.csv  Jdiag_resnet542bn_cifar10_0.csv\n",
            "Jdiag_resnet272bn_cifar10_17.csv  Jdiag_resnet542bn_cifar10_10.csv\n",
            "Jdiag_resnet272bn_cifar10_18.csv  Jdiag_resnet542bn_cifar10_11.csv\n",
            "Jdiag_resnet272bn_cifar10_19.csv  Jdiag_resnet542bn_cifar10_12.csv\n",
            "Jdiag_resnet272bn_cifar10_1.csv   Jdiag_resnet542bn_cifar10_13.csv\n",
            "Jdiag_resnet272bn_cifar10_20.csv  Jdiag_resnet542bn_cifar10_14.csv\n",
            "Jdiag_resnet272bn_cifar10_21.csv  Jdiag_resnet542bn_cifar10_1.csv\n",
            "Jdiag_resnet272bn_cifar10_22.csv  Jdiag_resnet542bn_cifar10_2.csv\n",
            "Jdiag_resnet272bn_cifar10_23.csv  Jdiag_resnet542bn_cifar10_3.csv\n",
            "Jdiag_resnet272bn_cifar10_24.csv  Jdiag_resnet542bn_cifar10_4.csv\n",
            "Jdiag_resnet272bn_cifar10_25.csv  Jdiag_resnet542bn_cifar10_5.csv\n",
            "Jdiag_resnet272bn_cifar10_26.csv  Jdiag_resnet542bn_cifar10_6.csv\n",
            "Jdiag_resnet272bn_cifar10_27.csv  Jdiag_resnet542bn_cifar10_7.csv\n",
            "Jdiag_resnet272bn_cifar10_28.csv  Jdiag_resnet542bn_cifar10_8.csv\n",
            "Jdiag_resnet272bn_cifar10_29.csv  Jdiag_resnet542bn_cifar10_9.csv\n",
            "Jdiag_resnet272bn_cifar10_2.csv   Jdiag_resnet56_cifar10_0.csv\n",
            "Jdiag_resnet272bn_cifar10_30.csv  Jdiag_resnet56_cifar10_1.csv\n",
            "Jdiag_resnet272bn_cifar10_31.csv  Jdiag_resnet56_cifar10_2.csv\n",
            "Jdiag_resnet272bn_cifar10_32.csv  Jdiag_resnet56_cifar10_3.csv\n",
            "Jdiag_resnet272bn_cifar10_33.csv  Jdiag_resnet56_cifar10_4.csv\n",
            "Jdiag_resnet272bn_cifar10_34.csv  Jdiag_resnet56_cifar10_5.csv\n",
            "Jdiag_resnet272bn_cifar10_35.csv  Jdiag_resnet56_cifar10_6.csv\n",
            "Jdiag_resnet272bn_cifar10_36.csv  Jdiag_resnet56_cifar10_7.csv\n",
            "Jdiag_resnet272bn_cifar10_37.csv  Jdiag_resnet56_cifar10_8.csv\n",
            "Jdiag_resnet272bn_cifar10_38.csv  Jdiag_resnet56_cifar10_9.csv\n",
            "Jdiag_resnet272bn_cifar10_39.csv\n",
            "time: 1.49 s\n"
          ],
          "name": "stdout"
        }
      ]
    },
    {
      "cell_type": "code",
      "metadata": {
        "id": "IYTykGa3Zy1a",
        "colab_type": "code",
        "colab": {
          "base_uri": "https://localhost:8080/",
          "height": 51
        },
        "outputId": "22b622d0-e73d-4d1a-e291-a0f4f7b53d34"
      },
      "source": [
        "!cd \"$Jdir\";pwd"
      ],
      "execution_count": 9,
      "outputs": [
        {
          "output_type": "stream",
          "text": [
            "/content/drive/My Drive/jacobians\n",
            "time: 1.24 s\n"
          ],
          "name": "stdout"
        }
      ]
    },
    {
      "cell_type": "code",
      "metadata": {
        "id": "0rBl2Oq6DQu9",
        "colab_type": "code",
        "outputId": "4739e10b-546b-455a-f188-503e0b7d29e0",
        "colab": {
          "base_uri": "https://localhost:8080/",
          "height": 51
        }
      },
      "source": [
        "!import os\n",
        "import time\n",
        "\n",
        "import numpy as np\n",
        "import pandas as pd\n",
        "\n",
        "import torch\n",
        "import torch.nn as nn\n",
        "import torch.nn.functional as F\n",
        "from torch.utils.data import DataLoader\n",
        "from torch.utils.data.dataset import Subset\n",
        "\n",
        "from torchvision import datasets\n",
        "from torchvision import transforms\n",
        "\n",
        "import matplotlib.pyplot as plt\n",
        "from PIL import Image\n",
        "\n",
        "import math\n",
        "import copy\n"
      ],
      "execution_count": 10,
      "outputs": [
        {
          "output_type": "stream",
          "text": [
            "/bin/bash: import: command not found\n",
            "time: 4.36 s\n"
          ],
          "name": "stdout"
        }
      ]
    },
    {
      "cell_type": "code",
      "metadata": {
        "id": "XcXIRwl3NGhs",
        "colab_type": "code",
        "outputId": "4674eb9b-410e-442b-bd27-6334e9bf1567",
        "colab": {
          "base_uri": "https://localhost:8080/",
          "height": 34
        }
      },
      "source": [
        "def get_data(batch_size=100, train_range=None, test_range=None):\n",
        "  normalize = transforms.Normalize(mean=[x/255.0 for x in [125.3, 123.0, 113.9]], std=[x / 255.0 for x in [63.0, 62.1, 66.7]])\n",
        "  transform_train = transforms.Compose([\n",
        "          transforms.ToTensor(),\n",
        "          normalize])\n",
        "  transform_test = transforms.Compose([\n",
        "        transforms.ToTensor(),\n",
        "        normalize])\n",
        "  train_dataset = datasets.CIFAR10(root='data', \n",
        "                                train=True, \n",
        "                                transform=transform_train,\n",
        "                                download=True)\n",
        "  test_dataset = datasets.CIFAR10(root='data', \n",
        "                                train=False, \n",
        "                                transform=transform_test,\n",
        "                                download=True)  \n",
        "  \n",
        "  if train_range:\n",
        "      train_dataset = torch.utils.data.Subset(train_dataset, train_range)\n",
        "\n",
        "  if test_range:\n",
        "      teat_dataset = torch.utils.data.Subset(test_dataset, test_range)\n",
        "\n",
        "\n",
        "  train_loader = DataLoader(dataset=train_dataset, \n",
        "                          batch_size=batch_size,\n",
        "                          num_workers=4,\n",
        "                          shuffle=False)\n",
        "  test_loader = DataLoader(dataset=test_dataset, \n",
        "                         batch_size=batch_size,\n",
        "                         num_workers=4,\n",
        "                         shuffle=False)\n",
        "  return train_dataset, test_dataset, train_loader, test_loader"
      ],
      "execution_count": 11,
      "outputs": [
        {
          "output_type": "stream",
          "text": [
            "time: 10.1 ms\n"
          ],
          "name": "stdout"
        }
      ]
    },
    {
      "cell_type": "markdown",
      "metadata": {
        "id": "DmtV_hb3ShMf",
        "colab_type": "text"
      },
      "source": [
        "### $J^{T}J$ Diagonal elements\n",
        "\n"
      ]
    },
    {
      "cell_type": "code",
      "metadata": {
        "id": "ay4hgME-SgaV",
        "colab_type": "code",
        "outputId": "2d4304d3-846b-481c-860b-f2843adad194",
        "colab": {
          "base_uri": "https://localhost:8080/",
          "height": 34
        }
      },
      "source": [
        "\n",
        "def jacobian_diagonal(model, data_loader, batch_size, num_classes=10, device='cuda:0', data_dim=3*32*32):\n",
        "  '''compute J(J*v) diagnonal elements , where J is the jacobian,'''\n",
        "\n",
        "  # compute Jdiag\n",
        "  Jdiag = []\n",
        "  model = model.to(device)\n",
        "\n",
        "  for batch, data in enumerate(data_loader):\n",
        "    print(batch)\n",
        "    features, _ = data\n",
        "    features = features.to(device)\n",
        "\n",
        "    start_time = time.time()\n",
        "    J = torch.autograd.functional.jacobian(model, features)# create_graph=True)\n",
        "    #print(\"--- %s J tool seconds ---\" % (time.time() - start_time))\n",
        "\n",
        "    start_time = time.time()\n",
        "    J = J.view(batch_size,num_classes*batch_size*data_dim)\n",
        "    Jt = J.clone().transpose_(0,1)\n",
        "    batch_diag = torch.mm(J,Jt).to('cpu')\n",
        "    #print(\"--- %s JJ took seconds ---\" % (time.time() - start_time))\n",
        "    \n",
        "    del J, Jt\n",
        "    torch.cuda.empty_cache()\n",
        "\n",
        "    for ib in range(batch_size):\n",
        "      Jdiag.append(batch_diag[ib, ib].to('cpu').numpy())\n",
        "\n",
        "    del batch_diag\n",
        "    torch.cuda.empty_cache()\n",
        "\n",
        "  return np.array(Jdiag)\n"
      ],
      "execution_count": 12,
      "outputs": [
        {
          "output_type": "stream",
          "text": [
            "time: 12 ms\n"
          ],
          "name": "stdout"
        }
      ]
    },
    {
      "cell_type": "markdown",
      "metadata": {
        "id": "AlaD-n5OsIcO",
        "colab_type": "text"
      },
      "source": [
        "### ResNet "
      ]
    },
    {
      "cell_type": "code",
      "metadata": {
        "id": "nT8SeVRcyv2R",
        "colab_type": "code",
        "outputId": "f11d3994-e8be-495c-dd84-13a36c5cc719",
        "colab": {
          "base_uri": "https://localhost:8080/",
          "height": 170
        }
      },
      "source": [
        "import pytorchcv\n",
        "from pytorchcv.model_provider import get_model as ptcv_get_model\n",
        "\n",
        "import powerlaw\n",
        "for modelname in pytorchcv.model_provider._models.keys():\n",
        "    if modelname.startswith('resnet') and modelname.endswith('cifar10'):\n",
        "        print(modelname)"
      ],
      "execution_count": 13,
      "outputs": [
        {
          "output_type": "stream",
          "text": [
            "resnet20_cifar10\n",
            "resnet56_cifar10\n",
            "resnet110_cifar10\n",
            "resnet164bn_cifar10\n",
            "resnet272bn_cifar10\n",
            "resnet542bn_cifar10\n",
            "resnet1001_cifar10\n",
            "resnet1202_cifar10\n",
            "time: 88.4 ms\n"
          ],
          "name": "stdout"
        }
      ]
    },
    {
      "cell_type": "code",
      "metadata": {
        "id": "YGXLYhowgjRX",
        "colab_type": "code",
        "colab": {
          "base_uri": "https://localhost:8080/",
          "height": 117,
          "referenced_widgets": [
            "1c95a8fb0e4a4564a9f3ac34507b40a4",
            "9f450b00e23e4145bff6d38d20e1a5f2",
            "5e2aebc0ac1c447c981c536307463353",
            "3ac030fba76f4cb6b6b2b0a19d084454",
            "efa90d46bc674fecaa5c2652fda44ec0",
            "0f20ada3f9334c6f8ba4507ee89af2c4",
            "0858a17136e147ce8119e400ba58fa00",
            "3f66d0e2349a4759a69004764d186195"
          ]
        },
        "outputId": "75cc2534-42d8-47b2-acf3-96a8179f010b"
      },
      "source": [
        "num_classes= 10\n",
        "batch_size = 100\n",
        "device = 'cuda:0'\n",
        "\n",
        "num_data = 50000\n",
        "train_dataset, _, train_loader, _ = get_data(batch_size=batch_size, train_range=range(1000))"
      ],
      "execution_count": 14,
      "outputs": [
        {
          "output_type": "stream",
          "text": [
            "Downloading https://www.cs.toronto.edu/~kriz/cifar-10-python.tar.gz to data/cifar-10-python.tar.gz\n"
          ],
          "name": "stdout"
        },
        {
          "output_type": "display_data",
          "data": {
            "application/vnd.jupyter.widget-view+json": {
              "model_id": "1c95a8fb0e4a4564a9f3ac34507b40a4",
              "version_minor": 0,
              "version_major": 2
            },
            "text/plain": [
              "HBox(children=(FloatProgress(value=1.0, bar_style='info', max=1.0), HTML(value='')))"
            ]
          },
          "metadata": {
            "tags": []
          }
        },
        {
          "output_type": "stream",
          "text": [
            "Extracting data/cifar-10-python.tar.gz to data\n",
            "Files already downloaded and verified\n",
            "time: 6.83 s\n"
          ],
          "name": "stdout"
        }
      ]
    },
    {
      "cell_type": "code",
      "metadata": {
        "id": "OOrW3nihw7aP",
        "colab_type": "code",
        "outputId": "d32af0ec-849d-41b1-fcbe-5dbfdf8fce9c",
        "colab": {
          "base_uri": "https://localhost:8080/",
          "height": 1000
        }
      },
      "source": [
        "import powerlaw\n",
        "for modelname in pytorchcv.model_provider._models.keys():\n",
        "    if modelname == thismodel:\n",
        "      print(\"this model found {}\".format(modelname))\n",
        "      for num in range(inum_start, 10):\n",
        "        print(\"num {}\".format(num))\n",
        "        istart = num*5000\n",
        "        iend = (num+1)*5000\n",
        "        train_dataset, _, train_loader, _ = get_data(batch_size=batch_size, train_range=range(istart, iend))\n",
        "\n",
        "        model = ptcv_get_model(modelname, pretrained=True)\n",
        "        Jdiag = jacobian_diagonal(model, train_loader, batch_size)\n",
        "        \n",
        "        results = powerlaw.Fit(Jdiag)\n",
        "        alpha = results.power_law.alpha\n",
        "        print(modelname,alpha)\n",
        "\n",
        "        plt.hist(Jdiag, bins=100, density=True)\n",
        "        plt.title(modelname)\n",
        "        plt.show()\n",
        "\n",
        "        filename = \"{}/Jdiag_{}_{}.csv\".format(Jdir, modelname, num)\n",
        "        np.savetxt(filename, Jdiag, delimiter='\\t')"
      ],
      "execution_count": 0,
      "outputs": [
        {
          "output_type": "stream",
          "text": [
            "this model found resnet164bn_cifar10\n",
            "num 0\n",
            "Files already downloaded and verified\n",
            "Files already downloaded and verified\n",
            "Downloading /root/.torch/models/resnet164bn_cifar10-0368-74ae9f4b.pth.zip from https://github.com/osmr/imgclsmob/releases/download/v0.0.179/resnet164bn_cifar10-0368-74ae9f4b.pth.zip...\n",
            "0\n",
            "1\n",
            "2\n",
            "3\n",
            "4\n",
            "5\n",
            "6\n",
            "7\n",
            "8\n",
            "9\n",
            "10\n",
            "11\n",
            "12\n",
            "13\n",
            "14\n",
            "15\n",
            "16\n",
            "17\n",
            "18\n",
            "19\n",
            "20\n",
            "21\n",
            "22\n",
            "23\n",
            "24\n",
            "25\n",
            "26\n",
            "27\n",
            "28\n",
            "29\n",
            "30\n",
            "31\n",
            "32\n",
            "33\n",
            "34\n",
            "35\n",
            "36\n",
            "37\n",
            "38\n",
            "39\n",
            "40\n",
            "41\n",
            "42\n",
            "43\n",
            "44\n",
            "45\n",
            "46\n",
            "47\n",
            "48\n",
            "49\n"
          ],
          "name": "stdout"
        },
        {
          "output_type": "stream",
          "text": [
            "Calculating best minimal value for power law fit\n",
            "/usr/local/lib/python3.6/dist-packages/powerlaw.py:700: RuntimeWarning: invalid value encountered in true_divide\n",
            "  (Theoretical_CDF * (1 - Theoretical_CDF))\n"
          ],
          "name": "stderr"
        },
        {
          "output_type": "stream",
          "text": [
            "resnet164bn_cifar10 3.8755941103970657\n"
          ],
          "name": "stdout"
        },
        {
          "output_type": "display_data",
          "data": {
            "image/png": "[encoded data removed]",
            "text/plain": [
              "<Figure size 432x288 with 1 Axes>"
            ]
          },
          "metadata": {
            "tags": [],
            "needs_background": "light"
          }
        },
        {
          "output_type": "stream",
          "text": [
            "num 1\n",
            "Files already downloaded and verified\n",
            "Files already downloaded and verified\n",
            "0\n",
            "1\n",
            "2\n",
            "3\n",
            "4\n",
            "5\n",
            "6\n",
            "7\n",
            "8\n",
            "9\n",
            "10\n",
            "11\n",
            "12\n",
            "13\n",
            "14\n",
            "15\n",
            "16\n",
            "17\n",
            "18\n",
            "19\n",
            "20\n",
            "21\n",
            "22\n",
            "23\n",
            "24\n",
            "25\n",
            "26\n",
            "27\n",
            "28\n",
            "29\n",
            "30\n",
            "31\n",
            "32\n",
            "33\n",
            "34\n",
            "35\n",
            "36\n",
            "37\n",
            "38\n",
            "39\n",
            "40\n",
            "41\n",
            "42\n",
            "43\n",
            "44\n",
            "45\n",
            "46\n",
            "47\n",
            "48\n",
            "49\n"
          ],
          "name": "stdout"
        },
        {
          "output_type": "stream",
          "text": [
            "Calculating best minimal value for power law fit\n"
          ],
          "name": "stderr"
        },
        {
          "output_type": "stream",
          "text": [
            "resnet164bn_cifar10 3.3496749581257617\n"
          ],
          "name": "stdout"
        },
        {
          "output_type": "display_data",
          "data": {
            "image/png": "[encoded data removed]",
            "text/plain": [
              "<Figure size 432x288 with 1 Axes>"
            ]
          },
          "metadata": {
            "tags": [],
            "needs_background": "light"
          }
        },
        {
          "output_type": "stream",
          "text": [
            "num 2\n",
            "Files already downloaded and verified\n",
            "Files already downloaded and verified\n",
            "0\n",
            "1\n",
            "2\n",
            "3\n",
            "4\n",
            "5\n",
            "6\n",
            "7\n",
            "8\n",
            "9\n",
            "10\n",
            "11\n",
            "12\n",
            "13\n",
            "14\n",
            "15\n",
            "16\n",
            "17\n",
            "18\n",
            "19\n",
            "20\n",
            "21\n",
            "22\n",
            "23\n",
            "24\n",
            "25\n",
            "26\n",
            "27\n",
            "28\n",
            "29\n",
            "30\n",
            "31\n",
            "32\n",
            "33\n",
            "34\n",
            "35\n",
            "36\n",
            "37\n",
            "38\n",
            "39\n",
            "40\n",
            "41\n",
            "42\n",
            "43\n",
            "44\n",
            "45\n",
            "46\n",
            "47\n",
            "48\n",
            "49\n"
          ],
          "name": "stdout"
        },
        {
          "output_type": "stream",
          "text": [
            "Calculating best minimal value for power law fit\n"
          ],
          "name": "stderr"
        },
        {
          "output_type": "stream",
          "text": [
            "resnet164bn_cifar10 3.5266772708939604\n"
          ],
          "name": "stdout"
        },
        {
          "output_type": "display_data",
          "data": {
            "image/png": "[encoded data removed]",
            "text/plain": [
              "<Figure size 432x288 with 1 Axes>"
            ]
          },
          "metadata": {
            "tags": [],
            "needs_background": "light"
          }
        },
        {
          "output_type": "stream",
          "text": [
            "num 3\n",
            "Files already downloaded and verified\n",
            "Files already downloaded and verified\n",
            "0\n",
            "1\n",
            "2\n",
            "3\n",
            "4\n",
            "5\n",
            "6\n",
            "7\n",
            "8\n",
            "9\n",
            "10\n",
            "11\n",
            "12\n",
            "13\n",
            "14\n",
            "15\n",
            "16\n",
            "17\n",
            "18\n",
            "19\n",
            "20\n",
            "21\n",
            "22\n",
            "23\n",
            "24\n",
            "25\n",
            "26\n",
            "27\n",
            "28\n",
            "29\n",
            "30\n",
            "31\n",
            "32\n",
            "33\n",
            "34\n",
            "35\n",
            "36\n",
            "37\n",
            "38\n",
            "39\n",
            "40\n",
            "41\n",
            "42\n"
          ],
          "name": "stdout"
        }
      ]
    },
    {
      "cell_type": "code",
      "metadata": {
        "id": "5wo0zYgZurAr",
        "colab_type": "code",
        "colab": {}
      },
      "source": [
        "!ls \"$Jdir\"\n"
      ],
      "execution_count": 0,
      "outputs": []
    },
    {
      "cell_type": "code",
      "metadata": {
        "id": "b0aSUI_G2VYe",
        "colab_type": "code",
        "colab": {}
      },
      "source": [
        "!ls drive"
      ],
      "execution_count": 0,
      "outputs": []
    },
    {
      "cell_type": "code",
      "metadata": {
        "id": "QpHu7_6J_L08",
        "colab_type": "code",
        "colab": {}
      },
      "source": [
        ""
      ],
      "execution_count": 0,
      "outputs": []
    }
  ]
}