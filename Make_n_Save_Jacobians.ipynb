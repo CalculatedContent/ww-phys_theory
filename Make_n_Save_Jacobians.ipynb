{
  "nbformat": 4,
  "nbformat_minor": 0,
  "metadata": {
    "colab": {
      "name": "Make-n-Save-Jacobians.ipynb",
      "provenance": [],
      "collapsed_sections": [],
      "machine_shape": "hm",
      "authorship_tag": "ABX9TyORfCFowhqtgJ2caPXjhaHa",
      "include_colab_link": true
    },
    "kernelspec": {
      "name": "python3",
      "display_name": "Python 3"
    },
    "accelerator": "GPU"
  },
  "cells": [
    {
      "cell_type": "markdown",
      "metadata": {
        "id": "view-in-github",
        "colab_type": "text"
      },
      "source": [
        "<a href=\"https://colab.research.google.com/github/CalculatedContent/ww-phys_theory/blob/master/Make_n_Save_Jacobians.ipynb\" target=\"_parent\"><img src=\"https://colab.research.google.com/assets/colab-badge.svg\" alt=\"Open In Colab\"/></a>"
      ]
    },
    {
      "cell_type": "markdown",
      "metadata": {
        "id": "4YGlUg538lQ4",
        "colab_type": "text"
      },
      "source": [
        "## Notebook for generating Full Jacobian SVD over the test data for ResNet data \n",
        "\n",
        "DOES NOT SUPPORT BATCH\n",
        "\n",
        "Saves model JJ afterwords\n",
        "\n",
        "Can handle: ResnetXXX with CIFAR10, CIFAR100, SVHN\n",
        "\n",
        "i.e. CIFAR 10\n",
        "```\n",
        " resnet20_cifar10\n",
        " resnet56_cifar10\n",
        " resnet110_cifar10\n",
        " resnet164bn_cifar10\n",
        " resnet272bn_cifar10\n",
        "\n",
        "```\n",
        "\n",
        "### TODO:  Add make and save full J also\n",
        "\n",
        "\n",
        "\n",
        "\n"
      ]
    },
    {
      "cell_type": "code",
      "metadata": {
        "id": "4JBCL3Qj8pl6",
        "colab_type": "code",
        "colab": {
          "base_uri": "https://localhost:8080/",
          "height": 34
        },
        "outputId": "e4b5c5c1-9d72-4e76-ac4d-1965bedbf693"
      },
      "source": [
        "Jdir =  '/content/drive/My Drive/J_resnets_fullsvd'\n",
        "\n",
        "modelnames = ['resnet20_cifar10','resnet56_cifar10','resnet110_cifar10','resnet164bn_cifar10', 'resnet272bn_cifar10']\n",
        "num_classes = 10\n",
        "\n",
        "num_data = 10000\n",
        "\n",
        "device = 'cuda:0'\n"
      ],
      "execution_count": 54,
      "outputs": [
        {
          "output_type": "stream",
          "text": [
            "time: 1.73 ms\n"
          ],
          "name": "stdout"
        }
      ]
    },
    {
      "cell_type": "code",
      "metadata": {
        "id": "lSlymHmAIph5",
        "colab_type": "code",
        "colab": {
          "base_uri": "https://localhost:8080/",
          "height": 336
        },
        "outputId": "4164677d-df26-41f9-e943-090798ebe3f8"
      },
      "source": [
        "!pip install torch==1.5.0+cu101 torchvision==0.6.0+cu101 -f https://download.pytorch.org/whl/torch_stable.html"
      ],
      "execution_count": 2,
      "outputs": [
        {
          "output_type": "stream",
          "text": [
            "Looking in links: https://download.pytorch.org/whl/torch_stable.html\n",
            "Collecting torch==1.5.0+cu101\n",
            "\u001b[?25l  Downloading https://download.pytorch.org/whl/cu101/torch-1.5.0%2Bcu101-cp36-cp36m-linux_x86_64.whl (703.8MB)\n",
            "\u001b[K     |████████████████████████████████| 703.8MB 24kB/s \n",
            "\u001b[?25hCollecting torchvision==0.6.0+cu101\n",
            "\u001b[?25l  Downloading https://download.pytorch.org/whl/cu101/torchvision-0.6.0%2Bcu101-cp36-cp36m-linux_x86_64.whl (6.6MB)\n",
            "\u001b[K     |████████████████████████████████| 6.6MB 15.4MB/s \n",
            "\u001b[?25hRequirement already satisfied: future in /usr/local/lib/python3.6/dist-packages (from torch==1.5.0+cu101) (0.16.0)\n",
            "Requirement already satisfied: numpy in /usr/local/lib/python3.6/dist-packages (from torch==1.5.0+cu101) (1.18.5)\n",
            "Requirement already satisfied: pillow>=4.1.1 in /usr/local/lib/python3.6/dist-packages (from torchvision==0.6.0+cu101) (7.0.0)\n",
            "Installing collected packages: torch, torchvision\n",
            "  Found existing installation: torch 1.5.1+cu101\n",
            "    Uninstalling torch-1.5.1+cu101:\n",
            "      Successfully uninstalled torch-1.5.1+cu101\n",
            "  Found existing installation: torchvision 0.6.1+cu101\n",
            "    Uninstalling torchvision-0.6.1+cu101:\n",
            "      Successfully uninstalled torchvision-0.6.1+cu101\n",
            "Successfully installed torch-1.5.0+cu101 torchvision-0.6.0+cu101\n"
          ],
          "name": "stdout"
        }
      ]
    },
    {
      "cell_type": "code",
      "metadata": {
        "id": "hZplJz8WqCkD",
        "colab_type": "code",
        "colab": {
          "base_uri": "https://localhost:8080/",
          "height": 196
        },
        "outputId": "5f770c89-5ca0-4c7d-ab0b-c6b571754764"
      },
      "source": [
        "!pip install ipython-autotime\n",
        "%load_ext autotime"
      ],
      "execution_count": 3,
      "outputs": [
        {
          "output_type": "stream",
          "text": [
            "Collecting ipython-autotime\n",
            "  Downloading https://files.pythonhosted.org/packages/e6/f9/0626bbdb322e3a078d968e87e3b01341e7890544de891d0cb613641220e6/ipython-autotime-0.1.tar.bz2\n",
            "Building wheels for collected packages: ipython-autotime\n",
            "  Building wheel for ipython-autotime (setup.py) ... \u001b[?25l\u001b[?25hdone\n",
            "  Created wheel for ipython-autotime: filename=ipython_autotime-0.1-cp36-none-any.whl size=1832 sha256=e0dd933dc6a849e151d6006a3e4a3e954f2644363fd0a5822b582f03f49be88e\n",
            "  Stored in directory: /root/.cache/pip/wheels/d2/df/81/2db1e54bc91002cec40334629bc39cfa86dff540b304ebcd6e\n",
            "Successfully built ipython-autotime\n",
            "Installing collected packages: ipython-autotime\n",
            "Successfully installed ipython-autotime-0.1\n"
          ],
          "name": "stdout"
        }
      ]
    },
    {
      "cell_type": "code",
      "metadata": {
        "id": "XQGrAUZLSEy_",
        "colab_type": "code",
        "colab": {
          "base_uri": "https://localhost:8080/",
          "height": 143
        },
        "outputId": "93279500-b9c4-4fc4-ca31-e29bb50adbef"
      },
      "source": [
        "from google.colab import drive\n",
        "drive.mount('/content/drive')\n"
      ],
      "execution_count": 4,
      "outputs": [
        {
          "output_type": "stream",
          "text": [
            "Go to this URL in a browser: https://accounts.google.com/o/oauth2/auth?client_id=947318989803-6bn6qk8qdgf4n4g3pfee6491hc0brc4i.apps.googleusercontent.com&redirect_uri=urn%3aietf%3awg%3aoauth%3a2.0%3aoob&response_type=code&scope=email%20https%3a%2f%2fwww.googleapis.com%2fauth%2fdocs.test%20https%3a%2f%2fwww.googleapis.com%2fauth%2fdrive%20https%3a%2f%2fwww.googleapis.com%2fauth%2fdrive.photos.readonly%20https%3a%2f%2fwww.googleapis.com%2fauth%2fpeopleapi.readonly\n",
            "\n",
            "Enter your authorization code:\n",
            "··········\n",
            "Mounted at /content/drive\n",
            "time: 20.1 s\n"
          ],
          "name": "stdout"
        }
      ]
    },
    {
      "cell_type": "code",
      "metadata": {
        "id": "koMMhkFpIbJ3",
        "colab_type": "code",
        "colab": {
          "base_uri": "https://localhost:8080/",
          "height": 52
        },
        "outputId": "997596bd-67c6-4db4-e0e8-ab572fab936e"
      },
      "source": [
        "!ls -l \"$Jdir\"/*npy"
      ],
      "execution_count": 48,
      "outputs": [
        {
          "output_type": "stream",
          "text": [
            "ls: cannot access '/content/drive/My Drive/J_resnets_fullsvd/*npy': No such file or directory\n",
            "time: 748 ms\n"
          ],
          "name": "stdout"
        }
      ]
    },
    {
      "cell_type": "code",
      "metadata": {
        "id": "L9UHqdnHqCcv",
        "colab_type": "code",
        "colab": {
          "base_uri": "https://localhost:8080/",
          "height": 730
        },
        "outputId": "1a0fd063-b2c7-4d01-efa2-cdc1c8b06796"
      },
      "source": [
        "!pip install pytorchcv\n",
        "!pip install powerlaw\n",
        "!pip install GPUtil\n",
        "import GPUtil"
      ],
      "execution_count": 15,
      "outputs": [
        {
          "output_type": "stream",
          "text": [
            "Collecting pytorchcv\n",
            "\u001b[?25l  Downloading https://files.pythonhosted.org/packages/93/be/0bcd80dfc0d64e75ceb67836385402fece3c3b964c349172a21358813b25/pytorchcv-0.0.58-py2.py3-none-any.whl (435kB)\n",
            "\u001b[K     |████████████████████████████████| 440kB 2.8MB/s \n",
            "\u001b[?25hRequirement already satisfied: requests in /usr/local/lib/python3.6/dist-packages (from pytorchcv) (2.23.0)\n",
            "Requirement already satisfied: numpy in /usr/local/lib/python3.6/dist-packages (from pytorchcv) (1.18.5)\n",
            "Requirement already satisfied: urllib3!=1.25.0,!=1.25.1,<1.26,>=1.21.1 in /usr/local/lib/python3.6/dist-packages (from requests->pytorchcv) (1.24.3)\n",
            "Requirement already satisfied: chardet<4,>=3.0.2 in /usr/local/lib/python3.6/dist-packages (from requests->pytorchcv) (3.0.4)\n",
            "Requirement already satisfied: idna<3,>=2.5 in /usr/local/lib/python3.6/dist-packages (from requests->pytorchcv) (2.9)\n",
            "Requirement already satisfied: certifi>=2017.4.17 in /usr/local/lib/python3.6/dist-packages (from requests->pytorchcv) (2020.6.20)\n",
            "Installing collected packages: pytorchcv\n",
            "Successfully installed pytorchcv-0.0.58\n",
            "Collecting powerlaw\n",
            "  Downloading https://files.pythonhosted.org/packages/d5/4e/3ceab890fafff8e78a5fd7f5340c232c38b21d181fcd32d7a31079db3646/powerlaw-1.4.6.tar.gz\n",
            "Requirement already satisfied: scipy in /usr/local/lib/python3.6/dist-packages (from powerlaw) (1.4.1)\n",
            "Requirement already satisfied: numpy in /usr/local/lib/python3.6/dist-packages (from powerlaw) (1.18.5)\n",
            "Requirement already satisfied: matplotlib in /usr/local/lib/python3.6/dist-packages (from powerlaw) (3.2.2)\n",
            "Requirement already satisfied: mpmath in /usr/local/lib/python3.6/dist-packages (from powerlaw) (1.1.0)\n",
            "Requirement already satisfied: cycler>=0.10 in /usr/local/lib/python3.6/dist-packages (from matplotlib->powerlaw) (0.10.0)\n",
            "Requirement already satisfied: kiwisolver>=1.0.1 in /usr/local/lib/python3.6/dist-packages (from matplotlib->powerlaw) (1.2.0)\n",
            "Requirement already satisfied: pyparsing!=2.0.4,!=2.1.2,!=2.1.6,>=2.0.1 in /usr/local/lib/python3.6/dist-packages (from matplotlib->powerlaw) (2.4.7)\n",
            "Requirement already satisfied: python-dateutil>=2.1 in /usr/local/lib/python3.6/dist-packages (from matplotlib->powerlaw) (2.8.1)\n",
            "Requirement already satisfied: six in /usr/local/lib/python3.6/dist-packages (from cycler>=0.10->matplotlib->powerlaw) (1.12.0)\n",
            "Building wheels for collected packages: powerlaw\n",
            "  Building wheel for powerlaw (setup.py) ... \u001b[?25l\u001b[?25hdone\n",
            "  Created wheel for powerlaw: filename=powerlaw-1.4.6-cp36-none-any.whl size=24787 sha256=107ebe13903159717b2f6f145708cb628abfd53b7d6f889bc3d4965cd0d2103b\n",
            "  Stored in directory: /root/.cache/pip/wheels/e0/27/02/08d0e2865072bfd8d7c655e290521e3feca3fc22f1ac460601\n",
            "Successfully built powerlaw\n",
            "Installing collected packages: powerlaw\n",
            "Successfully installed powerlaw-1.4.6\n",
            "Collecting GPUtil\n",
            "  Downloading https://files.pythonhosted.org/packages/ed/0e/5c61eedde9f6c87713e89d794f01e378cfd9565847d4576fa627d758c554/GPUtil-1.4.0.tar.gz\n",
            "Building wheels for collected packages: GPUtil\n",
            "  Building wheel for GPUtil (setup.py) ... \u001b[?25l\u001b[?25hdone\n",
            "  Created wheel for GPUtil: filename=GPUtil-1.4.0-cp36-none-any.whl size=7413 sha256=482e207b444885f2978a1ed7b7505e049d21a59550cfbe7a3d7cb7ff161e3eaa\n",
            "  Stored in directory: /root/.cache/pip/wheels/3d/77/07/80562de4bb0786e5ea186911a2c831fdd0018bda69beab71fd\n",
            "Successfully built GPUtil\n",
            "Installing collected packages: GPUtil\n",
            "Successfully installed GPUtil-1.4.0\n",
            "time: 9.53 s\n"
          ],
          "name": "stdout"
        }
      ]
    },
    {
      "cell_type": "code",
      "metadata": {
        "id": "0rBl2Oq6DQu9",
        "colab_type": "code",
        "colab": {
          "base_uri": "https://localhost:8080/",
          "height": 52
        },
        "outputId": "f9a7bcf8-5a1e-4e5b-b6d3-33bd2fc33ec7"
      },
      "source": [
        "!import os\n",
        "import time\n",
        "\n",
        "import numpy as np\n",
        "import pandas as pd\n",
        "\n",
        "import torch\n",
        "import torch.nn as nn\n",
        "import torch.nn.functional as F\n",
        "from torch.utils.data import DataLoader\n",
        "from torch.utils.data.dataset import Subset\n",
        "\n",
        "from torchvision import datasets\n",
        "from torchvision import transforms\n",
        "\n",
        "import matplotlib.pyplot as plt\n",
        "from PIL import Image\n",
        "\n",
        "import math\n",
        "import copy\n",
        "\n",
        "import gc\n"
      ],
      "execution_count": 16,
      "outputs": [
        {
          "output_type": "stream",
          "text": [
            "/bin/bash: import: command not found\n",
            "time: 1.11 s\n"
          ],
          "name": "stdout"
        }
      ]
    },
    {
      "cell_type": "markdown",
      "metadata": {
        "id": "eRm23SSZoRyb",
        "colab_type": "text"
      },
      "source": [
        "### Run InstallPhysTheory notebook "
      ]
    },
    {
      "cell_type": "code",
      "metadata": {
        "id": "XcXIRwl3NGhs",
        "colab_type": "code",
        "colab": {
          "base_uri": "https://localhost:8080/",
          "height": 34
        },
        "outputId": "576d9097-cfff-41b4-e113-c6ed5a4c44dd"
      },
      "source": [
        "import sys\n",
        "sys.path.append(\"/content/drive/My Drive/Jacobian\")\n",
        "import jacobian as jac\n",
        "import utils"
      ],
      "execution_count": 17,
      "outputs": [
        {
          "output_type": "stream",
          "text": [
            "time: 682 ms\n"
          ],
          "name": "stdout"
        }
      ]
    },
    {
      "cell_type": "code",
      "metadata": {
        "id": "iOROJGbR14rP",
        "colab_type": "code",
        "colab": {
          "base_uri": "https://localhost:8080/",
          "height": 34
        },
        "outputId": "901a1413-d7fe-437d-dc42-ffff208108ad"
      },
      "source": [
        "def read_batched_JJMat(modelname, verbose=False):\n",
        "\n",
        "  if verbose:\n",
        "    print(\"Reading batched JJBlocks for \", modelname)\n",
        "    \n",
        "  JJMat = None\n",
        "  import os, glob\n",
        "  os.chdir(Jdir)\n",
        "  for filename in glob.glob(\"Jfull_{}__*.csv\".format(modelname)):\n",
        "    if verbose:\n",
        "      print(filename) \n",
        "\n",
        "    JJBlock = np.loadtxt(filename)\n",
        "    JJMat = np.vstack([JJMat, JJBlock]) if JJMat is not None else JJBlock\n",
        "\n",
        "  return JJMat"
      ],
      "execution_count": 26,
      "outputs": [
        {
          "output_type": "stream",
          "text": [
            "time: 4.01 ms\n"
          ],
          "name": "stdout"
        }
      ]
    },
    {
      "cell_type": "code",
      "metadata": {
        "id": "jk7sdg38Ujgb",
        "colab_type": "code",
        "colab": {
          "base_uri": "https://localhost:8080/",
          "height": 105
        },
        "outputId": "2b81fe2a-92fa-41a1-b154-776630e4dbba"
      },
      "source": [
        "!ls \"$Jdir\"/*cifar10__50*csv"
      ],
      "execution_count": 45,
      "outputs": [
        {
          "output_type": "stream",
          "text": [
            "'/content/drive/My Drive/J_resnets_fullsvd/Jfull_resnet1001_cifar10__50.csv'\n",
            "'/content/drive/My Drive/J_resnets_fullsvd/Jfull_resnet1202_cifar10__50.csv'\n",
            "'/content/drive/My Drive/J_resnets_fullsvd/Jfull_resnet20_cifar10__50.csv'\n",
            "'/content/drive/My Drive/J_resnets_fullsvd/Jfull_resnet542bn_cifar10__50.csv'\n",
            "time: 1.05 s\n"
          ],
          "name": "stdout"
        }
      ]
    },
    {
      "cell_type": "code",
      "metadata": {
        "id": "UMx_m3Gi_X__",
        "colab_type": "code",
        "colab": {
          "base_uri": "https://localhost:8080/",
          "height": 34
        },
        "outputId": "6f5cd1a1-e65d-44f0-989f-ecc30ed5c111"
      },
      "source": [
        "def jacobian_full(model, data_loader, batch_size, num_classes=10, device='cuda:0'): \n",
        "  '''compute a full of J^{T}J Jacobian directly.  '''\n",
        "\n",
        "  model.eval()\n",
        "  model = model.to(device)\n",
        "\n",
        "  J_right = jac.construct_diagJ(model, test_loader, batch_size=batch_size, device=device) \n",
        "  J_left = J_right.transpose(1,0)\n",
        "  JJ = torch.mm(J_right, J_left)\n",
        "  JJMat = JJ.detach().cpu().numpy()\n",
        "\n",
        "  del J_right, J_left, JJ\n",
        "  gc.collect()\n",
        "  torch.cuda.empty_cache()\n",
        "\n",
        "  return JJMat"
      ],
      "execution_count": 49,
      "outputs": [
        {
          "output_type": "stream",
          "text": [
            "time: 5.64 ms\n"
          ],
          "name": "stdout"
        }
      ]
    },
    {
      "cell_type": "markdown",
      "metadata": {
        "id": "AlaD-n5OsIcO",
        "colab_type": "text"
      },
      "source": [
        "### ResNet "
      ]
    },
    {
      "cell_type": "code",
      "metadata": {
        "id": "nT8SeVRcyv2R",
        "colab_type": "code",
        "colab": {
          "base_uri": "https://localhost:8080/",
          "height": 34
        },
        "outputId": "d2da9e49-376e-4889-aef5-3e5d10dbd4a9"
      },
      "source": [
        "import pytorchcv\n",
        "from pytorchcv.model_provider import get_model as ptcv_get_model"
      ],
      "execution_count": 50,
      "outputs": [
        {
          "output_type": "stream",
          "text": [
            "time: 873 µs\n"
          ],
          "name": "stdout"
        }
      ]
    },
    {
      "cell_type": "markdown",
      "metadata": {
        "id": "b6pvm9Wh1MJz",
        "colab_type": "text"
      },
      "source": [
        "### Compute JJ, in batches or all at once\n"
      ]
    },
    {
      "cell_type": "code",
      "metadata": {
        "id": "XPJqJb2yZINy",
        "colab_type": "code",
        "colab": {
          "base_uri": "https://localhost:8080/",
          "height": 34
        },
        "outputId": "c160d974-4245-48fd-93fc-5de5d823c686"
      },
      "source": [
        "def get_datasets(thismodel, batch_size):\n",
        "  print(\"getting dataset for \", thismodel)\n",
        "  if thismodel.endswith('cifar100'):\n",
        "    print(\"loading cifar100\")\n",
        "    train_dataset = datasets.CIFAR100(\n",
        "      root='data', \n",
        "      train=True, \n",
        "      transform=transforms.ToTensor(),\n",
        "      download=True)\n",
        "    test_dataset = datasets.CIFAR100(\n",
        "      root='data', \n",
        "      train=False, \n",
        "      transform=transforms.ToTensor(),\n",
        "      download=True) \n",
        " \n",
        "    train_loader = DataLoader(\n",
        "      dataset=train_dataset, \n",
        "      batch_size=batch_size,\n",
        "      num_workers=4,\n",
        "      shuffle=False)\n",
        "    test_loader = DataLoader(\n",
        "      dataset=test_dataset, \n",
        "      batch_size=batch_size,\n",
        "      num_workers=4,\n",
        "      shuffle=False)\n",
        "\n",
        "  else:\n",
        "    print(\"loading cifar10\")\n",
        "    train_dataset, test_dataset, train_loader, test_loader = utils.get_data(batch_size=batch_size)\n",
        "\n",
        "      \n",
        "  return train_dataset, test_dataset, train_loader, test_loader"
      ],
      "execution_count": 51,
      "outputs": [
        {
          "output_type": "stream",
          "text": [
            "time: 7.11 ms\n"
          ],
          "name": "stdout"
        }
      ]
    },
    {
      "cell_type": "code",
      "metadata": {
        "id": "OOrW3nihw7aP",
        "colab_type": "code",
        "colab": {
          "base_uri": "https://localhost:8080/",
          "height": 336
        },
        "outputId": "82152ec8-92b3-46d4-c22f-c46911f18559"
      },
      "source": [
        "print(thismodel)\n",
        "train_dataset, test_dataset, train_loader, test_loader = get_datasets(thismodel, batch_size)#utils.get_data(batch_size=batch_size)\n",
        "#train_dataset, test_dataset, train_loader, test_loader = utils.get_data(batch_size=batch_size)\n",
        "\n",
        "print(test_dataset)\n",
        "GPUtil.showUtilization()\n"
      ],
      "execution_count": 52,
      "outputs": [
        {
          "output_type": "stream",
          "text": [
            "resnet56_cifar10\n",
            "getting dataset for  resnet56_cifar10\n",
            "loading cifar10\n",
            "Files already downloaded and verified\n",
            "Files already downloaded and verified\n",
            "Dataset CIFAR10\n",
            "    Number of datapoints: 10000\n",
            "    Root location: data\n",
            "    Split: Test\n",
            "    StandardTransform\n",
            "Transform: Compose(\n",
            "               ToTensor()\n",
            "               Normalize(mean=[0.4913725490196078, 0.4823529411764706, 0.4466666666666667], std=[0.24705882352941178, 0.24352941176470588, 0.2615686274509804])\n",
            "           )\n",
            "| ID | GPU | MEM |\n",
            "------------------\n",
            "|  0 |  0% |  0% |\n",
            "time: 6.03 s\n"
          ],
          "name": "stdout"
        }
      ]
    },
    {
      "cell_type": "code",
      "metadata": {
        "id": "nZsgnzt1co7q",
        "colab_type": "code",
        "colab": {
          "base_uri": "https://localhost:8080/",
          "height": 232
        },
        "outputId": "26dcffac-8be4-4650-fd46-a88e44567601"
      },
      "source": [
        "for modelname in modelnames:\n",
        "  model = ptcv_get_model(modelname, pretrained=True)  \n",
        "  JJMat = jacobian_full(model, test_loader, batch_size=batch_size,  num_classes=num_classes)\n",
        "  filename = \"{}/JJMat_{}\".format(Jdir, modelname)\n",
        "  print(filename)\n",
        "  np.save(filename, JJMat)"
      ],
      "execution_count": 55,
      "outputs": [
        {
          "output_type": "stream",
          "text": [
            "Downloading /root/.torch/models/resnet20_cifar10-0597-9b0024ac.pth.zip from https://github.com/osmr/imgclsmob/releases/download/v0.0.163/resnet20_cifar10-0597-9b0024ac.pth.zip...\n",
            "/content/drive/My Drive/J_resnets_fullsvd/JJMat_resnet20_cifar10\n",
            "Downloading /root/.torch/models/resnet56_cifar10-0452-628c42a2.pth.zip from https://github.com/osmr/imgclsmob/releases/download/v0.0.163/resnet56_cifar10-0452-628c42a2.pth.zip...\n",
            "/content/drive/My Drive/J_resnets_fullsvd/JJMat_resnet56_cifar10\n",
            "Downloading /root/.torch/models/resnet110_cifar10-0369-4d6ca1fc.pth.zip from https://github.com/osmr/imgclsmob/releases/download/v0.0.163/resnet110_cifar10-0369-4d6ca1fc.pth.zip...\n",
            "/content/drive/My Drive/J_resnets_fullsvd/JJMat_resnet110_cifar10\n",
            "Downloading /root/.torch/models/resnet164bn_cifar10-0368-74ae9f4b.pth.zip from https://github.com/osmr/imgclsmob/releases/download/v0.0.179/resnet164bn_cifar10-0368-74ae9f4b.pth.zip...\n",
            "/content/drive/My Drive/J_resnets_fullsvd/JJMat_resnet164bn_cifar10\n",
            "Downloading /root/.torch/models/resnet272bn_cifar10-0333-84f28e0c.pth.zip from https://github.com/osmr/imgclsmob/releases/download/v0.0.368/resnet272bn_cifar10-0333-84f28e0c.pth.zip...\n",
            "/content/drive/My Drive/J_resnets_fullsvd/JJMat_resnet272bn_cifar10\n",
            "time: 7min 54s\n"
          ],
          "name": "stdout"
        }
      ]
    },
    {
      "cell_type": "code",
      "metadata": {
        "id": "v-sBqb7qX3To",
        "colab_type": "code",
        "colab": {}
      },
      "source": [
        ""
      ],
      "execution_count": null,
      "outputs": []
    },
    {
      "cell_type": "code",
      "metadata": {
        "id": "puBce9sosA_o",
        "colab_type": "code",
        "colab": {}
      },
      "source": [
        ""
      ],
      "execution_count": null,
      "outputs": []
    }
  ]
}