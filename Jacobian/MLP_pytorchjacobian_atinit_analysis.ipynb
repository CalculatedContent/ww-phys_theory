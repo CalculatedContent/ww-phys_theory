{
  "nbformat": 4,
  "nbformat_minor": 0,
  "metadata": {
    "colab": {
      "name": "MLP_pytorchjacobian_atinit_analysis.ipynb",
      "provenance": [],
      "collapsed_sections": []
    },
    "kernelspec": {
      "name": "python3",
      "display_name": "Python 3"
    },
    "accelerator": "GPU"
  },
  "cells": [
    {
      "cell_type": "code",
      "metadata": {
        "id": "Xi_iOPXI83dd",
        "colab_type": "code",
        "outputId": "1b2a14f9-4e05-4316-e40b-3f8ce184203a",
        "colab": {
          "base_uri": "https://localhost:8080/",
          "height": 418
        }
      },
      "source": [
        "pip install torch==1.5.0+cu101 torchvision==0.6.0+cu101 -f https://download.pytorch.org/whl/torch_stable.html"
      ],
      "execution_count": 6,
      "outputs": [
        {
          "output_type": "stream",
          "text": [
            "Looking in links: https://download.pytorch.org/whl/torch_stable.html\n",
            "Collecting torch==1.5.0+cu101\n",
            "\u001b[?25l  Downloading https://download.pytorch.org/whl/cu101/torch-1.5.0%2Bcu101-cp36-cp36m-linux_x86_64.whl (703.8MB)\n",
            "\u001b[K     |████████████████████████████████| 703.8MB 26kB/s \n",
            "\u001b[?25hCollecting torchvision==0.6.0+cu101\n",
            "\u001b[?25l  Downloading https://download.pytorch.org/whl/cu101/torchvision-0.6.0%2Bcu101-cp36-cp36m-linux_x86_64.whl (6.6MB)\n",
            "\u001b[K     |████████████████████████████████| 6.6MB 22.1MB/s \n",
            "\u001b[?25hRequirement already satisfied: future in /usr/local/lib/python3.6/dist-packages (from torch==1.5.0+cu101) (0.16.0)\n",
            "Requirement already satisfied: numpy in /usr/local/lib/python3.6/dist-packages (from torch==1.5.0+cu101) (1.18.3)\n",
            "Requirement already satisfied: pillow>=4.1.1 in /usr/local/lib/python3.6/dist-packages (from torchvision==0.6.0+cu101) (7.0.0)\n",
            "Installing collected packages: torch, torchvision\n",
            "  Found existing installation: torch 1.4.0\n",
            "    Uninstalling torch-1.4.0:\n",
            "      Successfully uninstalled torch-1.4.0\n",
            "  Found existing installation: torchvision 0.5.0\n",
            "    Uninstalling torchvision-0.5.0:\n",
            "      Successfully uninstalled torchvision-0.5.0\n",
            "Successfully installed torch-1.5.0+cu101 torchvision-0.6.0+cu101\n"
          ],
          "name": "stdout"
        },
        {
          "output_type": "display_data",
          "data": {
            "application/vnd.colab-display-data+json": {
              "pip_warning": {
                "packages": [
                  "torch",
                  "torchvision"
                ]
              }
            }
          },
          "metadata": {
            "tags": []
          }
        }
      ]
    },
    {
      "cell_type": "code",
      "metadata": {
        "id": "1Wozs_tykl-I",
        "colab_type": "code",
        "outputId": "b0ff3995-9a53-447c-882d-c4c9aa79e80b",
        "colab": {
          "base_uri": "https://localhost:8080/",
          "height": 34
        }
      },
      "source": [
        "import os\n",
        "import time\n",
        "\n",
        "import numpy as np\n",
        "import pandas as pd\n",
        "\n",
        "import torch\n",
        "import torch.nn as nn\n",
        "import torch.nn.functional as F\n",
        "from torch.utils.data import DataLoader\n",
        "from torch.utils.data.dataset import Subset\n",
        "\n",
        "from torchvision import datasets\n",
        "from torchvision import transforms\n",
        "\n",
        "import matplotlib.pyplot as plt\n",
        "from PIL import Image\n",
        "\n",
        "import math\n",
        "import copy\n",
        "\n",
        "from google.colab import drive\n",
        "drive.mount('/content/drive')\n",
        "\n",
        "class MLP(nn.Module):\n",
        "  def __init__(self, n_units, init_scale=1.0):\n",
        "    super(MLP, self).__init__()\n",
        "\n",
        "    self._n_units = copy.copy(n_units)\n",
        "    self._layers = []\n",
        "    for i in range(1, len(n_units)):\n",
        "      layer = nn.Linear(n_units[i-1], n_units[i], bias=False)\n",
        "      variance = math.sqrt(2.0 / (n_units[i-1] + n_units[i]))\n",
        "      layer.weight.data.normal_(0.0, init_scale * variance)\n",
        "      self._layers.append(layer)\n",
        "\n",
        "      name = 'fc%d' % i\n",
        "      if i == len(n_units) - 1:\n",
        "        name = 'fc'  # the prediction layer is just called fc\n",
        "      self.add_module(name, layer)\n",
        "\n",
        "\n",
        "  def forward(self, x):\n",
        "    x = x.view(-1, self._n_units[0])\n",
        "    out = self._layers[0](x)\n",
        "    for layer in self._layers[1:]:\n",
        "      out = F.relu(out)\n",
        "      out = layer(out)\n",
        "    return out\n",
        "\n"
      ],
      "execution_count": 1,
      "outputs": [
        {
          "output_type": "stream",
          "text": [
            "Drive already mounted at /content/drive; to attempt to forcibly remount, call drive.mount(\"/content/drive\", force_remount=True).\n"
          ],
          "name": "stdout"
        }
      ]
    },
    {
      "cell_type": "code",
      "metadata": {
        "id": "9E1IbTEZm0QQ",
        "colab_type": "code",
        "outputId": "eac635ad-08ab-471d-8d2a-38596888a1f4",
        "colab": {
          "base_uri": "https://localhost:8080/",
          "height": 34
        }
      },
      "source": [
        "cd drive/'My Drive'"
      ],
      "execution_count": 2,
      "outputs": [
        {
          "output_type": "stream",
          "text": [
            "/content/drive/My Drive\n"
          ],
          "name": "stdout"
        }
      ]
    },
    {
      "cell_type": "code",
      "metadata": {
        "id": "7TmJSKvu43m6",
        "colab_type": "code",
        "colab": {}
      },
      "source": [
        "mlp_spec = '512'\n",
        "n_units = [int(x) for x in mlp_spec.split('x')] # hidden dims\n",
        "n_units.append(10)  # output dim\n",
        "n_units.insert(0, 32*32*3)        # input dim\n",
        "model = MLP(n_units)\n",
        "model = model.to(\"cuda:0\")"
      ],
      "execution_count": 0,
      "outputs": []
    },
    {
      "cell_type": "code",
      "metadata": {
        "id": "bzBfJfgcmUWY",
        "colab_type": "code",
        "colab": {}
      },
      "source": [
        "def get_data():\n",
        "  normalize = transforms.Normalize(mean=[x/255.0 for x in [125.3, 123.0, 113.9]], std=[x / 255.0 for x in [63.0, 62.1, 66.7]])\n",
        "  transform_train = transforms.Compose([\n",
        "          transforms.ToTensor(),\n",
        "          normalize])\n",
        "  transform_test = transforms.Compose([\n",
        "        transforms.ToTensor(),\n",
        "        normalize])\n",
        "  train_dataset = datasets.CIFAR10(root='data', \n",
        "                                train=True, \n",
        "                                transform=transform_train,\n",
        "                                download=True)\n",
        "  test_dataset = datasets.CIFAR10(root='data', \n",
        "                                train=False, \n",
        "                                transform=transform_test,\n",
        "                                download=True)  \n",
        "  train_loader = DataLoader(dataset=train_dataset, \n",
        "                          batch_size=200,\n",
        "                          num_workers=4,\n",
        "                          shuffle=True)\n",
        "  test_loader = DataLoader(dataset=test_dataset, \n",
        "                         batch_size=200,\n",
        "                         num_workers=4,\n",
        "                         shuffle=False)\n",
        "  return train_loader, test_loader"
      ],
      "execution_count": 0,
      "outputs": []
    },
    {
      "cell_type": "code",
      "metadata": {
        "id": "lghKzbe1H09K",
        "colab_type": "code",
        "outputId": "d1026eb9-7cbe-4a03-f357-cbdfa3304088",
        "colab": {
          "base_uri": "https://localhost:8080/",
          "height": 52
        }
      },
      "source": [
        "#take a single batch of training data and compute jacobian\n",
        "jacobians = []\n",
        "\n",
        "train_loader, test_loader = get_data()\n",
        "for batch, data in enumerate(train_loader):\n",
        "  if batch == 0:\n",
        "    features, labels = data\n",
        "    features, labels = features.to('cuda:0'), labels.to('cuda:0')\n",
        "    jacobian = torch.autograd.functional.jacobian(model, features)\n",
        "    jacobians.append(jacobian)\n",
        "    break"
      ],
      "execution_count": 7,
      "outputs": [
        {
          "output_type": "stream",
          "text": [
            "Files already downloaded and verified\n",
            "Files already downloaded and verified\n"
          ],
          "name": "stdout"
        }
      ]
    },
    {
      "cell_type": "code",
      "metadata": {
        "id": "hLZmY4nKIGGz",
        "colab_type": "code",
        "colab": {}
      },
      "source": [
        "J = jacobians[0].reshape(200, 200*10*3*32*32)"
      ],
      "execution_count": 0,
      "outputs": []
    },
    {
      "cell_type": "code",
      "metadata": {
        "id": "N1VREiGGIHv3",
        "colab_type": "code",
        "colab": {}
      },
      "source": [
        "mat = J @ J.t()\n",
        "u, v = torch.eig(mat)"
      ],
      "execution_count": 0,
      "outputs": []
    },
    {
      "cell_type": "code",
      "metadata": {
        "id": "aHJFLH4anXTp",
        "colab_type": "code",
        "colab": {}
      },
      "source": [
        "s = u[:,0].detach().cpu().numpy()"
      ],
      "execution_count": 0,
      "outputs": []
    },
    {
      "cell_type": "code",
      "metadata": {
        "id": "-mTzi8wandw6",
        "colab_type": "code",
        "outputId": "9d056297-6641-452d-90ee-e13f51dd00ac",
        "colab": {
          "base_uri": "https://localhost:8080/",
          "height": 34
        }
      },
      "source": [
        "entropy = np.sum([t*np.log(t) for t in s])\n",
        "print(entropy)"
      ],
      "execution_count": 11,
      "outputs": [
        {
          "output_type": "stream",
          "text": [
            "9380.179\n"
          ],
          "name": "stdout"
        }
      ]
    },
    {
      "cell_type": "code",
      "metadata": {
        "id": "Dmw-qMxFAPao",
        "colab_type": "code",
        "outputId": "1aa1b1fb-da55-4bde-81db-6344e0efe3ae",
        "colab": {
          "base_uri": "https://localhost:8080/",
          "height": 34
        }
      },
      "source": [
        "torch.norm(J)"
      ],
      "execution_count": 12,
      "outputs": [
        {
          "output_type": "execute_result",
          "data": {
            "text/plain": [
              "tensor(57.7284, device='cuda:0')"
            ]
          },
          "metadata": {
            "tags": []
          },
          "execution_count": 12
        }
      ]
    },
    {
      "cell_type": "code",
      "metadata": {
        "id": "4K4-v8DUKSAf",
        "colab_type": "code",
        "colab": {
          "base_uri": "https://localhost:8080/",
          "height": 52
        },
        "outputId": "f2d76df3-803a-44f3-b6c0-d465490c0cb6"
      },
      "source": [
        "import seaborn as sns\n",
        "sns.set(color_codes=True)"
      ],
      "execution_count": 13,
      "outputs": [
        {
          "output_type": "stream",
          "text": [
            "/usr/local/lib/python3.6/dist-packages/statsmodels/tools/_testing.py:19: FutureWarning: pandas.util.testing is deprecated. Use the functions in the public API at pandas.testing instead.\n",
            "  import pandas.util.testing as tm\n"
          ],
          "name": "stderr"
        }
      ]
    },
    {
      "cell_type": "code",
      "metadata": {
        "id": "pKqz_oaQMP4U",
        "colab_type": "code",
        "outputId": "09db74f3-fd84-432c-93e4-53d5faac091a",
        "colab": {
          "base_uri": "https://localhost:8080/",
          "height": 318
        }
      },
      "source": [
        "plt.hist(u[:,0].detach().cpu().numpy(), alpha=1., bins=50, log=False, label= \"True Labels\")\n",
        "plt.title(\"Sampled Spectral Density of JJ^T, where J is the Jacobian of the NN output\")\n",
        "plt.xlabel(\"Eigenvalue\")\n",
        "plt.ylabel(\"Count\")\n",
        "plt.legend()"
      ],
      "execution_count": 14,
      "outputs": [
        {
          "output_type": "execute_result",
          "data": {
            "text/plain": [
              "<matplotlib.legend.Legend at 0x7f61e65c9d68>"
            ]
          },
          "metadata": {
            "tags": []
          },
          "execution_count": 14
        },
        {
          "output_type": "display_data",
          "data": {
            "image/png": "[encoded data removed]",
            "text/plain": [
              "<Figure size 432x288 with 1 Axes>"
            ]
          },
          "metadata": {
            "tags": []
          }
        }
      ]
    }
  ]
}