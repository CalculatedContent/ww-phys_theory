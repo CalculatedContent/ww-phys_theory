{
  "nbformat": 4,
  "nbformat_minor": 0,
  "metadata": {
    "colab": {
      "name": "Copy of DiagJSpectrum_SLQ-Resnets_example.ipynb",
      "provenance": [],
      "collapsed_sections": [],
      "machine_shape": "hm"
    },
    "kernelspec": {
      "name": "python3",
      "display_name": "Python 3"
    },
    "accelerator": "GPU"
  },
  "cells": [
    {
      "cell_type": "markdown",
      "metadata": {
        "id": "Y_vH0uOK7KJS",
        "colab_type": "text"
      },
      "source": [
        "#This notebook computes the spectrum of the diagonal Jacobian\n"
      ]
    },
    {
      "cell_type": "code",
      "metadata": {
        "id": "hZplJz8WqCkD",
        "colab_type": "code",
        "colab": {}
      },
      "source": [
        "%%capture\n",
        "!pip install ipython-autotime\n",
        "!pip install pytorchcv\n",
        "!pip install powerlaw\n",
        "%load_ext autotime"
      ],
      "execution_count": 0,
      "outputs": []
    },
    {
      "cell_type": "code",
      "metadata": {
        "id": "81Phn2n_jEvO",
        "colab_type": "code",
        "outputId": "45c51866-33b4-4d2b-b71a-e1f1c5b9c09f",
        "colab": {
          "base_uri": "https://localhost:8080/",
          "height": 238
        }
      },
      "source": [
        "!pip install GPUtil\n",
        "import GPUtil\n",
        "\n",
        "\n",
        "GPUtil.showUtilization()"
      ],
      "execution_count": 0,
      "outputs": [
        {
          "output_type": "stream",
          "text": [
            "Collecting GPUtil\n",
            "  Downloading https://files.pythonhosted.org/packages/ed/0e/5c61eedde9f6c87713e89d794f01e378cfd9565847d4576fa627d758c554/GPUtil-1.4.0.tar.gz\n",
            "Building wheels for collected packages: GPUtil\n",
            "  Building wheel for GPUtil (setup.py) ... \u001b[?25l\u001b[?25hdone\n",
            "  Created wheel for GPUtil: filename=GPUtil-1.4.0-cp36-none-any.whl size=7413 sha256=63c180a7b1ab62438ce7002b5e6616bb358cd58b68ea45c3adb60d80a0d36561\n",
            "  Stored in directory: /root/.cache/pip/wheels/3d/77/07/80562de4bb0786e5ea186911a2c831fdd0018bda69beab71fd\n",
            "Successfully built GPUtil\n",
            "Installing collected packages: GPUtil\n",
            "Successfully installed GPUtil-1.4.0\n",
            "| ID | GPU | MEM |\n",
            "------------------\n",
            "|  0 |  0% |  0% |\n",
            "time: 4.42 s\n"
          ],
          "name": "stdout"
        }
      ]
    },
    {
      "cell_type": "code",
      "metadata": {
        "id": "XQGrAUZLSEy_",
        "colab_type": "code",
        "outputId": "fdd0bc0b-dacc-4658-d83b-0969b73eea15",
        "colab": {
          "base_uri": "https://localhost:8080/",
          "height": 139
        }
      },
      "source": [
        "from google.colab import drive\n",
        "drive.mount('/content/drive')"
      ],
      "execution_count": 0,
      "outputs": [
        {
          "output_type": "stream",
          "text": [
            "Go to this URL in a browser: https://accounts.google.com/o/oauth2/auth?client_id=947318989803-6bn6qk8qdgf4n4g3pfee6491hc0brc4i.apps.googleusercontent.com&redirect_uri=urn%3aietf%3awg%3aoauth%3a2.0%3aoob&response_type=code&scope=email%20https%3a%2f%2fwww.googleapis.com%2fauth%2fdocs.test%20https%3a%2f%2fwww.googleapis.com%2fauth%2fdrive%20https%3a%2f%2fwww.googleapis.com%2fauth%2fdrive.photos.readonly%20https%3a%2f%2fwww.googleapis.com%2fauth%2fpeopleapi.readonly\n",
            "\n",
            "Enter your authorization code:\n",
            "··········\n",
            "Mounted at /content/drive\n",
            "time: 21.1 s\n"
          ],
          "name": "stdout"
        }
      ]
    },
    {
      "cell_type": "markdown",
      "metadata": {
        "id": "bVSD8kzh69QT",
        "colab_type": "text"
      },
      "source": [
        "#change directory into folder with jacobian.py and utils.py"
      ]
    },
    {
      "cell_type": "code",
      "metadata": {
        "id": "bUXfofaIg0Vp",
        "colab_type": "code",
        "outputId": "b7c013a5-02e0-4749-8d59-ec5514479521",
        "colab": {
          "base_uri": "https://localhost:8080/",
          "height": 51
        }
      },
      "source": [
        "cd /content/drive/My Drive/sketch_J"
      ],
      "execution_count": 0,
      "outputs": [
        {
          "output_type": "stream",
          "text": [
            "/content/drive/My Drive/sketch_J\n",
            "time: 7.58 ms\n"
          ],
          "name": "stdout"
        }
      ]
    },
    {
      "cell_type": "code",
      "metadata": {
        "id": "nT8SeVRcyv2R",
        "colab_type": "code",
        "outputId": "c2a19aee-b133-4594-e1a8-0e0864cd8212",
        "colab": {
          "base_uri": "https://localhost:8080/",
          "height": 170
        }
      },
      "source": [
        "import pytorchcv\n",
        "from pytorchcv.model_provider import get_model as ptcv_get_model\n",
        "\n",
        "import powerlaw\n",
        "for modelname in pytorchcv.model_provider._models.keys():\n",
        "    if modelname.startswith('resnet') and modelname.endswith('cifar10'):\n",
        "        print(modelname)"
      ],
      "execution_count": 0,
      "outputs": [
        {
          "output_type": "stream",
          "text": [
            "resnet20_cifar10\n",
            "resnet56_cifar10\n",
            "resnet110_cifar10\n",
            "resnet164bn_cifar10\n",
            "resnet272bn_cifar10\n",
            "resnet542bn_cifar10\n",
            "resnet1001_cifar10\n",
            "resnet1202_cifar10\n",
            "time: 3.12 s\n"
          ],
          "name": "stdout"
        }
      ]
    },
    {
      "cell_type": "code",
      "metadata": {
        "id": "pn23h97EWfN0",
        "colab_type": "code",
        "outputId": "faaeef5a-b7a1-4f4b-bec0-372a26c8ec58",
        "colab": {
          "base_uri": "https://localhost:8080/",
          "height": 34
        }
      },
      "source": [
        "from jacobian import *\n",
        "from utils import *"
      ],
      "execution_count": 0,
      "outputs": [
        {
          "output_type": "stream",
          "text": [
            "time: 923 ms\n"
          ],
          "name": "stdout"
        }
      ]
    },
    {
      "cell_type": "code",
      "metadata": {
        "id": "OOrW3nihw7aP",
        "colab_type": "code",
        "outputId": "270f8ad6-015c-4026-871c-6c1ef5786735",
        "colab": {
          "base_uri": "https://localhost:8080/",
          "height": 105
        }
      },
      "source": [
        "thismodel = 'resnet20_cifar10'\n",
        "model = ptcv_get_model(thismodel, pretrained=True)\n",
        "train_dataset, _, train_loader, test_loader = get_data(batch_size=100)\n",
        "full_J = construct_diagJ(model, train_loader, batch_size=100, device='cuda:0') # The P100 on Colab should have enough memory to do this\n"
      ],
      "execution_count": 0,
      "outputs": [
        {
          "output_type": "stream",
          "text": [
            "Downloading /root/.torch/models/resnet20_cifar10-0597-9b0024ac.pth.zip from https://github.com/osmr/imgclsmob/releases/download/v0.0.163/resnet20_cifar10-0597-9b0024ac.pth.zip...\n",
            "Files already downloaded and verified\n",
            "Files already downloaded and verified\n",
            "time: 1min 17s\n"
          ],
          "name": "stdout"
        }
      ]
    },
    {
      "cell_type": "markdown",
      "metadata": {
        "id": "WyMzfcmZuoLF",
        "colab_type": "text"
      },
      "source": [
        "#Clean up Memory"
      ]
    },
    {
      "cell_type": "code",
      "metadata": {
        "id": "dkBikJzSfB3M",
        "colab_type": "code",
        "outputId": "8088b887-f64a-4146-bd79-217f67077bb9",
        "colab": {
          "base_uri": "https://localhost:8080/",
          "height": 34
        }
      },
      "source": [
        "del model\n",
        "del train_loader\n",
        "del train_dataset\n",
        "\n",
        "full_J = full_J.to(\"cpu\")\n",
        "torch.cuda.empty_cache()\n",
        "full_J = full_J.to(\"cuda:0\")\n",
        "#n, _ = full_J.shape\n",
        "#full_J = 1/n*full_J\n",
        "\n",
        "M = full_J @ full_J.t() \n",
        "del full_J\n",
        "\n",
        "M = M.to(\"cpu\")\n",
        "torch.cuda.empty_cache()\n",
        "M = M.to(\"cuda:0\")"
      ],
      "execution_count": 0,
      "outputs": [
        {
          "output_type": "stream",
          "text": [
            "time: 32.1 s\n"
          ],
          "name": "stdout"
        }
      ]
    },
    {
      "cell_type": "code",
      "metadata": {
        "id": "4lwoyuUE4hDi",
        "colab_type": "code",
        "outputId": "45d04c7f-0fa2-4aa4-8889-d3ddd5cb13e9",
        "colab": {
          "base_uri": "https://localhost:8080/",
          "height": 85
        }
      },
      "source": [
        "GPUtil.showUtilization()"
      ],
      "execution_count": 0,
      "outputs": [
        {
          "output_type": "stream",
          "text": [
            "| ID | GPU | MEM |\n",
            "------------------\n",
            "|  0 |  0% | 63% |\n",
            "time: 341 ms\n"
          ],
          "name": "stdout"
        }
      ]
    },
    {
      "cell_type": "code",
      "metadata": {
        "id": "vleUUOkZaE8e",
        "colab_type": "code",
        "outputId": "37b48a4e-434f-42f3-e8a4-caca1df2f9ab",
        "colab": {
          "base_uri": "https://localhost:8080/",
          "height": 204
        }
      },
      "source": [
        "eigs, dens = slq(M, n_vec=10, m=1000)"
      ],
      "execution_count": 0,
      "outputs": [
        {
          "output_type": "stream",
          "text": [
            "Iteration 0 of n_vec\n",
            "Iteration 1 of n_vec\n",
            "Iteration 2 of n_vec\n",
            "Iteration 3 of n_vec\n",
            "Iteration 4 of n_vec\n",
            "Iteration 5 of n_vec\n",
            "Iteration 6 of n_vec\n",
            "Iteration 7 of n_vec\n",
            "Iteration 8 of n_vec\n",
            "Iteration 9 of n_vec\n",
            "time: 3min 23s\n"
          ],
          "name": "stdout"
        }
      ]
    },
    {
      "cell_type": "code",
      "metadata": {
        "id": "Psl7f0WJpRp6",
        "colab_type": "code",
        "outputId": "84cb1a41-41f0-4528-ce9d-75d37dd312e9",
        "colab": {
          "base_uri": "https://localhost:8080/",
          "height": 34
        }
      },
      "source": [
        "density, grids = density_generate(eigs, dens)"
      ],
      "execution_count": 0,
      "outputs": [
        {
          "output_type": "stream",
          "text": [
            "time: 4.28 s\n"
          ],
          "name": "stdout"
        }
      ]
    },
    {
      "cell_type": "code",
      "metadata": {
        "id": "fhxrpfHYsA0u",
        "colab_type": "code",
        "outputId": "0e1eb0c7-5a0d-4c9a-a8d6-8a393aa00df8",
        "colab": {
          "base_uri": "https://localhost:8080/",
          "height": 88
        }
      },
      "source": [
        "import seaborn as sns\n",
        "sns.set()"
      ],
      "execution_count": 0,
      "outputs": [
        {
          "output_type": "stream",
          "text": [
            "time: 389 ms\n"
          ],
          "name": "stdout"
        },
        {
          "output_type": "stream",
          "text": [
            "/usr/local/lib/python3.6/dist-packages/statsmodels/tools/_testing.py:19: FutureWarning: pandas.util.testing is deprecated. Use the functions in the public API at pandas.testing instead.\n",
            "  import pandas.util.testing as tm\n"
          ],
          "name": "stderr"
        }
      ]
    },
    {
      "cell_type": "code",
      "metadata": {
        "id": "DCUDQm1jBTSZ",
        "colab_type": "code",
        "outputId": "c0ab49f6-26b8-40c4-863f-38b813ea9ae5",
        "colab": {
          "base_uri": "https://localhost:8080/",
          "height": 335
        }
      },
      "source": [
        "plt.plot(grids, density)\n",
        "plt.title(\"ESD of JJ^T of ResNet20 using SLQ\")\n",
        "plt.xlabel(\"Eigenvalue\")\n",
        "plt.ylabel(\"Density (Log Scale)\")"
      ],
      "execution_count": 0,
      "outputs": [
        {
          "output_type": "execute_result",
          "data": {
            "text/plain": [
              "Text(0, 0.5, 'Density (Log Scale)')"
            ]
          },
          "metadata": {
            "tags": []
          },
          "execution_count": 14
        },
        {
          "output_type": "display_data",
          "data": {
            "image/png": "[encoded data removed]",
            "text/plain": [
              "<Figure size 432x288 with 1 Axes>"
            ]
          },
          "metadata": {
            "tags": []
          }
        },
        {
          "output_type": "stream",
          "text": [
            "time: 376 ms\n"
          ],
          "name": "stdout"
        }
      ]
    }
  ]
}