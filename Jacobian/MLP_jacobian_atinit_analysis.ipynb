{
  "nbformat": 4,
  "nbformat_minor": 0,
  "metadata": {
    "colab": {
      "name": "MLP_jacobian_atinit_analysis.ipynb",
      "provenance": [],
      "collapsed_sections": []
    },
    "kernelspec": {
      "name": "python3",
      "display_name": "Python 3"
    },
    "accelerator": "GPU"
  },
  "cells": [
    {
      "cell_type": "code",
      "metadata": {
        "id": "1Wozs_tykl-I",
        "colab_type": "code",
        "outputId": "d58948e1-7a05-4124-ca6e-ecab83861d63",
        "colab": {
          "base_uri": "https://localhost:8080/",
          "height": 122
        }
      },
      "source": [
        "import os\n",
        "import time\n",
        "\n",
        "import numpy as np\n",
        "import pandas as pd\n",
        "\n",
        "import torch\n",
        "import torch.nn as nn\n",
        "import torch.nn.functional as F\n",
        "from torch.utils.data import DataLoader\n",
        "from torch.utils.data.dataset import Subset\n",
        "\n",
        "from torchvision import datasets\n",
        "from torchvision import transforms\n",
        "\n",
        "import matplotlib.pyplot as plt\n",
        "from PIL import Image\n",
        "\n",
        "import math\n",
        "import copy\n",
        "\n",
        "from google.colab import drive\n",
        "drive.mount('/content/drive')\n",
        "\n",
        "class MLP(nn.Module):\n",
        "  def __init__(self, n_units, init_scale=1.0):\n",
        "    super(MLP, self).__init__()\n",
        "\n",
        "    self._n_units = copy.copy(n_units)\n",
        "    self._layers = []\n",
        "    for i in range(1, len(n_units)):\n",
        "      layer = nn.Linear(n_units[i-1], n_units[i], bias=False)\n",
        "      variance = math.sqrt(2.0 / (n_units[i-1] + n_units[i]))\n",
        "      layer.weight.data.normal_(0.0, init_scale * variance)\n",
        "      self._layers.append(layer)\n",
        "\n",
        "      name = 'fc%d' % i\n",
        "      if i == len(n_units) - 1:\n",
        "        name = 'fc'  # the prediction layer is just called fc\n",
        "      self.add_module(name, layer)\n",
        "\n",
        "\n",
        "  def forward(self, x):\n",
        "    x = x.view(-1, self._n_units[0])\n",
        "    out = self._layers[0](x)\n",
        "    for layer in self._layers[1:]:\n",
        "      out = F.relu(out)\n",
        "      out = layer(out)\n",
        "    return out\n",
        "\n"
      ],
      "execution_count": 0,
      "outputs": [
        {
          "output_type": "stream",
          "text": [
            "Go to this URL in a browser: https://accounts.google.com/o/oauth2/auth?client_id=947318989803-6bn6qk8qdgf4n4g3pfee6491hc0brc4i.apps.googleusercontent.com&redirect_uri=urn%3aietf%3awg%3aoauth%3a2.0%3aoob&response_type=code&scope=email%20https%3a%2f%2fwww.googleapis.com%2fauth%2fdocs.test%20https%3a%2f%2fwww.googleapis.com%2fauth%2fdrive%20https%3a%2f%2fwww.googleapis.com%2fauth%2fdrive.photos.readonly%20https%3a%2f%2fwww.googleapis.com%2fauth%2fpeopleapi.readonly\n",
            "\n",
            "Enter your authorization code:\n",
            "··········\n",
            "Mounted at /content/drive\n"
          ],
          "name": "stdout"
        }
      ]
    },
    {
      "cell_type": "code",
      "metadata": {
        "id": "9E1IbTEZm0QQ",
        "colab_type": "code",
        "outputId": "b0734289-f91b-4082-b18d-f2d1fb999dff",
        "colab": {
          "base_uri": "https://localhost:8080/",
          "height": 34
        }
      },
      "source": [
        "cd drive/'My Drive'"
      ],
      "execution_count": 0,
      "outputs": [
        {
          "output_type": "stream",
          "text": [
            "/content/drive/My Drive\n"
          ],
          "name": "stdout"
        }
      ]
    },
    {
      "cell_type": "code",
      "metadata": {
        "id": "bzBfJfgcmUWY",
        "colab_type": "code",
        "colab": {}
      },
      "source": [
        "def get_data():\n",
        "  normalize = transforms.Normalize(mean=[x/255.0 for x in [125.3, 123.0, 113.9]], std=[x / 255.0 for x in [63.0, 62.1, 66.7]])\n",
        "  transform_train = transforms.Compose([\n",
        "          transforms.ToTensor(),\n",
        "          normalize])\n",
        "  transform_test = transforms.Compose([\n",
        "        transforms.ToTensor(),\n",
        "        normalize])\n",
        "  train_dataset = datasets.CIFAR10(root='data', \n",
        "                                train=True, \n",
        "                                transform=transform_train,\n",
        "                                download=True)\n",
        "  test_dataset = datasets.CIFAR10(root='data', \n",
        "                                train=False, \n",
        "                                transform=transform_test,\n",
        "                                download=True)  \n",
        "  train_loader = DataLoader(dataset=train_dataset, \n",
        "                          batch_size=2000,\n",
        "                          num_workers=4,\n",
        "                          shuffle=True)\n",
        "  test_loader = DataLoader(dataset=test_dataset, \n",
        "                         batch_size=2000,\n",
        "                         num_workers=4,\n",
        "                         shuffle=False)\n",
        "  return train_loader, test_loader"
      ],
      "execution_count": 0,
      "outputs": []
    },
    {
      "cell_type": "code",
      "metadata": {
        "id": "49bnzscQOfXm",
        "colab_type": "code",
        "colab": {}
      },
      "source": [
        "mlp_spec = '512'\n",
        "n_units = [int(x) for x in mlp_spec.split('x')] # hidden dims\n",
        "n_units.append(10)  # output dim\n",
        "n_units.insert(0, 32*32*3)        # input dim\n",
        "model = MLP(n_units)"
      ],
      "execution_count": 0,
      "outputs": []
    },
    {
      "cell_type": "code",
      "metadata": {
        "id": "5mD1jee1Hxx7",
        "colab_type": "code",
        "colab": {}
      },
      "source": [
        "from torch.autograd.gradcheck import zero_gradients\n",
        "\n",
        "\n",
        "def compute_jacobian(inputs, output):\n",
        "\t\"\"\"\n",
        "\t:param inputs: Batch X Size (e.g. Depth X Width X Height)\n",
        "\t:param output: Batch X Classes\n",
        "\t:return: jacobian: Batch X Classes X Size\n",
        "\t\"\"\"\n",
        "\tassert inputs.requires_grad\n",
        "\n",
        "\tnum_classes = output.size()[1]\n",
        "\n",
        "\tjacobian = torch.zeros(num_classes, *inputs.size())\n",
        "\tgrad_output = torch.zeros(*output.size())\n",
        "\tif inputs.is_cuda:\n",
        "\t\tgrad_output = grad_output.cuda()\n",
        "\t\tjacobian = jacobian.cuda()\n",
        "\n",
        "\tfor i in range(num_classes):\n",
        "\t\tzero_gradients(inputs)\n",
        "\t\tgrad_output.zero_()\n",
        "\t\tgrad_output[:, i] = 1\n",
        "\t\toutput.backward(grad_output, retain_graph=True)\n",
        "\t\tjacobian[i] = inputs.grad.data\n",
        "\n",
        "\treturn torch.transpose(jacobian, dim0=0, dim1=1)"
      ],
      "execution_count": 0,
      "outputs": []
    },
    {
      "cell_type": "code",
      "metadata": {
        "id": "lghKzbe1H09K",
        "colab_type": "code",
        "outputId": "1469f27c-d9c6-4af9-f130-a9e5d8415e53",
        "colab": {
          "base_uri": "https://localhost:8080/",
          "height": 51
        }
      },
      "source": [
        "#take a single batch of training data and compute jacobian\n",
        "\n",
        "train_loader, test_loader = get_data()\n",
        "for batch, data in enumerate(train_loader):\n",
        "  if batch == 0:\n",
        "    features, labels = data\n",
        "    features = torch.autograd.Variable(features, requires_grad=True)\n",
        "    out = model(features)\n",
        "    jacobian = compute_jacobian(features, out)"
      ],
      "execution_count": 0,
      "outputs": [
        {
          "output_type": "stream",
          "text": [
            "Files already downloaded and verified\n",
            "Files already downloaded and verified\n"
          ],
          "name": "stdout"
        }
      ]
    },
    {
      "cell_type": "code",
      "metadata": {
        "id": "teeI0xtopc2Y",
        "colab_type": "code",
        "outputId": "7de966b6-4bf7-492f-de31-e7f97cd4e0f4",
        "colab": {
          "base_uri": "https://localhost:8080/",
          "height": 34
        }
      },
      "source": [
        "jacobian.shape"
      ],
      "execution_count": 0,
      "outputs": [
        {
          "output_type": "execute_result",
          "data": {
            "text/plain": [
              "torch.Size([2000, 10, 3, 32, 32])"
            ]
          },
          "metadata": {
            "tags": []
          },
          "execution_count": 17
        }
      ]
    },
    {
      "cell_type": "code",
      "metadata": {
        "id": "hLZmY4nKIGGz",
        "colab_type": "code",
        "colab": {}
      },
      "source": [
        "J = jacobian.reshape(2000, 10*3*32*32)"
      ],
      "execution_count": 0,
      "outputs": []
    },
    {
      "cell_type": "code",
      "metadata": {
        "id": "N1VREiGGIHv3",
        "colab_type": "code",
        "colab": {}
      },
      "source": [
        "mat = J @ J.t()\n",
        "u, v = torch.eig(mat)"
      ],
      "execution_count": 0,
      "outputs": []
    },
    {
      "cell_type": "code",
      "metadata": {
        "id": "BZp4_JZxIXo9",
        "colab_type": "code",
        "colab": {}
      },
      "source": [
        "w = u[:,0]\n",
        "w = w[w < 200000]\n",
        "w = w[w > 1]"
      ],
      "execution_count": 0,
      "outputs": []
    },
    {
      "cell_type": "code",
      "metadata": {
        "id": "JF9aSyTrIMDY",
        "colab_type": "code",
        "outputId": "50baa127-59b3-40c8-8f32-4e9028a70449",
        "colab": {
          "base_uri": "https://localhost:8080/",
          "height": 312
        }
      },
      "source": [
        "plt.hist(w.detach().numpy(), bins=100, log=False, label= \"At initialization\")\n",
        "plt.title(\"Spectral Density of JJ^T, where J is the Jacobian of the NN output\")\n",
        "plt.xlabel(\"Eigenvalue\")\n",
        "plt.ylabel(\"Count\")\n",
        "plt.legend()"
      ],
      "execution_count": 0,
      "outputs": [
        {
          "output_type": "execute_result",
          "data": {
            "text/plain": [
              "<matplotlib.legend.Legend at 0x7ff624209d30>"
            ]
          },
          "metadata": {
            "tags": []
          },
          "execution_count": 28
        },
        {
          "output_type": "display_data",
          "data": {
            "image/png": "[encoded data removed]",
            "text/plain": [
              "<Figure size 432x288 with 1 Axes>"
            ]
          },
          "metadata": {
            "tags": [],
            "needs_background": "light"
          }
        }
      ]
    }
  ]
}