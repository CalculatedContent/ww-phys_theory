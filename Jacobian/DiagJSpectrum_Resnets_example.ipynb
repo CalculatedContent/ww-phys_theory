{
  "nbformat": 4,
  "nbformat_minor": 0,
  "metadata": {
    "colab": {
      "name": "DiagJSpectrum-Resnets_example.ipynb",
      "provenance": [],
      "collapsed_sections": [],
      "machine_shape": "hm"
    },
    "kernelspec": {
      "name": "python3",
      "display_name": "Python 3"
    },
    "accelerator": "GPU"
  },
  "cells": [
    {
      "cell_type": "markdown",
      "metadata": {
        "id": "Y_vH0uOK7KJS",
        "colab_type": "text"
      },
      "source": [
        "#This notebook computes the spectrum of the diagonal Jacobian\n"
      ]
    },
    {
      "cell_type": "code",
      "metadata": {
        "id": "hZplJz8WqCkD",
        "colab_type": "code",
        "colab": {
          "base_uri": "https://localhost:8080/",
          "height": 34
        },
        "outputId": "58d92612-47b9-4c1f-d713-f7fd80a73cc4"
      },
      "source": [
        "%%capture\n",
        "!pip install ipython-autotime\n",
        "!pip install pytorchcv\n",
        "!pip install powerlaw\n",
        "%load_ext autotime"
      ],
      "execution_count": 2,
      "outputs": [
        {
          "output_type": "stream",
          "text": [
            "time: 6.45 s\n"
          ],
          "name": "stdout"
        }
      ]
    },
    {
      "cell_type": "code",
      "metadata": {
        "id": "81Phn2n_jEvO",
        "colab_type": "code",
        "outputId": "1c4e3d0a-f4d3-4edf-efaf-2af79f6f252a",
        "colab": {
          "base_uri": "https://localhost:8080/",
          "height": 243
        }
      },
      "source": [
        "!pip install GPUtil\n",
        "import GPUtil\n",
        "\n",
        "\n",
        "GPUtil.showUtilization()"
      ],
      "execution_count": 3,
      "outputs": [
        {
          "output_type": "stream",
          "text": [
            "Collecting GPUtil\n",
            "  Downloading https://files.pythonhosted.org/packages/ed/0e/5c61eedde9f6c87713e89d794f01e378cfd9565847d4576fa627d758c554/GPUtil-1.4.0.tar.gz\n",
            "Building wheels for collected packages: GPUtil\n",
            "  Building wheel for GPUtil (setup.py) ... \u001b[?25l\u001b[?25hdone\n",
            "  Created wheel for GPUtil: filename=GPUtil-1.4.0-cp36-none-any.whl size=7413 sha256=1a5758ec81cc913bb5a915ce4c6fa3d3a7cc094c8c5dd7e6396e80679b5d4ca1\n",
            "  Stored in directory: /root/.cache/pip/wheels/3d/77/07/80562de4bb0786e5ea186911a2c831fdd0018bda69beab71fd\n",
            "Successfully built GPUtil\n",
            "Installing collected packages: GPUtil\n",
            "Successfully installed GPUtil-1.4.0\n",
            "| ID | GPU | MEM |\n",
            "------------------\n",
            "|  0 |  0% |  0% |\n",
            "time: 4.17 s\n"
          ],
          "name": "stdout"
        }
      ]
    },
    {
      "cell_type": "code",
      "metadata": {
        "id": "XQGrAUZLSEy_",
        "colab_type": "code",
        "outputId": "e774ed22-5ce7-4841-d35e-830b35e86e84",
        "colab": {
          "base_uri": "https://localhost:8080/",
          "height": 141
        }
      },
      "source": [
        "from google.colab import drive\n",
        "drive.mount('/content/drive')"
      ],
      "execution_count": 4,
      "outputs": [
        {
          "output_type": "stream",
          "text": [
            "Go to this URL in a browser: https://accounts.google.com/o/oauth2/auth?client_id=947318989803-6bn6qk8qdgf4n4g3pfee6491hc0brc4i.apps.googleusercontent.com&redirect_uri=urn%3aietf%3awg%3aoauth%3a2.0%3aoob&response_type=code&scope=email%20https%3a%2f%2fwww.googleapis.com%2fauth%2fdocs.test%20https%3a%2f%2fwww.googleapis.com%2fauth%2fdrive%20https%3a%2f%2fwww.googleapis.com%2fauth%2fdrive.photos.readonly%20https%3a%2f%2fwww.googleapis.com%2fauth%2fpeopleapi.readonly\n",
            "\n",
            "Enter your authorization code:\n",
            "··········\n",
            "Mounted at /content/drive\n",
            "time: 18.6 s\n"
          ],
          "name": "stdout"
        }
      ]
    },
    {
      "cell_type": "markdown",
      "metadata": {
        "id": "bVSD8kzh69QT",
        "colab_type": "text"
      },
      "source": [
        "#change directory into folder with jacobian.py and utils.py"
      ]
    },
    {
      "cell_type": "code",
      "metadata": {
        "id": "bUXfofaIg0Vp",
        "colab_type": "code",
        "outputId": "22c48a24-5576-43c2-f91e-062a6b59f011",
        "colab": {
          "base_uri": "https://localhost:8080/",
          "height": 52
        }
      },
      "source": [
        "cd /content/drive/My Drive/sketch_J"
      ],
      "execution_count": 5,
      "outputs": [
        {
          "output_type": "stream",
          "text": [
            "/content/drive/My Drive/sketch_J\n",
            "time: 7.64 ms\n"
          ],
          "name": "stdout"
        }
      ]
    },
    {
      "cell_type": "code",
      "metadata": {
        "id": "KPHtPl3Se2Jk",
        "colab_type": "code",
        "outputId": "7d921cee-cc01-426e-ad36-d92d8bd335df",
        "colab": {
          "base_uri": "https://localhost:8080/",
          "height": 34
        }
      },
      "source": [
        "from utils import *\n",
        "from jacobian import *"
      ],
      "execution_count": 6,
      "outputs": [
        {
          "output_type": "stream",
          "text": [
            "time: 10.5 s\n"
          ],
          "name": "stdout"
        }
      ]
    },
    {
      "cell_type": "code",
      "metadata": {
        "id": "nT8SeVRcyv2R",
        "colab_type": "code",
        "outputId": "4f5202a2-91e0-499f-ffe0-c92dcae671aa",
        "colab": {
          "base_uri": "https://localhost:8080/",
          "height": 173
        }
      },
      "source": [
        "import pytorchcv\n",
        "from pytorchcv.model_provider import get_model as ptcv_get_model\n",
        "\n",
        "import powerlaw\n",
        "for modelname in pytorchcv.model_provider._models.keys():\n",
        "    if modelname.startswith('resnet') and modelname.endswith('cifar10'):\n",
        "        print(modelname)"
      ],
      "execution_count": 7,
      "outputs": [
        {
          "output_type": "stream",
          "text": [
            "resnet20_cifar10\n",
            "resnet56_cifar10\n",
            "resnet110_cifar10\n",
            "resnet164bn_cifar10\n",
            "resnet272bn_cifar10\n",
            "resnet542bn_cifar10\n",
            "resnet1001_cifar10\n",
            "resnet1202_cifar10\n",
            "time: 97.5 ms\n"
          ],
          "name": "stdout"
        }
      ]
    },
    {
      "cell_type": "code",
      "metadata": {
        "id": "OOrW3nihw7aP",
        "colab_type": "code",
        "outputId": "168d24a9-338d-41ad-fed8-bd7f37e2c8e0",
        "colab": {
          "base_uri": "https://localhost:8080/",
          "height": 86
        }
      },
      "source": [
        "thismodel = 'resnet20_cifar10'\n",
        "model = ptcv_get_model(thismodel, pretrained=True)\n",
        "train_dataset, _, train_loader, _ = get_data(batch_size=100)\n",
        "full_J = construct_diagJ(model, train_loader, batch_size=100, device='cuda:0') # The P100 on Colab should have enough memory to do this\n"
      ],
      "execution_count": 8,
      "outputs": [
        {
          "output_type": "stream",
          "text": [
            "Downloading /root/.torch/models/resnet20_cifar10-0597-9b0024ac.pth.zip from https://github.com/osmr/imgclsmob/releases/download/v0.0.163/resnet20_cifar10-0597-9b0024ac.pth.zip...\n",
            "Files already downloaded and verified\n",
            "Files already downloaded and verified\n",
            "time: 1min 19s\n"
          ],
          "name": "stdout"
        }
      ]
    },
    {
      "cell_type": "code",
      "metadata": {
        "id": "AYAovkwf9STL",
        "colab_type": "code",
        "colab": {
          "base_uri": "https://localhost:8080/",
          "height": 86
        },
        "outputId": "e9cbe050-32b6-4b2f-f692-90e7864184e8"
      },
      "source": [
        "GPUtil.showUtilization()"
      ],
      "execution_count": 9,
      "outputs": [
        {
          "output_type": "stream",
          "text": [
            "| ID | GPU | MEM |\n",
            "------------------\n",
            "|  0 |  0% | 81% |\n",
            "time: 48.7 ms\n"
          ],
          "name": "stdout"
        }
      ]
    },
    {
      "cell_type": "code",
      "metadata": {
        "id": "RMvXbVBcad6Z",
        "colab_type": "code",
        "outputId": "860ba403-dbd7-45d3-e23d-93c53193e608",
        "colab": {
          "base_uri": "https://localhost:8080/",
          "height": 34
        }
      },
      "source": [
        "M = sketch_JL_JJT(full_J, dim=10000, device=\"cuda:0\") #just enough memory to do this with P100"
      ],
      "execution_count": 10,
      "outputs": [
        {
          "output_type": "stream",
          "text": [
            "time: 6.09 s\n"
          ],
          "name": "stdout"
        }
      ]
    },
    {
      "cell_type": "code",
      "metadata": {
        "id": "imXQD1mY9bn9",
        "colab_type": "code",
        "colab": {
          "base_uri": "https://localhost:8080/",
          "height": 34
        },
        "outputId": "68961bdb-b98f-4707-a8aa-5f8c90c7af35"
      },
      "source": [
        "del full_J"
      ],
      "execution_count": 12,
      "outputs": [
        {
          "output_type": "stream",
          "text": [
            "time: 820 µs\n"
          ],
          "name": "stdout"
        }
      ]
    },
    {
      "cell_type": "code",
      "metadata": {
        "id": "BGWcRx9Nal0m",
        "colab_type": "code",
        "outputId": "16fe5f73-c631-4860-f27d-404097c3fa39",
        "colab": {
          "base_uri": "https://localhost:8080/",
          "height": 34
        }
      },
      "source": [
        "u, v = torch.eig(M)"
      ],
      "execution_count": 13,
      "outputs": [
        {
          "output_type": "stream",
          "text": [
            "time: 7min 11s\n"
          ],
          "name": "stdout"
        }
      ]
    },
    {
      "cell_type": "code",
      "metadata": {
        "id": "yCSROQrgap07",
        "colab_type": "code",
        "outputId": "e39ab251-e7c3-43f6-b649-c7eb716e49fa",
        "colab": {
          "base_uri": "https://localhost:8080/",
          "height": 960
        }
      },
      "source": [
        "import matplotlib.pyplot as plt\n",
        "\n",
        "plt.hist(u[:,0].detach().cpu().numpy(), bins=100)"
      ],
      "execution_count": 15,
      "outputs": [
        {
          "output_type": "execute_result",
          "data": {
            "text/plain": [
              "(array([2.942e+03, 1.309e+03, 8.430e+02, 6.180e+02, 4.890e+02, 3.970e+02,\n",
              "        3.320e+02, 2.850e+02, 2.470e+02, 2.160e+02, 1.910e+02, 1.720e+02,\n",
              "        1.540e+02, 1.390e+02, 1.270e+02, 1.150e+02, 1.040e+02, 9.600e+01,\n",
              "        8.700e+01, 8.300e+01, 7.600e+01, 6.900e+01, 6.500e+01, 5.800e+01,\n",
              "        5.500e+01, 5.000e+01, 4.800e+01, 4.300e+01, 4.200e+01, 3.800e+01,\n",
              "        3.600e+01, 3.400e+01, 3.000e+01, 2.800e+01, 2.800e+01, 2.500e+01,\n",
              "        2.500e+01, 2.200e+01, 2.000e+01, 1.900e+01, 1.800e+01, 1.700e+01,\n",
              "        1.500e+01, 1.400e+01, 1.400e+01, 1.200e+01, 1.100e+01, 1.200e+01,\n",
              "        9.000e+00, 8.000e+00, 1.000e+01, 9.000e+00, 8.000e+00, 6.000e+00,\n",
              "        6.000e+00, 6.000e+00, 6.000e+00, 4.000e+00, 5.000e+00, 4.000e+00,\n",
              "        4.000e+00, 4.000e+00, 2.000e+00, 4.000e+00, 3.000e+00, 2.000e+00,\n",
              "        3.000e+00, 3.000e+00, 1.000e+00, 1.000e+00, 4.000e+00, 1.000e+00,\n",
              "        2.000e+00, 0.000e+00, 2.000e+00, 1.000e+00, 1.000e+00, 2.000e+00,\n",
              "        1.000e+00, 0.000e+00, 2.000e+00, 0.000e+00, 1.000e+00, 0.000e+00,\n",
              "        1.000e+00, 0.000e+00, 0.000e+00, 1.000e+00, 0.000e+00, 1.000e+00,\n",
              "        0.000e+00, 1.000e+00, 0.000e+00, 0.000e+00, 0.000e+00, 0.000e+00,\n",
              "        0.000e+00, 0.000e+00, 0.000e+00, 1.000e+00]),\n",
              " array([0.00490328, 0.05171176, 0.09852024, 0.14532873, 0.19213721,\n",
              "        0.2389457 , 0.28575417, 0.33256266, 0.37937114, 0.42617962,\n",
              "        0.4729881 , 0.51979655, 0.56660503, 0.6134135 , 0.66022205,\n",
              "        0.70703053, 0.753839  , 0.8006475 , 0.847456  , 0.89426446,\n",
              "        0.94107294, 0.9878814 , 1.0346899 , 1.0814984 , 1.1283069 ,\n",
              "        1.1751153 , 1.2219238 , 1.2687323 , 1.3155408 , 1.3623493 ,\n",
              "        1.4091578 , 1.4559662 , 1.5027747 , 1.5495832 , 1.5963917 ,\n",
              "        1.6432002 , 1.6900086 , 1.7368171 , 1.7836256 , 1.8304341 ,\n",
              "        1.8772426 , 1.924051  , 1.9708595 , 2.017668  , 2.0644765 ,\n",
              "        2.111285  , 2.1580935 , 2.204902  , 2.2517104 , 2.298519  ,\n",
              "        2.3453274 , 2.3921359 , 2.4389443 , 2.4857528 , 2.5325613 ,\n",
              "        2.5793698 , 2.6261783 , 2.6729867 , 2.7197952 , 2.7666037 ,\n",
              "        2.8134122 , 2.8602207 , 2.9070292 , 2.9538376 , 3.000646  ,\n",
              "        3.0474546 , 3.094263  , 3.1410716 , 3.18788   , 3.2346885 ,\n",
              "        3.281497  , 3.3283055 , 3.375114  , 3.4219224 , 3.468731  ,\n",
              "        3.5155394 , 3.562348  , 3.6091564 , 3.6559649 , 3.7027733 ,\n",
              "        3.7495818 , 3.7963903 , 3.8431988 , 3.8900073 , 3.9368157 ,\n",
              "        3.9836242 , 4.0304327 , 4.077241  , 4.1240497 , 4.170858  ,\n",
              "        4.2176666 , 4.264475  , 4.3112836 , 4.358092  , 4.4049006 ,\n",
              "        4.451709  , 4.4985175 , 4.5453258 , 4.5921345 , 4.6389427 ,\n",
              "        4.6857514 ], dtype=float32),\n",
              " <a list of 100 Patch objects>)"
            ]
          },
          "metadata": {
            "tags": []
          },
          "execution_count": 15
        },
        {
          "output_type": "display_data",
          "data": {
            "image/png": "[encoded data removed]",
            "text/plain": [
              "<Figure size 432x288 with 1 Axes>"
            ]
          },
          "metadata": {
            "tags": [],
            "needs_background": "light"
          }
        },
        {
          "output_type": "stream",
          "text": [
            "time: 303 ms\n"
          ],
          "name": "stdout"
        }
      ]
    },
    {
      "cell_type": "code",
      "metadata": {
        "id": "LnH0p6q8dHmA",
        "colab_type": "code",
        "outputId": "4dad01f3-e28d-4752-f143-e7e4d45af2c1",
        "colab": {
          "base_uri": "https://localhost:8080/",
          "height": 34
        }
      },
      "source": [
        "t = u[:,0].detach().cpu().numpy()"
      ],
      "execution_count": 16,
      "outputs": [
        {
          "output_type": "stream",
          "text": [
            "time: 1.07 ms\n"
          ],
          "name": "stdout"
        }
      ]
    },
    {
      "cell_type": "code",
      "metadata": {
        "id": "jfJaJOJCc_q8",
        "colab_type": "code",
        "outputId": "64a958fd-17e0-434c-cca1-f8852c2f9aa9",
        "colab": {
          "base_uri": "https://localhost:8080/",
          "height": 601
        }
      },
      "source": [
        "fit = powerlaw.Fit(t)\n",
        "alpha = fit.power_law.alpha\n",
        "D = fit.power_law.D\n",
        "title = \"{} alpha = {:04.2f}  D = {:04.4f}\".format(thismodel, alpha, D)\n",
        "plt.title(title)\n",
        "plt.hist(t, bins=100)\n",
        "plt.show()\n",
        "\n",
        "fig2 = fit.plot_pdf(color='b', linewidth=2)\n",
        "fit.power_law.plot_pdf(color='b', linestyle='--', ax=fig2)\n",
        "fit.plot_ccdf(color='r', linewidth=2, ax=fig2)\n",
        "fit.power_law.plot_ccdf(color='r', linestyle='--', ax=fig2)\n",
        "plt.show()\n",
        "\n"
      ],
      "execution_count": 17,
      "outputs": [
        {
          "output_type": "stream",
          "text": [
            "Calculating best minimal value for power law fit\n",
            "/usr/local/lib/python3.6/dist-packages/powerlaw.py:700: RuntimeWarning: invalid value encountered in true_divide\n",
            "  (Theoretical_CDF * (1 - Theoretical_CDF))\n"
          ],
          "name": "stderr"
        },
        {
          "output_type": "display_data",
          "data": {
            "image/png": "[encoded data removed]",
            "text/plain": [
              "<Figure size 432x288 with 1 Axes>"
            ]
          },
          "metadata": {
            "tags": [],
            "needs_background": "light"
          }
        },
        {
          "output_type": "display_data",
          "data": {
            "image/png": "[encoded data removed]",
            "text/plain": [
              "<Figure size 432x288 with 1 Axes>"
            ]
          },
          "metadata": {
            "tags": [],
            "needs_background": "light"
          }
        },
        {
          "output_type": "stream",
          "text": [
            "time: 14.2 s\n"
          ],
          "name": "stdout"
        }
      ]
    }
  ]
}