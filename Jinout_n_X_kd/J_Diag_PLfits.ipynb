{
  "nbformat": 4,
  "nbformat_minor": 0,
  "metadata": {
    "colab": {
      "name": "Compare_Jacobian-Diag.ipynb",
      "provenance": [],
      "collapsed_sections": [],
      "machine_shape": "hm",
      "authorship_tag": "ABX9TyPatNfrcnrdcxi91HR0Bhds",
      "include_colab_link": true
    },
    "kernelspec": {
      "name": "python3",
      "display_name": "Python 3"
    },
    "accelerator": "GPU"
  },
  "cells": [
    {
      "cell_type": "markdown",
      "metadata": {
        "id": "view-in-github",
        "colab_type": "text"
      },
      "source": [
        "<a href=\"https://colab.research.google.com/github/CalculatedContent/ww-phys_theory/blob/master/Compare_Jacobian_Diag.ipynb\" target=\"_parent\"><img src=\"https://colab.research.google.com/assets/colab-badge.svg\" alt=\"Open In Colab\"/></a>"
      ]
    },
    {
      "cell_type": "markdown",
      "metadata": {
        "id": "w5SZBw7V8d8r",
        "colab_type": "text"
      },
      "source": [
        "### Compare Diagonal Jacobian on ResNet 1 batch\n",
        "\n",
        "Why is my data different from Johns ?\n"
      ]
    },
    {
      "cell_type": "code",
      "metadata": {
        "id": "ah8bp3K48eum",
        "colab_type": "code",
        "outputId": "562f646d-2ffd-4b32-8bfb-e14dbd866148",
        "colab": {
          "base_uri": "https://localhost:8080/",
          "height": 119
        }
      },
      "source": [
        "!pip install torch==1.5.0+cu101 torchvision==0.6.0+cu101 -f https://download.pytorch.org/whl/torch_stable.html"
      ],
      "execution_count": 1,
      "outputs": [
        {
          "output_type": "stream",
          "text": [
            "Looking in links: https://download.pytorch.org/whl/torch_stable.html\n",
            "Requirement already satisfied: torch==1.5.0+cu101 in /usr/local/lib/python3.6/dist-packages (1.5.0+cu101)\n",
            "Requirement already satisfied: torchvision==0.6.0+cu101 in /usr/local/lib/python3.6/dist-packages (0.6.0+cu101)\n",
            "Requirement already satisfied: future in /usr/local/lib/python3.6/dist-packages (from torch==1.5.0+cu101) (0.16.0)\n",
            "Requirement already satisfied: numpy in /usr/local/lib/python3.6/dist-packages (from torch==1.5.0+cu101) (1.18.4)\n",
            "Requirement already satisfied: pillow>=4.1.1 in /usr/local/lib/python3.6/dist-packages (from torchvision==0.6.0+cu101) (7.0.0)\n"
          ],
          "name": "stdout"
        }
      ]
    },
    {
      "cell_type": "code",
      "metadata": {
        "id": "lSlymHmAIph5",
        "colab_type": "code",
        "colab": {}
      },
      "source": [
        "thismodel = 'resnet20_cifar10'\n",
        "inum_start = 0"
      ],
      "execution_count": 0,
      "outputs": []
    },
    {
      "cell_type": "code",
      "metadata": {
        "id": "hZplJz8WqCkD",
        "colab_type": "code",
        "outputId": "50b0eddd-4279-44db-bf4f-0a1230ed7251",
        "colab": {
          "base_uri": "https://localhost:8080/",
          "height": 190
        }
      },
      "source": [
        "!pip install ipython-autotime\n",
        "%load_ext autotime"
      ],
      "execution_count": 3,
      "outputs": [
        {
          "output_type": "stream",
          "text": [
            "Collecting ipython-autotime\n",
            "  Downloading https://files.pythonhosted.org/packages/e6/f9/0626bbdb322e3a078d968e87e3b01341e7890544de891d0cb613641220e6/ipython-autotime-0.1.tar.bz2\n",
            "Building wheels for collected packages: ipython-autotime\n",
            "  Building wheel for ipython-autotime (setup.py) ... \u001b[?25l\u001b[?25hdone\n",
            "  Created wheel for ipython-autotime: filename=ipython_autotime-0.1-cp36-none-any.whl size=1832 sha256=b634cf0690bcb76d2f6ba149c080964ce764b231a60bb1af48ac11686cd22bd4\n",
            "  Stored in directory: /root/.cache/pip/wheels/d2/df/81/2db1e54bc91002cec40334629bc39cfa86dff540b304ebcd6e\n",
            "Successfully built ipython-autotime\n",
            "Installing collected packages: ipython-autotime\n",
            "Successfully installed ipython-autotime-0.1\n"
          ],
          "name": "stdout"
        }
      ]
    },
    {
      "cell_type": "code",
      "metadata": {
        "id": "KBc9xEiMgn5N",
        "colab_type": "code",
        "outputId": "56a06d66-e881-407f-e3b2-d236077e1a92",
        "colab": {
          "base_uri": "https://localhost:8080/",
          "height": 241
        }
      },
      "source": [
        "!pip install pytorchcv"
      ],
      "execution_count": 4,
      "outputs": [
        {
          "output_type": "stream",
          "text": [
            "Collecting pytorchcv\n",
            "\u001b[?25l  Downloading https://files.pythonhosted.org/packages/93/be/0bcd80dfc0d64e75ceb67836385402fece3c3b964c349172a21358813b25/pytorchcv-0.0.58-py2.py3-none-any.whl (435kB)\n",
            "\u001b[K     |████████████████████████████████| 440kB 2.7MB/s \n",
            "\u001b[?25hRequirement already satisfied: numpy in /usr/local/lib/python3.6/dist-packages (from pytorchcv) (1.18.4)\n",
            "Requirement already satisfied: requests in /usr/local/lib/python3.6/dist-packages (from pytorchcv) (2.23.0)\n",
            "Requirement already satisfied: chardet<4,>=3.0.2 in /usr/local/lib/python3.6/dist-packages (from requests->pytorchcv) (3.0.4)\n",
            "Requirement already satisfied: certifi>=2017.4.17 in /usr/local/lib/python3.6/dist-packages (from requests->pytorchcv) (2020.4.5.1)\n",
            "Requirement already satisfied: urllib3!=1.25.0,!=1.25.1,<1.26,>=1.21.1 in /usr/local/lib/python3.6/dist-packages (from requests->pytorchcv) (1.24.3)\n",
            "Requirement already satisfied: idna<3,>=2.5 in /usr/local/lib/python3.6/dist-packages (from requests->pytorchcv) (2.9)\n",
            "Installing collected packages: pytorchcv\n",
            "Successfully installed pytorchcv-0.0.58\n",
            "time: 4.69 s\n"
          ],
          "name": "stdout"
        }
      ]
    },
    {
      "cell_type": "code",
      "metadata": {
        "id": "81Phn2n_jEvO",
        "colab_type": "code",
        "outputId": "36b2f166-1f5a-4cae-b584-519243932b1a",
        "colab": {
          "base_uri": "https://localhost:8080/",
          "height": 258
        }
      },
      "source": [
        "!pip install GPUtil\n",
        "import GPUtil\n",
        "\n",
        "GPUtil.showUtilization()"
      ],
      "execution_count": 5,
      "outputs": [
        {
          "output_type": "stream",
          "text": [
            "Collecting GPUtil\n",
            "  Downloading https://files.pythonhosted.org/packages/ed/0e/5c61eedde9f6c87713e89d794f01e378cfd9565847d4576fa627d758c554/GPUtil-1.4.0.tar.gz\n",
            "Building wheels for collected packages: GPUtil\n",
            "  Building wheel for GPUtil (setup.py) ... \u001b[?25l\u001b[?25hdone\n",
            "  Created wheel for GPUtil: filename=GPUtil-1.4.0-cp36-none-any.whl size=7413 sha256=94e987022a6e2dddbfd9e597112a2dd575f5b9f397c89fc905b101d1334619fa\n",
            "  Stored in directory: /root/.cache/pip/wheels/3d/77/07/80562de4bb0786e5ea186911a2c831fdd0018bda69beab71fd\n",
            "Successfully built GPUtil\n",
            "Installing collected packages: GPUtil\n",
            "Successfully installed GPUtil-1.4.0\n",
            "| ID | GPU | MEM |\n",
            "------------------\n",
            "|  0 |  0% |  0% |\n",
            "time: 4.63 s\n"
          ],
          "name": "stdout"
        }
      ]
    },
    {
      "cell_type": "code",
      "metadata": {
        "id": "0rBl2Oq6DQu9",
        "colab_type": "code",
        "outputId": "d0ccd77f-81b2-4d48-9c52-2e97a8c8392b",
        "colab": {
          "base_uri": "https://localhost:8080/",
          "height": 51
        }
      },
      "source": [
        "!import os\n",
        "import time\n",
        "\n",
        "import numpy as np\n",
        "import pandas as pd\n",
        "\n",
        "import torch\n",
        "import torch.nn as nn\n",
        "import torch.nn.functional as F\n",
        "from torch.utils.data import DataLoader\n",
        "from torch.utils.data.dataset import Subset\n",
        "\n",
        "from torchvision import datasets\n",
        "from torchvision import transforms\n",
        "\n",
        "import matplotlib.pyplot as plt\n",
        "from PIL import Image\n",
        "\n",
        "import math\n",
        "import copy\n"
      ],
      "execution_count": 6,
      "outputs": [
        {
          "output_type": "stream",
          "text": [
            "/bin/bash: import: command not found\n",
            "time: 5.83 s\n"
          ],
          "name": "stdout"
        }
      ]
    },
    {
      "cell_type": "code",
      "metadata": {
        "id": "y80VeTU_jcI4",
        "colab_type": "code",
        "colab": {
          "base_uri": "https://localhost:8080/",
          "height": 34
        },
        "outputId": "87bd9ada-b757-4ad5-f3a4-d99f53525a32"
      },
      "source": [
        "def get_data(batch_size=100, train_range=None, test_range=None):\n",
        "  normalize = transforms.Normalize(mean=[x/255.0 for x in [125.3, 123.0, 113.9]], std=[x / 255.0 for x in [63.0, 62.1, 66.7]])\n",
        "  transform_train = transforms.Compose([\n",
        "          transforms.ToTensor(),\n",
        "          normalize])\n",
        "  transform_test = transforms.Compose([\n",
        "        transforms.ToTensor(),\n",
        "        normalize])\n",
        "  train_dataset = datasets.CIFAR10(root='data', \n",
        "                                train=True, \n",
        "                                transform=transform_train,\n",
        "                                download=True)\n",
        "  test_dataset = datasets.CIFAR10(root='data', \n",
        "                                train=False, \n",
        "                                transform=transform_test,\n",
        "                                download=True)  \n",
        "  \n",
        "  if train_range:\n",
        "      train_dataset = torch.utils.data.Subset(train_dataset, train_range)\n",
        "\n",
        "  if test_range:\n",
        "      teat_dataset = torch.utils.data.Subset(test_dataset, test_range)\n",
        "\n",
        "\n",
        "  train_loader = DataLoader(dataset=train_dataset, \n",
        "                          batch_size=batch_size,\n",
        "                          num_workers=4,\n",
        "                          shuffle=False)\n",
        "  test_loader = DataLoader(dataset=test_dataset, \n",
        "                         batch_size=batch_size,\n",
        "                         num_workers=4,\n",
        "                         shuffle=False)\n",
        "  return train_dataset, test_dataset, train_loader, test_loader"
      ],
      "execution_count": 7,
      "outputs": [
        {
          "output_type": "stream",
          "text": [
            "time: 10.6 ms\n"
          ],
          "name": "stdout"
        }
      ]
    },
    {
      "cell_type": "markdown",
      "metadata": {
        "id": "DmtV_hb3ShMf",
        "colab_type": "text"
      },
      "source": [
        "### $J$ Jacobian (replaces native pytorch 1.5 code)\n",
        "\n",
        "Uses autograd \n",
        "\n",
        "\n",
        "\n"
      ]
    },
    {
      "cell_type": "code",
      "metadata": {
        "id": "i3IWYa-PEPKn",
        "colab_type": "code",
        "outputId": "00c276f1-70ad-4378-ab37-019ec8c9c7cd",
        "colab": {
          "base_uri": "https://localhost:8080/",
          "height": 34
        }
      },
      "source": [
        "from torch.autograd.gradcheck import zero_gradients\n",
        "\n",
        "def fast_jacobian(inputs, output, batch_size, data_dim):\n",
        "\t\"\"\"\n",
        "\tinput: input for the function for which the Jacobian will\n",
        "\tcomputed. It will be batch_size*data_dim. Make sure that the\n",
        "\tinput is flagged as requires_grad=True with the torch.autograd.Variable\n",
        "\twrapper. \n",
        "\toutput: output of the function for which the Jacobian will\n",
        "\tbe computed. It will be batch_size*classes\n",
        "\treturn: Jacobian of dimension batch_size*classes*data_dim\n",
        "\t\"\"\"\n",
        "\tassert inputs.requires_grad\n",
        "\tprint(\"inputs: \",inputs.shape)\n",
        "\tnum_classes = output.size()[1] #0 index is batch\n",
        "\n",
        "\tjacobian = torch.zeros(num_classes, *inputs.size())\n",
        "\tgrad_output = torch.zeros(*output.size())\n",
        "\tif inputs.is_cuda:\n",
        "\t\tgrad_output = grad_output.cuda()\n",
        "\t\tjacobian = jacobian.cuda()\n",
        "\n",
        "\t#zero out gradients\n",
        "\t#compute gradient for one of the classes\n",
        "\tfor i in range(num_classes):\n",
        "\t\tzero_gradients(inputs)\n",
        "\t\tgrad_output.zero_()\n",
        "\t\tgrad_output[:,i] = 1\n",
        "\t\toutput.backward(grad_output, retain_graph=True)\n",
        "\t\tjacobian[i] = inputs.grad.data\n",
        "\n",
        "\tJ =  torch.transpose(jacobian, dim0=0, dim1=1)\n",
        "\tprint(\"fast J: \",J.shape, data_dim)\n",
        "\tJ = J.reshape(batch_size, data_dim)\n",
        " \n",
        "\treturn J\n"
      ],
      "execution_count": 8,
      "outputs": [
        {
          "output_type": "stream",
          "text": [
            "time: 10.9 ms\n"
          ],
          "name": "stdout"
        }
      ]
    },
    {
      "cell_type": "markdown",
      "metadata": {
        "id": "3cYoUS_mPlPs",
        "colab_type": "text"
      },
      "source": [
        "### Compare old and new diagonal;\n"
      ]
    },
    {
      "cell_type": "markdown",
      "metadata": {
        "id": "AlaD-n5OsIcO",
        "colab_type": "text"
      },
      "source": [
        "### ResNet "
      ]
    },
    {
      "cell_type": "code",
      "metadata": {
        "id": "nT8SeVRcyv2R",
        "colab_type": "code",
        "outputId": "3f8be27a-7adf-4819-9216-06137950ebb1",
        "colab": {
          "base_uri": "https://localhost:8080/",
          "height": 170
        }
      },
      "source": [
        "import pytorchcv\n",
        "from pytorchcv.model_provider import get_model as ptcv_get_model\n",
        "\n",
        "for modelname in pytorchcv.model_provider._models.keys():\n",
        "    if modelname.startswith('resnet') and modelname.endswith('cifar10'):\n",
        "        print(modelname)"
      ],
      "execution_count": 9,
      "outputs": [
        {
          "output_type": "stream",
          "text": [
            "resnet20_cifar10\n",
            "resnet56_cifar10\n",
            "resnet110_cifar10\n",
            "resnet164bn_cifar10\n",
            "resnet272bn_cifar10\n",
            "resnet542bn_cifar10\n",
            "resnet1001_cifar10\n",
            "resnet1202_cifar10\n",
            "time: 99.5 ms\n"
          ],
          "name": "stdout"
        }
      ]
    },
    {
      "cell_type": "code",
      "metadata": {
        "id": "g1hvNREVTDkZ",
        "colab_type": "code",
        "colab": {}
      },
      "source": [
        ""
      ],
      "execution_count": 0,
      "outputs": []
    },
    {
      "cell_type": "code",
      "metadata": {
        "id": "Ait1lWyqgbUP",
        "colab_type": "code",
        "colab": {
          "base_uri": "https://localhost:8080/",
          "height": 918
        },
        "outputId": "1630a13a-323c-46e6-ca67-14242a85de04"
      },
      "source": [
        "num_classes= 10\n",
        "device = 'cuda:0'\n",
        "\n",
        "data_dim = 3*32*32\n",
        "\n",
        "#model = ptcv_get_model(thismodel, pretrained=True)\n",
        "model = getMLP()\n",
        "model = model.to(device)\n",
        "\n",
        "for batch_size in range(1,5):\n",
        "  print(\"batch size \", batch_size)\n",
        "  train_dataset, test_dataset, train_loader, test_loader = get_data(batch_size=batch_size)\n",
        "\n",
        "  for batch, data in enumerate(test_loader):\n",
        "    features, labels = data\n",
        "    print(labels)\n",
        "\n",
        "    f0 = features[0,:,:,:]\n",
        "    print(\"||x[0]|| \",np.linalg.norm(f0.numpy()))\n",
        "    features[1:,:,:,:]=0.0\n",
        "\n",
        "    inputs = features.to(device)\n",
        "    inputs.requires_grad=True\n",
        "    outputs = model(inputs)\n",
        "\n",
        "    Jnew = fast_jacobian(inputs, outputs, batch_size, num_classes*data_dim)\n",
        "    j0new = Jnew.cpu().numpy()[0,:]\n",
        "\n",
        "    Jold = torch.autograd.functional.jacobian(model, inputs)\n",
        "    Jold = Jold.transpose(1,2)\n",
        "    print(\"Jold: \",Jold.shape)\n",
        "\n",
        "    il = labels[0]\n",
        "    print(il)\n",
        "    j0orig = Jold.cpu().numpy()[0,0,:,:,:,:]\n",
        "    j0old = Jold.cpu().numpy()[0,:,:,:,:,:]\n",
        "\n",
        "    print(\"||jnew|| \", np.linalg.norm(j0new))\n",
        "    print(\"||jorig|| \", np.linalg.norm(j0orig))\n",
        "    print(\"||jold|| \", np.linalg.norm(j0old))\n",
        "    print(\".   \")\n",
        "\n",
        "    break\n",
        "\n"
      ],
      "execution_count": 14,
      "outputs": [
        {
          "output_type": "stream",
          "text": [
            "batch size  1\n",
            "Files already downloaded and verified\n",
            "Files already downloaded and verified\n",
            "tensor([3])\n",
            "||x[0]||  41.729523\n",
            "inputs:  torch.Size([1, 3, 32, 32])\n",
            "fast J:  torch.Size([1, 10, 3, 32, 32]) 30720\n",
            "Jold:  torch.Size([1, 1, 10, 3, 32, 32])\n",
            "tensor(3)\n",
            "||jnew||  4.094996\n",
            "||jorig||  4.094996\n",
            "||jold||  4.094996\n",
            ".   \n",
            "batch size  2\n",
            "Files already downloaded and verified\n",
            "Files already downloaded and verified\n",
            "tensor([3, 8])\n",
            "||x[0]||  41.729523\n",
            "inputs:  torch.Size([2, 3, 32, 32])\n",
            "fast J:  torch.Size([2, 10, 3, 32, 32]) 30720\n",
            "Jold:  torch.Size([2, 2, 10, 3, 32, 32])\n",
            "tensor(3)\n",
            "||jnew||  4.094996\n",
            "||jorig||  4.094996\n",
            "||jold||  4.094996\n",
            ".   \n",
            "batch size  3\n",
            "Files already downloaded and verified\n",
            "Files already downloaded and verified\n",
            "tensor([3, 8, 8])\n",
            "||x[0]||  41.729523\n",
            "inputs:  torch.Size([3, 3, 32, 32])\n",
            "fast J:  torch.Size([3, 10, 3, 32, 32]) 30720\n",
            "Jold:  torch.Size([3, 3, 10, 3, 32, 32])\n",
            "tensor(3)\n",
            "||jnew||  4.094996\n",
            "||jorig||  4.094996\n",
            "||jold||  4.094996\n",
            ".   \n",
            "batch size  4\n",
            "Files already downloaded and verified\n",
            "Files already downloaded and verified\n",
            "tensor([3, 8, 8, 0])\n",
            "||x[0]||  41.729523\n",
            "inputs:  torch.Size([4, 3, 32, 32])\n",
            "fast J:  torch.Size([4, 10, 3, 32, 32]) 30720\n",
            "Jold:  torch.Size([4, 4, 10, 3, 32, 32])\n",
            "tensor(3)\n",
            "||jnew||  4.094996\n",
            "||jorig||  4.094996\n",
            "||jold||  4.094996\n",
            ".   \n",
            "time: 7.39 s\n"
          ],
          "name": "stdout"
        }
      ]
    },
    {
      "cell_type": "code",
      "metadata": {
        "id": "h2WfC_Ls3yMB",
        "colab_type": "code",
        "colab": {}
      },
      "source": [
        ""
      ],
      "execution_count": 0,
      "outputs": []
    },
    {
      "cell_type": "markdown",
      "metadata": {
        "id": "8xXEbMD59d32",
        "colab_type": "text"
      },
      "source": [
        "\n",
        " Model Jacobian must depend on batch size ?\n",
        "\n",
        " OR Is it the Batch Normalization\n",
        "\n",
        " TRY a 1 layer MLP\n"
      ]
    },
    {
      "cell_type": "code",
      "metadata": {
        "id": "dl_hsCK69fBc",
        "colab_type": "code",
        "colab": {
          "base_uri": "https://localhost:8080/",
          "height": 34
        },
        "outputId": "35e278e9-0ed1-4e63-fa45-2d0de5798c46"
      },
      "source": [
        "class MLP(nn.Module):\n",
        "  def __init__(self, n_units, init_scale=1.0):\n",
        "    super(MLP, self).__init__()\n",
        "\n",
        "    self._n_units = copy.copy(n_units)\n",
        "    self._layers = []\n",
        "    for i in range(1, len(n_units)):\n",
        "      layer = nn.Linear(n_units[i-1], n_units[i], bias=False)\n",
        "      variance = math.sqrt(2.0 / (n_units[i-1] + n_units[i]))\n",
        "      layer.weight.data.normal_(0.0, init_scale * variance)\n",
        "      self._layers.append(layer)\n",
        "\n",
        "      name = 'fc%d' % i\n",
        "      if i == len(n_units) - 1:\n",
        "        name = 'fc'  # the prediction layer is just called fc\n",
        "      self.add_module(name, layer)\n",
        "\n",
        "\n",
        "  def forward(self, x):\n",
        "    x = x.view(-1, self._n_units[0])\n",
        "    out = self._layers[0](x)\n",
        "    for layer in self._layers[1:]:\n",
        "      out = F.relu(out)\n",
        "      out = layer(out)\n",
        "    return out"
      ],
      "execution_count": 11,
      "outputs": [
        {
          "output_type": "stream",
          "text": [
            "time: 12.3 ms\n"
          ],
          "name": "stdout"
        }
      ]
    },
    {
      "cell_type": "code",
      "metadata": {
        "id": "8KqK8eRUmTqq",
        "colab_type": "code",
        "colab": {
          "base_uri": "https://localhost:8080/",
          "height": 34
        },
        "outputId": "9add49d9-d627-423c-884f-183aeba9708c"
      },
      "source": [
        "def getMLP():\n",
        "  mlp_spec = '512'\n",
        "  n_units = [int(x) for x in mlp_spec.split('x')] # hidden dims\n",
        "  n_units.append(10)  # output dim\n",
        "  n_units.insert(0, 32*32*3)        # input dim\n",
        "  model = MLP(n_units)\n",
        "  return model\n"
      ],
      "execution_count": 13,
      "outputs": [
        {
          "output_type": "stream",
          "text": [
            "time: 2.37 ms\n"
          ],
          "name": "stdout"
        }
      ]
    },
    {
      "cell_type": "code",
      "metadata": {
        "id": "6N-bSIkfo4As",
        "colab_type": "code",
        "colab": {}
      },
      "source": [
        ""
      ],
      "execution_count": 0,
      "outputs": []
    }
  ]
}