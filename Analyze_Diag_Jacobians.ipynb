{
  "nbformat": 4,
  "nbformat_minor": 0,
  "metadata": {
    "colab": {
      "name": "Analyze_Diag_Jacobians.ipynb",
      "provenance": [],
      "collapsed_sections": [],
      "authorship_tag": "ABX9TyNZSZuIDQ5BDfju3NT2OoWP",
      "include_colab_link": true
    },
    "kernelspec": {
      "name": "python3",
      "display_name": "Python 3"
    },
    "accelerator": "GPU",
    "widgets": {
      "application/vnd.jupyter.widget-state+json": {
        "785cf5c497dc4d31842bb8642910e8cf": {
          "model_module": "@jupyter-widgets/controls",
          "model_name": "HBoxModel",
          "state": {
            "_view_name": "HBoxView",
            "_dom_classes": [],
            "_model_name": "HBoxModel",
            "_view_module": "@jupyter-widgets/controls",
            "_model_module_version": "1.5.0",
            "_view_count": null,
            "_view_module_version": "1.5.0",
            "box_style": "",
            "layout": "IPY_MODEL_8508629a9efd417c82531ee43df19f71",
            "_model_module": "@jupyter-widgets/controls",
            "children": [
              "IPY_MODEL_1d7d7ffd2b0d43f9bd0b0f294f789f1d",
              "IPY_MODEL_0ccef29c4ce9495ba0e0bcf98170b6a4"
            ]
          }
        },
        "8508629a9efd417c82531ee43df19f71": {
          "model_module": "@jupyter-widgets/base",
          "model_name": "LayoutModel",
          "state": {
            "_view_name": "LayoutView",
            "grid_template_rows": null,
            "right": null,
            "justify_content": null,
            "_view_module": "@jupyter-widgets/base",
            "overflow": null,
            "_model_module_version": "1.2.0",
            "_view_count": null,
            "flex_flow": null,
            "width": null,
            "min_width": null,
            "border": null,
            "align_items": null,
            "bottom": null,
            "_model_module": "@jupyter-widgets/base",
            "top": null,
            "grid_column": null,
            "overflow_y": null,
            "overflow_x": null,
            "grid_auto_flow": null,
            "grid_area": null,
            "grid_template_columns": null,
            "flex": null,
            "_model_name": "LayoutModel",
            "justify_items": null,
            "grid_row": null,
            "max_height": null,
            "align_content": null,
            "visibility": null,
            "align_self": null,
            "height": null,
            "min_height": null,
            "padding": null,
            "grid_auto_rows": null,
            "grid_gap": null,
            "max_width": null,
            "order": null,
            "_view_module_version": "1.2.0",
            "grid_template_areas": null,
            "object_position": null,
            "object_fit": null,
            "grid_auto_columns": null,
            "margin": null,
            "display": null,
            "left": null
          }
        },
        "1d7d7ffd2b0d43f9bd0b0f294f789f1d": {
          "model_module": "@jupyter-widgets/controls",
          "model_name": "FloatProgressModel",
          "state": {
            "_view_name": "ProgressView",
            "style": "IPY_MODEL_75f0e4805ec54d7e91d91f759447ace2",
            "_dom_classes": [],
            "description": "",
            "_model_name": "FloatProgressModel",
            "bar_style": "info",
            "max": 1,
            "_view_module": "@jupyter-widgets/controls",
            "_model_module_version": "1.5.0",
            "value": 1,
            "_view_count": null,
            "_view_module_version": "1.5.0",
            "orientation": "horizontal",
            "min": 0,
            "description_tooltip": null,
            "_model_module": "@jupyter-widgets/controls",
            "layout": "IPY_MODEL_e352b653d172448faa49a91485559241"
          }
        },
        "0ccef29c4ce9495ba0e0bcf98170b6a4": {
          "model_module": "@jupyter-widgets/controls",
          "model_name": "HTMLModel",
          "state": {
            "_view_name": "HTMLView",
            "style": "IPY_MODEL_e631a0595ad84a55adb319b31947625b",
            "_dom_classes": [],
            "description": "",
            "_model_name": "HTMLModel",
            "placeholder": "​",
            "_view_module": "@jupyter-widgets/controls",
            "_model_module_version": "1.5.0",
            "value": " 170500096/? [00:30&lt;00:00, 17492715.76it/s]",
            "_view_count": null,
            "_view_module_version": "1.5.0",
            "description_tooltip": null,
            "_model_module": "@jupyter-widgets/controls",
            "layout": "IPY_MODEL_739708fc688244fa8af7bd3f61c607cf"
          }
        },
        "75f0e4805ec54d7e91d91f759447ace2": {
          "model_module": "@jupyter-widgets/controls",
          "model_name": "ProgressStyleModel",
          "state": {
            "_view_name": "StyleView",
            "_model_name": "ProgressStyleModel",
            "description_width": "initial",
            "_view_module": "@jupyter-widgets/base",
            "_model_module_version": "1.5.0",
            "_view_count": null,
            "_view_module_version": "1.2.0",
            "bar_color": null,
            "_model_module": "@jupyter-widgets/controls"
          }
        },
        "e352b653d172448faa49a91485559241": {
          "model_module": "@jupyter-widgets/base",
          "model_name": "LayoutModel",
          "state": {
            "_view_name": "LayoutView",
            "grid_template_rows": null,
            "right": null,
            "justify_content": null,
            "_view_module": "@jupyter-widgets/base",
            "overflow": null,
            "_model_module_version": "1.2.0",
            "_view_count": null,
            "flex_flow": null,
            "width": null,
            "min_width": null,
            "border": null,
            "align_items": null,
            "bottom": null,
            "_model_module": "@jupyter-widgets/base",
            "top": null,
            "grid_column": null,
            "overflow_y": null,
            "overflow_x": null,
            "grid_auto_flow": null,
            "grid_area": null,
            "grid_template_columns": null,
            "flex": null,
            "_model_name": "LayoutModel",
            "justify_items": null,
            "grid_row": null,
            "max_height": null,
            "align_content": null,
            "visibility": null,
            "align_self": null,
            "height": null,
            "min_height": null,
            "padding": null,
            "grid_auto_rows": null,
            "grid_gap": null,
            "max_width": null,
            "order": null,
            "_view_module_version": "1.2.0",
            "grid_template_areas": null,
            "object_position": null,
            "object_fit": null,
            "grid_auto_columns": null,
            "margin": null,
            "display": null,
            "left": null
          }
        },
        "e631a0595ad84a55adb319b31947625b": {
          "model_module": "@jupyter-widgets/controls",
          "model_name": "DescriptionStyleModel",
          "state": {
            "_view_name": "StyleView",
            "_model_name": "DescriptionStyleModel",
            "description_width": "",
            "_view_module": "@jupyter-widgets/base",
            "_model_module_version": "1.5.0",
            "_view_count": null,
            "_view_module_version": "1.2.0",
            "_model_module": "@jupyter-widgets/controls"
          }
        },
        "739708fc688244fa8af7bd3f61c607cf": {
          "model_module": "@jupyter-widgets/base",
          "model_name": "LayoutModel",
          "state": {
            "_view_name": "LayoutView",
            "grid_template_rows": null,
            "right": null,
            "justify_content": null,
            "_view_module": "@jupyter-widgets/base",
            "overflow": null,
            "_model_module_version": "1.2.0",
            "_view_count": null,
            "flex_flow": null,
            "width": null,
            "min_width": null,
            "border": null,
            "align_items": null,
            "bottom": null,
            "_model_module": "@jupyter-widgets/base",
            "top": null,
            "grid_column": null,
            "overflow_y": null,
            "overflow_x": null,
            "grid_auto_flow": null,
            "grid_area": null,
            "grid_template_columns": null,
            "flex": null,
            "_model_name": "LayoutModel",
            "justify_items": null,
            "grid_row": null,
            "max_height": null,
            "align_content": null,
            "visibility": null,
            "align_self": null,
            "height": null,
            "min_height": null,
            "padding": null,
            "grid_auto_rows": null,
            "grid_gap": null,
            "max_width": null,
            "order": null,
            "_view_module_version": "1.2.0",
            "grid_template_areas": null,
            "object_position": null,
            "object_fit": null,
            "grid_auto_columns": null,
            "margin": null,
            "display": null,
            "left": null
          }
        }
      }
    }
  },
  "cells": [
    {
      "cell_type": "markdown",
      "metadata": {
        "id": "view-in-github",
        "colab_type": "text"
      },
      "source": [
        "<a href=\"https://colab.research.google.com/github/CalculatedContent/ww-phys_theory/blob/master/Analyze_Diag_Jacobians.ipynb\" target=\"_parent\"><img src=\"https://colab.research.google.com/assets/colab-badge.svg\" alt=\"Open In Colab\"/></a>"
      ]
    },
    {
      "cell_type": "code",
      "metadata": {
        "id": "NUQIi9beyRWL",
        "colab_type": "code",
        "outputId": "b720b646-b94c-4d3a-8403-43ed91ce49bc",
        "colab": {
          "base_uri": "https://localhost:8080/",
          "height": 122
        }
      },
      "source": [
        "from google.colab import drive\n",
        "drive.mount('/content/drive')"
      ],
      "execution_count": 1,
      "outputs": [
        {
          "output_type": "stream",
          "text": [
            "Go to this URL in a browser: https://accounts.google.com/o/oauth2/auth?client_id=947318989803-6bn6qk8qdgf4n4g3pfee6491hc0brc4i.apps.googleusercontent.com&redirect_uri=urn%3aietf%3awg%3aoauth%3a2.0%3aoob&response_type=code&scope=email%20https%3a%2f%2fwww.googleapis.com%2fauth%2fdocs.test%20https%3a%2f%2fwww.googleapis.com%2fauth%2fdrive%20https%3a%2f%2fwww.googleapis.com%2fauth%2fdrive.photos.readonly%20https%3a%2f%2fwww.googleapis.com%2fauth%2fpeopleapi.readonly\n",
            "\n",
            "Enter your authorization code:\n",
            "··········\n",
            "Mounted at /content/drive\n"
          ],
          "name": "stdout"
        }
      ]
    },
    {
      "cell_type": "code",
      "metadata": {
        "id": "wLUbfCtp0RHs",
        "colab_type": "code",
        "colab": {}
      },
      "source": [
        "Jdir =  '/content/drive/My Drive/resnets_fast'"
      ],
      "execution_count": 0,
      "outputs": []
    },
    {
      "cell_type": "code",
      "metadata": {
        "id": "3QC4s-1yqNq_",
        "colab_type": "code",
        "colab": {
          "base_uri": "https://localhost:8080/",
          "height": 867
        },
        "outputId": "7c51381c-c458-4422-c693-04f110d56a6a"
      },
      "source": [
        "!ls \"$Jdir\""
      ],
      "execution_count": 8,
      "outputs": [
        {
          "output_type": "stream",
          "text": [
            "Jdiag_fast_resnet110_cifar10__0.csv\tJdiag_fast_resnet542bn_cifar10__19.csv\n",
            "Jdiag_fast_resnet110_cifar10__1.csv\tJdiag_fast_resnet542bn_cifar10__1.csv\n",
            "Jdiag_fast_resnet110_cifar10__2.csv\tJdiag_fast_resnet542bn_cifar10__20.csv\n",
            "Jdiag_fast_resnet110_cifar10__3.csv\tJdiag_fast_resnet542bn_cifar10__21.csv\n",
            "Jdiag_fast_resnet110_cifar10__4.csv\tJdiag_fast_resnet542bn_cifar10__22.csv\n",
            "Jdiag_fast_resnet110_cifar10__5.csv\tJdiag_fast_resnet542bn_cifar10__23.csv\n",
            "Jdiag_fast_resnet110_cifar10__6.csv\tJdiag_fast_resnet542bn_cifar10__24.csv\n",
            "Jdiag_fast_resnet110_cifar10__7.csv\tJdiag_fast_resnet542bn_cifar10__25.csv\n",
            "Jdiag_fast_resnet110_cifar10__8.csv\tJdiag_fast_resnet542bn_cifar10__26.csv\n",
            "Jdiag_fast_resnet110_cifar10__9.csv\tJdiag_fast_resnet542bn_cifar10__27.csv\n",
            "Jdiag_fast_resnet164bn_cifar10__0.csv\tJdiag_fast_resnet542bn_cifar10__28.csv\n",
            "Jdiag_fast_resnet164bn_cifar10__1.csv\tJdiag_fast_resnet542bn_cifar10__29.csv\n",
            "Jdiag_fast_resnet164bn_cifar10__2.csv\tJdiag_fast_resnet542bn_cifar10__2.csv\n",
            "Jdiag_fast_resnet164bn_cifar10__3.csv\tJdiag_fast_resnet542bn_cifar10__30.csv\n",
            "Jdiag_fast_resnet164bn_cifar10__4.csv\tJdiag_fast_resnet542bn_cifar10__31.csv\n",
            "Jdiag_fast_resnet164bn_cifar10__5.csv\tJdiag_fast_resnet542bn_cifar10__32.csv\n",
            "Jdiag_fast_resnet164bn_cifar10__6.csv\tJdiag_fast_resnet542bn_cifar10__33.csv\n",
            "Jdiag_fast_resnet164bn_cifar10__7.csv\tJdiag_fast_resnet542bn_cifar10__34.csv\n",
            "Jdiag_fast_resnet164bn_cifar10__8.csv\tJdiag_fast_resnet542bn_cifar10__35.csv\n",
            "Jdiag_fast_resnet164bn_cifar10__9.csv\tJdiag_fast_resnet542bn_cifar10__36.csv\n",
            "Jdiag_fast_resnet20_cifar10__0.csv\tJdiag_fast_resnet542bn_cifar10__37.csv\n",
            "Jdiag_fast_resnet20_cifar10__1.csv\tJdiag_fast_resnet542bn_cifar10__38.csv\n",
            "Jdiag_fast_resnet20_cifar10__2.csv\tJdiag_fast_resnet542bn_cifar10__39.csv\n",
            "Jdiag_fast_resnet20_cifar10__3.csv\tJdiag_fast_resnet542bn_cifar10__3.csv\n",
            "Jdiag_fast_resnet20_cifar10__4.csv\tJdiag_fast_resnet542bn_cifar10__40.csv\n",
            "Jdiag_fast_resnet20_cifar10__5.csv\tJdiag_fast_resnet542bn_cifar10__41.csv\n",
            "Jdiag_fast_resnet20_cifar10__6.csv\tJdiag_fast_resnet542bn_cifar10__42.csv\n",
            "Jdiag_fast_resnet20_cifar10__7.csv\tJdiag_fast_resnet542bn_cifar10__43.csv\n",
            "Jdiag_fast_resnet20_cifar10__8.csv\tJdiag_fast_resnet542bn_cifar10__44.csv\n",
            "Jdiag_fast_resnet20_cifar10__9.csv\tJdiag_fast_resnet542bn_cifar10__45.csv\n",
            "Jdiag_fast_resnet272bn_cifar10__0.csv\tJdiag_fast_resnet542bn_cifar10__46.csv\n",
            "Jdiag_fast_resnet272bn_cifar10__1.csv\tJdiag_fast_resnet542bn_cifar10__47.csv\n",
            "Jdiag_fast_resnet272bn_cifar10__2.csv\tJdiag_fast_resnet542bn_cifar10__48.csv\n",
            "Jdiag_fast_resnet272bn_cifar10__3.csv\tJdiag_fast_resnet542bn_cifar10__49.csv\n",
            "Jdiag_fast_resnet272bn_cifar10__4.csv\tJdiag_fast_resnet542bn_cifar10__4.csv\n",
            "Jdiag_fast_resnet272bn_cifar10__5.csv\tJdiag_fast_resnet542bn_cifar10__5.csv\n",
            "Jdiag_fast_resnet272bn_cifar10__6.csv\tJdiag_fast_resnet542bn_cifar10__6.csv\n",
            "Jdiag_fast_resnet272bn_cifar10__7.csv\tJdiag_fast_resnet542bn_cifar10__7.csv\n",
            "Jdiag_fast_resnet272bn_cifar10__8.csv\tJdiag_fast_resnet542bn_cifar10__8.csv\n",
            "Jdiag_fast_resnet272bn_cifar10__9.csv\tJdiag_fast_resnet542bn_cifar10__9.csv\n",
            "Jdiag_fast_resnet542bn_cifar10__0.csv\tJdiag_fast_resnet56_cifar10__0.csv\n",
            "Jdiag_fast_resnet542bn_cifar10__10.csv\tJdiag_fast_resnet56_cifar10__1.csv\n",
            "Jdiag_fast_resnet542bn_cifar10__11.csv\tJdiag_fast_resnet56_cifar10__2.csv\n",
            "Jdiag_fast_resnet542bn_cifar10__12.csv\tJdiag_fast_resnet56_cifar10__3.csv\n",
            "Jdiag_fast_resnet542bn_cifar10__13.csv\tJdiag_fast_resnet56_cifar10__4.csv\n",
            "Jdiag_fast_resnet542bn_cifar10__14.csv\tJdiag_fast_resnet56_cifar10__5.csv\n",
            "Jdiag_fast_resnet542bn_cifar10__15.csv\tJdiag_fast_resnet56_cifar10__6.csv\n",
            "Jdiag_fast_resnet542bn_cifar10__16.csv\tJdiag_fast_resnet56_cifar10__7.csv\n",
            "Jdiag_fast_resnet542bn_cifar10__17.csv\tJdiag_fast_resnet56_cifar10__8.csv\n",
            "Jdiag_fast_resnet542bn_cifar10__18.csv\tJdiag_fast_resnet56_cifar10__9.csv\n"
          ],
          "name": "stdout"
        }
      ]
    },
    {
      "cell_type": "code",
      "metadata": {
        "id": "TeFstR8-1JGS",
        "colab_type": "code",
        "outputId": "4f4dc933-6ba5-449f-f585-b06bd855b229",
        "colab": {
          "base_uri": "https://localhost:8080/",
          "height": 119
        }
      },
      "source": [
        "!pip install torch==1.5.0+cu101 torchvision==0.6.0+cu101 -f https://download.pytorch.org/whl/torch_stable.html"
      ],
      "execution_count": 9,
      "outputs": [
        {
          "output_type": "stream",
          "text": [
            "Looking in links: https://download.pytorch.org/whl/torch_stable.html\n",
            "Requirement already satisfied: torch==1.5.0+cu101 in /usr/local/lib/python3.6/dist-packages (1.5.0+cu101)\n",
            "Requirement already satisfied: torchvision==0.6.0+cu101 in /usr/local/lib/python3.6/dist-packages (0.6.0+cu101)\n",
            "Requirement already satisfied: numpy in /usr/local/lib/python3.6/dist-packages (from torch==1.5.0+cu101) (1.18.4)\n",
            "Requirement already satisfied: future in /usr/local/lib/python3.6/dist-packages (from torch==1.5.0+cu101) (0.16.0)\n",
            "Requirement already satisfied: pillow>=4.1.1 in /usr/local/lib/python3.6/dist-packages (from torchvision==0.6.0+cu101) (7.0.0)\n"
          ],
          "name": "stdout"
        }
      ]
    },
    {
      "cell_type": "code",
      "metadata": {
        "id": "NYU_7z6S4zPL",
        "colab_type": "code",
        "outputId": "5d315f97-a528-4dc0-9c1d-e8bff7dfc060",
        "colab": {
          "base_uri": "https://localhost:8080/",
          "height": 224
        }
      },
      "source": [
        "!pip install pytorchcv"
      ],
      "execution_count": 10,
      "outputs": [
        {
          "output_type": "stream",
          "text": [
            "Collecting pytorchcv\n",
            "\u001b[?25l  Downloading https://files.pythonhosted.org/packages/93/be/0bcd80dfc0d64e75ceb67836385402fece3c3b964c349172a21358813b25/pytorchcv-0.0.58-py2.py3-none-any.whl (435kB)\n",
            "\r\u001b[K     |▊                               | 10kB 5.5MB/s eta 0:00:01\r\u001b[K     |█▌                              | 20kB 1.4MB/s eta 0:00:01\r\u001b[K     |██▎                             | 30kB 1.9MB/s eta 0:00:01\r\u001b[K     |███                             | 40kB 1.6MB/s eta 0:00:01\r\u001b[K     |███▊                            | 51kB 1.9MB/s eta 0:00:01\r\u001b[K     |████▌                           | 61kB 2.1MB/s eta 0:00:01\r\u001b[K     |█████▎                          | 71kB 2.3MB/s eta 0:00:01\r\u001b[K     |██████                          | 81kB 2.5MB/s eta 0:00:01\r\u001b[K     |██████▊                         | 92kB 2.7MB/s eta 0:00:01\r\u001b[K     |███████▌                        | 102kB 2.6MB/s eta 0:00:01\r\u001b[K     |████████▎                       | 112kB 2.6MB/s eta 0:00:01\r\u001b[K     |█████████                       | 122kB 2.6MB/s eta 0:00:01\r\u001b[K     |█████████▉                      | 133kB 2.6MB/s eta 0:00:01\r\u001b[K     |██████████▌                     | 143kB 2.6MB/s eta 0:00:01\r\u001b[K     |███████████▎                    | 153kB 2.6MB/s eta 0:00:01\r\u001b[K     |████████████                    | 163kB 2.6MB/s eta 0:00:01\r\u001b[K     |████████████▉                   | 174kB 2.6MB/s eta 0:00:01\r\u001b[K     |█████████████▌                  | 184kB 2.6MB/s eta 0:00:01\r\u001b[K     |██████████████▎                 | 194kB 2.6MB/s eta 0:00:01\r\u001b[K     |███████████████                 | 204kB 2.6MB/s eta 0:00:01\r\u001b[K     |███████████████▉                | 215kB 2.6MB/s eta 0:00:01\r\u001b[K     |████████████████▋               | 225kB 2.6MB/s eta 0:00:01\r\u001b[K     |█████████████████▎              | 235kB 2.6MB/s eta 0:00:01\r\u001b[K     |██████████████████              | 245kB 2.6MB/s eta 0:00:01\r\u001b[K     |██████████████████▉             | 256kB 2.6MB/s eta 0:00:01\r\u001b[K     |███████████████████▋            | 266kB 2.6MB/s eta 0:00:01\r\u001b[K     |████████████████████▎           | 276kB 2.6MB/s eta 0:00:01\r\u001b[K     |█████████████████████           | 286kB 2.6MB/s eta 0:00:01\r\u001b[K     |█████████████████████▉          | 296kB 2.6MB/s eta 0:00:01\r\u001b[K     |██████████████████████▋         | 307kB 2.6MB/s eta 0:00:01\r\u001b[K     |███████████████████████▍        | 317kB 2.6MB/s eta 0:00:01\r\u001b[K     |████████████████████████        | 327kB 2.6MB/s eta 0:00:01\r\u001b[K     |████████████████████████▉       | 337kB 2.6MB/s eta 0:00:01\r\u001b[K     |█████████████████████████▋      | 348kB 2.6MB/s eta 0:00:01\r\u001b[K     |██████████████████████████▍     | 358kB 2.6MB/s eta 0:00:01\r\u001b[K     |███████████████████████████     | 368kB 2.6MB/s eta 0:00:01\r\u001b[K     |███████████████████████████▉    | 378kB 2.6MB/s eta 0:00:01\r\u001b[K     |████████████████████████████▋   | 389kB 2.6MB/s eta 0:00:01\r\u001b[K     |█████████████████████████████▍  | 399kB 2.6MB/s eta 0:00:01\r\u001b[K     |██████████████████████████████▏ | 409kB 2.6MB/s eta 0:00:01\r\u001b[K     |██████████████████████████████▉ | 419kB 2.6MB/s eta 0:00:01\r\u001b[K     |███████████████████████████████▋| 430kB 2.6MB/s eta 0:00:01\r\u001b[K     |████████████████████████████████| 440kB 2.6MB/s \n",
            "\u001b[?25hRequirement already satisfied: requests in /usr/local/lib/python3.6/dist-packages (from pytorchcv) (2.23.0)\n",
            "Requirement already satisfied: numpy in /usr/local/lib/python3.6/dist-packages (from pytorchcv) (1.18.4)\n",
            "Requirement already satisfied: idna<3,>=2.5 in /usr/local/lib/python3.6/dist-packages (from requests->pytorchcv) (2.9)\n",
            "Requirement already satisfied: urllib3!=1.25.0,!=1.25.1,<1.26,>=1.21.1 in /usr/local/lib/python3.6/dist-packages (from requests->pytorchcv) (1.24.3)\n",
            "Requirement already satisfied: chardet<4,>=3.0.2 in /usr/local/lib/python3.6/dist-packages (from requests->pytorchcv) (3.0.4)\n",
            "Requirement already satisfied: certifi>=2017.4.17 in /usr/local/lib/python3.6/dist-packages (from requests->pytorchcv) (2020.4.5.1)\n",
            "Installing collected packages: pytorchcv\n",
            "Successfully installed pytorchcv-0.0.58\n"
          ],
          "name": "stdout"
        }
      ]
    },
    {
      "cell_type": "code",
      "metadata": {
        "id": "xKe8jTlu1KWx",
        "colab_type": "code",
        "outputId": "ad585a65-8093-4f68-e8e0-3f347fb7986f",
        "colab": {
          "base_uri": "https://localhost:8080/",
          "height": 343
        }
      },
      "source": [
        "!pip install powerlaw"
      ],
      "execution_count": 11,
      "outputs": [
        {
          "output_type": "stream",
          "text": [
            "Collecting powerlaw\n",
            "  Downloading https://files.pythonhosted.org/packages/d5/4e/3ceab890fafff8e78a5fd7f5340c232c38b21d181fcd32d7a31079db3646/powerlaw-1.4.6.tar.gz\n",
            "Requirement already satisfied: scipy in /usr/local/lib/python3.6/dist-packages (from powerlaw) (1.4.1)\n",
            "Requirement already satisfied: numpy in /usr/local/lib/python3.6/dist-packages (from powerlaw) (1.18.4)\n",
            "Requirement already satisfied: matplotlib in /usr/local/lib/python3.6/dist-packages (from powerlaw) (3.2.1)\n",
            "Requirement already satisfied: mpmath in /usr/local/lib/python3.6/dist-packages (from powerlaw) (1.1.0)\n",
            "Requirement already satisfied: python-dateutil>=2.1 in /usr/local/lib/python3.6/dist-packages (from matplotlib->powerlaw) (2.8.1)\n",
            "Requirement already satisfied: cycler>=0.10 in /usr/local/lib/python3.6/dist-packages (from matplotlib->powerlaw) (0.10.0)\n",
            "Requirement already satisfied: kiwisolver>=1.0.1 in /usr/local/lib/python3.6/dist-packages (from matplotlib->powerlaw) (1.2.0)\n",
            "Requirement already satisfied: pyparsing!=2.0.4,!=2.1.2,!=2.1.6,>=2.0.1 in /usr/local/lib/python3.6/dist-packages (from matplotlib->powerlaw) (2.4.7)\n",
            "Requirement already satisfied: six>=1.5 in /usr/local/lib/python3.6/dist-packages (from python-dateutil>=2.1->matplotlib->powerlaw) (1.12.0)\n",
            "Building wheels for collected packages: powerlaw\n",
            "  Building wheel for powerlaw (setup.py) ... \u001b[?25l\u001b[?25hdone\n",
            "  Created wheel for powerlaw: filename=powerlaw-1.4.6-cp36-none-any.whl size=24787 sha256=55cd16dee567015691d47055d8d2301231095f3b477d89a2cd6c96c707ab84d5\n",
            "  Stored in directory: /root/.cache/pip/wheels/e0/27/02/08d0e2865072bfd8d7c655e290521e3feca3fc22f1ac460601\n",
            "Successfully built powerlaw\n",
            "Installing collected packages: powerlaw\n",
            "Successfully installed powerlaw-1.4.6\n"
          ],
          "name": "stdout"
        }
      ]
    },
    {
      "cell_type": "code",
      "metadata": {
        "id": "cQdUB88pbe2s",
        "colab_type": "code",
        "colab": {}
      },
      "source": [
        "import os\n",
        "import time\n",
        "\n",
        "import math\n",
        "import copy\n",
        "import glob\n",
        "\n",
        "import numpy as np\n",
        "import pandas as pd\n",
        "\n",
        "import torch\n",
        "import torch.nn as nn\n",
        "import torch.nn.functional as F\n",
        "from torch.utils.data import DataLoader\n",
        "from torch.utils.data.dataset import Subset\n",
        "\n",
        "from torchvision import datasets\n",
        "from torchvision import transforms\n",
        "\n",
        "import matplotlib.pyplot as plt\n",
        "from PIL import Image\n",
        "\n",
        "import powerlaw\n",
        "\n",
        "\n",
        "\n"
      ],
      "execution_count": 0,
      "outputs": []
    },
    {
      "cell_type": "code",
      "metadata": {
        "id": "mgGEKrb642F8",
        "colab_type": "code",
        "outputId": "703ede4b-bd98-4a2c-b9f8-5afe341e1ece",
        "colab": {
          "base_uri": "https://localhost:8080/",
          "height": 119
        }
      },
      "source": [
        "import pytorchcv\n",
        "from pytorchcv.model_provider import get_model as ptcv_get_model\n",
        "\n",
        "modelnames = [\"resnet20_cifar10\", \"resnet56_cifar10\", \"resnet110_cifar10\", \"resnet164bn_cifar10\", \"resnet272bn_cifar10\", \"resnet542bn_cifar10\"]\n",
        "\n",
        "for name in modelnames:\n",
        "  fullglob = Jdir+\"/Jdiag_fast_\"+name+\"_*.csv\"\n",
        "  print(name, len(glob.glob(fullglob)))"
      ],
      "execution_count": 15,
      "outputs": [
        {
          "output_type": "stream",
          "text": [
            "resnet20_cifar10 10\n",
            "resnet56_cifar10 10\n",
            "resnet110_cifar10 10\n",
            "resnet164bn_cifar10 10\n",
            "resnet272bn_cifar10 10\n",
            "resnet542bn_cifar10 50\n"
          ],
          "name": "stdout"
        }
      ]
    },
    {
      "cell_type": "code",
      "metadata": {
        "id": "f-YmdQrvUq_e",
        "colab_type": "code",
        "outputId": "cff5691a-910d-4b5a-9137-648b909a8010",
        "colab": {
          "base_uri": "https://localhost:8080/",
          "height": 1000
        }
      },
      "source": [
        "import numpy as np\n",
        "\n",
        "model_alphas = []\n",
        "model_maxlogJJs = []\n",
        "for name in modelnames:\n",
        "  fullglob = Jdir+\"/Jdiag_fast_\"+name+\"_*.csv\"\n",
        "  Jdiag = []\n",
        "  for fname in glob.glob(fullglob):\n",
        "    Jdiag.extend(np.loadtxt(fname))\n",
        "\n",
        "  fit = powerlaw.Fit(Jdiag)\n",
        "  alpha = fit.power_law.alpha\n",
        "  D = fit.power_law.D\n",
        "  title = \"{} alpha = {:04.2f}  D = {:04.4f}\".format(name, alpha, D)\n",
        "\n",
        "  model_alphas.append(alpha)\n",
        "\n",
        "  model_maxlogJJs.append(np.log10(np.max(Jdiag)))\n",
        "\n",
        "  plt.hist(Jdiag, bins=100)\n",
        "  plt.title(title)\n",
        "  plt.show()\n",
        "\n",
        "  fig2 = fit.plot_pdf(color='b', linewidth=2)\n",
        "  fit.power_law.plot_pdf(color='b', linestyle='--', ax=fig2)\n",
        "  fit.plot_ccdf(color='r', linewidth=2, ax=fig2)\n",
        "  fit.power_law.plot_ccdf(color='r', linestyle='--', ax=fig2)\n",
        "  plt.show()\n",
        "  "
      ],
      "execution_count": 17,
      "outputs": [
        {
          "output_type": "stream",
          "text": [
            "Calculating best minimal value for power law fit\n",
            "/usr/local/lib/python3.6/dist-packages/powerlaw.py:700: RuntimeWarning: invalid value encountered in true_divide\n",
            "  (Theoretical_CDF * (1 - Theoretical_CDF))\n"
          ],
          "name": "stderr"
        },
        {
          "output_type": "display_data",
          "data": {
            "image/png": "[encoded data removed]",
            "text/plain": [
              "<Figure size 432x288 with 1 Axes>"
            ]
          },
          "metadata": {
            "tags": [],
            "needs_background": "light"
          }
        },
        {
          "output_type": "display_data",
          "data": {
            "image/png": "[encoded data removed]",
            "text/plain": [
              "<Figure size 432x288 with 1 Axes>"
            ]
          },
          "metadata": {
            "tags": [],
            "needs_background": "light"
          }
        },
        {
          "output_type": "stream",
          "text": [
            "Calculating best minimal value for power law fit\n",
            "/usr/local/lib/python3.6/dist-packages/powerlaw.py:700: RuntimeWarning: invalid value encountered in true_divide\n",
            "  (Theoretical_CDF * (1 - Theoretical_CDF))\n"
          ],
          "name": "stderr"
        },
        {
          "output_type": "display_data",
          "data": {
            "image/png": "[encoded data removed]",
            "text/plain": [
              "<Figure size 432x288 with 1 Axes>"
            ]
          },
          "metadata": {
            "tags": [],
            "needs_background": "light"
          }
        },
        {
          "output_type": "display_data",
          "data": {
            "image/png": "[encoded data removed]",
            "text/plain": [
              "<Figure size 432x288 with 1 Axes>"
            ]
          },
          "metadata": {
            "tags": [],
            "needs_background": "light"
          }
        },
        {
          "output_type": "stream",
          "text": [
            "Calculating best minimal value for power law fit\n",
            "/usr/local/lib/python3.6/dist-packages/powerlaw.py:700: RuntimeWarning: invalid value encountered in true_divide\n",
            "  (Theoretical_CDF * (1 - Theoretical_CDF))\n"
          ],
          "name": "stderr"
        },
        {
          "output_type": "display_data",
          "data": {
            "image/png": "[encoded data removed]",
            "text/plain": [
              "<Figure size 432x288 with 1 Axes>"
            ]
          },
          "metadata": {
            "tags": [],
            "needs_background": "light"
          }
        },
        {
          "output_type": "display_data",
          "data": {
            "image/png": "[encoded data removed]",
            "text/plain": [
              "<Figure size 432x288 with 1 Axes>"
            ]
          },
          "metadata": {
            "tags": [],
            "needs_background": "light"
          }
        },
        {
          "output_type": "stream",
          "text": [
            "Calculating best minimal value for power law fit\n",
            "/usr/local/lib/python3.6/dist-packages/powerlaw.py:700: RuntimeWarning: invalid value encountered in true_divide\n",
            "  (Theoretical_CDF * (1 - Theoretical_CDF))\n"
          ],
          "name": "stderr"
        },
        {
          "output_type": "display_data",
          "data": {
            "image/png": "[encoded data removed]",
            "text/plain": [
              "<Figure size 432x288 with 1 Axes>"
            ]
          },
          "metadata": {
            "tags": [],
            "needs_background": "light"
          }
        },
        {
          "output_type": "display_data",
          "data": {
            "image/png": "[encoded data removed]",
            "text/plain": [
              "<Figure size 432x288 with 1 Axes>"
            ]
          },
          "metadata": {
            "tags": [],
            "needs_background": "light"
          }
        },
        {
          "output_type": "stream",
          "text": [
            "Calculating best minimal value for power law fit\n",
            "/usr/local/lib/python3.6/dist-packages/powerlaw.py:700: RuntimeWarning: invalid value encountered in true_divide\n",
            "  (Theoretical_CDF * (1 - Theoretical_CDF))\n"
          ],
          "name": "stderr"
        },
        {
          "output_type": "display_data",
          "data": {
            "image/png": "[encoded data removed]",
            "text/plain": [
              "<Figure size 432x288 with 1 Axes>"
            ]
          },
          "metadata": {
            "tags": [],
            "needs_background": "light"
          }
        },
        {
          "output_type": "display_data",
          "data": {
            "image/png": "[encoded data removed]",
            "text/plain": [
              "<Figure size 432x288 with 1 Axes>"
            ]
          },
          "metadata": {
            "tags": [],
            "needs_background": "light"
          }
        },
        {
          "output_type": "stream",
          "text": [
            "Calculating best minimal value for power law fit\n",
            "/usr/local/lib/python3.6/dist-packages/powerlaw.py:700: RuntimeWarning: invalid value encountered in true_divide\n",
            "  (Theoretical_CDF * (1 - Theoretical_CDF))\n"
          ],
          "name": "stderr"
        },
        {
          "output_type": "display_data",
          "data": {
            "image/png": "[encoded data removed]",
            "text/plain": [
              "<Figure size 432x288 with 1 Axes>"
            ]
          },
          "metadata": {
            "tags": [],
            "needs_background": "light"
          }
        },
        {
          "output_type": "display_data",
          "data": {
            "image/png": "[encoded data removed]",
            "text/plain": [
              "<Figure size 432x288 with 1 Axes>"
            ]
          },
          "metadata": {
            "tags": [],
            "needs_background": "light"
          }
        }
      ]
    },
    {
      "cell_type": "markdown",
      "metadata": {
        "id": "4LiSIwvIhKey",
        "colab_type": "text"
      },
      "source": [
        "### Look at long tail data points\n",
        "\n",
        "- are they conserved across runs. NOT At ALL\n"
      ]
    },
    {
      "cell_type": "code",
      "metadata": {
        "id": "RtofSbthLnNK",
        "colab_type": "code",
        "outputId": "37c7ddbf-702e-45da-e8fc-53ae33b07056",
        "colab": {
          "base_uri": "https://localhost:8080/",
          "height": 34
        }
      },
      "source": [
        "a = [1,2,3,4,5]\n",
        "np.array(a).argsort()[-3:][::-1]"
      ],
      "execution_count": 18,
      "outputs": [
        {
          "output_type": "execute_result",
          "data": {
            "text/plain": [
              "array([4, 3, 2])"
            ]
          },
          "metadata": {
            "tags": []
          },
          "execution_count": 18
        }
      ]
    },
    {
      "cell_type": "code",
      "metadata": {
        "id": "qAsE117tXpVt",
        "colab_type": "code",
        "outputId": "dd53d9d6-741f-4790-c224-d69f0f4f6e11",
        "colab": {
          "base_uri": "https://localhost:8080/",
          "height": 409
        }
      },
      "source": [
        "\n",
        "for name in modelnames:\n",
        "  fullglob = Jdir+\"/Jdiag_fast_\"+name+\"_*.csv\"\n",
        "  Jdiag = []\n",
        "  for fname in glob.glob(fullglob):\n",
        "    Jdiag.extend(np.loadtxt(fname))\n",
        "\n",
        "  topN = np.array(Jdiag).argsort()[-5:]\n",
        "  maxlogJJ = np.log10(np.max(Jdiag))\n",
        "\n",
        "  print(name, topN, maxlogJJ)\n"
      ],
      "execution_count": 19,
      "outputs": [
        {
          "output_type": "error",
          "ename": "ValueError",
          "evalue": "ignored",
          "traceback": [
            "\u001b[0;31m---------------------------------------------------------------------------\u001b[0m",
            "\u001b[0;31mValueError\u001b[0m                                Traceback (most recent call last)",
            "\u001b[0;32m<ipython-input-19-601f4387a016>\u001b[0m in \u001b[0;36m<module>\u001b[0;34m()\u001b[0m\n\u001b[1;32m      7\u001b[0m \u001b[0;34m\u001b[0m\u001b[0m\n\u001b[1;32m      8\u001b[0m   \u001b[0mtopN\u001b[0m \u001b[0;34m=\u001b[0m \u001b[0mnp\u001b[0m\u001b[0;34m.\u001b[0m\u001b[0marray\u001b[0m\u001b[0;34m(\u001b[0m\u001b[0mJdiag\u001b[0m\u001b[0;34m)\u001b[0m\u001b[0;34m.\u001b[0m\u001b[0margsort\u001b[0m\u001b[0;34m(\u001b[0m\u001b[0;34m)\u001b[0m\u001b[0;34m[\u001b[0m\u001b[0;34m-\u001b[0m\u001b[0;36m5\u001b[0m\u001b[0;34m:\u001b[0m\u001b[0;34m]\u001b[0m\u001b[0;34m\u001b[0m\u001b[0;34m\u001b[0m\u001b[0m\n\u001b[0;32m----> 9\u001b[0;31m   \u001b[0mmaxlogJJ\u001b[0m \u001b[0;34m=\u001b[0m \u001b[0mnp\u001b[0m\u001b[0;34m.\u001b[0m\u001b[0mlog10\u001b[0m\u001b[0;34m(\u001b[0m\u001b[0mnp\u001b[0m\u001b[0;34m.\u001b[0m\u001b[0mmax\u001b[0m\u001b[0;34m(\u001b[0m\u001b[0mJdiag\u001b[0m\u001b[0;34m)\u001b[0m\u001b[0;34m)\u001b[0m\u001b[0;34m\u001b[0m\u001b[0;34m\u001b[0m\u001b[0m\n\u001b[0m\u001b[1;32m     10\u001b[0m \u001b[0;34m\u001b[0m\u001b[0m\n\u001b[1;32m     11\u001b[0m   \u001b[0mprint\u001b[0m\u001b[0;34m(\u001b[0m\u001b[0mname\u001b[0m\u001b[0;34m,\u001b[0m \u001b[0mtopN\u001b[0m\u001b[0;34m,\u001b[0m \u001b[0mmaxlogJJ\u001b[0m\u001b[0;34m)\u001b[0m\u001b[0;34m\u001b[0m\u001b[0;34m\u001b[0m\u001b[0m\n",
            "\u001b[0;32m<__array_function__ internals>\u001b[0m in \u001b[0;36mamax\u001b[0;34m(*args, **kwargs)\u001b[0m\n",
            "\u001b[0;32m/usr/local/lib/python3.6/dist-packages/numpy/core/fromnumeric.py\u001b[0m in \u001b[0;36mamax\u001b[0;34m(a, axis, out, keepdims, initial, where)\u001b[0m\n\u001b[1;32m   2666\u001b[0m     \"\"\"\n\u001b[1;32m   2667\u001b[0m     return _wrapreduction(a, np.maximum, 'max', axis, None, out,\n\u001b[0;32m-> 2668\u001b[0;31m                           keepdims=keepdims, initial=initial, where=where)\n\u001b[0m\u001b[1;32m   2669\u001b[0m \u001b[0;34m\u001b[0m\u001b[0m\n\u001b[1;32m   2670\u001b[0m \u001b[0;34m\u001b[0m\u001b[0m\n",
            "\u001b[0;32m/usr/local/lib/python3.6/dist-packages/numpy/core/fromnumeric.py\u001b[0m in \u001b[0;36m_wrapreduction\u001b[0;34m(obj, ufunc, method, axis, dtype, out, **kwargs)\u001b[0m\n\u001b[1;32m     88\u001b[0m                 \u001b[0;32mreturn\u001b[0m \u001b[0mreduction\u001b[0m\u001b[0;34m(\u001b[0m\u001b[0maxis\u001b[0m\u001b[0;34m=\u001b[0m\u001b[0maxis\u001b[0m\u001b[0;34m,\u001b[0m \u001b[0mout\u001b[0m\u001b[0;34m=\u001b[0m\u001b[0mout\u001b[0m\u001b[0;34m,\u001b[0m \u001b[0;34m**\u001b[0m\u001b[0mpasskwargs\u001b[0m\u001b[0;34m)\u001b[0m\u001b[0;34m\u001b[0m\u001b[0;34m\u001b[0m\u001b[0m\n\u001b[1;32m     89\u001b[0m \u001b[0;34m\u001b[0m\u001b[0m\n\u001b[0;32m---> 90\u001b[0;31m     \u001b[0;32mreturn\u001b[0m \u001b[0mufunc\u001b[0m\u001b[0;34m.\u001b[0m\u001b[0mreduce\u001b[0m\u001b[0;34m(\u001b[0m\u001b[0mobj\u001b[0m\u001b[0;34m,\u001b[0m \u001b[0maxis\u001b[0m\u001b[0;34m,\u001b[0m \u001b[0mdtype\u001b[0m\u001b[0;34m,\u001b[0m \u001b[0mout\u001b[0m\u001b[0;34m,\u001b[0m \u001b[0;34m**\u001b[0m\u001b[0mpasskwargs\u001b[0m\u001b[0;34m)\u001b[0m\u001b[0;34m\u001b[0m\u001b[0;34m\u001b[0m\u001b[0m\n\u001b[0m\u001b[1;32m     91\u001b[0m \u001b[0;34m\u001b[0m\u001b[0m\n\u001b[1;32m     92\u001b[0m \u001b[0;34m\u001b[0m\u001b[0m\n",
            "\u001b[0;31mValueError\u001b[0m: zero-size array to reduction operation maximum which has no identity"
          ]
        }
      ]
    },
    {
      "cell_type": "markdown",
      "metadata": {
        "id": "XOX060xdeA3c",
        "colab_type": "text"
      },
      "source": [
        "### Evaluation of the models"
      ]
    },
    {
      "cell_type": "code",
      "metadata": {
        "id": "b5HrR_oPiDx8",
        "colab_type": "code",
        "colab": {}
      },
      "source": [
        "import logging\n",
        "import os\n",
        "\n",
        "import numpy as np\n",
        "import torch\n",
        "from torch.autograd import Variable\n"
      ],
      "execution_count": 0,
      "outputs": []
    },
    {
      "cell_type": "code",
      "metadata": {
        "id": "Jhsa8xFdlexQ",
        "colab_type": "code",
        "colab": {}
      },
      "source": [
        "def get_data(batch_size=100, train_range=None, test_range=None):\n",
        "  normalize = transforms.Normalize(mean=[x/255.0 for x in [125.3, 123.0, 113.9]], std=[x / 255.0 for x in [63.0, 62.1, 66.7]])\n",
        "  transform_train = transforms.Compose([\n",
        "          transforms.ToTensor(),\n",
        "          normalize])\n",
        "  transform_test = transforms.Compose([\n",
        "        transforms.ToTensor(),\n",
        "        normalize])\n",
        "  train_dataset = datasets.CIFAR10(root='data', \n",
        "                                train=True, \n",
        "                                transform=transform_train,\n",
        "                                download=True)\n",
        "  test_dataset = datasets.CIFAR10(root='data', \n",
        "                                train=False, \n",
        "                                transform=transform_test,\n",
        "                                download=True)  \n",
        "  \n",
        "  if train_range:\n",
        "      train_dataset = torch.utils.data.Subset(train_dataset, train_range)\n",
        "\n",
        "  if test_range:\n",
        "      teat_dataset = torch.utils.data.Subset(test_dataset, test_range)\n",
        "\n",
        "\n",
        "  train_loader = DataLoader(dataset=train_dataset, \n",
        "                          batch_size=batch_size,\n",
        "                          num_workers=4,\n",
        "                          shuffle=False)\n",
        "  test_loader = DataLoader(dataset=test_dataset, \n",
        "                         batch_size=batch_size,\n",
        "                         num_workers=4,\n",
        "                         shuffle=False)\n",
        "  return train_dataset, test_dataset, train_loader, test_loader\n",
        "\n"
      ],
      "execution_count": 0,
      "outputs": []
    },
    {
      "cell_type": "code",
      "metadata": {
        "id": "SocNfZ-Rln1t",
        "colab_type": "code",
        "outputId": "14bcc086-e169-4e8d-8f4f-12910bafe5bd",
        "colab": {
          "base_uri": "https://localhost:8080/",
          "height": 100,
          "referenced_widgets": [
            "785cf5c497dc4d31842bb8642910e8cf",
            "8508629a9efd417c82531ee43df19f71",
            "1d7d7ffd2b0d43f9bd0b0f294f789f1d",
            "0ccef29c4ce9495ba0e0bcf98170b6a4",
            "75f0e4805ec54d7e91d91f759447ace2",
            "e352b653d172448faa49a91485559241",
            "e631a0595ad84a55adb319b31947625b",
            "739708fc688244fa8af7bd3f61c607cf"
          ]
        }
      },
      "source": [
        "train_dataset, test_dataset, train_loader, test_loader = get_data(batch_size=100)"
      ],
      "execution_count": 22,
      "outputs": [
        {
          "output_type": "stream",
          "text": [
            "Downloading https://www.cs.toronto.edu/~kriz/cifar-10-python.tar.gz to data/cifar-10-python.tar.gz\n"
          ],
          "name": "stdout"
        },
        {
          "output_type": "display_data",
          "data": {
            "application/vnd.jupyter.widget-view+json": {
              "model_id": "785cf5c497dc4d31842bb8642910e8cf",
              "version_minor": 0,
              "version_major": 2
            },
            "text/plain": [
              "HBox(children=(FloatProgress(value=1.0, bar_style='info', max=1.0), HTML(value='')))"
            ]
          },
          "metadata": {
            "tags": []
          }
        },
        {
          "output_type": "stream",
          "text": [
            "Extracting data/cifar-10-python.tar.gz to data\n",
            "Files already downloaded and verified\n"
          ],
          "name": "stdout"
        }
      ]
    },
    {
      "cell_type": "code",
      "metadata": {
        "id": "xwQRa4LRhqjp",
        "colab_type": "code",
        "colab": {}
      },
      "source": [
        "def evaluate(model, dataloader):\n",
        "\n",
        "    model.to('cuda:0')\n",
        "    model.eval()\n",
        "\n",
        "    correct = 0\n",
        "     # compute metrics over the dataset\n",
        "    for data, labels in dataloader:\n",
        "        data, labels = data.to('cuda:0'), labels.to('cuda:0')\n",
        "        data, labels = Variable(data), Variable(labels)\n",
        "        \n",
        "        # compute model output\n",
        "        output = model(data)\n",
        "\n",
        "        # extract data from torch Variable, move to cpu, convert to numpy arrays\n",
        "        output = output.data.cpu().numpy()\n",
        "        labels = labels.data.cpu().numpy()\n",
        "\n",
        "        correct += np.sum([np.argmax(output[i])==labels[i] for i in range(len(labels))])\n",
        "        \n",
        "    accuracy = 100 * correct / len(dataloader)\n",
        "    return accuracy\n"
      ],
      "execution_count": 0,
      "outputs": []
    },
    {
      "cell_type": "code",
      "metadata": {
        "id": "syl9N0n3eA-r",
        "colab_type": "code",
        "outputId": "4380a9bc-5ffa-49e5-a1d7-53304d10bc3a",
        "colab": {
          "base_uri": "https://localhost:8080/",
          "height": 241
        }
      },
      "source": [
        "model_accs = []\n",
        "for modelname in pytorchcv.model_provider._models.keys():\n",
        "    if modelname in modelnames:\n",
        "        model = ptcv_get_model(modelname, pretrained=True)\n",
        "        acc = 100.0* evaluate(model, test_loader) / 10000\n",
        "        print(modelname, acc)\n",
        "        model_accs.append(acc)"
      ],
      "execution_count": 24,
      "outputs": [
        {
          "output_type": "stream",
          "text": [
            "Downloading /root/.torch/models/resnet20_cifar10-0597-9b0024ac.pth.zip from https://github.com/osmr/imgclsmob/releases/download/v0.0.163/resnet20_cifar10-0597-9b0024ac.pth.zip...\n",
            "resnet20_cifar10 93.9\n",
            "Downloading /root/.torch/models/resnet56_cifar10-0452-628c42a2.pth.zip from https://github.com/osmr/imgclsmob/releases/download/v0.0.163/resnet56_cifar10-0452-628c42a2.pth.zip...\n",
            "resnet56_cifar10 95.32\n",
            "Downloading /root/.torch/models/resnet110_cifar10-0369-4d6ca1fc.pth.zip from https://github.com/osmr/imgclsmob/releases/download/v0.0.163/resnet110_cifar10-0369-4d6ca1fc.pth.zip...\n",
            "resnet110_cifar10 96.26\n",
            "Downloading /root/.torch/models/resnet164bn_cifar10-0368-74ae9f4b.pth.zip from https://github.com/osmr/imgclsmob/releases/download/v0.0.179/resnet164bn_cifar10-0368-74ae9f4b.pth.zip...\n",
            "resnet164bn_cifar10 96.24\n",
            "Downloading /root/.torch/models/resnet272bn_cifar10-0333-84f28e0c.pth.zip from https://github.com/osmr/imgclsmob/releases/download/v0.0.368/resnet272bn_cifar10-0333-84f28e0c.pth.zip...\n",
            "resnet272bn_cifar10 96.63\n",
            "Downloading /root/.torch/models/resnet542bn_cifar10-0343-0fd36dd1.pth.zip from https://github.com/osmr/imgclsmob/releases/download/v0.0.369/resnet542bn_cifar10-0343-0fd36dd1.pth.zip...\n",
            "resnet542bn_cifar10 96.52\n"
          ],
          "name": "stdout"
        }
      ]
    },
    {
      "cell_type": "markdown",
      "metadata": {
        "id": "uA8nd3ZZQyH6",
        "colab_type": "text"
      },
      "source": [
        "### Compare Accuracy to Alpha"
      ]
    },
    {
      "cell_type": "markdown",
      "metadata": {
        "id": "S65coN5Md5tT",
        "colab_type": "text"
      },
      "source": [
        "### What do the training data points look like ?\n",
        "\n",
        "\n"
      ]
    },
    {
      "cell_type": "code",
      "metadata": {
        "id": "-N3ehh50ecPY",
        "colab_type": "code",
        "outputId": "7d845dc5-ae95-460f-b6ba-7dc18ff9ca3c",
        "colab": {
          "base_uri": "https://localhost:8080/",
          "height": 119
        }
      },
      "source": [
        "for name, acc, alpha in zip(modelnames, model_accs, model_alphas):\n",
        "  print(name, acc, alpha)"
      ],
      "execution_count": 25,
      "outputs": [
        {
          "output_type": "stream",
          "text": [
            "resnet20_cifar10 93.9 5.6649385708074975\n",
            "resnet56_cifar10 95.32 2.9326560050295027\n",
            "resnet110_cifar10 96.26 3.558822621120992\n",
            "resnet164bn_cifar10 96.24 3.107013382186846\n",
            "resnet272bn_cifar10 96.63 2.956279964292057\n",
            "resnet542bn_cifar10 96.52 3.006979932196276\n"
          ],
          "name": "stdout"
        }
      ]
    },
    {
      "cell_type": "code",
      "metadata": {
        "id": "mWvCMCNzvQB6",
        "colab_type": "code",
        "outputId": "d0687dac-2787-4c21-e869-ded861eff046",
        "colab": {
          "base_uri": "https://localhost:8080/",
          "height": 418
        }
      },
      "source": [
        "for name, acc, alpha in zip(modelnames, model_accs, model_alphas):\n",
        "  print(name, acc, alpha)\n",
        "  plt.scatter(acc, alpha, label=name)\n",
        "plt.xlabel(\"Test Accuracy\")\n",
        "plt.ylabel(r\"$\\alpha$\")\n",
        "plt.title(r\"Resnet Models: fit diag($\\mathbf{J}^{T}\\mathbf{J}$) to Power Law \")\n",
        "plt.legend()"
      ],
      "execution_count": 29,
      "outputs": [
        {
          "output_type": "stream",
          "text": [
            "resnet20_cifar10 93.9 5.6649385708074975\n",
            "resnet56_cifar10 95.32 2.9326560050295027\n",
            "resnet110_cifar10 96.26 3.558822621120992\n",
            "resnet164bn_cifar10 96.24 3.107013382186846\n",
            "resnet272bn_cifar10 96.63 2.956279964292057\n",
            "resnet542bn_cifar10 96.52 3.006979932196276\n"
          ],
          "name": "stdout"
        },
        {
          "output_type": "execute_result",
          "data": {
            "text/plain": [
              "<matplotlib.legend.Legend at 0x7fa8a67bbc18>"
            ]
          },
          "metadata": {
            "tags": []
          },
          "execution_count": 29
        },
        {
          "output_type": "display_data",
          "data": {
            "image/png": "[encoded data removed]",
            "text/plain": [
              "<Figure size 432x288 with 1 Axes>"
            ]
          },
          "metadata": {
            "tags": [],
            "needs_background": "light"
          }
        }
      ]
    },
    {
      "cell_type": "code",
      "metadata": {
        "id": "o5_K7E5kqJfT",
        "colab_type": "code",
        "outputId": "7a6ca753-8136-401e-ed93-12b908044f1a",
        "colab": {
          "base_uri": "https://localhost:8080/",
          "height": 418
        }
      },
      "source": [
        "for name, acc, alpha, logJJmax in zip(modelnames, model_accs, model_alphas, model_maxlogJJs):\n",
        "  print(name, acc, alpha)\n",
        "  plt.scatter(acc, alpha*logJJmax, label=name)\n",
        "plt.xlabel(\"Test Accuracy\")\n",
        "plt.ylabel(r\"$\\hat{\\alpha}={\\alpha}\\;log_{10}[\\mathbf{J}^{T}\\mathbf{J}_{max}]$\")\n",
        "plt.title(r\"Resnet Models: fit diag($\\mathbf{J}^{T}\\mathbf{J}$) to $\\hat{\\alpha}$ \")\n",
        "plt.legend()"
      ],
      "execution_count": 30,
      "outputs": [
        {
          "output_type": "stream",
          "text": [
            "resnet20_cifar10 93.9 5.6649385708074975\n",
            "resnet56_cifar10 95.32 2.9326560050295027\n",
            "resnet110_cifar10 96.26 3.558822621120992\n",
            "resnet164bn_cifar10 96.24 3.107013382186846\n",
            "resnet272bn_cifar10 96.63 2.956279964292057\n",
            "resnet542bn_cifar10 96.52 3.006979932196276\n"
          ],
          "name": "stdout"
        },
        {
          "output_type": "execute_result",
          "data": {
            "text/plain": [
              "<matplotlib.legend.Legend at 0x7fa8a61970f0>"
            ]
          },
          "metadata": {
            "tags": []
          },
          "execution_count": 30
        },
        {
          "output_type": "display_data",
          "data": {
            "image/png": "[encoded data removed]",
            "text/plain": [
              "<Figure size 432x288 with 1 Axes>"
            ]
          },
          "metadata": {
            "tags": [],
            "needs_background": "light"
          }
        }
      ]
    },
    {
      "cell_type": "code",
      "metadata": {
        "id": "VoqzuFH3q80T",
        "colab_type": "code",
        "outputId": "dc30adc8-9cf9-4524-ebb7-047443e5299a",
        "colab": {
          "base_uri": "https://localhost:8080/",
          "height": 418
        }
      },
      "source": [
        "for name, acc, alpha, logJJmax in zip(modelnames, model_accs, model_alphas, model_maxlogJJs):\n",
        "  print(name, acc, alpha)\n",
        "  plt.scatter(acc, logJJmax, label=name)\n",
        "plt.xlabel(\"Test Accuracy\")\n",
        "plt.ylabel(r\"$log_{10}[\\mathbf{J}^{T}\\mathbf{J}_{max}]$\")\n",
        "plt.title(r\"Resnet Models: max diag($\\mathbf{J}^{T}\\mathbf{J}$) vs test accuracy \")\n",
        "plt.legend()"
      ],
      "execution_count": 31,
      "outputs": [
        {
          "output_type": "stream",
          "text": [
            "resnet20_cifar10 93.9 5.6649385708074975\n",
            "resnet56_cifar10 95.32 2.9326560050295027\n",
            "resnet110_cifar10 96.26 3.558822621120992\n",
            "resnet164bn_cifar10 96.24 3.107013382186846\n",
            "resnet272bn_cifar10 96.63 2.956279964292057\n",
            "resnet542bn_cifar10 96.52 3.006979932196276\n"
          ],
          "name": "stdout"
        },
        {
          "output_type": "execute_result",
          "data": {
            "text/plain": [
              "<matplotlib.legend.Legend at 0x7fa893fa5f98>"
            ]
          },
          "metadata": {
            "tags": []
          },
          "execution_count": 31
        },
        {
          "output_type": "display_data",
          "data": {
            "image/png": "[encoded data removed]",
            "text/plain": [
              "<Figure size 432x288 with 1 Axes>"
            ]
          },
          "metadata": {
            "tags": [],
            "needs_background": "light"
          }
        }
      ]
    },
    {
      "cell_type": "markdown",
      "metadata": {
        "id": "E2u8RwIRagmY",
        "colab_type": "text"
      },
      "source": [
        "### Compute JJ for Test Data"
      ]
    },
    {
      "cell_type": "code",
      "metadata": {
        "id": "vWAnQDbSaizv",
        "colab_type": "code",
        "colab": {}
      },
      "source": [
        ""
      ],
      "execution_count": 0,
      "outputs": []
    },
    {
      "cell_type": "markdown",
      "metadata": {
        "id": "2FMXanTeOlKJ",
        "colab_type": "text"
      },
      "source": [
        "### Ok.  Maybe look at the SVD ?"
      ]
    },
    {
      "cell_type": "code",
      "metadata": {
        "id": "ex1P_XNsOnfq",
        "colab_type": "code",
        "colab": {}
      },
      "source": [
        ""
      ],
      "execution_count": 0,
      "outputs": []
    }
  ]
}