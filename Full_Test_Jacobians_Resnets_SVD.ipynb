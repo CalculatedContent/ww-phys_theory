{
  "nbformat": 4,
  "nbformat_minor": 0,
  "metadata": {
    "colab": {
      "name": "Full-Test-Jacobians-Resnets-SVD.ipynb",
      "provenance": [],
      "collapsed_sections": [],
      "machine_shape": "hm",
      "authorship_tag": "ABX9TyMKvE/kry36fk2o5APqn5KC",
      "include_colab_link": true
    },
    "kernelspec": {
      "name": "python3",
      "display_name": "Python 3"
    },
    "accelerator": "GPU",
    "widgets": {
      "application/vnd.jupyter.widget-state+json": {
        "b6bc41e8ce174f9daaf1df736a602095": {
          "model_module": "@jupyter-widgets/controls",
          "model_name": "HBoxModel",
          "state": {
            "_view_name": "HBoxView",
            "_dom_classes": [],
            "_model_name": "HBoxModel",
            "_view_module": "@jupyter-widgets/controls",
            "_model_module_version": "1.5.0",
            "_view_count": null,
            "_view_module_version": "1.5.0",
            "box_style": "",
            "layout": "IPY_MODEL_2a10f80bd67348e9a2cb60ebcaaa672b",
            "_model_module": "@jupyter-widgets/controls",
            "children": [
              "IPY_MODEL_8073eb9c1682492fb0ecf0cefa1141d5",
              "IPY_MODEL_72c7a08b506640cc8edf24458fa046bf"
            ]
          }
        },
        "2a10f80bd67348e9a2cb60ebcaaa672b": {
          "model_module": "@jupyter-widgets/base",
          "model_name": "LayoutModel",
          "state": {
            "_view_name": "LayoutView",
            "grid_template_rows": null,
            "right": null,
            "justify_content": null,
            "_view_module": "@jupyter-widgets/base",
            "overflow": null,
            "_model_module_version": "1.2.0",
            "_view_count": null,
            "flex_flow": null,
            "width": null,
            "min_width": null,
            "border": null,
            "align_items": null,
            "bottom": null,
            "_model_module": "@jupyter-widgets/base",
            "top": null,
            "grid_column": null,
            "overflow_y": null,
            "overflow_x": null,
            "grid_auto_flow": null,
            "grid_area": null,
            "grid_template_columns": null,
            "flex": null,
            "_model_name": "LayoutModel",
            "justify_items": null,
            "grid_row": null,
            "max_height": null,
            "align_content": null,
            "visibility": null,
            "align_self": null,
            "height": null,
            "min_height": null,
            "padding": null,
            "grid_auto_rows": null,
            "grid_gap": null,
            "max_width": null,
            "order": null,
            "_view_module_version": "1.2.0",
            "grid_template_areas": null,
            "object_position": null,
            "object_fit": null,
            "grid_auto_columns": null,
            "margin": null,
            "display": null,
            "left": null
          }
        },
        "8073eb9c1682492fb0ecf0cefa1141d5": {
          "model_module": "@jupyter-widgets/controls",
          "model_name": "FloatProgressModel",
          "state": {
            "_view_name": "ProgressView",
            "style": "IPY_MODEL_a17c9156a6fd4856af0b740320365923",
            "_dom_classes": [],
            "description": "",
            "_model_name": "FloatProgressModel",
            "bar_style": "success",
            "max": 1,
            "_view_module": "@jupyter-widgets/controls",
            "_model_module_version": "1.5.0",
            "value": 1,
            "_view_count": null,
            "_view_module_version": "1.5.0",
            "orientation": "horizontal",
            "min": 0,
            "description_tooltip": null,
            "_model_module": "@jupyter-widgets/controls",
            "layout": "IPY_MODEL_3886bfac81914c71b7a6e51177d5b0c5"
          }
        },
        "72c7a08b506640cc8edf24458fa046bf": {
          "model_module": "@jupyter-widgets/controls",
          "model_name": "HTMLModel",
          "state": {
            "_view_name": "HTMLView",
            "style": "IPY_MODEL_3b9c782c91f34f30b7d50c5e7d415fca",
            "_dom_classes": [],
            "description": "",
            "_model_name": "HTMLModel",
            "placeholder": "​",
            "_view_module": "@jupyter-widgets/controls",
            "_model_module_version": "1.5.0",
            "value": " 170500096/? [00:07&lt;00:00, 23551408.33it/s]",
            "_view_count": null,
            "_view_module_version": "1.5.0",
            "description_tooltip": null,
            "_model_module": "@jupyter-widgets/controls",
            "layout": "IPY_MODEL_64b237f3e1f4400c9bb24f20411a40c0"
          }
        },
        "a17c9156a6fd4856af0b740320365923": {
          "model_module": "@jupyter-widgets/controls",
          "model_name": "ProgressStyleModel",
          "state": {
            "_view_name": "StyleView",
            "_model_name": "ProgressStyleModel",
            "description_width": "initial",
            "_view_module": "@jupyter-widgets/base",
            "_model_module_version": "1.5.0",
            "_view_count": null,
            "_view_module_version": "1.2.0",
            "bar_color": null,
            "_model_module": "@jupyter-widgets/controls"
          }
        },
        "3886bfac81914c71b7a6e51177d5b0c5": {
          "model_module": "@jupyter-widgets/base",
          "model_name": "LayoutModel",
          "state": {
            "_view_name": "LayoutView",
            "grid_template_rows": null,
            "right": null,
            "justify_content": null,
            "_view_module": "@jupyter-widgets/base",
            "overflow": null,
            "_model_module_version": "1.2.0",
            "_view_count": null,
            "flex_flow": null,
            "width": null,
            "min_width": null,
            "border": null,
            "align_items": null,
            "bottom": null,
            "_model_module": "@jupyter-widgets/base",
            "top": null,
            "grid_column": null,
            "overflow_y": null,
            "overflow_x": null,
            "grid_auto_flow": null,
            "grid_area": null,
            "grid_template_columns": null,
            "flex": null,
            "_model_name": "LayoutModel",
            "justify_items": null,
            "grid_row": null,
            "max_height": null,
            "align_content": null,
            "visibility": null,
            "align_self": null,
            "height": null,
            "min_height": null,
            "padding": null,
            "grid_auto_rows": null,
            "grid_gap": null,
            "max_width": null,
            "order": null,
            "_view_module_version": "1.2.0",
            "grid_template_areas": null,
            "object_position": null,
            "object_fit": null,
            "grid_auto_columns": null,
            "margin": null,
            "display": null,
            "left": null
          }
        },
        "3b9c782c91f34f30b7d50c5e7d415fca": {
          "model_module": "@jupyter-widgets/controls",
          "model_name": "DescriptionStyleModel",
          "state": {
            "_view_name": "StyleView",
            "_model_name": "DescriptionStyleModel",
            "description_width": "",
            "_view_module": "@jupyter-widgets/base",
            "_model_module_version": "1.5.0",
            "_view_count": null,
            "_view_module_version": "1.2.0",
            "_model_module": "@jupyter-widgets/controls"
          }
        },
        "64b237f3e1f4400c9bb24f20411a40c0": {
          "model_module": "@jupyter-widgets/base",
          "model_name": "LayoutModel",
          "state": {
            "_view_name": "LayoutView",
            "grid_template_rows": null,
            "right": null,
            "justify_content": null,
            "_view_module": "@jupyter-widgets/base",
            "overflow": null,
            "_model_module_version": "1.2.0",
            "_view_count": null,
            "flex_flow": null,
            "width": null,
            "min_width": null,
            "border": null,
            "align_items": null,
            "bottom": null,
            "_model_module": "@jupyter-widgets/base",
            "top": null,
            "grid_column": null,
            "overflow_y": null,
            "overflow_x": null,
            "grid_auto_flow": null,
            "grid_area": null,
            "grid_template_columns": null,
            "flex": null,
            "_model_name": "LayoutModel",
            "justify_items": null,
            "grid_row": null,
            "max_height": null,
            "align_content": null,
            "visibility": null,
            "align_self": null,
            "height": null,
            "min_height": null,
            "padding": null,
            "grid_auto_rows": null,
            "grid_gap": null,
            "max_width": null,
            "order": null,
            "_view_module_version": "1.2.0",
            "grid_template_areas": null,
            "object_position": null,
            "object_fit": null,
            "grid_auto_columns": null,
            "margin": null,
            "display": null,
            "left": null
          }
        }
      }
    }
  },
  "cells": [
    {
      "cell_type": "markdown",
      "metadata": {
        "id": "view-in-github",
        "colab_type": "text"
      },
      "source": [
        "<a href=\"https://colab.research.google.com/github/CalculatedContent/ww-phys_theory/blob/master/Full_Test_Jacobians_Resnets_SVD.ipynb\" target=\"_parent\"><img src=\"https://colab.research.google.com/assets/colab-badge.svg\" alt=\"Open In Colab\"/></a>"
      ]
    },
    {
      "cell_type": "markdown",
      "metadata": {
        "id": "4YGlUg538lQ4",
        "colab_type": "text"
      },
      "source": [
        "## Notebook for generating Full Jacobian SVD over the test data for ResNet data\n",
        "\n",
        "Can do the full calculation, and a batched (slow, but handles large memory cases)\n",
        "\n",
        "Can handle: ResnetXXX with CIFAR10, CIFAR100, SVHN\n",
        "\n",
        "i.e. CIFAR 10\n",
        "```\n",
        " resnet20_cifar10\n",
        " resnet56_cifar10\n",
        " resnet110_cifar10\n",
        " resnet164bn_cifar10\n",
        " resnet272bn_cifar10\n",
        "\n",
        "full_jacobian()\n",
        "\n",
        "\n",
        " resnet542bn_cifar10\n",
        " resnet1001_cifar10\n",
        " resnet1202_cifar10\n",
        "\n",
        "full_batched_jacobian()\n",
        "\n",
        "```\n",
        "\n",
        "\n",
        "\n",
        "\n"
      ]
    },
    {
      "cell_type": "code",
      "metadata": {
        "id": "4JBCL3Qj8pl6",
        "colab_type": "code",
        "colab": {}
      },
      "source": [
        "Jdir =  '/content/drive/My Drive/J_resnets_fullsvd'\n",
        "\n",
        "thismodel = 'resnet164bn_cifar100'\n",
        "num_classes= 100\n",
        "num_data = 10000\n",
        "\n",
        "batched = True\n",
        "start_batch = 0\n",
        "batch_size = 100\n",
        "\n",
        "device = 'cuda:0'\n"
      ],
      "execution_count": 0,
      "outputs": []
    },
    {
      "cell_type": "code",
      "metadata": {
        "id": "lSlymHmAIph5",
        "colab_type": "code",
        "outputId": "e893c1a3-d002-45e3-887f-da0dd8edcc4a",
        "colab": {
          "base_uri": "https://localhost:8080/",
          "height": 119
        }
      },
      "source": [
        "!pip install torch==1.5.0+cu101 torchvision==0.6.0+cu101 -f https://download.pytorch.org/whl/torch_stable.html"
      ],
      "execution_count": 2,
      "outputs": [
        {
          "output_type": "stream",
          "text": [
            "Looking in links: https://download.pytorch.org/whl/torch_stable.html\n",
            "Requirement already satisfied: torch==1.5.0+cu101 in /usr/local/lib/python3.6/dist-packages (1.5.0+cu101)\n",
            "Requirement already satisfied: torchvision==0.6.0+cu101 in /usr/local/lib/python3.6/dist-packages (0.6.0+cu101)\n",
            "Requirement already satisfied: numpy in /usr/local/lib/python3.6/dist-packages (from torch==1.5.0+cu101) (1.18.5)\n",
            "Requirement already satisfied: future in /usr/local/lib/python3.6/dist-packages (from torch==1.5.0+cu101) (0.16.0)\n",
            "Requirement already satisfied: pillow>=4.1.1 in /usr/local/lib/python3.6/dist-packages (from torchvision==0.6.0+cu101) (7.0.0)\n"
          ],
          "name": "stdout"
        }
      ]
    },
    {
      "cell_type": "code",
      "metadata": {
        "id": "hZplJz8WqCkD",
        "colab_type": "code",
        "outputId": "7b5e4060-f37d-4b05-9884-f60dfba796eb",
        "colab": {
          "base_uri": "https://localhost:8080/",
          "height": 190
        }
      },
      "source": [
        "!pip install ipython-autotime\n",
        "%load_ext autotime"
      ],
      "execution_count": 3,
      "outputs": [
        {
          "output_type": "stream",
          "text": [
            "Collecting ipython-autotime\n",
            "  Downloading https://files.pythonhosted.org/packages/e6/f9/0626bbdb322e3a078d968e87e3b01341e7890544de891d0cb613641220e6/ipython-autotime-0.1.tar.bz2\n",
            "Building wheels for collected packages: ipython-autotime\n",
            "  Building wheel for ipython-autotime (setup.py) ... \u001b[?25l\u001b[?25hdone\n",
            "  Created wheel for ipython-autotime: filename=ipython_autotime-0.1-cp36-none-any.whl size=1832 sha256=01826d925cae4eb36366185cacc5b35e24c356d8f49c4f51c0772d17fc91e87a\n",
            "  Stored in directory: /root/.cache/pip/wheels/d2/df/81/2db1e54bc91002cec40334629bc39cfa86dff540b304ebcd6e\n",
            "Successfully built ipython-autotime\n",
            "Installing collected packages: ipython-autotime\n",
            "Successfully installed ipython-autotime-0.1\n"
          ],
          "name": "stdout"
        }
      ]
    },
    {
      "cell_type": "code",
      "metadata": {
        "id": "XQGrAUZLSEy_",
        "colab_type": "code",
        "outputId": "ba504c21-8568-48f6-aadf-eb41f363feb8",
        "colab": {
          "base_uri": "https://localhost:8080/",
          "height": 139
        }
      },
      "source": [
        "from google.colab import drive\n",
        "drive.mount('/content/drive')\n"
      ],
      "execution_count": 4,
      "outputs": [
        {
          "output_type": "stream",
          "text": [
            "Go to this URL in a browser: https://accounts.google.com/o/oauth2/auth?client_id=947318989803-6bn6qk8qdgf4n4g3pfee6491hc0brc4i.apps.googleusercontent.com&redirect_uri=urn%3aietf%3awg%3aoauth%3a2.0%3aoob&response_type=code&scope=email%20https%3a%2f%2fwww.googleapis.com%2fauth%2fdocs.test%20https%3a%2f%2fwww.googleapis.com%2fauth%2fdrive%20https%3a%2f%2fwww.googleapis.com%2fauth%2fdrive.photos.readonly%20https%3a%2f%2fwww.googleapis.com%2fauth%2fpeopleapi.readonly\n",
            "\n",
            "Enter your authorization code:\n",
            "··········\n",
            "Mounted at /content/drive\n",
            "time: 19.6 s\n"
          ],
          "name": "stdout"
        }
      ]
    },
    {
      "cell_type": "code",
      "metadata": {
        "id": "koMMhkFpIbJ3",
        "colab_type": "code",
        "outputId": "05011e11-c7f8-4a6c-81fb-e198a534aec2",
        "colab": {
          "base_uri": "https://localhost:8080/",
          "height": 1000
        }
      },
      "source": [
        "!mkdir \"$Jdir\"\n",
        "!ls \"$Jdir\""
      ],
      "execution_count": 5,
      "outputs": [
        {
          "output_type": "stream",
          "text": [
            "mkdir: cannot create directory ‘/content/drive/My Drive/J_resnets_fullsvd’: File exists\n",
            "data\t\t\t\t   Jfull_resnet1202_cifar10__78.csv\n",
            "Jfull_resnet1001_cifar10__0.csv    Jfull_resnet1202_cifar10__79.csv\n",
            "Jfull_resnet1001_cifar10__100.csv  Jfull_resnet1202_cifar10__7.csv\n",
            "Jfull_resnet1001_cifar10__101.csv  Jfull_resnet1202_cifar10__80.csv\n",
            "Jfull_resnet1001_cifar10__102.csv  Jfull_resnet1202_cifar10__81.csv\n",
            "Jfull_resnet1001_cifar10__103.csv  Jfull_resnet1202_cifar10__82.csv\n",
            "Jfull_resnet1001_cifar10__104.csv  Jfull_resnet1202_cifar10__83.csv\n",
            "Jfull_resnet1001_cifar10__105.csv  Jfull_resnet1202_cifar10__84.csv\n",
            "Jfull_resnet1001_cifar10__106.csv  Jfull_resnet1202_cifar10__85.csv\n",
            "Jfull_resnet1001_cifar10__107.csv  Jfull_resnet1202_cifar10__86.csv\n",
            "Jfull_resnet1001_cifar10__108.csv  Jfull_resnet1202_cifar10__87.csv\n",
            "Jfull_resnet1001_cifar10__109.csv  Jfull_resnet1202_cifar10__88.csv\n",
            "Jfull_resnet1001_cifar10__10.csv   Jfull_resnet1202_cifar10__89.csv\n",
            "Jfull_resnet1001_cifar10__110.csv  Jfull_resnet1202_cifar10__8.csv\n",
            "Jfull_resnet1001_cifar10__111.csv  Jfull_resnet1202_cifar10__90.csv\n",
            "Jfull_resnet1001_cifar10__112.csv  Jfull_resnet1202_cifar10__91.csv\n",
            "Jfull_resnet1001_cifar10__113.csv  Jfull_resnet1202_cifar10__92.csv\n",
            "Jfull_resnet1001_cifar10__114.csv  Jfull_resnet1202_cifar10__93.csv\n",
            "Jfull_resnet1001_cifar10__115.csv  Jfull_resnet1202_cifar10__94.csv\n",
            "Jfull_resnet1001_cifar10__116.csv  Jfull_resnet1202_cifar10__95.csv\n",
            "Jfull_resnet1001_cifar10__117.csv  Jfull_resnet1202_cifar10__96.csv\n",
            "Jfull_resnet1001_cifar10__118.csv  Jfull_resnet1202_cifar10__97.csv\n",
            "Jfull_resnet1001_cifar10__119.csv  Jfull_resnet1202_cifar10__98.csv\n",
            "Jfull_resnet1001_cifar10__11.csv   Jfull_resnet1202_cifar10__99.csv\n",
            "Jfull_resnet1001_cifar10__120.csv  Jfull_resnet1202_cifar10__9.csv\n",
            "Jfull_resnet1001_cifar10__121.csv  Jfull_resnet20_cifar100__0.csv\n",
            "Jfull_resnet1001_cifar10__122.csv  Jfull_resnet20_cifar100__10.csv\n",
            "Jfull_resnet1001_cifar10__123.csv  Jfull_resnet20_cifar100__11.csv\n",
            "Jfull_resnet1001_cifar10__124.csv  Jfull_resnet20_cifar100__12.csv\n",
            "Jfull_resnet1001_cifar10__125.csv  Jfull_resnet20_cifar100__13.csv\n",
            "Jfull_resnet1001_cifar10__126.csv  Jfull_resnet20_cifar100__14.csv\n",
            "Jfull_resnet1001_cifar10__127.csv  Jfull_resnet20_cifar100__15.csv\n",
            "Jfull_resnet1001_cifar10__128.csv  Jfull_resnet20_cifar100__16.csv\n",
            "Jfull_resnet1001_cifar10__129.csv  Jfull_resnet20_cifar100__17.csv\n",
            "Jfull_resnet1001_cifar10__12.csv   Jfull_resnet20_cifar100__18.csv\n",
            "Jfull_resnet1001_cifar10__130.csv  Jfull_resnet20_cifar100__19.csv\n",
            "Jfull_resnet1001_cifar10__131.csv  Jfull_resnet20_cifar100__1.csv\n",
            "Jfull_resnet1001_cifar10__132.csv  Jfull_resnet20_cifar100__20.csv\n",
            "Jfull_resnet1001_cifar10__133.csv  Jfull_resnet20_cifar100__21.csv\n",
            "Jfull_resnet1001_cifar10__134.csv  Jfull_resnet20_cifar100__22.csv\n",
            "Jfull_resnet1001_cifar10__135.csv  Jfull_resnet20_cifar100__23.csv\n",
            "Jfull_resnet1001_cifar10__136.csv  Jfull_resnet20_cifar100__24.csv\n",
            "Jfull_resnet1001_cifar10__137.csv  Jfull_resnet20_cifar100__25.csv\n",
            "Jfull_resnet1001_cifar10__138.csv  Jfull_resnet20_cifar100__26.csv\n",
            "Jfull_resnet1001_cifar10__139.csv  Jfull_resnet20_cifar100__27.csv\n",
            "Jfull_resnet1001_cifar10__13.csv   Jfull_resnet20_cifar100__28.csv\n",
            "Jfull_resnet1001_cifar10__140.csv  Jfull_resnet20_cifar100__29.csv\n",
            "Jfull_resnet1001_cifar10__141.csv  Jfull_resnet20_cifar100__2.csv\n",
            "Jfull_resnet1001_cifar10__142.csv  Jfull_resnet20_cifar100__30.csv\n",
            "Jfull_resnet1001_cifar10__143.csv  Jfull_resnet20_cifar100__31.csv\n",
            "Jfull_resnet1001_cifar10__144.csv  Jfull_resnet20_cifar100__32.csv\n",
            "Jfull_resnet1001_cifar10__145.csv  Jfull_resnet20_cifar100__33.csv\n",
            "Jfull_resnet1001_cifar10__146.csv  Jfull_resnet20_cifar100__34.csv\n",
            "Jfull_resnet1001_cifar10__147.csv  Jfull_resnet20_cifar100__35.csv\n",
            "Jfull_resnet1001_cifar10__148.csv  Jfull_resnet20_cifar100__36.csv\n",
            "Jfull_resnet1001_cifar10__149.csv  Jfull_resnet20_cifar100__37.csv\n",
            "Jfull_resnet1001_cifar10__14.csv   Jfull_resnet20_cifar100__38.csv\n",
            "Jfull_resnet1001_cifar10__150.csv  Jfull_resnet20_cifar100__39.csv\n",
            "Jfull_resnet1001_cifar10__151.csv  Jfull_resnet20_cifar100__3.csv\n",
            "Jfull_resnet1001_cifar10__152.csv  Jfull_resnet20_cifar100__40.csv\n",
            "Jfull_resnet1001_cifar10__153.csv  Jfull_resnet20_cifar100__41.csv\n",
            "Jfull_resnet1001_cifar10__154.csv  Jfull_resnet20_cifar100__42.csv\n",
            "Jfull_resnet1001_cifar10__155.csv  Jfull_resnet20_cifar100__43.csv\n",
            "Jfull_resnet1001_cifar10__156.csv  Jfull_resnet20_cifar100__44.csv\n",
            "Jfull_resnet1001_cifar10__157.csv  Jfull_resnet20_cifar100__45.csv\n",
            "Jfull_resnet1001_cifar10__158.csv  Jfull_resnet20_cifar100__46.csv\n",
            "Jfull_resnet1001_cifar10__159.csv  Jfull_resnet20_cifar100__47.csv\n",
            "Jfull_resnet1001_cifar10__15.csv   Jfull_resnet20_cifar100__48.csv\n",
            "Jfull_resnet1001_cifar10__160.csv  Jfull_resnet20_cifar100__49.csv\n",
            "Jfull_resnet1001_cifar10__161.csv  Jfull_resnet20_cifar100__4.csv\n",
            "Jfull_resnet1001_cifar10__162.csv  Jfull_resnet20_cifar100__50.csv\n",
            "Jfull_resnet1001_cifar10__163.csv  Jfull_resnet20_cifar100__51.csv\n",
            "Jfull_resnet1001_cifar10__164.csv  Jfull_resnet20_cifar100__52.csv\n",
            "Jfull_resnet1001_cifar10__165.csv  Jfull_resnet20_cifar100__53.csv\n",
            "Jfull_resnet1001_cifar10__166.csv  Jfull_resnet20_cifar100__54.csv\n",
            "Jfull_resnet1001_cifar10__167.csv  Jfull_resnet20_cifar100__55.csv\n",
            "Jfull_resnet1001_cifar10__168.csv  Jfull_resnet20_cifar100__56.csv\n",
            "Jfull_resnet1001_cifar10__169.csv  Jfull_resnet20_cifar100__57.csv\n",
            "Jfull_resnet1001_cifar10__16.csv   Jfull_resnet20_cifar100__58.csv\n",
            "Jfull_resnet1001_cifar10__170.csv  Jfull_resnet20_cifar100__59.csv\n",
            "Jfull_resnet1001_cifar10__171.csv  Jfull_resnet20_cifar100__5.csv\n",
            "Jfull_resnet1001_cifar10__172.csv  Jfull_resnet20_cifar100__60.csv\n",
            "Jfull_resnet1001_cifar10__173.csv  Jfull_resnet20_cifar100__61.csv\n",
            "Jfull_resnet1001_cifar10__174.csv  Jfull_resnet20_cifar100__62.csv\n",
            "Jfull_resnet1001_cifar10__175.csv  Jfull_resnet20_cifar100__63.csv\n",
            "Jfull_resnet1001_cifar10__176.csv  Jfull_resnet20_cifar100__64.csv\n",
            "Jfull_resnet1001_cifar10__177.csv  Jfull_resnet20_cifar100__65.csv\n",
            "Jfull_resnet1001_cifar10__178.csv  Jfull_resnet20_cifar100__66.csv\n",
            "Jfull_resnet1001_cifar10__179.csv  Jfull_resnet20_cifar100__67.csv\n",
            "Jfull_resnet1001_cifar10__17.csv   Jfull_resnet20_cifar100__68.csv\n",
            "Jfull_resnet1001_cifar10__180.csv  Jfull_resnet20_cifar100__69.csv\n",
            "Jfull_resnet1001_cifar10__181.csv  Jfull_resnet20_cifar100__6.csv\n",
            "Jfull_resnet1001_cifar10__182.csv  Jfull_resnet20_cifar100__70.csv\n",
            "Jfull_resnet1001_cifar10__183.csv  Jfull_resnet20_cifar100__71.csv\n",
            "Jfull_resnet1001_cifar10__184.csv  Jfull_resnet20_cifar100__72.csv\n",
            "Jfull_resnet1001_cifar10__185.csv  Jfull_resnet20_cifar100__73.csv\n",
            "Jfull_resnet1001_cifar10__186.csv  Jfull_resnet20_cifar100__74.csv\n",
            "Jfull_resnet1001_cifar10__187.csv  Jfull_resnet20_cifar100__75.csv\n",
            "Jfull_resnet1001_cifar10__188.csv  Jfull_resnet20_cifar100__76.csv\n",
            "Jfull_resnet1001_cifar10__189.csv  Jfull_resnet20_cifar100__77.csv\n",
            "Jfull_resnet1001_cifar10__18.csv   Jfull_resnet20_cifar100__78.csv\n",
            "Jfull_resnet1001_cifar10__190.csv  Jfull_resnet20_cifar100__79.csv\n",
            "Jfull_resnet1001_cifar10__191.csv  Jfull_resnet20_cifar100__7.csv\n",
            "Jfull_resnet1001_cifar10__192.csv  Jfull_resnet20_cifar100__80.csv\n",
            "Jfull_resnet1001_cifar10__193.csv  Jfull_resnet20_cifar100__81.csv\n",
            "Jfull_resnet1001_cifar10__194.csv  Jfull_resnet20_cifar100__82.csv\n",
            "Jfull_resnet1001_cifar10__19.csv   Jfull_resnet20_cifar100__83.csv\n",
            "Jfull_resnet1001_cifar10__1.csv    Jfull_resnet20_cifar100__84.csv\n",
            "Jfull_resnet1001_cifar10__20.csv   Jfull_resnet20_cifar100__85.csv\n",
            "Jfull_resnet1001_cifar10__21.csv   Jfull_resnet20_cifar100__86.csv\n",
            "Jfull_resnet1001_cifar10__22.csv   Jfull_resnet20_cifar100__87.csv\n",
            "Jfull_resnet1001_cifar10__23.csv   Jfull_resnet20_cifar100__88.csv\n",
            "Jfull_resnet1001_cifar10__24.csv   Jfull_resnet20_cifar100__89.csv\n",
            "Jfull_resnet1001_cifar10__25.csv   Jfull_resnet20_cifar100__8.csv\n",
            "Jfull_resnet1001_cifar10__26.csv   Jfull_resnet20_cifar100__90.csv\n",
            "Jfull_resnet1001_cifar10__27.csv   Jfull_resnet20_cifar100__91.csv\n",
            "Jfull_resnet1001_cifar10__28.csv   Jfull_resnet20_cifar100__92.csv\n",
            "Jfull_resnet1001_cifar10__29.csv   Jfull_resnet20_cifar100__93.csv\n",
            "Jfull_resnet1001_cifar10__2.csv    Jfull_resnet20_cifar100__94.csv\n",
            "Jfull_resnet1001_cifar10__30.csv   Jfull_resnet20_cifar100__95.csv\n",
            "Jfull_resnet1001_cifar10__31.csv   Jfull_resnet20_cifar100__96.csv\n",
            "Jfull_resnet1001_cifar10__32.csv   Jfull_resnet20_cifar100__97.csv\n",
            "Jfull_resnet1001_cifar10__33.csv   Jfull_resnet20_cifar100__98.csv\n",
            "Jfull_resnet1001_cifar10__34.csv   Jfull_resnet20_cifar100__99.csv\n",
            "Jfull_resnet1001_cifar10__35.csv   Jfull_resnet20_cifar100__9.csv\n",
            "Jfull_resnet1001_cifar10__36.csv   Jfull_resnet542bn_cifar10__0.csv\n",
            "Jfull_resnet1001_cifar10__37.csv   Jfull_resnet542bn_cifar10__10.csv\n",
            "Jfull_resnet1001_cifar10__38.csv   Jfull_resnet542bn_cifar10__11.csv\n",
            "Jfull_resnet1001_cifar10__39.csv   Jfull_resnet542bn_cifar10__12.csv\n",
            "Jfull_resnet1001_cifar10__3.csv    Jfull_resnet542bn_cifar10__13.csv\n",
            "Jfull_resnet1001_cifar10__40.csv   Jfull_resnet542bn_cifar10__14.csv\n",
            "Jfull_resnet1001_cifar10__41.csv   Jfull_resnet542bn_cifar10__15.csv\n",
            "Jfull_resnet1001_cifar10__42.csv   Jfull_resnet542bn_cifar10__16.csv\n",
            "Jfull_resnet1001_cifar10__43.csv   Jfull_resnet542bn_cifar10__17.csv\n",
            "Jfull_resnet1001_cifar10__44.csv   Jfull_resnet542bn_cifar10__18.csv\n",
            "Jfull_resnet1001_cifar10__45.csv   Jfull_resnet542bn_cifar10__19.csv\n",
            "Jfull_resnet1001_cifar10__46.csv   Jfull_resnet542bn_cifar10__1.csv\n",
            "Jfull_resnet1001_cifar10__47.csv   Jfull_resnet542bn_cifar10__20.csv\n",
            "Jfull_resnet1001_cifar10__48.csv   Jfull_resnet542bn_cifar10__21.csv\n",
            "Jfull_resnet1001_cifar10__49.csv   Jfull_resnet542bn_cifar10__22.csv\n",
            "Jfull_resnet1001_cifar10__4.csv    Jfull_resnet542bn_cifar10__23.csv\n",
            "Jfull_resnet1001_cifar10__50.csv   Jfull_resnet542bn_cifar10__24.csv\n",
            "Jfull_resnet1001_cifar10__51.csv   Jfull_resnet542bn_cifar10__25.csv\n",
            "Jfull_resnet1001_cifar10__52.csv   Jfull_resnet542bn_cifar10__26.csv\n",
            "Jfull_resnet1001_cifar10__53.csv   Jfull_resnet542bn_cifar10__27.csv\n",
            "Jfull_resnet1001_cifar10__54.csv   Jfull_resnet542bn_cifar10__28.csv\n",
            "Jfull_resnet1001_cifar10__55.csv   Jfull_resnet542bn_cifar10__29.csv\n",
            "Jfull_resnet1001_cifar10__56.csv   Jfull_resnet542bn_cifar10__2.csv\n",
            "Jfull_resnet1001_cifar10__57.csv   Jfull_resnet542bn_cifar10__30.csv\n",
            "Jfull_resnet1001_cifar10__58.csv   Jfull_resnet542bn_cifar10__31.csv\n",
            "Jfull_resnet1001_cifar10__59.csv   Jfull_resnet542bn_cifar10__32.csv\n",
            "Jfull_resnet1001_cifar10__5.csv    Jfull_resnet542bn_cifar10__33.csv\n",
            "Jfull_resnet1001_cifar10__60.csv   Jfull_resnet542bn_cifar10__34.csv\n",
            "Jfull_resnet1001_cifar10__61.csv   Jfull_resnet542bn_cifar10__35.csv\n",
            "Jfull_resnet1001_cifar10__62.csv   Jfull_resnet542bn_cifar10__36.csv\n",
            "Jfull_resnet1001_cifar10__63.csv   Jfull_resnet542bn_cifar10__37.csv\n",
            "Jfull_resnet1001_cifar10__64.csv   Jfull_resnet542bn_cifar10__38.csv\n",
            "Jfull_resnet1001_cifar10__65.csv   Jfull_resnet542bn_cifar10__39.csv\n",
            "Jfull_resnet1001_cifar10__66.csv   Jfull_resnet542bn_cifar10__3.csv\n",
            "Jfull_resnet1001_cifar10__67.csv   Jfull_resnet542bn_cifar10__40.csv\n",
            "Jfull_resnet1001_cifar10__68.csv   Jfull_resnet542bn_cifar10__41.csv\n",
            "Jfull_resnet1001_cifar10__69.csv   Jfull_resnet542bn_cifar10__42.csv\n",
            "Jfull_resnet1001_cifar10__6.csv    Jfull_resnet542bn_cifar10__43.csv\n",
            "Jfull_resnet1001_cifar10__70.csv   Jfull_resnet542bn_cifar10__44.csv\n",
            "Jfull_resnet1001_cifar10__71.csv   Jfull_resnet542bn_cifar10__45.csv\n",
            "Jfull_resnet1001_cifar10__72.csv   Jfull_resnet542bn_cifar10__46.csv\n",
            "Jfull_resnet1001_cifar10__73.csv   Jfull_resnet542bn_cifar10__47.csv\n",
            "Jfull_resnet1001_cifar10__74.csv   Jfull_resnet542bn_cifar10__48.csv\n",
            "Jfull_resnet1001_cifar10__75.csv   Jfull_resnet542bn_cifar10__49.csv\n",
            "Jfull_resnet1001_cifar10__76.csv   Jfull_resnet542bn_cifar10__4.csv\n",
            "Jfull_resnet1001_cifar10__77.csv   Jfull_resnet542bn_cifar10__50.csv\n",
            "Jfull_resnet1001_cifar10__78.csv   Jfull_resnet542bn_cifar10__51.csv\n",
            "Jfull_resnet1001_cifar10__79.csv   Jfull_resnet542bn_cifar10__52.csv\n",
            "Jfull_resnet1001_cifar10__7.csv    Jfull_resnet542bn_cifar10__53.csv\n",
            "Jfull_resnet1001_cifar10__80.csv   Jfull_resnet542bn_cifar10__54.csv\n",
            "Jfull_resnet1001_cifar10__81.csv   Jfull_resnet542bn_cifar10__55.csv\n",
            "Jfull_resnet1001_cifar10__82.csv   Jfull_resnet542bn_cifar10__56.csv\n",
            "Jfull_resnet1001_cifar10__83.csv   Jfull_resnet542bn_cifar10__57.csv\n",
            "Jfull_resnet1001_cifar10__84.csv   Jfull_resnet542bn_cifar10__58.csv\n",
            "Jfull_resnet1001_cifar10__85.csv   Jfull_resnet542bn_cifar10__59.csv\n",
            "Jfull_resnet1001_cifar10__86.csv   Jfull_resnet542bn_cifar10__5.csv\n",
            "Jfull_resnet1001_cifar10__87.csv   Jfull_resnet542bn_cifar10__60.csv\n",
            "Jfull_resnet1001_cifar10__88.csv   Jfull_resnet542bn_cifar10__61.csv\n",
            "Jfull_resnet1001_cifar10__89.csv   Jfull_resnet542bn_cifar10__62.csv\n",
            "Jfull_resnet1001_cifar10__8.csv    Jfull_resnet542bn_cifar10__63.csv\n",
            "Jfull_resnet1001_cifar10__90.csv   Jfull_resnet542bn_cifar10__64.csv\n",
            "Jfull_resnet1001_cifar10__91.csv   Jfull_resnet542bn_cifar10__65.csv\n",
            "Jfull_resnet1001_cifar10__92.csv   Jfull_resnet542bn_cifar10__66.csv\n",
            "Jfull_resnet1001_cifar10__93.csv   Jfull_resnet542bn_cifar10__67.csv\n",
            "Jfull_resnet1001_cifar10__94.csv   Jfull_resnet542bn_cifar10__68.csv\n",
            "Jfull_resnet1001_cifar10__95.csv   Jfull_resnet542bn_cifar10__69.csv\n",
            "Jfull_resnet1001_cifar10__96.csv   Jfull_resnet542bn_cifar10__6.csv\n",
            "Jfull_resnet1001_cifar10__97.csv   Jfull_resnet542bn_cifar10__70.csv\n",
            "Jfull_resnet1001_cifar10__98.csv   Jfull_resnet542bn_cifar10__71.csv\n",
            "Jfull_resnet1001_cifar10__99.csv   Jfull_resnet542bn_cifar10__72.csv\n",
            "Jfull_resnet1001_cifar10__9.csv    Jfull_resnet542bn_cifar10__73.csv\n",
            "Jfull_resnet1202_cifar10__0.csv    Jfull_resnet542bn_cifar10__74.csv\n",
            "Jfull_resnet1202_cifar10__10.csv   Jfull_resnet542bn_cifar10__75.csv\n",
            "Jfull_resnet1202_cifar10__11.csv   Jfull_resnet542bn_cifar10__76.csv\n",
            "Jfull_resnet1202_cifar10__12.csv   Jfull_resnet542bn_cifar10__77.csv\n",
            "Jfull_resnet1202_cifar10__13.csv   Jfull_resnet542bn_cifar10__78.csv\n",
            "Jfull_resnet1202_cifar10__14.csv   Jfull_resnet542bn_cifar10__79.csv\n",
            "Jfull_resnet1202_cifar10__15.csv   Jfull_resnet542bn_cifar10__7.csv\n",
            "Jfull_resnet1202_cifar10__16.csv   Jfull_resnet542bn_cifar10__80.csv\n",
            "Jfull_resnet1202_cifar10__17.csv   Jfull_resnet542bn_cifar10__81.csv\n",
            "Jfull_resnet1202_cifar10__18.csv   Jfull_resnet542bn_cifar10__82.csv\n",
            "Jfull_resnet1202_cifar10__19.csv   Jfull_resnet542bn_cifar10__83.csv\n",
            "Jfull_resnet1202_cifar10__1.csv    Jfull_resnet542bn_cifar10__84.csv\n",
            "Jfull_resnet1202_cifar10__20.csv   Jfull_resnet542bn_cifar10__85.csv\n",
            "Jfull_resnet1202_cifar10__21.csv   Jfull_resnet542bn_cifar10__86.csv\n",
            "Jfull_resnet1202_cifar10__22.csv   Jfull_resnet542bn_cifar10__87.csv\n",
            "Jfull_resnet1202_cifar10__23.csv   Jfull_resnet542bn_cifar10__88.csv\n",
            "Jfull_resnet1202_cifar10__24.csv   Jfull_resnet542bn_cifar10__89.csv\n",
            "Jfull_resnet1202_cifar10__25.csv   Jfull_resnet542bn_cifar10__8.csv\n",
            "Jfull_resnet1202_cifar10__26.csv   Jfull_resnet542bn_cifar10__90.csv\n",
            "Jfull_resnet1202_cifar10__27.csv   Jfull_resnet542bn_cifar10__91.csv\n",
            "Jfull_resnet1202_cifar10__28.csv   Jfull_resnet542bn_cifar10__92.csv\n",
            "Jfull_resnet1202_cifar10__29.csv   Jfull_resnet542bn_cifar10__93.csv\n",
            "Jfull_resnet1202_cifar10__2.csv    Jfull_resnet542bn_cifar10__94.csv\n",
            "Jfull_resnet1202_cifar10__30.csv   Jfull_resnet542bn_cifar10__95.csv\n",
            "Jfull_resnet1202_cifar10__31.csv   Jfull_resnet542bn_cifar10__96.csv\n",
            "Jfull_resnet1202_cifar10__32.csv   Jfull_resnet542bn_cifar10__97.csv\n",
            "Jfull_resnet1202_cifar10__33.csv   Jfull_resnet542bn_cifar10__98.csv\n",
            "Jfull_resnet1202_cifar10__34.csv   Jfull_resnet542bn_cifar10__99.csv\n",
            "Jfull_resnet1202_cifar10__35.csv   Jfull_resnet542bn_cifar10__9.csv\n",
            "Jfull_resnet1202_cifar10__36.csv   Jfull_resnet56_cifar100__0.csv\n",
            "Jfull_resnet1202_cifar10__37.csv   Jfull_resnet56_cifar100__10.csv\n",
            "Jfull_resnet1202_cifar10__38.csv   Jfull_resnet56_cifar100__11.csv\n",
            "Jfull_resnet1202_cifar10__39.csv   Jfull_resnet56_cifar100__12.csv\n",
            "Jfull_resnet1202_cifar10__3.csv    Jfull_resnet56_cifar100__13.csv\n",
            "Jfull_resnet1202_cifar10__40.csv   Jfull_resnet56_cifar100__14.csv\n",
            "Jfull_resnet1202_cifar10__41.csv   Jfull_resnet56_cifar100__15.csv\n",
            "Jfull_resnet1202_cifar10__42.csv   Jfull_resnet56_cifar100__16.csv\n",
            "Jfull_resnet1202_cifar10__43.csv   Jfull_resnet56_cifar100__17.csv\n",
            "Jfull_resnet1202_cifar10__44.csv   Jfull_resnet56_cifar100__18.csv\n",
            "Jfull_resnet1202_cifar10__45.csv   Jfull_resnet56_cifar100__19.csv\n",
            "Jfull_resnet1202_cifar10__46.csv   Jfull_resnet56_cifar100__1.csv\n",
            "Jfull_resnet1202_cifar10__47.csv   Jfull_resnet56_cifar100__20.csv\n",
            "Jfull_resnet1202_cifar10__48.csv   Jfull_resnet56_cifar100__21.csv\n",
            "Jfull_resnet1202_cifar10__49.csv   Jfull_resnet56_cifar100__22.csv\n",
            "Jfull_resnet1202_cifar10__4.csv    Jfull_resnet56_cifar100__23.csv\n",
            "Jfull_resnet1202_cifar10__50.csv   Jfull_resnet56_cifar100__24.csv\n",
            "Jfull_resnet1202_cifar10__51.csv   Jfull_resnet56_cifar100__25.csv\n",
            "Jfull_resnet1202_cifar10__52.csv   Jfull_resnet56_cifar100__26.csv\n",
            "Jfull_resnet1202_cifar10__53.csv   Jfull_resnet56_cifar100__27.csv\n",
            "Jfull_resnet1202_cifar10__54.csv   Jfull_resnet56_cifar100__28.csv\n",
            "Jfull_resnet1202_cifar10__55.csv   Jfull_resnet56_cifar100__29.csv\n",
            "Jfull_resnet1202_cifar10__56.csv   Jfull_resnet56_cifar100__2.csv\n",
            "Jfull_resnet1202_cifar10__57.csv   Jfull_resnet56_cifar100__30.csv\n",
            "Jfull_resnet1202_cifar10__58.csv   Jfull_resnet56_cifar100__31.csv\n",
            "Jfull_resnet1202_cifar10__59.csv   Jfull_resnet56_cifar100__32.csv\n",
            "Jfull_resnet1202_cifar10__5.csv    Jfull_resnet56_cifar100__33.csv\n",
            "Jfull_resnet1202_cifar10__60.csv   Jfull_resnet56_cifar100__34.csv\n",
            "Jfull_resnet1202_cifar10__61.csv   Jfull_resnet56_cifar100__35.csv\n",
            "Jfull_resnet1202_cifar10__62.csv   Jfull_resnet56_cifar100__36.csv\n",
            "Jfull_resnet1202_cifar10__63.csv   Jfull_resnet56_cifar100__37.csv\n",
            "Jfull_resnet1202_cifar10__64.csv   Jfull_resnet56_cifar100__38.csv\n",
            "Jfull_resnet1202_cifar10__65.csv   Jfull_resnet56_cifar100__39.csv\n",
            "Jfull_resnet1202_cifar10__66.csv   Jfull_resnet56_cifar100__3.csv\n",
            "Jfull_resnet1202_cifar10__67.csv   Jfull_resnet56_cifar100__40.csv\n",
            "Jfull_resnet1202_cifar10__68.csv   Jfull_resnet56_cifar100__41.csv\n",
            "Jfull_resnet1202_cifar10__69.csv   Jfull_resnet56_cifar100__42.csv\n",
            "Jfull_resnet1202_cifar10__6.csv    Jfull_resnet56_cifar100__43.csv\n",
            "Jfull_resnet1202_cifar10__70.csv   Jfull_resnet56_cifar100__44.csv\n",
            "Jfull_resnet1202_cifar10__71.csv   Jfull_resnet56_cifar100__45.csv\n",
            "Jfull_resnet1202_cifar10__72.csv   Jfull_resnet56_cifar100__4.csv\n",
            "Jfull_resnet1202_cifar10__73.csv   Jfull_resnet56_cifar100__5.csv\n",
            "Jfull_resnet1202_cifar10__74.csv   Jfull_resnet56_cifar100__6.csv\n",
            "Jfull_resnet1202_cifar10__75.csv   Jfull_resnet56_cifar100__7.csv\n",
            "Jfull_resnet1202_cifar10__76.csv   Jfull_resnet56_cifar100__8.csv\n",
            "Jfull_resnet1202_cifar10__77.csv   Jfull_resnet56_cifar100__9.csv\n",
            "time: 4.26 s\n"
          ],
          "name": "stdout"
        }
      ]
    },
    {
      "cell_type": "code",
      "metadata": {
        "id": "L9UHqdnHqCcv",
        "colab_type": "code",
        "outputId": "1aad209b-680d-40aa-f29b-887d564fce7a",
        "colab": {
          "base_uri": "https://localhost:8080/",
          "height": 700
        }
      },
      "source": [
        "!pip install pytorchcv\n",
        "!pip install powerlaw\n",
        "!pip install GPUtil\n",
        "import GPUtil"
      ],
      "execution_count": 6,
      "outputs": [
        {
          "output_type": "stream",
          "text": [
            "Collecting pytorchcv\n",
            "\u001b[?25l  Downloading https://files.pythonhosted.org/packages/93/be/0bcd80dfc0d64e75ceb67836385402fece3c3b964c349172a21358813b25/pytorchcv-0.0.58-py2.py3-none-any.whl (435kB)\n",
            "\r\u001b[K     |▊                               | 10kB 26.8MB/s eta 0:00:01\r\u001b[K     |█▌                              | 20kB 3.0MB/s eta 0:00:01\r\u001b[K     |██▎                             | 30kB 4.1MB/s eta 0:00:01\r\u001b[K     |███                             | 40kB 4.4MB/s eta 0:00:01\r\u001b[K     |███▊                            | 51kB 3.6MB/s eta 0:00:01\r\u001b[K     |████▌                           | 61kB 3.9MB/s eta 0:00:01\r\u001b[K     |█████▎                          | 71kB 4.4MB/s eta 0:00:01\r\u001b[K     |██████                          | 81kB 4.7MB/s eta 0:00:01\r\u001b[K     |██████▊                         | 92kB 5.1MB/s eta 0:00:01\r\u001b[K     |███████▌                        | 102kB 4.8MB/s eta 0:00:01\r\u001b[K     |████████▎                       | 112kB 4.8MB/s eta 0:00:01\r\u001b[K     |█████████                       | 122kB 4.8MB/s eta 0:00:01\r\u001b[K     |█████████▉                      | 133kB 4.8MB/s eta 0:00:01\r\u001b[K     |██████████▌                     | 143kB 4.8MB/s eta 0:00:01\r\u001b[K     |███████████▎                    | 153kB 4.8MB/s eta 0:00:01\r\u001b[K     |████████████                    | 163kB 4.8MB/s eta 0:00:01\r\u001b[K     |████████████▉                   | 174kB 4.8MB/s eta 0:00:01\r\u001b[K     |█████████████▌                  | 184kB 4.8MB/s eta 0:00:01\r\u001b[K     |██████████████▎                 | 194kB 4.8MB/s eta 0:00:01\r\u001b[K     |███████████████                 | 204kB 4.8MB/s eta 0:00:01\r\u001b[K     |███████████████▉                | 215kB 4.8MB/s eta 0:00:01\r\u001b[K     |████████████████▋               | 225kB 4.8MB/s eta 0:00:01\r\u001b[K     |█████████████████▎              | 235kB 4.8MB/s eta 0:00:01\r\u001b[K     |██████████████████              | 245kB 4.8MB/s eta 0:00:01\r\u001b[K     |██████████████████▉             | 256kB 4.8MB/s eta 0:00:01\r\u001b[K     |███████████████████▋            | 266kB 4.8MB/s eta 0:00:01\r\u001b[K     |████████████████████▎           | 276kB 4.8MB/s eta 0:00:01\r\u001b[K     |█████████████████████           | 286kB 4.8MB/s eta 0:00:01\r\u001b[K     |█████████████████████▉          | 296kB 4.8MB/s eta 0:00:01\r\u001b[K     |██████████████████████▋         | 307kB 4.8MB/s eta 0:00:01\r\u001b[K     |███████████████████████▍        | 317kB 4.8MB/s eta 0:00:01\r\u001b[K     |████████████████████████        | 327kB 4.8MB/s eta 0:00:01\r\u001b[K     |████████████████████████▉       | 337kB 4.8MB/s eta 0:00:01\r\u001b[K     |█████████████████████████▋      | 348kB 4.8MB/s eta 0:00:01\r\u001b[K     |██████████████████████████▍     | 358kB 4.8MB/s eta 0:00:01\r\u001b[K     |███████████████████████████     | 368kB 4.8MB/s eta 0:00:01\r\u001b[K     |███████████████████████████▉    | 378kB 4.8MB/s eta 0:00:01\r\u001b[K     |████████████████████████████▋   | 389kB 4.8MB/s eta 0:00:01\r\u001b[K     |█████████████████████████████▍  | 399kB 4.8MB/s eta 0:00:01\r\u001b[K     |██████████████████████████████▏ | 409kB 4.8MB/s eta 0:00:01\r\u001b[K     |██████████████████████████████▉ | 419kB 4.8MB/s eta 0:00:01\r\u001b[K     |███████████████████████████████▋| 430kB 4.8MB/s eta 0:00:01\r\u001b[K     |████████████████████████████████| 440kB 4.8MB/s \n",
            "\u001b[?25hRequirement already satisfied: numpy in /usr/local/lib/python3.6/dist-packages (from pytorchcv) (1.18.5)\n",
            "Requirement already satisfied: requests in /usr/local/lib/python3.6/dist-packages (from pytorchcv) (2.23.0)\n",
            "Requirement already satisfied: urllib3!=1.25.0,!=1.25.1,<1.26,>=1.21.1 in /usr/local/lib/python3.6/dist-packages (from requests->pytorchcv) (1.24.3)\n",
            "Requirement already satisfied: idna<3,>=2.5 in /usr/local/lib/python3.6/dist-packages (from requests->pytorchcv) (2.9)\n",
            "Requirement already satisfied: chardet<4,>=3.0.2 in /usr/local/lib/python3.6/dist-packages (from requests->pytorchcv) (3.0.4)\n",
            "Requirement already satisfied: certifi>=2017.4.17 in /usr/local/lib/python3.6/dist-packages (from requests->pytorchcv) (2020.4.5.1)\n",
            "Installing collected packages: pytorchcv\n",
            "Successfully installed pytorchcv-0.0.58\n",
            "Collecting powerlaw\n",
            "  Downloading https://files.pythonhosted.org/packages/d5/4e/3ceab890fafff8e78a5fd7f5340c232c38b21d181fcd32d7a31079db3646/powerlaw-1.4.6.tar.gz\n",
            "Requirement already satisfied: scipy in /usr/local/lib/python3.6/dist-packages (from powerlaw) (1.4.1)\n",
            "Requirement already satisfied: numpy in /usr/local/lib/python3.6/dist-packages (from powerlaw) (1.18.5)\n",
            "Requirement already satisfied: matplotlib in /usr/local/lib/python3.6/dist-packages (from powerlaw) (3.2.1)\n",
            "Requirement already satisfied: mpmath in /usr/local/lib/python3.6/dist-packages (from powerlaw) (1.1.0)\n",
            "Requirement already satisfied: cycler>=0.10 in /usr/local/lib/python3.6/dist-packages (from matplotlib->powerlaw) (0.10.0)\n",
            "Requirement already satisfied: pyparsing!=2.0.4,!=2.1.2,!=2.1.6,>=2.0.1 in /usr/local/lib/python3.6/dist-packages (from matplotlib->powerlaw) (2.4.7)\n",
            "Requirement already satisfied: kiwisolver>=1.0.1 in /usr/local/lib/python3.6/dist-packages (from matplotlib->powerlaw) (1.2.0)\n",
            "Requirement already satisfied: python-dateutil>=2.1 in /usr/local/lib/python3.6/dist-packages (from matplotlib->powerlaw) (2.8.1)\n",
            "Requirement already satisfied: six in /usr/local/lib/python3.6/dist-packages (from cycler>=0.10->matplotlib->powerlaw) (1.12.0)\n",
            "Building wheels for collected packages: powerlaw\n",
            "  Building wheel for powerlaw (setup.py) ... \u001b[?25l\u001b[?25hdone\n",
            "  Created wheel for powerlaw: filename=powerlaw-1.4.6-cp36-none-any.whl size=24787 sha256=b4df5c84267e1b11c3c2b15b664c6796749a45481f2f1ceb6ded1b6b3e9de2bd\n",
            "  Stored in directory: /root/.cache/pip/wheels/e0/27/02/08d0e2865072bfd8d7c655e290521e3feca3fc22f1ac460601\n",
            "Successfully built powerlaw\n",
            "Installing collected packages: powerlaw\n",
            "Successfully installed powerlaw-1.4.6\n",
            "Collecting GPUtil\n",
            "  Downloading https://files.pythonhosted.org/packages/ed/0e/5c61eedde9f6c87713e89d794f01e378cfd9565847d4576fa627d758c554/GPUtil-1.4.0.tar.gz\n",
            "Building wheels for collected packages: GPUtil\n",
            "  Building wheel for GPUtil (setup.py) ... \u001b[?25l\u001b[?25hdone\n",
            "  Created wheel for GPUtil: filename=GPUtil-1.4.0-cp36-none-any.whl size=7413 sha256=bf8380106549e100f547eb5061280039795546123c064b62d8b84fca69b0a2ee\n",
            "  Stored in directory: /root/.cache/pip/wheels/3d/77/07/80562de4bb0786e5ea186911a2c831fdd0018bda69beab71fd\n",
            "Successfully built GPUtil\n",
            "Installing collected packages: GPUtil\n",
            "Successfully installed GPUtil-1.4.0\n",
            "time: 9.61 s\n"
          ],
          "name": "stdout"
        }
      ]
    },
    {
      "cell_type": "code",
      "metadata": {
        "id": "0rBl2Oq6DQu9",
        "colab_type": "code",
        "outputId": "a0bb71ac-25a3-4d56-a8c2-cec011b513fb",
        "colab": {
          "base_uri": "https://localhost:8080/",
          "height": 51
        }
      },
      "source": [
        "!import os\n",
        "import time\n",
        "\n",
        "import numpy as np\n",
        "import pandas as pd\n",
        "\n",
        "import torch\n",
        "import torch.nn as nn\n",
        "import torch.nn.functional as F\n",
        "from torch.utils.data import DataLoader\n",
        "from torch.utils.data.dataset import Subset\n",
        "\n",
        "from torchvision import datasets\n",
        "from torchvision import transforms\n",
        "\n",
        "import matplotlib.pyplot as plt\n",
        "from PIL import Image\n",
        "\n",
        "import math\n",
        "import copy\n",
        "\n",
        "import gc\n"
      ],
      "execution_count": 7,
      "outputs": [
        {
          "output_type": "stream",
          "text": [
            "/bin/bash: import: command not found\n",
            "time: 4.27 s\n"
          ],
          "name": "stdout"
        }
      ]
    },
    {
      "cell_type": "markdown",
      "metadata": {
        "id": "eRm23SSZoRyb",
        "colab_type": "text"
      },
      "source": [
        "### Run InstallPhysTheory notebook "
      ]
    },
    {
      "cell_type": "code",
      "metadata": {
        "id": "XcXIRwl3NGhs",
        "colab_type": "code",
        "outputId": "3e0072ca-34fe-4e17-b747-79021e020005",
        "colab": {
          "base_uri": "https://localhost:8080/",
          "height": 34
        }
      },
      "source": [
        "import sys\n",
        "sys.path.append(\"/content/drive/My Drive/Jacobian\")\n",
        "import jacobian as jac\n",
        "import utils"
      ],
      "execution_count": 8,
      "outputs": [
        {
          "output_type": "stream",
          "text": [
            "time: 662 ms\n"
          ],
          "name": "stdout"
        }
      ]
    },
    {
      "cell_type": "code",
      "metadata": {
        "id": "iOROJGbR14rP",
        "colab_type": "code",
        "colab": {}
      },
      "source": [
        ""
      ],
      "execution_count": 0,
      "outputs": []
    },
    {
      "cell_type": "code",
      "metadata": {
        "id": "QjV56-LApamT",
        "colab_type": "code",
        "outputId": "7063eda2-d3c2-47cb-85b8-2b01dd0a4456",
        "colab": {
          "base_uri": "https://localhost:8080/",
          "height": 34
        }
      },
      "source": [
        "def jacobian_batched_full(modelname, model, data_loader, batch_size, start_batch = 0, num_classes=10, device='cuda:0', data_dim=3*32*32, formJJ=False, save=True): \n",
        "  '''Compute a full of J^{T}J Jacobian in batch mode.  '''\n",
        "\n",
        "  model.eval() \n",
        "  model = model.to(device)\n",
        "\n",
        "  left_data_loader = data_loader \n",
        "  right_data_loader = copy.deepcopy(data_loader)\n",
        "\n",
        "  JJMat = None \n",
        "  for left_batch, data in enumerate(left_data_loader): \n",
        "    if left_batch < start_batch:\n",
        "      continue\n",
        "    print(left_batch) \n",
        "\n",
        "    inputs, _ = data \n",
        "    inputs = inputs.to(device)\n",
        "    inputs.requires_grad=True\n",
        "    outputs = model(inputs)\n",
        "    J = jac.batch_diagJ(inputs, outputs)\n",
        "    J = J.reshape(batch_size,num_classes*data_dim)\n",
        "\n",
        "    X = J.detach().cpu().numpy()\n",
        "\n",
        "    del data, inputs, outputs, J\n",
        "    gc.collect()\n",
        "    torch.cuda.empty_cache()\n",
        "    GPUtil.showUtilization()\n",
        "\n",
        "    JJBlock = None\n",
        "    for right_batch, data in enumerate(right_data_loader):\n",
        "      print(left_batch, right_batch)\n",
        "      inputs, _ = data \n",
        "      inputs = inputs.to(device)\n",
        "      inputs.requires_grad=True\n",
        "      outputs = model(inputs)\n",
        "    \n",
        "      Jt = jac.batch_diagJ(inputs, outputs)\n",
        "      Jt = Jt.reshape(batch_size,num_classes*data_dim)\n",
        "\n",
        "      Xt = Jt.detach().cpu().numpy().transpose()\n",
        "\n",
        "      del data, inputs, outputs, Jt\n",
        "      gc.collect()\n",
        "      torch.cuda.empty_cache()\n",
        "\n",
        "      block = np.dot(X,Xt)\n",
        "      JJBlock = np.hstack([JJBlock, block]) if JJBlock is not None else block\n",
        "\n",
        "    # end of right_batch loop\n",
        "    \n",
        "    if save:\n",
        "      filename = \"{}/Jfull_{}__{}.csv\".format(Jdir, modelname, left_batch)\n",
        "      np.savetxt(filename, JJBlock, delimiter='\\t')\n",
        "      print(\"Saved file \",filename)\n",
        "\n",
        "    if formJJ:\n",
        "      JJMat = np.vstack([JJMat, JJBlock]) if JJMat is not None else JJBlock\n",
        "\n",
        "      print(\"JJMat shape \", left_batch, JJMat.shape, filename) \n",
        "\n",
        "  # end of left_batch loop\n",
        "\n",
        "  return JJMat\n"
      ],
      "execution_count": 9,
      "outputs": [
        {
          "output_type": "stream",
          "text": [
            "time: 43.7 ms\n"
          ],
          "name": "stdout"
        }
      ]
    },
    {
      "cell_type": "code",
      "metadata": {
        "id": "UMx_m3Gi_X__",
        "colab_type": "code",
        "outputId": "2f4f0737-09fb-425c-9d59-c9e4d729bf65",
        "colab": {
          "base_uri": "https://localhost:8080/",
          "height": 34
        }
      },
      "source": [
        "def jacobian_full(model, data_loader, batch_size, num_classes=10, device='cuda:0'): \n",
        "  '''compute a full of J^{T}J Jacobian directly.  '''\n",
        "\n",
        "  model.eval()\n",
        "  model = model.to(device)\n",
        "\n",
        "  J_right = jac.construct_diagJ(model, test_loader, batch_size=batch_size, device=device) \n",
        "  J_left = J_right.transpose(1,0)\n",
        "  JJ = torch.mm(J_right, J_left)\n",
        "  JJMat = JJ.detach().cpu().numpy()\n",
        "\n",
        "  del J_right, J_left, JJ\n",
        "  gc.collect()\n",
        "  torch.cuda.empty_cache()\n",
        "\n",
        "  return JJMat"
      ],
      "execution_count": 10,
      "outputs": [
        {
          "output_type": "stream",
          "text": [
            "time: 4.65 ms\n"
          ],
          "name": "stdout"
        }
      ]
    },
    {
      "cell_type": "markdown",
      "metadata": {
        "id": "AlaD-n5OsIcO",
        "colab_type": "text"
      },
      "source": [
        "### ResNet "
      ]
    },
    {
      "cell_type": "code",
      "metadata": {
        "id": "nT8SeVRcyv2R",
        "colab_type": "code",
        "outputId": "83a2fa79-6f93-4017-f560-71d7916baacf",
        "colab": {
          "base_uri": "https://localhost:8080/",
          "height": 34
        }
      },
      "source": [
        "import pytorchcv\n",
        "from pytorchcv.model_provider import get_model as ptcv_get_model"
      ],
      "execution_count": 11,
      "outputs": [
        {
          "output_type": "stream",
          "text": [
            "time: 92.2 ms\n"
          ],
          "name": "stdout"
        }
      ]
    },
    {
      "cell_type": "markdown",
      "metadata": {
        "id": "b6pvm9Wh1MJz",
        "colab_type": "text"
      },
      "source": [
        "### Compute JJ, in batches or all at once\n"
      ]
    },
    {
      "cell_type": "code",
      "metadata": {
        "id": "XPJqJb2yZINy",
        "colab_type": "code",
        "colab": {
          "base_uri": "https://localhost:8080/",
          "height": 34
        },
        "outputId": "959ec5cd-0eeb-4c12-f353-749920b94d05"
      },
      "source": [
        "def get_datasets(thismodel, batch_size):\n",
        "  print(\"getting dataset for \", thismodel)\n",
        "  if thismodel.endswith('cifar100'):\n",
        "    print(\"loading cifar100\")\n",
        "    train_dataset = datasets.CIFAR100(\n",
        "      root='data', \n",
        "      train=True, \n",
        "      transform=transforms.ToTensor(),\n",
        "      download=True)\n",
        "    test_dataset = datasets.CIFAR100(\n",
        "      root='data', \n",
        "      train=False, \n",
        "      transform=transforms.ToTensor(),\n",
        "      download=True) \n",
        " \n",
        "    train_loader = DataLoader(\n",
        "      dataset=train_dataset, \n",
        "      batch_size=batch_size,\n",
        "      num_workers=4,\n",
        "      shuffle=False)\n",
        "    test_loader = DataLoader(\n",
        "      dataset=test_dataset, \n",
        "      batch_size=batch_size,\n",
        "      num_workers=4,\n",
        "      shuffle=False)\n",
        "\n",
        "  else:\n",
        "    print(\"loading cifar10\")\n",
        "    train_dataset, test_dataset, train_loader, test_loader = utils.get_data(batch_size=batch_size)\n",
        "\n",
        "      \n",
        "  return train_dataset, test_dataset, train_loader, test_loader"
      ],
      "execution_count": 12,
      "outputs": [
        {
          "output_type": "stream",
          "text": [
            "time: 7.8 ms\n"
          ],
          "name": "stdout"
        }
      ]
    },
    {
      "cell_type": "code",
      "metadata": {
        "id": "OOrW3nihw7aP",
        "colab_type": "code",
        "outputId": "33c9cf55-30ea-4078-82ca-a12006eb12f9",
        "colab": {
          "base_uri": "https://localhost:8080/",
          "height": 392,
          "referenced_widgets": [
            "b6bc41e8ce174f9daaf1df736a602095",
            "2a10f80bd67348e9a2cb60ebcaaa672b",
            "8073eb9c1682492fb0ecf0cefa1141d5",
            "72c7a08b506640cc8edf24458fa046bf",
            "a17c9156a6fd4856af0b740320365923",
            "3886bfac81914c71b7a6e51177d5b0c5",
            "3b9c782c91f34f30b7d50c5e7d415fca",
            "64b237f3e1f4400c9bb24f20411a40c0"
          ]
        }
      },
      "source": [
        "print(thismodel)\n",
        "train_dataset, test_dataset, train_loader, test_loader = get_datasets(thismodel, batch_size)#utils.get_data(batch_size=batch_size)\n",
        "#train_dataset, test_dataset, train_loader, test_loader = utils.get_data(batch_size=batch_size)\n",
        "\n",
        "print(test_dataset)\n",
        "GPUtil.showUtilization()\n"
      ],
      "execution_count": 13,
      "outputs": [
        {
          "output_type": "stream",
          "text": [
            "resnet164bn_cifar10\n",
            "getting dataset for  resnet164bn_cifar10\n",
            "loading cifar10\n",
            "Downloading https://www.cs.toronto.edu/~kriz/cifar-10-python.tar.gz to data/cifar-10-python.tar.gz\n"
          ],
          "name": "stdout"
        },
        {
          "output_type": "display_data",
          "data": {
            "application/vnd.jupyter.widget-view+json": {
              "model_id": "b6bc41e8ce174f9daaf1df736a602095",
              "version_minor": 0,
              "version_major": 2
            },
            "text/plain": [
              "HBox(children=(FloatProgress(value=1.0, bar_style='info', max=1.0), HTML(value='')))"
            ]
          },
          "metadata": {
            "tags": []
          }
        },
        {
          "output_type": "stream",
          "text": [
            "Extracting data/cifar-10-python.tar.gz to data\n",
            "Files already downloaded and verified\n",
            "Dataset CIFAR10\n",
            "    Number of datapoints: 10000\n",
            "    Root location: data\n",
            "    Split: Test\n",
            "    StandardTransform\n",
            "Transform: Compose(\n",
            "               ToTensor()\n",
            "               Normalize(mean=[0.4913725490196078, 0.4823529411764706, 0.4466666666666667], std=[0.24705882352941178, 0.24352941176470588, 0.2615686274509804])\n",
            "           )\n",
            "| ID | GPU | MEM |\n",
            "------------------\n",
            "|  0 |  0% |  0% |\n",
            "time: 7.19 s\n"
          ],
          "name": "stdout"
        }
      ]
    },
    {
      "cell_type": "code",
      "metadata": {
        "id": "nZsgnzt1co7q",
        "colab_type": "code",
        "colab": {
          "base_uri": "https://localhost:8080/",
          "height": 405
        },
        "outputId": "cd9538a0-37ff-4ef5-db1d-777cf4be53fc"
      },
      "source": [
        "model = ptcv_get_model(thismodel, pretrained=True)  \n",
        "if batched: \n",
        "  jacobian_batched_full(thismodel, model, test_loader, batch_size=batch_size, num_classes=num_classes, start_batch=start_batch)\n",
        "else:\n",
        "  JJMat = jacobian_full(model, test_loader, batch_size=batch_size, num_classes=num_classes)"
      ],
      "execution_count": 16,
      "outputs": [
        {
          "output_type": "stream",
          "text": [
            "0\n"
          ],
          "name": "stdout"
        },
        {
          "output_type": "error",
          "ename": "RuntimeError",
          "evalue": "ignored",
          "traceback": [
            "\u001b[0;31m---------------------------------------------------------------------------\u001b[0m",
            "\u001b[0;31mRuntimeError\u001b[0m                              Traceback (most recent call last)",
            "\u001b[0;32m<ipython-input-16-f655c3bea5c5>\u001b[0m in \u001b[0;36m<module>\u001b[0;34m()\u001b[0m\n\u001b[1;32m      1\u001b[0m \u001b[0mmodel\u001b[0m \u001b[0;34m=\u001b[0m \u001b[0mptcv_get_model\u001b[0m\u001b[0;34m(\u001b[0m\u001b[0mthismodel\u001b[0m\u001b[0;34m,\u001b[0m \u001b[0mpretrained\u001b[0m\u001b[0;34m=\u001b[0m\u001b[0;32mTrue\u001b[0m\u001b[0;34m)\u001b[0m\u001b[0;34m\u001b[0m\u001b[0;34m\u001b[0m\u001b[0m\n\u001b[1;32m      2\u001b[0m \u001b[0;32mif\u001b[0m \u001b[0mbatched\u001b[0m\u001b[0;34m:\u001b[0m\u001b[0;34m\u001b[0m\u001b[0;34m\u001b[0m\u001b[0m\n\u001b[0;32m----> 3\u001b[0;31m   \u001b[0mjacobian_batched_full\u001b[0m\u001b[0;34m(\u001b[0m\u001b[0mthismodel\u001b[0m\u001b[0;34m,\u001b[0m \u001b[0mmodel\u001b[0m\u001b[0;34m,\u001b[0m \u001b[0mtest_loader\u001b[0m\u001b[0;34m,\u001b[0m \u001b[0mbatch_size\u001b[0m\u001b[0;34m=\u001b[0m\u001b[0mbatch_size\u001b[0m\u001b[0;34m,\u001b[0m \u001b[0mnum_classes\u001b[0m\u001b[0;34m=\u001b[0m\u001b[0mnum_classes\u001b[0m\u001b[0;34m,\u001b[0m \u001b[0mstart_batch\u001b[0m\u001b[0;34m=\u001b[0m\u001b[0mstart_batch\u001b[0m\u001b[0;34m)\u001b[0m\u001b[0;34m\u001b[0m\u001b[0;34m\u001b[0m\u001b[0m\n\u001b[0m\u001b[1;32m      4\u001b[0m \u001b[0;32melse\u001b[0m\u001b[0;34m:\u001b[0m\u001b[0;34m\u001b[0m\u001b[0;34m\u001b[0m\u001b[0m\n\u001b[1;32m      5\u001b[0m   \u001b[0mJJMat\u001b[0m \u001b[0;34m=\u001b[0m \u001b[0mjacobian_full\u001b[0m\u001b[0;34m(\u001b[0m\u001b[0mmodel\u001b[0m\u001b[0;34m,\u001b[0m \u001b[0mtest_loader\u001b[0m\u001b[0;34m,\u001b[0m \u001b[0mbatch_size\u001b[0m\u001b[0;34m=\u001b[0m\u001b[0mbatch_size\u001b[0m\u001b[0;34m,\u001b[0m \u001b[0mnum_classes\u001b[0m\u001b[0;34m=\u001b[0m\u001b[0mnum_classes\u001b[0m\u001b[0;34m)\u001b[0m\u001b[0;34m\u001b[0m\u001b[0;34m\u001b[0m\u001b[0m\n",
            "\u001b[0;32m<ipython-input-9-9702a2d195a5>\u001b[0m in \u001b[0;36mjacobian_batched_full\u001b[0;34m(modelname, model, data_loader, batch_size, start_batch, num_classes, device, data_dim, formJJ, save)\u001b[0m\n\u001b[1;32m     19\u001b[0m     \u001b[0moutputs\u001b[0m \u001b[0;34m=\u001b[0m \u001b[0mmodel\u001b[0m\u001b[0;34m(\u001b[0m\u001b[0minputs\u001b[0m\u001b[0;34m)\u001b[0m\u001b[0;34m\u001b[0m\u001b[0;34m\u001b[0m\u001b[0m\n\u001b[1;32m     20\u001b[0m     \u001b[0mJ\u001b[0m \u001b[0;34m=\u001b[0m \u001b[0mjac\u001b[0m\u001b[0;34m.\u001b[0m\u001b[0mbatch_diagJ\u001b[0m\u001b[0;34m(\u001b[0m\u001b[0minputs\u001b[0m\u001b[0;34m,\u001b[0m \u001b[0moutputs\u001b[0m\u001b[0;34m)\u001b[0m\u001b[0;34m\u001b[0m\u001b[0;34m\u001b[0m\u001b[0m\n\u001b[0;32m---> 21\u001b[0;31m     \u001b[0mJ\u001b[0m \u001b[0;34m=\u001b[0m \u001b[0mJ\u001b[0m\u001b[0;34m.\u001b[0m\u001b[0mreshape\u001b[0m\u001b[0;34m(\u001b[0m\u001b[0mbatch_size\u001b[0m\u001b[0;34m,\u001b[0m\u001b[0mnum_classes\u001b[0m\u001b[0;34m*\u001b[0m\u001b[0mdata_dim\u001b[0m\u001b[0;34m)\u001b[0m\u001b[0;34m\u001b[0m\u001b[0;34m\u001b[0m\u001b[0m\n\u001b[0m\u001b[1;32m     22\u001b[0m \u001b[0;34m\u001b[0m\u001b[0m\n\u001b[1;32m     23\u001b[0m     \u001b[0mX\u001b[0m \u001b[0;34m=\u001b[0m \u001b[0mJ\u001b[0m\u001b[0;34m.\u001b[0m\u001b[0mdetach\u001b[0m\u001b[0;34m(\u001b[0m\u001b[0;34m)\u001b[0m\u001b[0;34m.\u001b[0m\u001b[0mcpu\u001b[0m\u001b[0;34m(\u001b[0m\u001b[0;34m)\u001b[0m\u001b[0;34m.\u001b[0m\u001b[0mnumpy\u001b[0m\u001b[0;34m(\u001b[0m\u001b[0;34m)\u001b[0m\u001b[0;34m\u001b[0m\u001b[0;34m\u001b[0m\u001b[0m\n",
            "\u001b[0;31mRuntimeError\u001b[0m: shape '[100, 307200]' is invalid for input of size 3072000"
          ]
        },
        {
          "output_type": "stream",
          "text": [
            "time: 1.6 s\n"
          ],
          "name": "stdout"
        }
      ]
    },
    {
      "cell_type": "code",
      "metadata": {
        "id": "hHIBjIe-oeso",
        "colab_type": "code",
        "colab": {}
      },
      "source": [
        "if batched:\n",
        "  print(\"Reading batched JJBlocks for \", thismodel)\n",
        "  JJMat = None\n",
        "  import os, glob\n",
        "  os.chdir(Jdir)\n",
        "  for filename in glob.glob(\"Jfull_{}*\".format(thismodel)):\n",
        "    print(filename)\n",
        "    JJBlock = np.loadtxt(filename)\n",
        "    JJMat = np.vstack([JJMat, JJBlock]) if JJMat is not None else JJBlock\n"
      ],
      "execution_count": 0,
      "outputs": []
    },
    {
      "cell_type": "code",
      "metadata": {
        "id": "NSjkSs0fyzou",
        "colab_type": "code",
        "colab": {}
      },
      "source": [
        ""
      ],
      "execution_count": 0,
      "outputs": []
    },
    {
      "cell_type": "code",
      "metadata": {
        "id": "YsxEPxFXk_EK",
        "colab_type": "code",
        "colab": {}
      },
      "source": [
        "import powerlaw\n",
        "norm = num_classes*3*32*32 \n",
        "evals = np.linalg.eigvals(JJMat)\n",
        "evals  = (1.0/ norm)*evals\n",
        "\n",
        "fit = powerlaw.Fit(evals)\n",
        "alpha = fit.alpha\n",
        "D = fit.D\n",
        "max_eval = np.max(evals)\n",
        "\n",
        "plt.hist(evals, bins=100)\n",
        "plt.title(\"{}  alpha = {:0.2f} max  = {:0.2f} \".format(thismodel, alpha, max_eval))\n",
        "plt.show()\n",
        "\n",
        "print(alpha, D, max_eval)\n"
      ],
      "execution_count": 0,
      "outputs": []
    },
    {
      "cell_type": "code",
      "metadata": {
        "id": "4edrT68e2MRm",
        "colab_type": "code",
        "colab": {}
      },
      "source": [
        ""
      ],
      "execution_count": 0,
      "outputs": []
    }
  ]
}