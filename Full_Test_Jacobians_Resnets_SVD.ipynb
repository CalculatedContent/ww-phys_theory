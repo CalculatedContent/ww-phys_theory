{
  "nbformat": 4,
  "nbformat_minor": 0,
  "metadata": {
    "colab": {
      "name": "Full-Test-Jacobians-Resnets-SVD.ipynb",
      "provenance": [],
      "collapsed_sections": [],
      "machine_shape": "hm",
      "authorship_tag": "ABX9TyOgOUG1lZ51AyAwGeRgl8M5",
      "include_colab_link": true
    },
    "kernelspec": {
      "name": "python3",
      "display_name": "Python 3"
    },
    "accelerator": "GPU"
  },
  "cells": [
    {
      "cell_type": "markdown",
      "metadata": {
        "id": "view-in-github",
        "colab_type": "text"
      },
      "source": [
        "<a href=\"https://colab.research.google.com/github/CalculatedContent/ww-phys_theory/blob/master/Full_Test_Jacobians_Resnets_SVD.ipynb\" target=\"_parent\"><img src=\"https://colab.research.google.com/assets/colab-badge.svg\" alt=\"Open In Colab\"/></a>"
      ]
    },
    {
      "cell_type": "markdown",
      "metadata": {
        "id": "4YGlUg538lQ4",
        "colab_type": "text"
      },
      "source": [
        "## Notebook for generating Full Jacobian SVD over the test data for ResNet data\n",
        "\n",
        "Can do the full calculation, and a batched (slow, but handles large memory cases)\n",
        "\n",
        "\n",
        "```\n",
        " resnet20_cifar10\n",
        " resnet56_cifar10\n",
        " resnet110_cifar10\n",
        " resnet164bn_cifar10\n",
        " resnet272bn_cifar10\n",
        "\n",
        "full_jacobian()\n",
        "\n",
        "\n",
        " resnet542bn_cifar10\n",
        " resnet1001_cifar10\n",
        " resnet1202_cifar10\n",
        "\n",
        "full_batched_jacobian()\n",
        "\n",
        "```\n",
        "\n",
        "\n",
        "\n",
        "\n"
      ]
    },
    {
      "cell_type": "code",
      "metadata": {
        "id": "4JBCL3Qj8pl6",
        "colab_type": "code",
        "colab": {
          "base_uri": "https://localhost:8080/",
          "height": 34
        },
        "outputId": "c63ca5dd-d2cd-437a-839e-883ed914af80"
      },
      "source": [
        "Jdir =  '/content/drive/My Drive/J_resnets_fullsvd'\n",
        "\n",
        "thismodel = 'resnet20_cifar10'\n",
        "\n",
        "batched = False\n",
        "start_batch = 0\n",
        "batch_size = 100\n",
        "\n",
        "num_classes= 10\n",
        "device = 'cuda:0'\n",
        "num_data = 10000\n"
      ],
      "execution_count": 53,
      "outputs": [
        {
          "output_type": "stream",
          "text": [
            "time: 2.82 ms\n"
          ],
          "name": "stdout"
        }
      ]
    },
    {
      "cell_type": "code",
      "metadata": {
        "id": "lSlymHmAIph5",
        "colab_type": "code",
        "outputId": "5b144d3b-6897-4f8d-87b2-3e1bee14ed16",
        "colab": {
          "base_uri": "https://localhost:8080/",
          "height": 136
        }
      },
      "source": [
        "!pip install torch==1.5.0+cu101 torchvision==0.6.0+cu101 -f https://download.pytorch.org/whl/torch_stable.html"
      ],
      "execution_count": 54,
      "outputs": [
        {
          "output_type": "stream",
          "text": [
            "Looking in links: https://download.pytorch.org/whl/torch_stable.html\n",
            "Requirement already satisfied: torch==1.5.0+cu101 in /usr/local/lib/python3.6/dist-packages (1.5.0+cu101)\n",
            "Requirement already satisfied: torchvision==0.6.0+cu101 in /usr/local/lib/python3.6/dist-packages (0.6.0+cu101)\n",
            "Requirement already satisfied: future in /usr/local/lib/python3.6/dist-packages (from torch==1.5.0+cu101) (0.16.0)\n",
            "Requirement already satisfied: numpy in /usr/local/lib/python3.6/dist-packages (from torch==1.5.0+cu101) (1.18.5)\n",
            "Requirement already satisfied: pillow>=4.1.1 in /usr/local/lib/python3.6/dist-packages (from torchvision==0.6.0+cu101) (7.0.0)\n",
            "time: 2.94 s\n"
          ],
          "name": "stdout"
        }
      ]
    },
    {
      "cell_type": "code",
      "metadata": {
        "id": "hZplJz8WqCkD",
        "colab_type": "code",
        "outputId": "8fcc2f06-4af1-45ce-d715-6bd253b71438",
        "colab": {
          "base_uri": "https://localhost:8080/",
          "height": 85
        }
      },
      "source": [
        "!pip install ipython-autotime\n",
        "%load_ext autotime"
      ],
      "execution_count": 55,
      "outputs": [
        {
          "output_type": "stream",
          "text": [
            "Requirement already satisfied: ipython-autotime in /usr/local/lib/python3.6/dist-packages (0.1)\n",
            "The autotime extension is already loaded. To reload it, use:\n",
            "  %reload_ext autotime\n",
            "time: 2.98 s\n"
          ],
          "name": "stdout"
        }
      ]
    },
    {
      "cell_type": "code",
      "metadata": {
        "id": "XQGrAUZLSEy_",
        "colab_type": "code",
        "outputId": "c5824580-fbec-4ee4-87c9-4aa49dbd4a51",
        "colab": {
          "base_uri": "https://localhost:8080/",
          "height": 51
        }
      },
      "source": [
        "from google.colab import drive\n",
        "drive.mount('/content/drive')\n"
      ],
      "execution_count": 56,
      "outputs": [
        {
          "output_type": "stream",
          "text": [
            "Drive already mounted at /content/drive; to attempt to forcibly remount, call drive.mount(\"/content/drive\", force_remount=True).\n",
            "time: 2.59 ms\n"
          ],
          "name": "stdout"
        }
      ]
    },
    {
      "cell_type": "code",
      "metadata": {
        "id": "koMMhkFpIbJ3",
        "colab_type": "code",
        "outputId": "358217c1-2476-4101-b3af-3a68eb95217c",
        "colab": {
          "base_uri": "https://localhost:8080/",
          "height": 1000
        }
      },
      "source": [
        "!mkdir \"$Jdir\"\n",
        "!ls \"$Jdir\""
      ],
      "execution_count": 58,
      "outputs": [
        {
          "output_type": "stream",
          "text": [
            "mkdir: cannot create directory ‘/content/drive/My Drive/J_resnets_fullsvd’: File exists\n",
            "data\t\t\t\t   Jfull_resnet542bn_cifar10__26.csv\n",
            "Jfull_resnet1001_cifar10__0.csv    Jfull_resnet542bn_cifar10__27.csv\n",
            "Jfull_resnet1001_cifar10__10.csv   Jfull_resnet542bn_cifar10__28.csv\n",
            "Jfull_resnet1001_cifar10__11.csv   Jfull_resnet542bn_cifar10__29.csv\n",
            "Jfull_resnet1001_cifar10__12.csv   Jfull_resnet542bn_cifar10__2.csv\n",
            "Jfull_resnet1001_cifar10__13.csv   Jfull_resnet542bn_cifar10__30.csv\n",
            "Jfull_resnet1001_cifar10__14.csv   Jfull_resnet542bn_cifar10__31.csv\n",
            "Jfull_resnet1001_cifar10__15.csv   Jfull_resnet542bn_cifar10__32.csv\n",
            "Jfull_resnet1001_cifar10__16.csv   Jfull_resnet542bn_cifar10__33.csv\n",
            "Jfull_resnet1001_cifar10__17.csv   Jfull_resnet542bn_cifar10__34.csv\n",
            "Jfull_resnet1001_cifar10__18.csv   Jfull_resnet542bn_cifar10__35.csv\n",
            "Jfull_resnet1001_cifar10__19.csv   Jfull_resnet542bn_cifar10__36.csv\n",
            "Jfull_resnet1001_cifar10__1.csv    Jfull_resnet542bn_cifar10__37.csv\n",
            "Jfull_resnet1001_cifar10__20.csv   Jfull_resnet542bn_cifar10__38.csv\n",
            "Jfull_resnet1001_cifar10__21.csv   Jfull_resnet542bn_cifar10__39.csv\n",
            "Jfull_resnet1001_cifar10__22.csv   Jfull_resnet542bn_cifar10__3.csv\n",
            "Jfull_resnet1001_cifar10__23.csv   Jfull_resnet542bn_cifar10__40.csv\n",
            "Jfull_resnet1001_cifar10__24.csv   Jfull_resnet542bn_cifar10__41.csv\n",
            "Jfull_resnet1001_cifar10__25.csv   Jfull_resnet542bn_cifar10__42.csv\n",
            "Jfull_resnet1001_cifar10__26.csv   Jfull_resnet542bn_cifar10__43.csv\n",
            "Jfull_resnet1001_cifar10__27.csv   Jfull_resnet542bn_cifar10__44.csv\n",
            "Jfull_resnet1001_cifar10__28.csv   Jfull_resnet542bn_cifar10__45.csv\n",
            "Jfull_resnet1001_cifar10__29.csv   Jfull_resnet542bn_cifar10__46.csv\n",
            "Jfull_resnet1001_cifar10__2.csv    Jfull_resnet542bn_cifar10__47.csv\n",
            "Jfull_resnet1001_cifar10__30.csv   Jfull_resnet542bn_cifar10__48.csv\n",
            "Jfull_resnet1001_cifar10__31.csv   Jfull_resnet542bn_cifar10__49.csv\n",
            "Jfull_resnet1001_cifar10__32.csv   Jfull_resnet542bn_cifar10__4.csv\n",
            "Jfull_resnet1001_cifar10__33.csv   Jfull_resnet542bn_cifar10__50.csv\n",
            "Jfull_resnet1001_cifar10__34.csv   Jfull_resnet542bn_cifar10__51.csv\n",
            "Jfull_resnet1001_cifar10__35.csv   Jfull_resnet542bn_cifar10__52.csv\n",
            "Jfull_resnet1001_cifar10__36.csv   Jfull_resnet542bn_cifar10__53.csv\n",
            "Jfull_resnet1001_cifar10__37.csv   Jfull_resnet542bn_cifar10__54.csv\n",
            "Jfull_resnet1001_cifar10__38.csv   Jfull_resnet542bn_cifar10__55.csv\n",
            "Jfull_resnet1001_cifar10__39.csv   Jfull_resnet542bn_cifar10__56.csv\n",
            "Jfull_resnet1001_cifar10__3.csv    Jfull_resnet542bn_cifar10__57.csv\n",
            "Jfull_resnet1001_cifar10__40.csv   Jfull_resnet542bn_cifar10__58.csv\n",
            "Jfull_resnet1001_cifar10__41.csv   Jfull_resnet542bn_cifar10__59.csv\n",
            "Jfull_resnet1001_cifar10__42.csv   Jfull_resnet542bn_cifar10__5.csv\n",
            "Jfull_resnet1001_cifar10__43.csv   Jfull_resnet542bn_cifar10__60.csv\n",
            "Jfull_resnet1001_cifar10__44.csv   Jfull_resnet542bn_cifar10__61.csv\n",
            "Jfull_resnet1001_cifar10__45.csv   Jfull_resnet542bn_cifar10__62.csv\n",
            "Jfull_resnet1001_cifar10__46.csv   Jfull_resnet542bn_cifar10__63.csv\n",
            "Jfull_resnet1001_cifar10__47.csv   Jfull_resnet542bn_cifar10__64.csv\n",
            "Jfull_resnet1001_cifar10__48.csv   Jfull_resnet542bn_cifar10__65.csv\n",
            "Jfull_resnet1001_cifar10__49.csv   Jfull_resnet542bn_cifar10__66.csv\n",
            "Jfull_resnet1001_cifar10__4.csv    Jfull_resnet542bn_cifar10__67.csv\n",
            "Jfull_resnet1001_cifar10__50.csv   Jfull_resnet542bn_cifar10__68.csv\n",
            "Jfull_resnet1001_cifar10__51.csv   Jfull_resnet542bn_cifar10__69.csv\n",
            "Jfull_resnet1001_cifar10__52.csv   Jfull_resnet542bn_cifar10__6.csv\n",
            "Jfull_resnet1001_cifar10__53.csv   Jfull_resnet542bn_cifar10__70.csv\n",
            "Jfull_resnet1001_cifar10__54.csv   Jfull_resnet542bn_cifar10__71.csv\n",
            "Jfull_resnet1001_cifar10__55.csv   Jfull_resnet542bn_cifar10__72.csv\n",
            "Jfull_resnet1001_cifar10__56.csv   Jfull_resnet542bn_cifar10__73.csv\n",
            "Jfull_resnet1001_cifar10__57.csv   Jfull_resnet542bn_cifar10__74.csv\n",
            "Jfull_resnet1001_cifar10__58.csv   Jfull_resnet542bn_cifar10__75.csv\n",
            "Jfull_resnet1001_cifar10__59.csv   Jfull_resnet542bn_cifar10__76.csv\n",
            "Jfull_resnet1001_cifar10__5.csv    Jfull_resnet542bn_cifar10__77.csv\n",
            "Jfull_resnet1001_cifar10__60.csv   Jfull_resnet542bn_cifar10__78.csv\n",
            "Jfull_resnet1001_cifar10__61.csv   Jfull_resnet542bn_cifar10__79.csv\n",
            "Jfull_resnet1001_cifar10__62.csv   Jfull_resnet542bn_cifar10__7.csv\n",
            "Jfull_resnet1001_cifar10__63.csv   Jfull_resnet542bn_cifar10__80.csv\n",
            "Jfull_resnet1001_cifar10__6.csv    Jfull_resnet542bn_cifar10__81.csv\n",
            "Jfull_resnet1001_cifar10__7.csv    Jfull_resnet542bn_cifar10__82.csv\n",
            "Jfull_resnet1001_cifar10__8.csv    Jfull_resnet542bn_cifar10__83.csv\n",
            "Jfull_resnet1001_cifar10__9.csv    Jfull_resnet542bn_cifar10__84.csv\n",
            "Jfull_resnet542bn_cifar10__0.csv   Jfull_resnet542bn_cifar10__85.csv\n",
            "Jfull_resnet542bn_cifar10__10.csv  Jfull_resnet542bn_cifar10__86.csv\n",
            "Jfull_resnet542bn_cifar10__11.csv  Jfull_resnet542bn_cifar10__87.csv\n",
            "Jfull_resnet542bn_cifar10__12.csv  Jfull_resnet542bn_cifar10__88.csv\n",
            "Jfull_resnet542bn_cifar10__13.csv  Jfull_resnet542bn_cifar10__89.csv\n",
            "Jfull_resnet542bn_cifar10__14.csv  Jfull_resnet542bn_cifar10__8.csv\n",
            "Jfull_resnet542bn_cifar10__15.csv  Jfull_resnet542bn_cifar10__90.csv\n",
            "Jfull_resnet542bn_cifar10__16.csv  Jfull_resnet542bn_cifar10__91.csv\n",
            "Jfull_resnet542bn_cifar10__17.csv  Jfull_resnet542bn_cifar10__92.csv\n",
            "Jfull_resnet542bn_cifar10__18.csv  Jfull_resnet542bn_cifar10__93.csv\n",
            "Jfull_resnet542bn_cifar10__19.csv  Jfull_resnet542bn_cifar10__94.csv\n",
            "Jfull_resnet542bn_cifar10__1.csv   Jfull_resnet542bn_cifar10__95.csv\n",
            "Jfull_resnet542bn_cifar10__20.csv  Jfull_resnet542bn_cifar10__96.csv\n",
            "Jfull_resnet542bn_cifar10__21.csv  Jfull_resnet542bn_cifar10__97.csv\n",
            "Jfull_resnet542bn_cifar10__22.csv  Jfull_resnet542bn_cifar10__98.csv\n",
            "Jfull_resnet542bn_cifar10__23.csv  Jfull_resnet542bn_cifar10__99.csv\n",
            "Jfull_resnet542bn_cifar10__24.csv  Jfull_resnet542bn_cifar10__9.csv\n",
            "Jfull_resnet542bn_cifar10__25.csv\n",
            "time: 1.5 s\n"
          ],
          "name": "stdout"
        }
      ]
    },
    {
      "cell_type": "code",
      "metadata": {
        "id": "L9UHqdnHqCcv",
        "colab_type": "code",
        "colab": {
          "base_uri": "https://localhost:8080/",
          "height": 340
        },
        "outputId": "151943fb-eb1d-4f04-b179-7b09d56217d6"
      },
      "source": [
        "!pip install pytorchcv\n",
        "!pip install powerlaw\n",
        "!pip install GPUtil\n",
        "import GPUtil"
      ],
      "execution_count": 59,
      "outputs": [
        {
          "output_type": "stream",
          "text": [
            "Requirement already satisfied: pytorchcv in /usr/local/lib/python3.6/dist-packages (0.0.58)\n",
            "Requirement already satisfied: requests in /usr/local/lib/python3.6/dist-packages (from pytorchcv) (2.23.0)\n",
            "Requirement already satisfied: numpy in /usr/local/lib/python3.6/dist-packages (from pytorchcv) (1.18.5)\n",
            "Requirement already satisfied: chardet<4,>=3.0.2 in /usr/local/lib/python3.6/dist-packages (from requests->pytorchcv) (3.0.4)\n",
            "Requirement already satisfied: urllib3!=1.25.0,!=1.25.1,<1.26,>=1.21.1 in /usr/local/lib/python3.6/dist-packages (from requests->pytorchcv) (1.24.3)\n",
            "Requirement already satisfied: certifi>=2017.4.17 in /usr/local/lib/python3.6/dist-packages (from requests->pytorchcv) (2020.4.5.1)\n",
            "Requirement already satisfied: idna<3,>=2.5 in /usr/local/lib/python3.6/dist-packages (from requests->pytorchcv) (2.9)\n",
            "Requirement already satisfied: powerlaw in /usr/local/lib/python3.6/dist-packages (1.4.6)\n",
            "Requirement already satisfied: mpmath in /usr/local/lib/python3.6/dist-packages (from powerlaw) (1.1.0)\n",
            "Requirement already satisfied: scipy in /usr/local/lib/python3.6/dist-packages (from powerlaw) (1.4.1)\n",
            "Requirement already satisfied: numpy in /usr/local/lib/python3.6/dist-packages (from powerlaw) (1.18.5)\n",
            "Requirement already satisfied: matplotlib in /usr/local/lib/python3.6/dist-packages (from powerlaw) (3.2.1)\n",
            "Requirement already satisfied: pyparsing!=2.0.4,!=2.1.2,!=2.1.6,>=2.0.1 in /usr/local/lib/python3.6/dist-packages (from matplotlib->powerlaw) (2.4.7)\n",
            "Requirement already satisfied: kiwisolver>=1.0.1 in /usr/local/lib/python3.6/dist-packages (from matplotlib->powerlaw) (1.2.0)\n",
            "Requirement already satisfied: python-dateutil>=2.1 in /usr/local/lib/python3.6/dist-packages (from matplotlib->powerlaw) (2.8.1)\n",
            "Requirement already satisfied: cycler>=0.10 in /usr/local/lib/python3.6/dist-packages (from matplotlib->powerlaw) (0.10.0)\n",
            "Requirement already satisfied: six>=1.5 in /usr/local/lib/python3.6/dist-packages (from python-dateutil>=2.1->matplotlib->powerlaw) (1.12.0)\n",
            "Requirement already satisfied: GPUtil in /usr/local/lib/python3.6/dist-packages (1.4.0)\n",
            "time: 8.5 s\n"
          ],
          "name": "stdout"
        }
      ]
    },
    {
      "cell_type": "code",
      "metadata": {
        "id": "0rBl2Oq6DQu9",
        "colab_type": "code",
        "outputId": "523c322b-129c-453f-9adc-e41c01363504",
        "colab": {
          "base_uri": "https://localhost:8080/",
          "height": 51
        }
      },
      "source": [
        "!import os\n",
        "import time\n",
        "\n",
        "import numpy as np\n",
        "import pandas as pd\n",
        "\n",
        "import torch\n",
        "import torch.nn as nn\n",
        "import torch.nn.functional as F\n",
        "from torch.utils.data import DataLoader\n",
        "from torch.utils.data.dataset import Subset\n",
        "\n",
        "from torchvision import datasets\n",
        "from torchvision import transforms\n",
        "\n",
        "import matplotlib.pyplot as plt\n",
        "from PIL import Image\n",
        "\n",
        "import math\n",
        "import copy\n",
        "\n",
        "import gc\n"
      ],
      "execution_count": 60,
      "outputs": [
        {
          "output_type": "stream",
          "text": [
            "/bin/bash: import: command not found\n",
            "time: 900 ms\n"
          ],
          "name": "stdout"
        }
      ]
    },
    {
      "cell_type": "markdown",
      "metadata": {
        "id": "eRm23SSZoRyb",
        "colab_type": "text"
      },
      "source": [
        "### Run InstallPhysTheory notebook "
      ]
    },
    {
      "cell_type": "code",
      "metadata": {
        "id": "XcXIRwl3NGhs",
        "colab_type": "code",
        "outputId": "a2b6d343-053c-4809-99ff-bac65303a959",
        "colab": {
          "base_uri": "https://localhost:8080/",
          "height": 34
        }
      },
      "source": [
        "import sys\n",
        "sys.path.append(\"/content/drive/My Drive/Jacobian\")\n",
        "import jacobian as jac\n",
        "import utils"
      ],
      "execution_count": 61,
      "outputs": [
        {
          "output_type": "stream",
          "text": [
            "time: 1.97 ms\n"
          ],
          "name": "stdout"
        }
      ]
    },
    {
      "cell_type": "code",
      "metadata": {
        "id": "iOROJGbR14rP",
        "colab_type": "code",
        "colab": {}
      },
      "source": [
        ""
      ],
      "execution_count": 0,
      "outputs": []
    },
    {
      "cell_type": "code",
      "metadata": {
        "id": "QjV56-LApamT",
        "colab_type": "code",
        "outputId": "06514df1-e721-45c8-b2ec-5786b2f74198",
        "colab": {
          "base_uri": "https://localhost:8080/",
          "height": 34
        }
      },
      "source": [
        "def jacobian_batched_full(modelname, model, data_loader, batch_size, start_batch = 0, num_classes=10, device='cuda:0', data_dim=3*32*32, formJJ=False, save=True): \n",
        "  '''Compute a full of J^{T}J Jacobian in batch mode.  '''\n",
        "\n",
        "  model.eval() \n",
        "  model = model.to(device)\n",
        "\n",
        "  left_data_loader = data_loader \n",
        "  right_data_loader = copy.deepcopy(data_loader)\n",
        "\n",
        "  JJMat = None \n",
        "  for left_batch, data in enumerate(left_data_loader): \n",
        "    if left_batch < start_batch:\n",
        "      continue\n",
        "    print(left_batch) \n",
        "\n",
        "    inputs, _ = data \n",
        "    inputs = inputs.to(device)\n",
        "    inputs.requires_grad=True\n",
        "    outputs = model(inputs)\n",
        "    J = jac.batch_diagJ(inputs, outputs)\n",
        "    J = J.reshape(batch_size,num_classes*data_dim)\n",
        "\n",
        "    X = J.detach().cpu().numpy()\n",
        "\n",
        "    del data, inputs, outputs, J\n",
        "    gc.collect()\n",
        "    torch.cuda.empty_cache()\n",
        "    GPUtil.showUtilization()\n",
        "\n",
        "    JJBlock = None\n",
        "    for right_batch, data in enumerate(right_data_loader):\n",
        "      print(left_batch, right_batch)\n",
        "      inputs, _ = data \n",
        "      inputs = inputs.to(device)\n",
        "      inputs.requires_grad=True\n",
        "      outputs = model(inputs)\n",
        "    \n",
        "      Jt = jac.batch_diagJ(inputs, outputs)\n",
        "      Jt = Jt.reshape(batch_size,num_classes*data_dim)\n",
        "\n",
        "      Xt = Jt.detach().cpu().numpy().transpose()\n",
        "\n",
        "      del data, inputs, outputs, Jt\n",
        "      gc.collect()\n",
        "      torch.cuda.empty_cache()\n",
        "\n",
        "      block = np.dot(X,Xt)\n",
        "      JJBlock = np.hstack([JJBlock, block]) if JJBlock is not None else block\n",
        "\n",
        "    # end of right_batch loop\n",
        "    \n",
        "    if save:\n",
        "      filename = \"{}/Jfull_{}__{}.csv\".format(Jdir, modelname, left_batch)\n",
        "      np.savetxt(filename, JJBlock, delimiter='\\t')\n",
        "      print(\"Saved file \",filename)\n",
        "\n",
        "    if formJJ:\n",
        "      JJMat = np.vstack([JJMat, JJBlock]) if JJMat is not None else JJBlock\n",
        "\n",
        "      print(\"JJMat shape \", left_batch, JJMat.shape, filename) \n",
        "\n",
        "  # end of left_batch loop\n",
        "\n",
        "  return JJMat\n"
      ],
      "execution_count": 62,
      "outputs": [
        {
          "output_type": "stream",
          "text": [
            "time: 51.9 ms\n"
          ],
          "name": "stdout"
        }
      ]
    },
    {
      "cell_type": "code",
      "metadata": {
        "id": "UMx_m3Gi_X__",
        "colab_type": "code",
        "outputId": "31fb63dd-c556-4c68-d365-725ecc4af195",
        "colab": {
          "base_uri": "https://localhost:8080/",
          "height": 34
        }
      },
      "source": [
        "def jacobian_full(model, data_loader, batch_size, num_classes=10, device='cuda:0'): \n",
        "  '''compute a full of J^{T}J Jacobian directly.  '''\n",
        "\n",
        "  model.eval()\n",
        "  model = model.to(device)\n",
        "\n",
        "  J_right = jac.construct_diagJ(model, test_loader, batch_size=batch_size, device=device) \n",
        "  J_left = J_right.transpose(1,0)\n",
        "  JJ = torch.mm(J_right, J_left)\n",
        "  JJMat = JJ.detach().cpu().numpy()\n",
        "\n",
        "  del J_right, J_left, JJ\n",
        "  gc.collect()\n",
        "  torch.cuda.empty_cache()\n",
        "\n",
        "  return JJMat"
      ],
      "execution_count": 64,
      "outputs": [
        {
          "output_type": "stream",
          "text": [
            "time: 6.2 ms\n"
          ],
          "name": "stdout"
        }
      ]
    },
    {
      "cell_type": "markdown",
      "metadata": {
        "id": "AlaD-n5OsIcO",
        "colab_type": "text"
      },
      "source": [
        "### ResNet "
      ]
    },
    {
      "cell_type": "code",
      "metadata": {
        "id": "nT8SeVRcyv2R",
        "colab_type": "code",
        "outputId": "0cb0e2d8-1b78-402f-f5b4-758745053ce1",
        "colab": {
          "base_uri": "https://localhost:8080/",
          "height": 34
        }
      },
      "source": [
        "import pytorchcv\n",
        "from pytorchcv.model_provider import get_model as ptcv_get_model"
      ],
      "execution_count": 65,
      "outputs": [
        {
          "output_type": "stream",
          "text": [
            "time: 1.21 ms\n"
          ],
          "name": "stdout"
        }
      ]
    },
    {
      "cell_type": "markdown",
      "metadata": {
        "id": "b6pvm9Wh1MJz",
        "colab_type": "text"
      },
      "source": [
        "### Compute JJ, in batches or all at once\n"
      ]
    },
    {
      "cell_type": "code",
      "metadata": {
        "id": "OOrW3nihw7aP",
        "colab_type": "code",
        "outputId": "bc6be09d-29e2-4f96-ac16-a406c6427cbb",
        "colab": {
          "base_uri": "https://localhost:8080/",
          "height": 85
        }
      },
      "source": [
        "print(thismodel)\n",
        "train_dataset, test_dataset, train_loader, test_loader = utils.get_data(batch_size=batch_size)\n",
        "\n",
        "model = ptcv_get_model(thismodel, pretrained=True)  \n",
        "if batched: \n",
        "  jacobian_batched_full(thismodel, model, test_loader, batch_size=batch_size, start_batch=start_batch)\n",
        "else:\n",
        "  JJMat = jacobian_full(model, test_loader, batch_size=batch_size)\n"
      ],
      "execution_count": 67,
      "outputs": [
        {
          "output_type": "stream",
          "text": [
            "resnet20_cifar10\n",
            "Files already downloaded and verified\n",
            "Files already downloaded and verified\n",
            "time: 16.1 s\n"
          ],
          "name": "stdout"
        }
      ]
    },
    {
      "cell_type": "code",
      "metadata": {
        "id": "hHIBjIe-oeso",
        "colab_type": "code",
        "colab": {
          "base_uri": "https://localhost:8080/",
          "height": 34
        },
        "outputId": "6e40df78-04f1-462b-90de-0a1027dd5da0"
      },
      "source": [
        "if batched:\n",
        "  print(\"Reading batched JJBlocks for \", thismodel)\n",
        "  JJMat = None\n",
        "  import os, glob\n",
        "  os.chdir(Jdir)\n",
        "  for filename in glob.glob(\"Jfull_resnet542bn_cifar10*\"):\n",
        "    print(filename)\n",
        "    JJBlock = np.loadtxt(filename)\n",
        "    JJMat = np.vstack([JJMat, JJBlock]) if JJMat is not None else JJBlock\n"
      ],
      "execution_count": 68,
      "outputs": [
        {
          "output_type": "stream",
          "text": [
            "time: 3.31 ms\n"
          ],
          "name": "stdout"
        }
      ]
    },
    {
      "cell_type": "code",
      "metadata": {
        "id": "NSjkSs0fyzou",
        "colab_type": "code",
        "colab": {}
      },
      "source": [
        ""
      ],
      "execution_count": 0,
      "outputs": []
    },
    {
      "cell_type": "code",
      "metadata": {
        "id": "YsxEPxFXk_EK",
        "colab_type": "code",
        "colab": {
          "base_uri": "https://localhost:8080/",
          "height": 349
        },
        "outputId": "d139c3a7-042d-4539-fdbb-ad1ea30cfb7b"
      },
      "source": [
        "import powerlaw\n",
        "norm = 10*3*32*32\n",
        "evals = np.linalg.eigvals(JJMat)\n",
        "evals  = (1.0/ norm)*evals\n",
        "\n",
        "fit = powerlaw.Fit(evals)\n",
        "alpha = fit.alpha\n",
        "D = fit.D\n",
        "\n",
        "plt.hist(evals, bins=100)\n",
        "plt.title(\"{}  alpha = {:0.2f} D = {:0.2f} \".format(thismodel, alpha, D))\n",
        "plt.show()\n"
      ],
      "execution_count": 69,
      "outputs": [
        {
          "output_type": "stream",
          "text": [
            "Calculating best minimal value for power law fit\n",
            "/usr/local/lib/python3.6/dist-packages/powerlaw.py:700: RuntimeWarning: invalid value encountered in true_divide\n",
            "  (Theoretical_CDF * (1 - Theoretical_CDF))\n"
          ],
          "name": "stderr"
        },
        {
          "output_type": "display_data",
          "data": {
            "image/png": "[encoded data removed]",
            "text/plain": [
              "<Figure size 432x288 with 1 Axes>"
            ]
          },
          "metadata": {
            "tags": [],
            "needs_background": "light"
          }
        },
        {
          "output_type": "stream",
          "text": [
            "time: 7min 2s\n"
          ],
          "name": "stdout"
        }
      ]
    },
    {
      "cell_type": "code",
      "metadata": {
        "id": "4edrT68e2MRm",
        "colab_type": "code",
        "colab": {}
      },
      "source": [
        ""
      ],
      "execution_count": 0,
      "outputs": []
    }
  ]
}