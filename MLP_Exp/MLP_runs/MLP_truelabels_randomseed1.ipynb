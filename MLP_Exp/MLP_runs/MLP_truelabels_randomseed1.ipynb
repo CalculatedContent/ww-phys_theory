{
  "nbformat": 4,
  "nbformat_minor": 0,
  "metadata": {
    "colab": {
      "name": "MLP_truelabels_randomseed1.ipynb",
      "provenance": [],
      "collapsed_sections": []
    },
    "kernelspec": {
      "name": "python3",
      "display_name": "Python 3"
    },
    "accelerator": "GPU"
  },
  "cells": [
    {
      "cell_type": "code",
      "metadata": {
        "id": "1Wozs_tykl-I",
        "colab_type": "code",
        "outputId": "fa3a6628-0699-4b23-fc07-2127e7a673c0",
        "colab": {
          "base_uri": "https://localhost:8080/",
          "height": 122
        }
      },
      "source": [
        "import os\n",
        "import time\n",
        "\n",
        "import numpy as np\n",
        "import pandas as pd\n",
        "\n",
        "import torch\n",
        "import torch.nn as nn\n",
        "import torch.nn.functional as F\n",
        "from torch.utils.data import DataLoader\n",
        "from torch.utils.data.dataset import Subset\n",
        "\n",
        "from torchvision import datasets\n",
        "from torchvision import transforms\n",
        "\n",
        "import matplotlib.pyplot as plt\n",
        "from PIL import Image\n",
        "\n",
        "import math\n",
        "import copy\n",
        "\n",
        "from google.colab import drive\n",
        "drive.mount('/content/drive')\n",
        "\n",
        "np.random.seed(1)"
      ],
      "execution_count": 0,
      "outputs": [
        {
          "output_type": "stream",
          "text": [
            "Go to this URL in a browser: https://accounts.google.com/o/oauth2/auth?client_id=947318989803-6bn6qk8qdgf4n4g3pfee6491hc0brc4i.apps.googleusercontent.com&redirect_uri=urn%3aietf%3awg%3aoauth%3a2.0%3aoob&response_type=code&scope=email%20https%3a%2f%2fwww.googleapis.com%2fauth%2fdocs.test%20https%3a%2f%2fwww.googleapis.com%2fauth%2fdrive%20https%3a%2f%2fwww.googleapis.com%2fauth%2fdrive.photos.readonly%20https%3a%2f%2fwww.googleapis.com%2fauth%2fpeopleapi.readonly\n",
            "\n",
            "Enter your authorization code:\n",
            "··········\n",
            "Mounted at /content/drive\n"
          ],
          "name": "stdout"
        }
      ]
    },
    {
      "cell_type": "code",
      "metadata": {
        "id": "x3lpmP4GMEjP",
        "colab_type": "code",
        "colab": {}
      },
      "source": [
        "class MLP(nn.Module):\n",
        "  def __init__(self, n_units, init_scale=1.0):\n",
        "    super(MLP, self).__init__()\n",
        "\n",
        "    self._n_units = copy.copy(n_units)\n",
        "    self._layers = []\n",
        "    for i in range(1, len(n_units)):\n",
        "      layer = nn.Linear(n_units[i-1], n_units[i], bias=False)\n",
        "      variance = math.sqrt(2.0 / (n_units[i-1] + n_units[i]))\n",
        "      layer.weight.data.normal_(0.0, init_scale * variance)\n",
        "      self._layers.append(layer)\n",
        "\n",
        "      name = 'fc%d' % i\n",
        "      if i == len(n_units) - 1:\n",
        "        name = 'fc'  # the prediction layer is just called fc\n",
        "      self.add_module(name, layer)\n",
        "\n",
        "\n",
        "  def forward(self, x):\n",
        "    x = x.view(-1, self._n_units[0])\n",
        "    out = self._layers[0](x)\n",
        "    for layer in self._layers[1:]:\n",
        "      out = F.relu(out)\n",
        "      out = layer(out)\n",
        "    return out"
      ],
      "execution_count": 0,
      "outputs": []
    },
    {
      "cell_type": "code",
      "metadata": {
        "id": "SNJwcT3UTJ1y",
        "colab_type": "code",
        "outputId": "a67b0fdb-9c8a-4ca1-d23f-2c83b772c6f4",
        "colab": {
          "base_uri": "https://localhost:8080/",
          "height": 34
        }
      },
      "source": [
        "cd drive/'My Drive'"
      ],
      "execution_count": 0,
      "outputs": [
        {
          "output_type": "stream",
          "text": [
            "/content/drive/My Drive\n"
          ],
          "name": "stdout"
        }
      ]
    },
    {
      "cell_type": "code",
      "metadata": {
        "id": "TLr8JXAbRqwD",
        "colab_type": "code",
        "outputId": "76682e4b-e212-4c86-bbe0-8bf5cc4bd1ff",
        "colab": {
          "base_uri": "https://localhost:8080/",
          "height": 306
        }
      },
      "source": [
        "gpu_info = !nvidia-smi\n",
        "gpu_info = '\\n'.join(gpu_info)\n",
        "if gpu_info.find('failed') >= 0:\n",
        "  print('Select the Runtime → \"Change runtime type\" menu to enable a GPU accelerator, ')\n",
        "  print('and then re-execute this cell.')\n",
        "else:\n",
        "  print(gpu_info)"
      ],
      "execution_count": 0,
      "outputs": [
        {
          "output_type": "stream",
          "text": [
            "Mon Apr  6 04:11:01 2020       \n",
            "+-----------------------------------------------------------------------------+\n",
            "| NVIDIA-SMI 440.64.00    Driver Version: 418.67       CUDA Version: 10.1     |\n",
            "|-------------------------------+----------------------+----------------------+\n",
            "| GPU  Name        Persistence-M| Bus-Id        Disp.A | Volatile Uncorr. ECC |\n",
            "| Fan  Temp  Perf  Pwr:Usage/Cap|         Memory-Usage | GPU-Util  Compute M. |\n",
            "|===============================+======================+======================|\n",
            "|   0  Tesla P100-PCIE...  Off  | 00000000:00:04.0 Off |                    0 |\n",
            "| N/A   33C    P0    25W / 250W |      0MiB / 16280MiB |      0%      Default |\n",
            "+-------------------------------+----------------------+----------------------+\n",
            "                                                                               \n",
            "+-----------------------------------------------------------------------------+\n",
            "| Processes:                                                       GPU Memory |\n",
            "|  GPU       PID   Type   Process name                             Usage      |\n",
            "|=============================================================================|\n",
            "|  No running processes found                                                 |\n",
            "+-----------------------------------------------------------------------------+\n"
          ],
          "name": "stdout"
        }
      ]
    },
    {
      "cell_type": "code",
      "metadata": {
        "id": "W3crUnLKlwlo",
        "colab_type": "code",
        "outputId": "dd7f9845-4176-4ed3-d1cd-c3e1b389e1b4",
        "colab": {
          "base_uri": "https://localhost:8080/",
          "height": 51
        }
      },
      "source": [
        "normalize = transforms.Normalize(mean=[x/255.0 for x in [125.3, 123.0, 113.9]], std=[x / 255.0 for x in [63.0, 62.1, 66.7]])\n",
        "\n",
        "transform_train = transforms.Compose([\n",
        "          transforms.ToTensor(),\n",
        "          normalize])\n",
        "\n",
        "transform_test = transforms.Compose([\n",
        "        transforms.ToTensor(),\n",
        "        normalize])\n",
        "\n",
        "\n",
        "train_dataset = datasets.CIFAR10(root='data', \n",
        "                                train=True, \n",
        "                                transform=transform_train,\n",
        "                                download=True)\n",
        "\n",
        "test_dataset = datasets.CIFAR10(root='data', \n",
        "                                train=False, \n",
        "                                transform=transform_test,\n",
        "                                download=True)\n",
        "\n",
        "\n",
        "\n",
        "\n",
        "train_loader = DataLoader(dataset=train_dataset, \n",
        "                          batch_size=128,\n",
        "                          num_workers=4,\n",
        "                          shuffle=True)\n",
        "\n",
        "test_loader = DataLoader(dataset=test_dataset, \n",
        "                         batch_size=128,\n",
        "                         num_workers=4,\n",
        "                         shuffle=False)"
      ],
      "execution_count": 0,
      "outputs": [
        {
          "output_type": "stream",
          "text": [
            "Files already downloaded and verified\n",
            "Files already downloaded and verified\n"
          ],
          "name": "stdout"
        }
      ]
    },
    {
      "cell_type": "code",
      "metadata": {
        "id": "PdXklGQxYaX3",
        "colab_type": "code",
        "outputId": "de17b6a2-a2f1-43fd-b82d-a56fdd397a22",
        "colab": {
          "base_uri": "https://localhost:8080/",
          "height": 172
        }
      },
      "source": [
        "import matplotlib.pyplot as plt\n",
        "import numpy as np\n",
        "import torchvision\n",
        "\n",
        "# functions to show an image\n",
        "classes = ('plane', 'car', 'bird', 'cat',\n",
        "           'deer', 'dog', 'frog', 'horse', 'ship', 'truck')\n",
        "\n",
        "def imshow(img):\n",
        "    img = img / 2 + 0.5     # unnormalize\n",
        "    npimg = img.numpy()\n",
        "    plt.imshow(np.transpose(npimg, (1, 2, 0)))\n",
        "    plt.show()\n",
        "\n",
        "\n",
        "# get some random training images\n",
        "dataiter = iter(train_loader)\n",
        "images, labels = dataiter.next()\n",
        "images = images[:4]\n",
        "labels = labels[:4]\n",
        "\n",
        "# show images\n",
        "imshow(torchvision.utils.make_grid(images))\n",
        "# print labels\n",
        "print(' '.join('%5s' % classes[labels[j]] for j in range(4)))"
      ],
      "execution_count": 0,
      "outputs": [
        {
          "output_type": "stream",
          "text": [
            "Clipping input data to the valid range for imshow with RGB data ([0..1] for floats or [0..255] for integers).\n"
          ],
          "name": "stderr"
        },
        {
          "output_type": "display_data",
          "data": {
            "image/png": "[encoded data removed]",
            "text/plain": [
              "<Figure size 432x288 with 1 Axes>"
            ]
          },
          "metadata": {
            "tags": []
          }
        },
        {
          "output_type": "stream",
          "text": [
            " bird   cat horse  ship\n"
          ],
          "name": "stdout"
        }
      ]
    },
    {
      "cell_type": "code",
      "metadata": {
        "id": "nhE4U46YUCM3",
        "colab_type": "code",
        "colab": {}
      },
      "source": [
        "mlp_spec = '512'\n",
        "n_units = [int(x) for x in mlp_spec.split('x')] # hidden dims\n",
        "n_units.append(10)  # output dim\n",
        "n_units.insert(0, 32*32*3)        # input dim\n",
        "model = MLP(n_units)\n",
        "\n",
        "optimizer = torch.optim.SGD(model.parameters(), .01, momentum=0.9, weight_decay=0)\n",
        "scheduler = torch.optim.lr_scheduler.MultiStepLR(optimizer, [50, 100, 150], gamma=0.1, last_epoch=-1)"
      ],
      "execution_count": 0,
      "outputs": []
    },
    {
      "cell_type": "code",
      "metadata": {
        "id": "p7ufNVZdFGFo",
        "colab_type": "code",
        "colab": {}
      },
      "source": [
        "def compute_acc(model, data_loader):\n",
        "    correct_pred, num_examples = 0, 0\n",
        "    model.eval()\n",
        "    for i, (features, targets) in enumerate(data_loader):\n",
        "        probas = model(features)\n",
        "        _, predicted_labels = torch.max(probas, 1)\n",
        "        num_examples += targets.size(0)\n",
        "        assert predicted_labels.size() == targets.size()\n",
        "        correct_pred += (predicted_labels == targets).sum()\n",
        "    return correct_pred.float()/num_examples * 100"
      ],
      "execution_count": 0,
      "outputs": []
    },
    {
      "cell_type": "code",
      "metadata": {
        "id": "GxQWIn67oCuy",
        "colab_type": "code",
        "outputId": "31832338-1b19-44fb-a21f-c699b7ca3f21",
        "colab": {
          "base_uri": "https://localhost:8080/",
          "height": 1000
        }
      },
      "source": [
        "criterion = nn.CrossEntropyLoss()\n",
        "\n",
        "cost_list = []\n",
        "train_acc_list = []\n",
        "\n",
        "\n",
        "epoch_max = 200\n",
        "\n",
        "for epoch in range(epoch_max):\n",
        "    model.train()\n",
        "    for batch_idx, (features, targets) in enumerate(train_loader):\n",
        "    # compute output\n",
        "      output = model(features)\n",
        "      loss = criterion(output, targets)\n",
        "\n",
        "      optimizer.zero_grad()\n",
        "      loss.backward()\n",
        "      optimizer.step()\n",
        "\n",
        "      cost_list.append(loss.item())\n",
        "      if not batch_idx % 150:\n",
        "        print (f'Epoch: {epoch+1:03d}/{epoch_max:03d} | '\n",
        "                   f'Batch {batch_idx:03d}/{len(train_loader):03d} |' \n",
        "                   f' Cost: {loss:.4f}')\n",
        "    if epoch % 10 == 0:\n",
        "          torch.save(model.state_dict(), 'MLP_truelabels_randomseed1')\n",
        "    model.eval()\n",
        "    with torch.set_grad_enabled(False): # save memory during inference\n",
        "        \n",
        "        train_acc = compute_acc(model, train_loader)        \n",
        "        print(f'Epoch: {epoch+1:03d}/{epoch_max:03d}\\n'\n",
        "              f'Train ACC: {train_acc:.2f}')\n",
        "        \n",
        "        train_acc_list.append(train_acc)\n",
        "        if np.isclose(train_acc, 0.0):\n",
        "          torch.save(model.state_dict(), 'MLP_truelabels_randomseed1')\n",
        "    scheduler.step()\n",
        "\n",
        "np.save('cost_MLP_truelabels_randomseed1', cost_list)\n",
        "np.save('trainacc_MLP_truelabels_randomseed1', train_acc_list)\n",
        "\n",
        " "
      ],
      "execution_count": 0,
      "outputs": [
        {
          "output_type": "stream",
          "text": [
            "Epoch: 001/200 | Batch 000/391 | Cost: 2.7925\n",
            "Epoch: 001/200 | Batch 150/391 | Cost: 1.6904\n",
            "Epoch: 001/200 | Batch 300/391 | Cost: 1.8806\n",
            "Epoch: 001/200\n",
            "Train ACC: 49.26\n",
            "Epoch: 002/200 | Batch 000/391 | Cost: 1.4586\n",
            "Epoch: 002/200 | Batch 150/391 | Cost: 1.3993\n",
            "Epoch: 002/200 | Batch 300/391 | Cost: 1.5164\n",
            "Epoch: 002/200\n",
            "Train ACC: 52.88\n",
            "Epoch: 003/200 | Batch 000/391 | Cost: 1.3666\n",
            "Epoch: 003/200 | Batch 150/391 | Cost: 1.4365\n",
            "Epoch: 003/200 | Batch 300/391 | Cost: 1.2935\n",
            "Epoch: 003/200\n",
            "Train ACC: 57.89\n",
            "Epoch: 004/200 | Batch 000/391 | Cost: 1.1526\n",
            "Epoch: 004/200 | Batch 150/391 | Cost: 1.1902\n",
            "Epoch: 004/200 | Batch 300/391 | Cost: 1.0108\n",
            "Epoch: 004/200\n",
            "Train ACC: 58.68\n",
            "Epoch: 005/200 | Batch 000/391 | Cost: 1.1011\n",
            "Epoch: 005/200 | Batch 150/391 | Cost: 1.4622\n",
            "Epoch: 005/200 | Batch 300/391 | Cost: 1.1940\n",
            "Epoch: 005/200\n",
            "Train ACC: 61.17\n",
            "Epoch: 006/200 | Batch 000/391 | Cost: 1.0180\n",
            "Epoch: 006/200 | Batch 150/391 | Cost: 1.0549\n",
            "Epoch: 006/200 | Batch 300/391 | Cost: 1.1941\n",
            "Epoch: 006/200\n",
            "Train ACC: 63.69\n",
            "Epoch: 007/200 | Batch 000/391 | Cost: 1.0349\n",
            "Epoch: 007/200 | Batch 150/391 | Cost: 0.9634\n",
            "Epoch: 007/200 | Batch 300/391 | Cost: 1.2130\n",
            "Epoch: 007/200\n",
            "Train ACC: 66.10\n",
            "Epoch: 008/200 | Batch 000/391 | Cost: 0.8384\n",
            "Epoch: 008/200 | Batch 150/391 | Cost: 1.1080\n",
            "Epoch: 008/200 | Batch 300/391 | Cost: 1.0549\n",
            "Epoch: 008/200\n",
            "Train ACC: 68.49\n",
            "Epoch: 009/200 | Batch 000/391 | Cost: 0.7837\n",
            "Epoch: 009/200 | Batch 150/391 | Cost: 0.9184\n",
            "Epoch: 009/200 | Batch 300/391 | Cost: 1.1686\n",
            "Epoch: 009/200\n",
            "Train ACC: 69.03\n",
            "Epoch: 010/200 | Batch 000/391 | Cost: 0.8034\n",
            "Epoch: 010/200 | Batch 150/391 | Cost: 1.1590\n",
            "Epoch: 010/200 | Batch 300/391 | Cost: 1.1374\n",
            "Epoch: 010/200\n",
            "Train ACC: 69.65\n",
            "Epoch: 011/200 | Batch 000/391 | Cost: 0.7971\n",
            "Epoch: 011/200 | Batch 150/391 | Cost: 0.9015\n",
            "Epoch: 011/200 | Batch 300/391 | Cost: 1.0563\n",
            "Epoch: 011/200\n",
            "Train ACC: 72.23\n",
            "Epoch: 012/200 | Batch 000/391 | Cost: 0.9724\n",
            "Epoch: 012/200 | Batch 150/391 | Cost: 0.8573\n",
            "Epoch: 012/200 | Batch 300/391 | Cost: 1.0012\n",
            "Epoch: 012/200\n",
            "Train ACC: 72.01\n",
            "Epoch: 013/200 | Batch 000/391 | Cost: 0.8416\n",
            "Epoch: 013/200 | Batch 150/391 | Cost: 0.8207\n",
            "Epoch: 013/200 | Batch 300/391 | Cost: 0.9792\n",
            "Epoch: 013/200\n",
            "Train ACC: 72.92\n",
            "Epoch: 014/200 | Batch 000/391 | Cost: 0.6009\n",
            "Epoch: 014/200 | Batch 150/391 | Cost: 0.5984\n",
            "Epoch: 014/200 | Batch 300/391 | Cost: 1.0047\n",
            "Epoch: 014/200\n",
            "Train ACC: 74.54\n",
            "Epoch: 015/200 | Batch 000/391 | Cost: 0.7600\n",
            "Epoch: 015/200 | Batch 150/391 | Cost: 0.9009\n",
            "Epoch: 015/200 | Batch 300/391 | Cost: 0.9999\n",
            "Epoch: 015/200\n",
            "Train ACC: 72.40\n",
            "Epoch: 016/200 | Batch 000/391 | Cost: 0.7332\n",
            "Epoch: 016/200 | Batch 150/391 | Cost: 1.0387\n",
            "Epoch: 016/200 | Batch 300/391 | Cost: 0.7907\n",
            "Epoch: 016/200\n",
            "Train ACC: 75.58\n",
            "Epoch: 017/200 | Batch 000/391 | Cost: 0.8170\n",
            "Epoch: 017/200 | Batch 150/391 | Cost: 0.5417\n",
            "Epoch: 017/200 | Batch 300/391 | Cost: 0.8350\n",
            "Epoch: 017/200\n",
            "Train ACC: 76.33\n",
            "Epoch: 018/200 | Batch 000/391 | Cost: 0.6052\n",
            "Epoch: 018/200 | Batch 150/391 | Cost: 0.6590\n",
            "Epoch: 018/200 | Batch 300/391 | Cost: 0.8953\n",
            "Epoch: 018/200\n",
            "Train ACC: 76.04\n",
            "Epoch: 019/200 | Batch 000/391 | Cost: 0.7469\n",
            "Epoch: 019/200 | Batch 150/391 | Cost: 0.6675\n",
            "Epoch: 019/200 | Batch 300/391 | Cost: 0.9162\n",
            "Epoch: 019/200\n",
            "Train ACC: 76.35\n",
            "Epoch: 020/200 | Batch 000/391 | Cost: 0.5090\n",
            "Epoch: 020/200 | Batch 150/391 | Cost: 0.5647\n",
            "Epoch: 020/200 | Batch 300/391 | Cost: 0.7185\n",
            "Epoch: 020/200\n",
            "Train ACC: 79.73\n",
            "Epoch: 021/200 | Batch 000/391 | Cost: 0.4497\n",
            "Epoch: 021/200 | Batch 150/391 | Cost: 0.6562\n",
            "Epoch: 021/200 | Batch 300/391 | Cost: 0.7894\n",
            "Epoch: 021/200\n",
            "Train ACC: 80.47\n",
            "Epoch: 022/200 | Batch 000/391 | Cost: 0.5010\n",
            "Epoch: 022/200 | Batch 150/391 | Cost: 0.7470\n",
            "Epoch: 022/200 | Batch 300/391 | Cost: 0.8756\n",
            "Epoch: 022/200\n",
            "Train ACC: 77.11\n",
            "Epoch: 023/200 | Batch 000/391 | Cost: 0.8912\n",
            "Epoch: 023/200 | Batch 150/391 | Cost: 0.8296\n",
            "Epoch: 023/200 | Batch 300/391 | Cost: 0.7971\n",
            "Epoch: 023/200\n",
            "Train ACC: 82.20\n",
            "Epoch: 024/200 | Batch 000/391 | Cost: 0.5726\n",
            "Epoch: 024/200 | Batch 150/391 | Cost: 0.4638\n",
            "Epoch: 024/200 | Batch 300/391 | Cost: 0.8753\n",
            "Epoch: 024/200\n",
            "Train ACC: 79.77\n",
            "Epoch: 025/200 | Batch 000/391 | Cost: 0.7865\n",
            "Epoch: 025/200 | Batch 150/391 | Cost: 0.5163\n",
            "Epoch: 025/200 | Batch 300/391 | Cost: 0.5785\n",
            "Epoch: 025/200\n",
            "Train ACC: 82.01\n",
            "Epoch: 026/200 | Batch 000/391 | Cost: 0.5963\n",
            "Epoch: 026/200 | Batch 150/391 | Cost: 0.5523\n",
            "Epoch: 026/200 | Batch 300/391 | Cost: 0.6519\n",
            "Epoch: 026/200\n",
            "Train ACC: 80.20\n",
            "Epoch: 027/200 | Batch 000/391 | Cost: 0.5611\n",
            "Epoch: 027/200 | Batch 150/391 | Cost: 0.5155\n",
            "Epoch: 027/200 | Batch 300/391 | Cost: 0.6234\n",
            "Epoch: 027/200\n",
            "Train ACC: 80.10\n",
            "Epoch: 028/200 | Batch 000/391 | Cost: 0.8049\n",
            "Epoch: 028/200 | Batch 150/391 | Cost: 0.4443\n",
            "Epoch: 028/200 | Batch 300/391 | Cost: 0.5396\n",
            "Epoch: 028/200\n",
            "Train ACC: 83.27\n",
            "Epoch: 029/200 | Batch 000/391 | Cost: 0.4816\n",
            "Epoch: 029/200 | Batch 150/391 | Cost: 0.3508\n",
            "Epoch: 029/200 | Batch 300/391 | Cost: 0.5981\n",
            "Epoch: 029/200\n",
            "Train ACC: 86.08\n",
            "Epoch: 030/200 | Batch 000/391 | Cost: 0.5736\n",
            "Epoch: 030/200 | Batch 150/391 | Cost: 0.6541\n",
            "Epoch: 030/200 | Batch 300/391 | Cost: 0.9467\n",
            "Epoch: 030/200\n",
            "Train ACC: 78.83\n",
            "Epoch: 031/200 | Batch 000/391 | Cost: 0.9857\n",
            "Epoch: 031/200 | Batch 150/391 | Cost: 0.6437\n",
            "Epoch: 031/200 | Batch 300/391 | Cost: 0.6897\n",
            "Epoch: 031/200\n",
            "Train ACC: 81.98\n",
            "Epoch: 032/200 | Batch 000/391 | Cost: 0.4215\n",
            "Epoch: 032/200 | Batch 150/391 | Cost: 0.4591\n",
            "Epoch: 032/200 | Batch 300/391 | Cost: 0.8398\n",
            "Epoch: 032/200\n",
            "Train ACC: 82.68\n",
            "Epoch: 033/200 | Batch 000/391 | Cost: 0.4861\n",
            "Epoch: 033/200 | Batch 150/391 | Cost: 0.6640\n",
            "Epoch: 033/200 | Batch 300/391 | Cost: 0.6430\n",
            "Epoch: 033/200\n",
            "Train ACC: 86.03\n",
            "Epoch: 034/200 | Batch 000/391 | Cost: 0.5076\n",
            "Epoch: 034/200 | Batch 150/391 | Cost: 0.3672\n",
            "Epoch: 034/200 | Batch 300/391 | Cost: 0.5048\n",
            "Epoch: 034/200\n",
            "Train ACC: 84.49\n",
            "Epoch: 035/200 | Batch 000/391 | Cost: 0.3274\n",
            "Epoch: 035/200 | Batch 150/391 | Cost: 0.7707\n",
            "Epoch: 035/200 | Batch 300/391 | Cost: 0.8582\n",
            "Epoch: 035/200\n",
            "Train ACC: 85.83\n",
            "Epoch: 036/200 | Batch 000/391 | Cost: 0.2648\n",
            "Epoch: 036/200 | Batch 150/391 | Cost: 0.6026\n",
            "Epoch: 036/200 | Batch 300/391 | Cost: 0.5855\n",
            "Epoch: 036/200\n",
            "Train ACC: 82.92\n",
            "Epoch: 037/200 | Batch 000/391 | Cost: 0.4060\n",
            "Epoch: 037/200 | Batch 150/391 | Cost: 0.5370\n",
            "Epoch: 037/200 | Batch 300/391 | Cost: 0.7517\n",
            "Epoch: 037/200\n",
            "Train ACC: 84.02\n",
            "Epoch: 038/200 | Batch 000/391 | Cost: 0.5584\n",
            "Epoch: 038/200 | Batch 150/391 | Cost: 0.3525\n",
            "Epoch: 038/200 | Batch 300/391 | Cost: 0.5397\n",
            "Epoch: 038/200\n",
            "Train ACC: 82.76\n",
            "Epoch: 039/200 | Batch 000/391 | Cost: 1.0543\n",
            "Epoch: 039/200 | Batch 150/391 | Cost: 0.2396\n",
            "Epoch: 039/200 | Batch 300/391 | Cost: 0.5815\n",
            "Epoch: 039/200\n",
            "Train ACC: 84.01\n",
            "Epoch: 040/200 | Batch 000/391 | Cost: 0.5322\n",
            "Epoch: 040/200 | Batch 150/391 | Cost: 0.3551\n",
            "Epoch: 040/200 | Batch 300/391 | Cost: 0.6592\n",
            "Epoch: 040/200\n",
            "Train ACC: 87.25\n",
            "Epoch: 041/200 | Batch 000/391 | Cost: 0.3676\n",
            "Epoch: 041/200 | Batch 150/391 | Cost: 0.5048\n",
            "Epoch: 041/200 | Batch 300/391 | Cost: 0.8377\n",
            "Epoch: 041/200\n",
            "Train ACC: 84.10\n",
            "Epoch: 042/200 | Batch 000/391 | Cost: 0.5715\n",
            "Epoch: 042/200 | Batch 150/391 | Cost: 0.5175\n",
            "Epoch: 042/200 | Batch 300/391 | Cost: 0.5757\n",
            "Epoch: 042/200\n",
            "Train ACC: 81.94\n",
            "Epoch: 043/200 | Batch 000/391 | Cost: 0.9249\n",
            "Epoch: 043/200 | Batch 150/391 | Cost: 0.5547\n",
            "Epoch: 043/200 | Batch 300/391 | Cost: 0.6207\n",
            "Epoch: 043/200\n",
            "Train ACC: 87.21\n",
            "Epoch: 044/200 | Batch 000/391 | Cost: 0.5431\n",
            "Epoch: 044/200 | Batch 150/391 | Cost: 0.5766\n",
            "Epoch: 044/200 | Batch 300/391 | Cost: 1.0510\n",
            "Epoch: 044/200\n",
            "Train ACC: 87.78\n",
            "Epoch: 045/200 | Batch 000/391 | Cost: 0.6007\n",
            "Epoch: 045/200 | Batch 150/391 | Cost: 0.6120\n",
            "Epoch: 045/200 | Batch 300/391 | Cost: 0.4647\n",
            "Epoch: 045/200\n",
            "Train ACC: 88.48\n",
            "Epoch: 046/200 | Batch 000/391 | Cost: 0.5148\n",
            "Epoch: 046/200 | Batch 150/391 | Cost: 0.4146\n",
            "Epoch: 046/200 | Batch 300/391 | Cost: 0.6148\n",
            "Epoch: 046/200\n",
            "Train ACC: 88.38\n",
            "Epoch: 047/200 | Batch 000/391 | Cost: 0.3367\n",
            "Epoch: 047/200 | Batch 150/391 | Cost: 0.5196\n",
            "Epoch: 047/200 | Batch 300/391 | Cost: 0.5800\n",
            "Epoch: 047/200\n",
            "Train ACC: 86.69\n",
            "Epoch: 048/200 | Batch 000/391 | Cost: 0.6965\n",
            "Epoch: 048/200 | Batch 150/391 | Cost: 0.6464\n",
            "Epoch: 048/200 | Batch 300/391 | Cost: 0.5302\n",
            "Epoch: 048/200\n",
            "Train ACC: 85.54\n",
            "Epoch: 049/200 | Batch 000/391 | Cost: 0.9084\n",
            "Epoch: 049/200 | Batch 150/391 | Cost: 0.5965\n",
            "Epoch: 049/200 | Batch 300/391 | Cost: 0.5884\n",
            "Epoch: 049/200\n",
            "Train ACC: 87.66\n",
            "Epoch: 050/200 | Batch 000/391 | Cost: 0.6204\n",
            "Epoch: 050/200 | Batch 150/391 | Cost: 0.5616\n",
            "Epoch: 050/200 | Batch 300/391 | Cost: 0.6608\n",
            "Epoch: 050/200\n",
            "Train ACC: 87.86\n",
            "Epoch: 051/200 | Batch 000/391 | Cost: 0.4686\n",
            "Epoch: 051/200 | Batch 150/391 | Cost: 0.2304\n",
            "Epoch: 051/200 | Batch 300/391 | Cost: 0.0817\n",
            "Epoch: 051/200\n",
            "Train ACC: 98.27\n",
            "Epoch: 052/200 | Batch 000/391 | Cost: 0.0542\n",
            "Epoch: 052/200 | Batch 150/391 | Cost: 0.0526\n",
            "Epoch: 052/200 | Batch 300/391 | Cost: 0.0359\n",
            "Epoch: 052/200\n",
            "Train ACC: 98.96\n",
            "Epoch: 053/200 | Batch 000/391 | Cost: 0.0610\n",
            "Epoch: 053/200 | Batch 150/391 | Cost: 0.0346\n",
            "Epoch: 053/200 | Batch 300/391 | Cost: 0.0478\n",
            "Epoch: 053/200\n",
            "Train ACC: 99.15\n",
            "Epoch: 054/200 | Batch 000/391 | Cost: 0.0290\n",
            "Epoch: 054/200 | Batch 150/391 | Cost: 0.0662\n",
            "Epoch: 054/200 | Batch 300/391 | Cost: 0.0319\n",
            "Epoch: 054/200\n",
            "Train ACC: 99.29\n",
            "Epoch: 055/200 | Batch 000/391 | Cost: 0.0337\n",
            "Epoch: 055/200 | Batch 150/391 | Cost: 0.0429\n",
            "Epoch: 055/200 | Batch 300/391 | Cost: 0.0305\n",
            "Epoch: 055/200\n",
            "Train ACC: 99.43\n",
            "Epoch: 056/200 | Batch 000/391 | Cost: 0.0263\n",
            "Epoch: 056/200 | Batch 150/391 | Cost: 0.0362\n",
            "Epoch: 056/200 | Batch 300/391 | Cost: 0.0227\n",
            "Epoch: 056/200\n",
            "Train ACC: 99.51\n",
            "Epoch: 057/200 | Batch 000/391 | Cost: 0.0516\n",
            "Epoch: 057/200 | Batch 150/391 | Cost: 0.0245\n",
            "Epoch: 057/200 | Batch 300/391 | Cost: 0.0330\n",
            "Epoch: 057/200\n",
            "Train ACC: 99.59\n",
            "Epoch: 058/200 | Batch 000/391 | Cost: 0.0324\n",
            "Epoch: 058/200 | Batch 150/391 | Cost: 0.0157\n",
            "Epoch: 058/200 | Batch 300/391 | Cost: 0.0399\n",
            "Epoch: 058/200\n",
            "Train ACC: 99.61\n",
            "Epoch: 059/200 | Batch 000/391 | Cost: 0.0223\n",
            "Epoch: 059/200 | Batch 150/391 | Cost: 0.0179\n",
            "Epoch: 059/200 | Batch 300/391 | Cost: 0.0220\n",
            "Epoch: 059/200\n",
            "Train ACC: 99.66\n",
            "Epoch: 060/200 | Batch 000/391 | Cost: 0.0343\n",
            "Epoch: 060/200 | Batch 150/391 | Cost: 0.0128\n",
            "Epoch: 060/200 | Batch 300/391 | Cost: 0.0188\n",
            "Epoch: 060/200\n",
            "Train ACC: 99.71\n",
            "Epoch: 061/200 | Batch 000/391 | Cost: 0.0278\n",
            "Epoch: 061/200 | Batch 150/391 | Cost: 0.0218\n",
            "Epoch: 061/200 | Batch 300/391 | Cost: 0.0543\n",
            "Epoch: 061/200\n",
            "Train ACC: 99.75\n",
            "Epoch: 062/200 | Batch 000/391 | Cost: 0.0269\n",
            "Epoch: 062/200 | Batch 150/391 | Cost: 0.0246\n",
            "Epoch: 062/200 | Batch 300/391 | Cost: 0.0429\n",
            "Epoch: 062/200\n",
            "Train ACC: 99.73\n",
            "Epoch: 063/200 | Batch 000/391 | Cost: 0.0230\n",
            "Epoch: 063/200 | Batch 150/391 | Cost: 0.0141\n",
            "Epoch: 063/200 | Batch 300/391 | Cost: 0.0180\n",
            "Epoch: 063/200\n",
            "Train ACC: 99.77\n",
            "Epoch: 064/200 | Batch 000/391 | Cost: 0.0137\n",
            "Epoch: 064/200 | Batch 150/391 | Cost: 0.0209\n",
            "Epoch: 064/200 | Batch 300/391 | Cost: 0.0143\n",
            "Epoch: 064/200\n",
            "Train ACC: 99.80\n",
            "Epoch: 065/200 | Batch 000/391 | Cost: 0.0210\n",
            "Epoch: 065/200 | Batch 150/391 | Cost: 0.0156\n",
            "Epoch: 065/200 | Batch 300/391 | Cost: 0.0181\n",
            "Epoch: 065/200\n",
            "Train ACC: 99.81\n",
            "Epoch: 066/200 | Batch 000/391 | Cost: 0.0165\n",
            "Epoch: 066/200 | Batch 150/391 | Cost: 0.0188\n",
            "Epoch: 066/200 | Batch 300/391 | Cost: 0.0127\n",
            "Epoch: 066/200\n",
            "Train ACC: 99.81\n",
            "Epoch: 067/200 | Batch 000/391 | Cost: 0.0203\n",
            "Epoch: 067/200 | Batch 150/391 | Cost: 0.0201\n",
            "Epoch: 067/200 | Batch 300/391 | Cost: 0.0194\n",
            "Epoch: 067/200\n",
            "Train ACC: 99.85\n",
            "Epoch: 068/200 | Batch 000/391 | Cost: 0.0290\n",
            "Epoch: 068/200 | Batch 150/391 | Cost: 0.0178\n",
            "Epoch: 068/200 | Batch 300/391 | Cost: 0.0301\n",
            "Epoch: 068/200\n",
            "Train ACC: 99.84\n",
            "Epoch: 069/200 | Batch 000/391 | Cost: 0.0203\n",
            "Epoch: 069/200 | Batch 150/391 | Cost: 0.0322\n",
            "Epoch: 069/200 | Batch 300/391 | Cost: 0.0221\n",
            "Epoch: 069/200\n",
            "Train ACC: 99.86\n",
            "Epoch: 070/200 | Batch 000/391 | Cost: 0.0186\n",
            "Epoch: 070/200 | Batch 150/391 | Cost: 0.0219\n",
            "Epoch: 070/200 | Batch 300/391 | Cost: 0.0141\n",
            "Epoch: 070/200\n",
            "Train ACC: 99.87\n",
            "Epoch: 071/200 | Batch 000/391 | Cost: 0.0096\n",
            "Epoch: 071/200 | Batch 150/391 | Cost: 0.0131\n",
            "Epoch: 071/200 | Batch 300/391 | Cost: 0.0184\n",
            "Epoch: 071/200\n",
            "Train ACC: 99.88\n",
            "Epoch: 072/200 | Batch 000/391 | Cost: 0.0164\n",
            "Epoch: 072/200 | Batch 150/391 | Cost: 0.0286\n",
            "Epoch: 072/200 | Batch 300/391 | Cost: 0.0191\n",
            "Epoch: 072/200\n",
            "Train ACC: 99.88\n",
            "Epoch: 073/200 | Batch 000/391 | Cost: 0.0182\n",
            "Epoch: 073/200 | Batch 150/391 | Cost: 0.0250\n",
            "Epoch: 073/200 | Batch 300/391 | Cost: 0.0181\n",
            "Epoch: 073/200\n",
            "Train ACC: 99.89\n",
            "Epoch: 074/200 | Batch 000/391 | Cost: 0.0117\n",
            "Epoch: 074/200 | Batch 150/391 | Cost: 0.0180\n",
            "Epoch: 074/200 | Batch 300/391 | Cost: 0.0193\n",
            "Epoch: 074/200\n",
            "Train ACC: 99.91\n",
            "Epoch: 075/200 | Batch 000/391 | Cost: 0.0229\n",
            "Epoch: 075/200 | Batch 150/391 | Cost: 0.0238\n",
            "Epoch: 075/200 | Batch 300/391 | Cost: 0.0224\n",
            "Epoch: 075/200\n",
            "Train ACC: 99.91\n",
            "Epoch: 076/200 | Batch 000/391 | Cost: 0.0221\n",
            "Epoch: 076/200 | Batch 150/391 | Cost: 0.0187\n",
            "Epoch: 076/200 | Batch 300/391 | Cost: 0.0165\n",
            "Epoch: 076/200\n",
            "Train ACC: 99.92\n",
            "Epoch: 077/200 | Batch 000/391 | Cost: 0.0102\n",
            "Epoch: 077/200 | Batch 150/391 | Cost: 0.0146\n",
            "Epoch: 077/200 | Batch 300/391 | Cost: 0.0106\n",
            "Epoch: 077/200\n",
            "Train ACC: 99.92\n",
            "Epoch: 078/200 | Batch 000/391 | Cost: 0.0100\n",
            "Epoch: 078/200 | Batch 150/391 | Cost: 0.0148\n",
            "Epoch: 078/200 | Batch 300/391 | Cost: 0.0155\n",
            "Epoch: 078/200\n",
            "Train ACC: 99.93\n",
            "Epoch: 079/200 | Batch 000/391 | Cost: 0.0174\n",
            "Epoch: 079/200 | Batch 150/391 | Cost: 0.0128\n",
            "Epoch: 079/200 | Batch 300/391 | Cost: 0.0134\n",
            "Epoch: 079/200\n",
            "Train ACC: 99.93\n",
            "Epoch: 080/200 | Batch 000/391 | Cost: 0.0080\n",
            "Epoch: 080/200 | Batch 150/391 | Cost: 0.0119\n",
            "Epoch: 080/200 | Batch 300/391 | Cost: 0.0129\n",
            "Epoch: 080/200\n",
            "Train ACC: 99.93\n",
            "Epoch: 081/200 | Batch 000/391 | Cost: 0.0148\n",
            "Epoch: 081/200 | Batch 150/391 | Cost: 0.0072\n",
            "Epoch: 081/200 | Batch 300/391 | Cost: 0.0145\n",
            "Epoch: 081/200\n",
            "Train ACC: 99.94\n",
            "Epoch: 082/200 | Batch 000/391 | Cost: 0.0292\n",
            "Epoch: 082/200 | Batch 150/391 | Cost: 0.0111\n",
            "Epoch: 082/200 | Batch 300/391 | Cost: 0.0199\n",
            "Epoch: 082/200\n",
            "Train ACC: 99.94\n",
            "Epoch: 083/200 | Batch 000/391 | Cost: 0.0196\n",
            "Epoch: 083/200 | Batch 150/391 | Cost: 0.0142\n",
            "Epoch: 083/200 | Batch 300/391 | Cost: 0.0135\n",
            "Epoch: 083/200\n",
            "Train ACC: 99.94\n",
            "Epoch: 084/200 | Batch 000/391 | Cost: 0.0090\n",
            "Epoch: 084/200 | Batch 150/391 | Cost: 0.0096\n",
            "Epoch: 084/200 | Batch 300/391 | Cost: 0.0086\n",
            "Epoch: 084/200\n",
            "Train ACC: 99.94\n",
            "Epoch: 085/200 | Batch 000/391 | Cost: 0.0138\n",
            "Epoch: 085/200 | Batch 150/391 | Cost: 0.0099\n",
            "Epoch: 085/200 | Batch 300/391 | Cost: 0.0224\n",
            "Epoch: 085/200\n",
            "Train ACC: 99.94\n",
            "Epoch: 086/200 | Batch 000/391 | Cost: 0.0145\n",
            "Epoch: 086/200 | Batch 150/391 | Cost: 0.0120\n",
            "Epoch: 086/200 | Batch 300/391 | Cost: 0.0148\n",
            "Epoch: 086/200\n",
            "Train ACC: 99.95\n",
            "Epoch: 087/200 | Batch 000/391 | Cost: 0.0142\n",
            "Epoch: 087/200 | Batch 150/391 | Cost: 0.0094\n",
            "Epoch: 087/200 | Batch 300/391 | Cost: 0.0103\n",
            "Epoch: 087/200\n",
            "Train ACC: 99.95\n",
            "Epoch: 088/200 | Batch 000/391 | Cost: 0.0150\n",
            "Epoch: 088/200 | Batch 150/391 | Cost: 0.0159\n",
            "Epoch: 088/200 | Batch 300/391 | Cost: 0.0157\n",
            "Epoch: 088/200\n",
            "Train ACC: 99.94\n",
            "Epoch: 089/200 | Batch 000/391 | Cost: 0.0137\n",
            "Epoch: 089/200 | Batch 150/391 | Cost: 0.0194\n",
            "Epoch: 089/200 | Batch 300/391 | Cost: 0.0127\n",
            "Epoch: 089/200\n",
            "Train ACC: 99.96\n",
            "Epoch: 090/200 | Batch 000/391 | Cost: 0.0085\n",
            "Epoch: 090/200 | Batch 150/391 | Cost: 0.0090\n",
            "Epoch: 090/200 | Batch 300/391 | Cost: 0.0073\n",
            "Epoch: 090/200\n",
            "Train ACC: 99.96\n",
            "Epoch: 091/200 | Batch 000/391 | Cost: 0.0060\n",
            "Epoch: 091/200 | Batch 150/391 | Cost: 0.0125\n",
            "Epoch: 091/200 | Batch 300/391 | Cost: 0.0122\n",
            "Epoch: 091/200\n",
            "Train ACC: 99.96\n",
            "Epoch: 092/200 | Batch 000/391 | Cost: 0.0105\n",
            "Epoch: 092/200 | Batch 150/391 | Cost: 0.0077\n",
            "Epoch: 092/200 | Batch 300/391 | Cost: 0.0103\n",
            "Epoch: 092/200\n",
            "Train ACC: 99.96\n",
            "Epoch: 093/200 | Batch 000/391 | Cost: 0.0077\n",
            "Epoch: 093/200 | Batch 150/391 | Cost: 0.0139\n",
            "Epoch: 093/200 | Batch 300/391 | Cost: 0.0214\n",
            "Epoch: 093/200\n",
            "Train ACC: 99.96\n",
            "Epoch: 094/200 | Batch 000/391 | Cost: 0.0179\n",
            "Epoch: 094/200 | Batch 150/391 | Cost: 0.0295\n",
            "Epoch: 094/200 | Batch 300/391 | Cost: 0.0090\n",
            "Epoch: 094/200\n",
            "Train ACC: 99.96\n",
            "Epoch: 095/200 | Batch 000/391 | Cost: 0.0140\n",
            "Epoch: 095/200 | Batch 150/391 | Cost: 0.0097\n",
            "Epoch: 095/200 | Batch 300/391 | Cost: 0.0105\n",
            "Epoch: 095/200\n",
            "Train ACC: 99.96\n",
            "Epoch: 096/200 | Batch 000/391 | Cost: 0.0086\n",
            "Epoch: 096/200 | Batch 150/391 | Cost: 0.0120\n",
            "Epoch: 096/200 | Batch 300/391 | Cost: 0.0289\n",
            "Epoch: 096/200\n",
            "Train ACC: 99.96\n",
            "Epoch: 097/200 | Batch 000/391 | Cost: 0.0092\n",
            "Epoch: 097/200 | Batch 150/391 | Cost: 0.0117\n",
            "Epoch: 097/200 | Batch 300/391 | Cost: 0.0139\n",
            "Epoch: 097/200\n",
            "Train ACC: 99.97\n",
            "Epoch: 098/200 | Batch 000/391 | Cost: 0.0119\n",
            "Epoch: 098/200 | Batch 150/391 | Cost: 0.0134\n",
            "Epoch: 098/200 | Batch 300/391 | Cost: 0.0137\n",
            "Epoch: 098/200\n",
            "Train ACC: 99.96\n",
            "Epoch: 099/200 | Batch 000/391 | Cost: 0.0104\n",
            "Epoch: 099/200 | Batch 150/391 | Cost: 0.0133\n",
            "Epoch: 099/200 | Batch 300/391 | Cost: 0.0247\n",
            "Epoch: 099/200\n",
            "Train ACC: 99.97\n",
            "Epoch: 100/200 | Batch 000/391 | Cost: 0.0076\n",
            "Epoch: 100/200 | Batch 150/391 | Cost: 0.0160\n",
            "Epoch: 100/200 | Batch 300/391 | Cost: 0.0093\n",
            "Epoch: 100/200\n",
            "Train ACC: 99.97\n",
            "Epoch: 101/200 | Batch 000/391 | Cost: 0.0143\n",
            "Epoch: 101/200 | Batch 150/391 | Cost: 0.0137\n"
          ],
          "name": "stdout"
        },
        {
          "output_type": "error",
          "ename": "KeyboardInterrupt",
          "evalue": "ignored",
          "traceback": [
            "\u001b[0;31m---------------------------------------------------------------------------\u001b[0m",
            "\u001b[0;31mKeyboardInterrupt\u001b[0m                         Traceback (most recent call last)",
            "\u001b[0;32m<ipython-input-9-c3231d277a92>\u001b[0m in \u001b[0;36m<module>\u001b[0;34m()\u001b[0m\n\u001b[1;32m     11\u001b[0m     \u001b[0;32mfor\u001b[0m \u001b[0mbatch_idx\u001b[0m\u001b[0;34m,\u001b[0m \u001b[0;34m(\u001b[0m\u001b[0mfeatures\u001b[0m\u001b[0;34m,\u001b[0m \u001b[0mtargets\u001b[0m\u001b[0;34m)\u001b[0m \u001b[0;32min\u001b[0m \u001b[0menumerate\u001b[0m\u001b[0;34m(\u001b[0m\u001b[0mtrain_loader\u001b[0m\u001b[0;34m)\u001b[0m\u001b[0;34m:\u001b[0m\u001b[0;34m\u001b[0m\u001b[0;34m\u001b[0m\u001b[0m\n\u001b[1;32m     12\u001b[0m     \u001b[0;31m# compute output\u001b[0m\u001b[0;34m\u001b[0m\u001b[0;34m\u001b[0m\u001b[0;34m\u001b[0m\u001b[0m\n\u001b[0;32m---> 13\u001b[0;31m       \u001b[0moutput\u001b[0m \u001b[0;34m=\u001b[0m \u001b[0mmodel\u001b[0m\u001b[0;34m(\u001b[0m\u001b[0mfeatures\u001b[0m\u001b[0;34m)\u001b[0m\u001b[0;34m\u001b[0m\u001b[0;34m\u001b[0m\u001b[0m\n\u001b[0m\u001b[1;32m     14\u001b[0m       \u001b[0mloss\u001b[0m \u001b[0;34m=\u001b[0m \u001b[0mcriterion\u001b[0m\u001b[0;34m(\u001b[0m\u001b[0moutput\u001b[0m\u001b[0;34m,\u001b[0m \u001b[0mtargets\u001b[0m\u001b[0;34m)\u001b[0m\u001b[0;34m\u001b[0m\u001b[0;34m\u001b[0m\u001b[0m\n\u001b[1;32m     15\u001b[0m \u001b[0;34m\u001b[0m\u001b[0m\n",
            "\u001b[0;32m/usr/local/lib/python3.6/dist-packages/torch/nn/modules/module.py\u001b[0m in \u001b[0;36m__call__\u001b[0;34m(self, *input, **kwargs)\u001b[0m\n\u001b[1;32m    530\u001b[0m             \u001b[0mresult\u001b[0m \u001b[0;34m=\u001b[0m \u001b[0mself\u001b[0m\u001b[0;34m.\u001b[0m\u001b[0m_slow_forward\u001b[0m\u001b[0;34m(\u001b[0m\u001b[0;34m*\u001b[0m\u001b[0minput\u001b[0m\u001b[0;34m,\u001b[0m \u001b[0;34m**\u001b[0m\u001b[0mkwargs\u001b[0m\u001b[0;34m)\u001b[0m\u001b[0;34m\u001b[0m\u001b[0;34m\u001b[0m\u001b[0m\n\u001b[1;32m    531\u001b[0m         \u001b[0;32melse\u001b[0m\u001b[0;34m:\u001b[0m\u001b[0;34m\u001b[0m\u001b[0;34m\u001b[0m\u001b[0m\n\u001b[0;32m--> 532\u001b[0;31m             \u001b[0mresult\u001b[0m \u001b[0;34m=\u001b[0m \u001b[0mself\u001b[0m\u001b[0;34m.\u001b[0m\u001b[0mforward\u001b[0m\u001b[0;34m(\u001b[0m\u001b[0;34m*\u001b[0m\u001b[0minput\u001b[0m\u001b[0;34m,\u001b[0m \u001b[0;34m**\u001b[0m\u001b[0mkwargs\u001b[0m\u001b[0;34m)\u001b[0m\u001b[0;34m\u001b[0m\u001b[0;34m\u001b[0m\u001b[0m\n\u001b[0m\u001b[1;32m    533\u001b[0m         \u001b[0;32mfor\u001b[0m \u001b[0mhook\u001b[0m \u001b[0;32min\u001b[0m \u001b[0mself\u001b[0m\u001b[0;34m.\u001b[0m\u001b[0m_forward_hooks\u001b[0m\u001b[0;34m.\u001b[0m\u001b[0mvalues\u001b[0m\u001b[0;34m(\u001b[0m\u001b[0;34m)\u001b[0m\u001b[0;34m:\u001b[0m\u001b[0;34m\u001b[0m\u001b[0;34m\u001b[0m\u001b[0m\n\u001b[1;32m    534\u001b[0m             \u001b[0mhook_result\u001b[0m \u001b[0;34m=\u001b[0m \u001b[0mhook\u001b[0m\u001b[0;34m(\u001b[0m\u001b[0mself\u001b[0m\u001b[0;34m,\u001b[0m \u001b[0minput\u001b[0m\u001b[0;34m,\u001b[0m \u001b[0mresult\u001b[0m\u001b[0;34m)\u001b[0m\u001b[0;34m\u001b[0m\u001b[0;34m\u001b[0m\u001b[0m\n",
            "\u001b[0;32m<ipython-input-2-798c90f53984>\u001b[0m in \u001b[0;36mforward\u001b[0;34m(self, x)\u001b[0m\n\u001b[1;32m     19\u001b[0m   \u001b[0;32mdef\u001b[0m \u001b[0mforward\u001b[0m\u001b[0;34m(\u001b[0m\u001b[0mself\u001b[0m\u001b[0;34m,\u001b[0m \u001b[0mx\u001b[0m\u001b[0;34m)\u001b[0m\u001b[0;34m:\u001b[0m\u001b[0;34m\u001b[0m\u001b[0;34m\u001b[0m\u001b[0m\n\u001b[1;32m     20\u001b[0m     \u001b[0mx\u001b[0m \u001b[0;34m=\u001b[0m \u001b[0mx\u001b[0m\u001b[0;34m.\u001b[0m\u001b[0mview\u001b[0m\u001b[0;34m(\u001b[0m\u001b[0;34m-\u001b[0m\u001b[0;36m1\u001b[0m\u001b[0;34m,\u001b[0m \u001b[0mself\u001b[0m\u001b[0;34m.\u001b[0m\u001b[0m_n_units\u001b[0m\u001b[0;34m[\u001b[0m\u001b[0;36m0\u001b[0m\u001b[0;34m]\u001b[0m\u001b[0;34m)\u001b[0m\u001b[0;34m\u001b[0m\u001b[0;34m\u001b[0m\u001b[0m\n\u001b[0;32m---> 21\u001b[0;31m     \u001b[0mout\u001b[0m \u001b[0;34m=\u001b[0m \u001b[0mself\u001b[0m\u001b[0;34m.\u001b[0m\u001b[0m_layers\u001b[0m\u001b[0;34m[\u001b[0m\u001b[0;36m0\u001b[0m\u001b[0;34m]\u001b[0m\u001b[0;34m(\u001b[0m\u001b[0mx\u001b[0m\u001b[0;34m)\u001b[0m\u001b[0;34m\u001b[0m\u001b[0;34m\u001b[0m\u001b[0m\n\u001b[0m\u001b[1;32m     22\u001b[0m     \u001b[0;32mfor\u001b[0m \u001b[0mlayer\u001b[0m \u001b[0;32min\u001b[0m \u001b[0mself\u001b[0m\u001b[0;34m.\u001b[0m\u001b[0m_layers\u001b[0m\u001b[0;34m[\u001b[0m\u001b[0;36m1\u001b[0m\u001b[0;34m:\u001b[0m\u001b[0;34m]\u001b[0m\u001b[0;34m:\u001b[0m\u001b[0;34m\u001b[0m\u001b[0;34m\u001b[0m\u001b[0m\n\u001b[1;32m     23\u001b[0m       \u001b[0mout\u001b[0m \u001b[0;34m=\u001b[0m \u001b[0mF\u001b[0m\u001b[0;34m.\u001b[0m\u001b[0mrelu\u001b[0m\u001b[0;34m(\u001b[0m\u001b[0mout\u001b[0m\u001b[0;34m)\u001b[0m\u001b[0;34m\u001b[0m\u001b[0;34m\u001b[0m\u001b[0m\n",
            "\u001b[0;32m/usr/local/lib/python3.6/dist-packages/torch/nn/modules/module.py\u001b[0m in \u001b[0;36m__call__\u001b[0;34m(self, *input, **kwargs)\u001b[0m\n\u001b[1;32m    530\u001b[0m             \u001b[0mresult\u001b[0m \u001b[0;34m=\u001b[0m \u001b[0mself\u001b[0m\u001b[0;34m.\u001b[0m\u001b[0m_slow_forward\u001b[0m\u001b[0;34m(\u001b[0m\u001b[0;34m*\u001b[0m\u001b[0minput\u001b[0m\u001b[0;34m,\u001b[0m \u001b[0;34m**\u001b[0m\u001b[0mkwargs\u001b[0m\u001b[0;34m)\u001b[0m\u001b[0;34m\u001b[0m\u001b[0;34m\u001b[0m\u001b[0m\n\u001b[1;32m    531\u001b[0m         \u001b[0;32melse\u001b[0m\u001b[0;34m:\u001b[0m\u001b[0;34m\u001b[0m\u001b[0;34m\u001b[0m\u001b[0m\n\u001b[0;32m--> 532\u001b[0;31m             \u001b[0mresult\u001b[0m \u001b[0;34m=\u001b[0m \u001b[0mself\u001b[0m\u001b[0;34m.\u001b[0m\u001b[0mforward\u001b[0m\u001b[0;34m(\u001b[0m\u001b[0;34m*\u001b[0m\u001b[0minput\u001b[0m\u001b[0;34m,\u001b[0m \u001b[0;34m**\u001b[0m\u001b[0mkwargs\u001b[0m\u001b[0;34m)\u001b[0m\u001b[0;34m\u001b[0m\u001b[0;34m\u001b[0m\u001b[0m\n\u001b[0m\u001b[1;32m    533\u001b[0m         \u001b[0;32mfor\u001b[0m \u001b[0mhook\u001b[0m \u001b[0;32min\u001b[0m \u001b[0mself\u001b[0m\u001b[0;34m.\u001b[0m\u001b[0m_forward_hooks\u001b[0m\u001b[0;34m.\u001b[0m\u001b[0mvalues\u001b[0m\u001b[0;34m(\u001b[0m\u001b[0;34m)\u001b[0m\u001b[0;34m:\u001b[0m\u001b[0;34m\u001b[0m\u001b[0;34m\u001b[0m\u001b[0m\n\u001b[1;32m    534\u001b[0m             \u001b[0mhook_result\u001b[0m \u001b[0;34m=\u001b[0m \u001b[0mhook\u001b[0m\u001b[0;34m(\u001b[0m\u001b[0mself\u001b[0m\u001b[0;34m,\u001b[0m \u001b[0minput\u001b[0m\u001b[0;34m,\u001b[0m \u001b[0mresult\u001b[0m\u001b[0;34m)\u001b[0m\u001b[0;34m\u001b[0m\u001b[0;34m\u001b[0m\u001b[0m\n",
            "\u001b[0;32m/usr/local/lib/python3.6/dist-packages/torch/nn/modules/linear.py\u001b[0m in \u001b[0;36mforward\u001b[0;34m(self, input)\u001b[0m\n\u001b[1;32m     85\u001b[0m \u001b[0;34m\u001b[0m\u001b[0m\n\u001b[1;32m     86\u001b[0m     \u001b[0;32mdef\u001b[0m \u001b[0mforward\u001b[0m\u001b[0;34m(\u001b[0m\u001b[0mself\u001b[0m\u001b[0;34m,\u001b[0m \u001b[0minput\u001b[0m\u001b[0;34m)\u001b[0m\u001b[0;34m:\u001b[0m\u001b[0;34m\u001b[0m\u001b[0;34m\u001b[0m\u001b[0m\n\u001b[0;32m---> 87\u001b[0;31m         \u001b[0;32mreturn\u001b[0m \u001b[0mF\u001b[0m\u001b[0;34m.\u001b[0m\u001b[0mlinear\u001b[0m\u001b[0;34m(\u001b[0m\u001b[0minput\u001b[0m\u001b[0;34m,\u001b[0m \u001b[0mself\u001b[0m\u001b[0;34m.\u001b[0m\u001b[0mweight\u001b[0m\u001b[0;34m,\u001b[0m \u001b[0mself\u001b[0m\u001b[0;34m.\u001b[0m\u001b[0mbias\u001b[0m\u001b[0;34m)\u001b[0m\u001b[0;34m\u001b[0m\u001b[0;34m\u001b[0m\u001b[0m\n\u001b[0m\u001b[1;32m     88\u001b[0m \u001b[0;34m\u001b[0m\u001b[0m\n\u001b[1;32m     89\u001b[0m     \u001b[0;32mdef\u001b[0m \u001b[0mextra_repr\u001b[0m\u001b[0;34m(\u001b[0m\u001b[0mself\u001b[0m\u001b[0;34m)\u001b[0m\u001b[0;34m:\u001b[0m\u001b[0;34m\u001b[0m\u001b[0;34m\u001b[0m\u001b[0m\n",
            "\u001b[0;32m/usr/local/lib/python3.6/dist-packages/torch/nn/functional.py\u001b[0m in \u001b[0;36mlinear\u001b[0;34m(input, weight, bias)\u001b[0m\n\u001b[1;32m   1370\u001b[0m         \u001b[0mret\u001b[0m \u001b[0;34m=\u001b[0m \u001b[0mtorch\u001b[0m\u001b[0;34m.\u001b[0m\u001b[0maddmm\u001b[0m\u001b[0;34m(\u001b[0m\u001b[0mbias\u001b[0m\u001b[0;34m,\u001b[0m \u001b[0minput\u001b[0m\u001b[0;34m,\u001b[0m \u001b[0mweight\u001b[0m\u001b[0;34m.\u001b[0m\u001b[0mt\u001b[0m\u001b[0;34m(\u001b[0m\u001b[0;34m)\u001b[0m\u001b[0;34m)\u001b[0m\u001b[0;34m\u001b[0m\u001b[0;34m\u001b[0m\u001b[0m\n\u001b[1;32m   1371\u001b[0m     \u001b[0;32melse\u001b[0m\u001b[0;34m:\u001b[0m\u001b[0;34m\u001b[0m\u001b[0;34m\u001b[0m\u001b[0m\n\u001b[0;32m-> 1372\u001b[0;31m         \u001b[0moutput\u001b[0m \u001b[0;34m=\u001b[0m \u001b[0minput\u001b[0m\u001b[0;34m.\u001b[0m\u001b[0mmatmul\u001b[0m\u001b[0;34m(\u001b[0m\u001b[0mweight\u001b[0m\u001b[0;34m.\u001b[0m\u001b[0mt\u001b[0m\u001b[0;34m(\u001b[0m\u001b[0;34m)\u001b[0m\u001b[0;34m)\u001b[0m\u001b[0;34m\u001b[0m\u001b[0;34m\u001b[0m\u001b[0m\n\u001b[0m\u001b[1;32m   1373\u001b[0m         \u001b[0;32mif\u001b[0m \u001b[0mbias\u001b[0m \u001b[0;32mis\u001b[0m \u001b[0;32mnot\u001b[0m \u001b[0;32mNone\u001b[0m\u001b[0;34m:\u001b[0m\u001b[0;34m\u001b[0m\u001b[0;34m\u001b[0m\u001b[0m\n\u001b[1;32m   1374\u001b[0m             \u001b[0moutput\u001b[0m \u001b[0;34m+=\u001b[0m \u001b[0mbias\u001b[0m\u001b[0;34m\u001b[0m\u001b[0;34m\u001b[0m\u001b[0m\n",
            "\u001b[0;31mKeyboardInterrupt\u001b[0m: "
          ]
        }
      ]
    },
    {
      "cell_type": "code",
      "metadata": {
        "id": "f-4Q4lGQ1edC",
        "colab_type": "code",
        "outputId": "3cabb1d8-abd3-404a-e433-564fe46380ce",
        "colab": {
          "base_uri": "https://localhost:8080/",
          "height": 34
        }
      },
      "source": [
        "model.load_state_dict(torch.load('MLP_truelabels_randomseed1'))"
      ],
      "execution_count": 0,
      "outputs": [
        {
          "output_type": "execute_result",
          "data": {
            "text/plain": [
              "<All keys matched successfully>"
            ]
          },
          "metadata": {
            "tags": []
          },
          "execution_count": 59
        }
      ]
    },
    {
      "cell_type": "code",
      "metadata": {
        "id": "faWW8236h4XC",
        "colab_type": "code",
        "outputId": "40f0f106-6086-4229-a1d1-5e72fc88b292",
        "colab": {
          "base_uri": "https://localhost:8080/",
          "height": 282
        }
      },
      "source": [
        "plt.plot(cost_list)"
      ],
      "execution_count": 0,
      "outputs": [
        {
          "output_type": "execute_result",
          "data": {
            "text/plain": [
              "[<matplotlib.lines.Line2D at 0x7fcfeafa4710>]"
            ]
          },
          "metadata": {
            "tags": []
          },
          "execution_count": 10
        },
        {
          "output_type": "display_data",
          "data": {
            "image/png": "[encoded data removed]",
            "text/plain": [
              "<Figure size 432x288 with 1 Axes>"
            ]
          },
          "metadata": {
            "tags": []
          }
        }
      ]
    },
    {
      "cell_type": "code",
      "metadata": {
        "id": "wTH_DRdlZJBg",
        "colab_type": "code",
        "outputId": "37ede7f2-d75f-44eb-f5de-703d552435c1",
        "colab": {
          "base_uri": "https://localhost:8080/",
          "height": 34
        }
      },
      "source": [
        " with torch.set_grad_enabled(False): # save memory during inference\n",
        "        \n",
        "        train_acc = compute_acc(model, train_loader)        \n",
        "        print(f'train ACC: {train_acc:.2f}')"
      ],
      "execution_count": 0,
      "outputs": [
        {
          "output_type": "stream",
          "text": [
            "train ACC: 99.97\n"
          ],
          "name": "stdout"
        }
      ]
    },
    {
      "cell_type": "code",
      "metadata": {
        "id": "Kb2P-fUbGk9d",
        "colab_type": "code",
        "outputId": "3b98ee3b-e713-4e18-966f-3119b7f529c9",
        "colab": {
          "base_uri": "https://localhost:8080/",
          "height": 34
        }
      },
      "source": [
        " with torch.set_grad_enabled(False): # save memory during inference\n",
        "        \n",
        "        test_acc = compute_acc(model, test_loader)        \n",
        "        print(f'Test ACC: {test_acc:.2f}')"
      ],
      "execution_count": 0,
      "outputs": [
        {
          "output_type": "stream",
          "text": [
            "Test ACC: 53.36\n"
          ],
          "name": "stdout"
        }
      ]
    },
    {
      "cell_type": "code",
      "metadata": {
        "id": "1Gve62ZwGQDR",
        "colab_type": "code",
        "outputId": "d28ff156-27a2-4acc-a76f-0afc7b3e9e89",
        "colab": {
          "base_uri": "https://localhost:8080/",
          "height": 85
        }
      },
      "source": [
        "model"
      ],
      "execution_count": 0,
      "outputs": [
        {
          "output_type": "execute_result",
          "data": {
            "text/plain": [
              "MLP(\n",
              "  (fc1): Linear(in_features=3072, out_features=512, bias=False)\n",
              "  (fc): Linear(in_features=512, out_features=10, bias=False)\n",
              ")"
            ]
          },
          "metadata": {
            "tags": []
          },
          "execution_count": 22
        }
      ]
    },
    {
      "cell_type": "code",
      "metadata": {
        "id": "bJe1voQKr585",
        "colab_type": "code",
        "outputId": "ef43635a-93dd-441c-8cc2-b0795671eeb1",
        "colab": {
          "base_uri": "https://localhost:8080/",
          "height": 1000
        }
      },
      "source": [
        "!pip install weightwatcher"
      ],
      "execution_count": 0,
      "outputs": [
        {
          "output_type": "stream",
          "text": [
            "Collecting weightwatcher\n",
            "  Downloading https://files.pythonhosted.org/packages/92/34/ad4047b6449e14db4a1bd707ec4626945c977309969318b6d18b619ed82c/WeightWatcher-0.2.7-py3-none-any.whl\n",
            "Requirement already satisfied: keras in /usr/local/lib/python3.6/dist-packages (from weightwatcher) (2.2.5)\n",
            "Requirement already satisfied: tensorflow in /usr/local/lib/python3.6/dist-packages (from weightwatcher) (2.2.0rc2)\n",
            "Requirement already satisfied: matplotlib in /usr/local/lib/python3.6/dist-packages (from weightwatcher) (3.2.1)\n",
            "Requirement already satisfied: pandas in /usr/local/lib/python3.6/dist-packages (from weightwatcher) (1.0.3)\n",
            "Requirement already satisfied: numpy in /usr/local/lib/python3.6/dist-packages (from weightwatcher) (1.18.2)\n",
            "Collecting powerlaw\n",
            "  Downloading https://files.pythonhosted.org/packages/d5/4e/3ceab890fafff8e78a5fd7f5340c232c38b21d181fcd32d7a31079db3646/powerlaw-1.4.6.tar.gz\n",
            "Requirement already satisfied: sklearn in /usr/local/lib/python3.6/dist-packages (from weightwatcher) (0.0)\n",
            "Requirement already satisfied: scipy>=0.14 in /usr/local/lib/python3.6/dist-packages (from keras->weightwatcher) (1.4.1)\n",
            "Requirement already satisfied: h5py in /usr/local/lib/python3.6/dist-packages (from keras->weightwatcher) (2.10.0)\n",
            "Requirement already satisfied: keras-applications>=1.0.8 in /usr/local/lib/python3.6/dist-packages (from keras->weightwatcher) (1.0.8)\n",
            "Requirement already satisfied: pyyaml in /usr/local/lib/python3.6/dist-packages (from keras->weightwatcher) (3.13)\n",
            "Requirement already satisfied: keras-preprocessing>=1.1.0 in /usr/local/lib/python3.6/dist-packages (from keras->weightwatcher) (1.1.0)\n",
            "Requirement already satisfied: six>=1.9.0 in /usr/local/lib/python3.6/dist-packages (from keras->weightwatcher) (1.12.0)\n",
            "Requirement already satisfied: astunparse==1.6.3 in /usr/local/lib/python3.6/dist-packages (from tensorflow->weightwatcher) (1.6.3)\n",
            "Requirement already satisfied: opt-einsum>=2.3.2 in /usr/local/lib/python3.6/dist-packages (from tensorflow->weightwatcher) (3.2.0)\n",
            "Requirement already satisfied: tensorflow-estimator<2.3.0,>=2.2.0rc0 in /usr/local/lib/python3.6/dist-packages (from tensorflow->weightwatcher) (2.2.0rc0)\n",
            "Requirement already satisfied: termcolor>=1.1.0 in /usr/local/lib/python3.6/dist-packages (from tensorflow->weightwatcher) (1.1.0)\n",
            "Requirement already satisfied: absl-py>=0.7.0 in /usr/local/lib/python3.6/dist-packages (from tensorflow->weightwatcher) (0.9.0)\n",
            "Requirement already satisfied: wrapt>=1.11.1 in /usr/local/lib/python3.6/dist-packages (from tensorflow->weightwatcher) (1.12.1)\n",
            "Requirement already satisfied: google-pasta>=0.1.8 in /usr/local/lib/python3.6/dist-packages (from tensorflow->weightwatcher) (0.2.0)\n",
            "Requirement already satisfied: grpcio>=1.8.6 in /usr/local/lib/python3.6/dist-packages (from tensorflow->weightwatcher) (1.27.2)\n",
            "Requirement already satisfied: wheel>=0.26; python_version >= \"3\" in /usr/local/lib/python3.6/dist-packages (from tensorflow->weightwatcher) (0.34.2)\n",
            "Requirement already satisfied: protobuf>=3.8.0 in /usr/local/lib/python3.6/dist-packages (from tensorflow->weightwatcher) (3.10.0)\n",
            "Requirement already satisfied: tensorboard<2.3.0,>=2.2.0 in /usr/local/lib/python3.6/dist-packages (from tensorflow->weightwatcher) (2.2.0)\n",
            "Requirement already satisfied: gast==0.3.3 in /usr/local/lib/python3.6/dist-packages (from tensorflow->weightwatcher) (0.3.3)\n",
            "Requirement already satisfied: python-dateutil>=2.1 in /usr/local/lib/python3.6/dist-packages (from matplotlib->weightwatcher) (2.8.1)\n",
            "Requirement already satisfied: cycler>=0.10 in /usr/local/lib/python3.6/dist-packages (from matplotlib->weightwatcher) (0.10.0)\n",
            "Requirement already satisfied: pyparsing!=2.0.4,!=2.1.2,!=2.1.6,>=2.0.1 in /usr/local/lib/python3.6/dist-packages (from matplotlib->weightwatcher) (2.4.6)\n",
            "Requirement already satisfied: kiwisolver>=1.0.1 in /usr/local/lib/python3.6/dist-packages (from matplotlib->weightwatcher) (1.1.0)\n",
            "Requirement already satisfied: pytz>=2017.2 in /usr/local/lib/python3.6/dist-packages (from pandas->weightwatcher) (2018.9)\n",
            "Requirement already satisfied: mpmath in /usr/local/lib/python3.6/dist-packages (from powerlaw->weightwatcher) (1.1.0)\n",
            "Requirement already satisfied: scikit-learn in /usr/local/lib/python3.6/dist-packages (from sklearn->weightwatcher) (0.22.2.post1)\n",
            "Requirement already satisfied: setuptools in /usr/local/lib/python3.6/dist-packages (from protobuf>=3.8.0->tensorflow->weightwatcher) (46.0.0)\n",
            "Requirement already satisfied: tensorboard-plugin-wit>=1.6.0 in /usr/local/lib/python3.6/dist-packages (from tensorboard<2.3.0,>=2.2.0->tensorflow->weightwatcher) (1.6.0.post2)\n",
            "Requirement already satisfied: google-auth-oauthlib<0.5,>=0.4.1 in /usr/local/lib/python3.6/dist-packages (from tensorboard<2.3.0,>=2.2.0->tensorflow->weightwatcher) (0.4.1)\n",
            "Requirement already satisfied: markdown>=2.6.8 in /usr/local/lib/python3.6/dist-packages (from tensorboard<2.3.0,>=2.2.0->tensorflow->weightwatcher) (3.2.1)\n",
            "Requirement already satisfied: google-auth<2,>=1.6.3 in /usr/local/lib/python3.6/dist-packages (from tensorboard<2.3.0,>=2.2.0->tensorflow->weightwatcher) (1.7.2)\n",
            "Requirement already satisfied: requests<3,>=2.21.0 in /usr/local/lib/python3.6/dist-packages (from tensorboard<2.3.0,>=2.2.0->tensorflow->weightwatcher) (2.21.0)\n",
            "Requirement already satisfied: werkzeug>=0.11.15 in /usr/local/lib/python3.6/dist-packages (from tensorboard<2.3.0,>=2.2.0->tensorflow->weightwatcher) (1.0.1)\n",
            "Requirement already satisfied: joblib>=0.11 in /usr/local/lib/python3.6/dist-packages (from scikit-learn->sklearn->weightwatcher) (0.14.1)\n",
            "Requirement already satisfied: requests-oauthlib>=0.7.0 in /usr/local/lib/python3.6/dist-packages (from google-auth-oauthlib<0.5,>=0.4.1->tensorboard<2.3.0,>=2.2.0->tensorflow->weightwatcher) (1.3.0)\n",
            "Requirement already satisfied: cachetools<3.2,>=2.0.0 in /usr/local/lib/python3.6/dist-packages (from google-auth<2,>=1.6.3->tensorboard<2.3.0,>=2.2.0->tensorflow->weightwatcher) (3.1.1)\n",
            "Requirement already satisfied: pyasn1-modules>=0.2.1 in /usr/local/lib/python3.6/dist-packages (from google-auth<2,>=1.6.3->tensorboard<2.3.0,>=2.2.0->tensorflow->weightwatcher) (0.2.8)\n",
            "Requirement already satisfied: rsa<4.1,>=3.1.4 in /usr/local/lib/python3.6/dist-packages (from google-auth<2,>=1.6.3->tensorboard<2.3.0,>=2.2.0->tensorflow->weightwatcher) (4.0)\n",
            "Requirement already satisfied: certifi>=2017.4.17 in /usr/local/lib/python3.6/dist-packages (from requests<3,>=2.21.0->tensorboard<2.3.0,>=2.2.0->tensorflow->weightwatcher) (2019.11.28)\n",
            "Requirement already satisfied: idna<2.9,>=2.5 in /usr/local/lib/python3.6/dist-packages (from requests<3,>=2.21.0->tensorboard<2.3.0,>=2.2.0->tensorflow->weightwatcher) (2.8)\n",
            "Requirement already satisfied: urllib3<1.25,>=1.21.1 in /usr/local/lib/python3.6/dist-packages (from requests<3,>=2.21.0->tensorboard<2.3.0,>=2.2.0->tensorflow->weightwatcher) (1.24.3)\n",
            "Requirement already satisfied: chardet<3.1.0,>=3.0.2 in /usr/local/lib/python3.6/dist-packages (from requests<3,>=2.21.0->tensorboard<2.3.0,>=2.2.0->tensorflow->weightwatcher) (3.0.4)\n",
            "Requirement already satisfied: oauthlib>=3.0.0 in /usr/local/lib/python3.6/dist-packages (from requests-oauthlib>=0.7.0->google-auth-oauthlib<0.5,>=0.4.1->tensorboard<2.3.0,>=2.2.0->tensorflow->weightwatcher) (3.1.0)\n",
            "Requirement already satisfied: pyasn1<0.5.0,>=0.4.6 in /usr/local/lib/python3.6/dist-packages (from pyasn1-modules>=0.2.1->google-auth<2,>=1.6.3->tensorboard<2.3.0,>=2.2.0->tensorflow->weightwatcher) (0.4.8)\n",
            "Building wheels for collected packages: powerlaw\n",
            "  Building wheel for powerlaw (setup.py) ... \u001b[?25l\u001b[?25hdone\n",
            "  Created wheel for powerlaw: filename=powerlaw-1.4.6-cp36-none-any.whl size=24787 sha256=559a0a36774f8be6416a9a63476edebb46c635af3f11820cb88d46ce9632b3d5\n",
            "  Stored in directory: /root/.cache/pip/wheels/e0/27/02/08d0e2865072bfd8d7c655e290521e3feca3fc22f1ac460601\n",
            "Successfully built powerlaw\n",
            "Installing collected packages: powerlaw, weightwatcher\n",
            "Successfully installed powerlaw-1.4.6 weightwatcher-0.2.7\n"
          ],
          "name": "stdout"
        }
      ]
    },
    {
      "cell_type": "code",
      "metadata": {
        "id": "M9Uvu1JCsAcv",
        "colab_type": "code",
        "outputId": "5332732f-f4e6-4777-b2fe-78f713a517dd",
        "colab": {
          "base_uri": "https://localhost:8080/",
          "height": 1000
        }
      },
      "source": [
        "import weightwatcher as ww\n",
        "watcher = ww.WeightWatcher(model=model)\n",
        "results = watcher.analyze(plot=True, alphas=True, mp_fit=True, spectralnorms=True)\n",
        "\n",
        "watcher.get_summary()"
      ],
      "execution_count": 0,
      "outputs": [
        {
          "output_type": "stream",
          "text": [
            "Using TensorFlow backend.\n",
            "2020-04-06 04:50:42,920 INFO \n",
            "\n",
            "python      version 3.6.9 (default, Nov  7 2019, 10:44:02) \n",
            "[GCC 8.3.0]\n",
            "numpy       version 1.18.2\n",
            "tensforflow version 2.2.0-rc2\n",
            "keras       version 2.2.5\n",
            "2020-04-06 04:50:42,921 INFO Analyzing model\n",
            "/usr/local/lib/python3.6/dist-packages/powerlaw.py:700: RuntimeWarning: divide by zero encountered in true_divide\n",
            "  (Theoretical_CDF * (1 - Theoretical_CDF))\n",
            "/usr/local/lib/python3.6/dist-packages/powerlaw.py:700: RuntimeWarning: invalid value encountered in true_divide\n",
            "  (Theoretical_CDF * (1 - Theoretical_CDF))\n",
            "/usr/local/lib/python3.6/dist-packages/powerlaw.py:700: RuntimeWarning: divide by zero encountered in true_divide\n",
            "  (Theoretical_CDF * (1 - Theoretical_CDF))\n",
            "/usr/local/lib/python3.6/dist-packages/powerlaw.py:700: RuntimeWarning: invalid value encountered in true_divide\n",
            "  (Theoretical_CDF * (1 - Theoretical_CDF))\n"
          ],
          "name": "stderr"
        },
        {
          "output_type": "display_data",
          "data": {
            "image/png": "[encoded data removed]",
            "text/plain": [
              "<Figure size 432x288 with 1 Axes>"
            ]
          },
          "metadata": {
            "tags": []
          }
        },
        {
          "output_type": "display_data",
          "data": {
            "image/png": "[encoded data removed]",
            "text/plain": [
              "<Figure size 432x288 with 1 Axes>"
            ]
          },
          "metadata": {
            "tags": []
          }
        },
        {
          "output_type": "display_data",
          "data": {
            "image/png": "[encoded data removed]",
            "text/plain": [
              "<Figure size 432x288 with 1 Axes>"
            ]
          },
          "metadata": {
            "tags": []
          }
        },
        {
          "output_type": "stream",
          "text": [
            "/usr/local/lib/python3.6/dist-packages/weightwatcher/RMT_Util.py:48: RuntimeWarning: divide by zero encountered in true_divide\n",
            "  return x, (1/(2*np.pi*sigma*sigma*x*y))*np.sqrt((b-x)*(x-a))\n",
            "/usr/local/lib/python3.6/dist-packages/weightwatcher/RMT_Util.py:48: RuntimeWarning: invalid value encountered in sqrt\n",
            "  return x, (1/(2*np.pi*sigma*sigma*x*y))*np.sqrt((b-x)*(x-a))\n"
          ],
          "name": "stderr"
        },
        {
          "output_type": "display_data",
          "data": {
            "image/png": "[encoded data removed]",
            "text/plain": [
              "<Figure size 432x288 with 1 Axes>"
            ]
          },
          "metadata": {
            "tags": []
          }
        },
        {
          "output_type": "stream",
          "text": [
            "2020-04-06 04:50:47,433 INFO ### Printing results ###\n",
            "2020-04-06 04:50:47,551 INFO Check: min: 0.0460611117166826, max: 0.16683232731496833, avg: 0.10644671951582546\n",
            "2020-04-06 04:50:47,551 INFO Check compound: min: 0.0460611117166826, max: 0.16683232731496833, avg: 0.10644671951582546\n",
            "2020-04-06 04:50:47,555 INFO CheckTF: min: False, max: False, avg: 0.0\n",
            "2020-04-06 04:50:47,556 INFO CheckTF compound: min: 0.0, max: 0.0, avg: 0.0\n",
            "2020-04-06 04:50:47,557 INFO Norm: min: 40.84745407104492, max: 40.84745407104492, avg: 40.84745407104492\n",
            "2020-04-06 04:50:47,559 INFO Norm compound: min: 40.84745407104492, max: 40.84745407104492, avg: 40.84745407104492\n",
            "2020-04-06 04:50:47,561 INFO LogNorm: min: 1.6111650466918945, max: 1.6111650466918945, avg: 1.6111650466918945\n",
            "2020-04-06 04:50:47,563 INFO LogNorm compound: min: 1.6111650466918945, max: 1.6111650466918945, avg: 1.6111650466918945\n",
            "2020-04-06 04:50:47,564 INFO Norm X: min: 109.00572204589844, max: 109.00572204589844, avg: 109.00572204589844\n",
            "2020-04-06 04:50:47,565 INFO Norm X compound: min: 109.00572204589844, max: 109.00572204589844, avg: 109.00572204589844\n",
            "2020-04-06 04:50:47,566 INFO LogNorm X: min: 2.037449359893799, max: 2.037449359893799, avg: 2.037449359893799\n",
            "2020-04-06 04:50:47,567 INFO LogNorm X compound: min: 2.037449359893799, max: 2.037449359893799, avg: 2.037449359893799\n",
            "2020-04-06 04:50:47,568 INFO Alpha: min: 5.474798970154679, max: 5.474798970154679, avg: 5.474798970154679\n",
            "2020-04-06 04:50:47,569 INFO Alpha compound: min: 5.474798970154679, max: 5.474798970154679, avg: 5.474798970154679\n",
            "2020-04-06 04:50:47,570 INFO Alpha Weighted: min: 9.125477930740832, max: 9.125477930740832, avg: 9.125477930740832\n",
            "2020-04-06 04:50:47,571 INFO Alpha Weighted compound: min: 9.125477930740832, max: 9.125477930740832, avg: 9.125477930740832\n",
            "2020-04-06 04:50:47,572 INFO Spectral Norm: min: 14.106431007385254, max: 46.43180465698242, avg: 30.26911735534668\n",
            "2020-04-06 04:50:47,573 INFO Spectral Norm compound: min: 14.106431007385254, max: 46.43180465698242, avg: 30.26911735534668\n",
            "2020-04-06 04:50:47,574 INFO Log Spectral Norm: min: 1.1494171619415283, max: 1.6668155193328857, avg: 1.408116340637207\n",
            "2020-04-06 04:50:47,575 INFO Log Spectral Norm compound: min: 1.1494171619415283, max: 1.6668155193328857, avg: 1.408116340637207\n",
            "2020-04-06 04:50:47,576 INFO Marchenko-Pastur (MP) fit sigma: min: 0.9999975585937502, max: 0.9999975585937502, avg: 0.9999975585937502\n",
            "2020-04-06 04:50:47,577 INFO Marchenko-Pastur (MP) fit sigma compound: min: 0.9999975585937502, max: 0.9999975585937502, avg: 0.9999975585937502\n",
            "2020-04-06 04:50:47,578 INFO Number of spikes per MP fit: min: 251, max: 251, avg: 251.0\n",
            "2020-04-06 04:50:47,579 INFO Number of spikes per MP fit compound: min: 251.0, max: 251.0, avg: 251.0\n",
            "2020-04-06 04:50:47,580 INFO aka, percent_mass, Number of spikes / total number of evals: min: 0.4911937377690802, max: 0.4911937377690802, avg: 0.4911937377690802\n",
            "2020-04-06 04:50:47,581 INFO aka, percent_mass, Number of spikes / total number of evals compound: min: 0.4911937377690802, max: 0.4911937377690802, avg: 0.4911937377690802\n",
            "2020-04-06 04:50:47,582 INFO Softrank for MP fit: min: 0.04271113750893778, max: 0.04271113750893778, avg: 0.04271113750893778\n",
            "2020-04-06 04:50:47,583 INFO Softrank for MP fit compound: min: 0.04271113750893778, max: 0.04271113750893778, avg: 0.04271113750893778\n",
            "2020-04-06 04:50:47,584 INFO alpha pNorm: min: 9.135960640640926, max: 9.135960640640926, avg: 9.135960640640926\n",
            "2020-04-06 04:50:47,585 INFO alpha pNorm compound: min: 9.135960640640926, max: 9.135960640640926, avg: 9.135960640640926\n"
          ],
          "name": "stderr"
        },
        {
          "output_type": "execute_result",
          "data": {
            "text/plain": [
              "{'alpha': 5.474798970154679,\n",
              " 'alpha_compound': 5.474798970154679,\n",
              " 'alpha_weighted': 9.125477930740832,\n",
              " 'alpha_weighted_compound': 9.125477930740832,\n",
              " 'check': 0.10644671951582546,\n",
              " 'checkTF': 0.0,\n",
              " 'checkTF_compound': 0.0,\n",
              " 'check_compound': 0.10644671951582546,\n",
              " 'lognorm': 1.611165,\n",
              " 'lognormX': 2.0374494,\n",
              " 'lognormX_compound': 2.0374494,\n",
              " 'lognorm_compound': 1.611165,\n",
              " 'logpnorm': 9.135960640640926,\n",
              " 'logpnorm_compound': 9.135960640640926,\n",
              " 'logspectralnorm': 1.4081163,\n",
              " 'logspectralnorm_compound': 1.4081163,\n",
              " 'norm': 40.847454,\n",
              " 'normX': 109.00572,\n",
              " 'normX_compound': 109.00572,\n",
              " 'norm_compound': 40.847454,\n",
              " 'numofSpikes': 251.0,\n",
              " 'numofSpikes_compound': 251.0,\n",
              " 'ratio_numofSpikes': 0.4911937377690802,\n",
              " 'ratio_numofSpikes_compound': 0.4911937377690802,\n",
              " 'sigma_mp': 0.9999975585937502,\n",
              " 'sigma_mp_compound': 0.9999975585937502,\n",
              " 'softrank_mp': 0.04271113750893778,\n",
              " 'softrank_mp_compound': 0.04271113750893778,\n",
              " 'spectralnorm': 30.269117,\n",
              " 'spectralnorm_compound': 30.269117}"
            ]
          },
          "metadata": {
            "tags": []
          },
          "execution_count": 14
        }
      ]
    },
    {
      "cell_type": "code",
      "metadata": {
        "id": "aGI4_9QhiaCO",
        "colab_type": "code",
        "colab": {}
      },
      "source": [
        ""
      ],
      "execution_count": 0,
      "outputs": []
    }
  ]
}