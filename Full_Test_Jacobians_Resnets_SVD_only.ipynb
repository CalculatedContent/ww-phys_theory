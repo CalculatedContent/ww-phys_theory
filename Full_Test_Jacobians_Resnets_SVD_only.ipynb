{
  "nbformat": 4,
  "nbformat_minor": 0,
  "metadata": {
    "colab": {
      "name": "Full-Test-Jacobians-Resnets-SVD-only.ipynb",
      "provenance": [],
      "collapsed_sections": [],
      "machine_shape": "hm",
      "authorship_tag": "ABX9TyNTCozFEBdUJw81w+vrevjE",
      "include_colab_link": true
    },
    "kernelspec": {
      "name": "python3",
      "display_name": "Python 3"
    },
    "accelerator": "GPU",
    "widgets": {
      "application/vnd.jupyter.widget-state+json": {
        "1b441aaf3d01405bb81f7ddcebd29f93": {
          "model_module": "@jupyter-widgets/controls",
          "model_name": "HBoxModel",
          "state": {
            "_view_name": "HBoxView",
            "_dom_classes": [],
            "_model_name": "HBoxModel",
            "_view_module": "@jupyter-widgets/controls",
            "_model_module_version": "1.5.0",
            "_view_count": null,
            "_view_module_version": "1.5.0",
            "box_style": "",
            "layout": "IPY_MODEL_05c9daf1af1b48cb8884ce9d2be697e5",
            "_model_module": "@jupyter-widgets/controls",
            "children": [
              "IPY_MODEL_6dd117b0785d4a0faa266334af7a04ee",
              "IPY_MODEL_9fc0af4428f94c19be2bd96cf5976f68"
            ]
          }
        },
        "05c9daf1af1b48cb8884ce9d2be697e5": {
          "model_module": "@jupyter-widgets/base",
          "model_name": "LayoutModel",
          "state": {
            "_view_name": "LayoutView",
            "grid_template_rows": null,
            "right": null,
            "justify_content": null,
            "_view_module": "@jupyter-widgets/base",
            "overflow": null,
            "_model_module_version": "1.2.0",
            "_view_count": null,
            "flex_flow": null,
            "width": null,
            "min_width": null,
            "border": null,
            "align_items": null,
            "bottom": null,
            "_model_module": "@jupyter-widgets/base",
            "top": null,
            "grid_column": null,
            "overflow_y": null,
            "overflow_x": null,
            "grid_auto_flow": null,
            "grid_area": null,
            "grid_template_columns": null,
            "flex": null,
            "_model_name": "LayoutModel",
            "justify_items": null,
            "grid_row": null,
            "max_height": null,
            "align_content": null,
            "visibility": null,
            "align_self": null,
            "height": null,
            "min_height": null,
            "padding": null,
            "grid_auto_rows": null,
            "grid_gap": null,
            "max_width": null,
            "order": null,
            "_view_module_version": "1.2.0",
            "grid_template_areas": null,
            "object_position": null,
            "object_fit": null,
            "grid_auto_columns": null,
            "margin": null,
            "display": null,
            "left": null
          }
        },
        "6dd117b0785d4a0faa266334af7a04ee": {
          "model_module": "@jupyter-widgets/controls",
          "model_name": "FloatProgressModel",
          "state": {
            "_view_name": "ProgressView",
            "style": "IPY_MODEL_ecbca335ce6a412b985c2d8d6b9d7f61",
            "_dom_classes": [],
            "description": "",
            "_model_name": "FloatProgressModel",
            "bar_style": "info",
            "max": 1,
            "_view_module": "@jupyter-widgets/controls",
            "_model_module_version": "1.5.0",
            "value": 1,
            "_view_count": null,
            "_view_module_version": "1.5.0",
            "orientation": "horizontal",
            "min": 0,
            "description_tooltip": null,
            "_model_module": "@jupyter-widgets/controls",
            "layout": "IPY_MODEL_f00c0a2662ef4b7ab0350f04860ae874"
          }
        },
        "9fc0af4428f94c19be2bd96cf5976f68": {
          "model_module": "@jupyter-widgets/controls",
          "model_name": "HTMLModel",
          "state": {
            "_view_name": "HTMLView",
            "style": "IPY_MODEL_474521a3d8174d97b48fed462030aefc",
            "_dom_classes": [],
            "description": "",
            "_model_name": "HTMLModel",
            "placeholder": "​",
            "_view_module": "@jupyter-widgets/controls",
            "_model_module_version": "1.5.0",
            "value": " 169009152/? [00:20&lt;00:00, 54655510.78it/s]",
            "_view_count": null,
            "_view_module_version": "1.5.0",
            "description_tooltip": null,
            "_model_module": "@jupyter-widgets/controls",
            "layout": "IPY_MODEL_564a3305315447fe8a5397cb59c01d74"
          }
        },
        "ecbca335ce6a412b985c2d8d6b9d7f61": {
          "model_module": "@jupyter-widgets/controls",
          "model_name": "ProgressStyleModel",
          "state": {
            "_view_name": "StyleView",
            "_model_name": "ProgressStyleModel",
            "description_width": "initial",
            "_view_module": "@jupyter-widgets/base",
            "_model_module_version": "1.5.0",
            "_view_count": null,
            "_view_module_version": "1.2.0",
            "bar_color": null,
            "_model_module": "@jupyter-widgets/controls"
          }
        },
        "f00c0a2662ef4b7ab0350f04860ae874": {
          "model_module": "@jupyter-widgets/base",
          "model_name": "LayoutModel",
          "state": {
            "_view_name": "LayoutView",
            "grid_template_rows": null,
            "right": null,
            "justify_content": null,
            "_view_module": "@jupyter-widgets/base",
            "overflow": null,
            "_model_module_version": "1.2.0",
            "_view_count": null,
            "flex_flow": null,
            "width": null,
            "min_width": null,
            "border": null,
            "align_items": null,
            "bottom": null,
            "_model_module": "@jupyter-widgets/base",
            "top": null,
            "grid_column": null,
            "overflow_y": null,
            "overflow_x": null,
            "grid_auto_flow": null,
            "grid_area": null,
            "grid_template_columns": null,
            "flex": null,
            "_model_name": "LayoutModel",
            "justify_items": null,
            "grid_row": null,
            "max_height": null,
            "align_content": null,
            "visibility": null,
            "align_self": null,
            "height": null,
            "min_height": null,
            "padding": null,
            "grid_auto_rows": null,
            "grid_gap": null,
            "max_width": null,
            "order": null,
            "_view_module_version": "1.2.0",
            "grid_template_areas": null,
            "object_position": null,
            "object_fit": null,
            "grid_auto_columns": null,
            "margin": null,
            "display": null,
            "left": null
          }
        },
        "474521a3d8174d97b48fed462030aefc": {
          "model_module": "@jupyter-widgets/controls",
          "model_name": "DescriptionStyleModel",
          "state": {
            "_view_name": "StyleView",
            "_model_name": "DescriptionStyleModel",
            "description_width": "",
            "_view_module": "@jupyter-widgets/base",
            "_model_module_version": "1.5.0",
            "_view_count": null,
            "_view_module_version": "1.2.0",
            "_model_module": "@jupyter-widgets/controls"
          }
        },
        "564a3305315447fe8a5397cb59c01d74": {
          "model_module": "@jupyter-widgets/base",
          "model_name": "LayoutModel",
          "state": {
            "_view_name": "LayoutView",
            "grid_template_rows": null,
            "right": null,
            "justify_content": null,
            "_view_module": "@jupyter-widgets/base",
            "overflow": null,
            "_model_module_version": "1.2.0",
            "_view_count": null,
            "flex_flow": null,
            "width": null,
            "min_width": null,
            "border": null,
            "align_items": null,
            "bottom": null,
            "_model_module": "@jupyter-widgets/base",
            "top": null,
            "grid_column": null,
            "overflow_y": null,
            "overflow_x": null,
            "grid_auto_flow": null,
            "grid_area": null,
            "grid_template_columns": null,
            "flex": null,
            "_model_name": "LayoutModel",
            "justify_items": null,
            "grid_row": null,
            "max_height": null,
            "align_content": null,
            "visibility": null,
            "align_self": null,
            "height": null,
            "min_height": null,
            "padding": null,
            "grid_auto_rows": null,
            "grid_gap": null,
            "max_width": null,
            "order": null,
            "_view_module_version": "1.2.0",
            "grid_template_areas": null,
            "object_position": null,
            "object_fit": null,
            "grid_auto_columns": null,
            "margin": null,
            "display": null,
            "left": null
          }
        }
      }
    }
  },
  "cells": [
    {
      "cell_type": "markdown",
      "metadata": {
        "id": "view-in-github",
        "colab_type": "text"
      },
      "source": [
        "<a href=\"https://colab.research.google.com/github/CalculatedContent/ww-phys_theory/blob/master/Full_Test_Jacobians_Resnets_SVD_only.ipynb\" target=\"_parent\"><img src=\"https://colab.research.google.com/assets/colab-badge.svg\" alt=\"Open In Colab\"/></a>"
      ]
    },
    {
      "cell_type": "markdown",
      "metadata": {
        "id": "4YGlUg538lQ4",
        "colab_type": "text"
      },
      "source": [
        "## Notebook for generating Full Jacobian SVD over the test data for ResNet data\n",
        "\n",
        "Can do the full calculation, and a batched (slow, but handles large memory cases)\n",
        "\n",
        "Can handle: ResnetXXX with CIFAR10, CIFAR100, SVHN\n",
        "\n",
        "i.e. CIFAR 10\n",
        "```\n",
        " resnet20_cifar10\n",
        " resnet56_cifar10\n",
        " resnet110_cifar10\n",
        " resnet164bn_cifar10\n",
        " resnet272bn_cifar10\n",
        "\n",
        "full_jacobian()\n",
        "\n",
        "\n",
        " resnet542bn_cifar10\n",
        " resnet1001_cifar10\n",
        " resnet1202_cifar10\n",
        "\n",
        "full_batched_jacobian()\n",
        "\n",
        "```\n",
        "\n",
        "\n",
        "\n",
        "\n"
      ]
    },
    {
      "cell_type": "code",
      "metadata": {
        "id": "4JBCL3Qj8pl6",
        "colab_type": "code",
        "colab": {
          "base_uri": "https://localhost:8080/",
          "height": 34
        },
        "outputId": "ed1f8c17-63f6-4455-e40b-a9de0d6cd2a4"
      },
      "source": [
        "Jdir =  '/content/drive/My Drive/J_resnets_fullsvd'\n",
        "\n",
        "modelnames = ['resnet20_cifar100', 'resnet56_cifar100', 'resnet110_cifar100', 'resnet164bn_cifar100']\n",
        "modelnames = ['resnet542bn_cifar100']\n",
        "\n",
        "num_classes = 100\n",
        "num_data = 10000\n",
        "\n",
        "batched = True\n",
        "start_batch = 0\n",
        "batch_size = 100\n",
        "\n",
        "device = 'cuda:0'\n"
      ],
      "execution_count": 51,
      "outputs": [
        {
          "output_type": "stream",
          "text": [
            "time: 2.89 ms\n"
          ],
          "name": "stdout"
        }
      ]
    },
    {
      "cell_type": "code",
      "metadata": {
        "id": "lSlymHmAIph5",
        "colab_type": "code",
        "colab": {
          "base_uri": "https://localhost:8080/",
          "height": 136
        },
        "outputId": "c35e5141-1186-4c00-e031-55eb94aebf15"
      },
      "source": [
        "!pip install torch==1.5.0+cu101 torchvision==0.6.0+cu101 -f https://download.pytorch.org/whl/torch_stable.html"
      ],
      "execution_count": 19,
      "outputs": [
        {
          "output_type": "stream",
          "text": [
            "Looking in links: https://download.pytorch.org/whl/torch_stable.html\n",
            "Requirement already satisfied: torch==1.5.0+cu101 in /usr/local/lib/python3.6/dist-packages (1.5.0+cu101)\n",
            "Requirement already satisfied: torchvision==0.6.0+cu101 in /usr/local/lib/python3.6/dist-packages (0.6.0+cu101)\n",
            "Requirement already satisfied: future in /usr/local/lib/python3.6/dist-packages (from torch==1.5.0+cu101) (0.16.0)\n",
            "Requirement already satisfied: numpy in /usr/local/lib/python3.6/dist-packages (from torch==1.5.0+cu101) (1.18.5)\n",
            "Requirement already satisfied: pillow>=4.1.1 in /usr/local/lib/python3.6/dist-packages (from torchvision==0.6.0+cu101) (7.0.0)\n",
            "time: 2.15 s\n"
          ],
          "name": "stdout"
        }
      ]
    },
    {
      "cell_type": "code",
      "metadata": {
        "id": "hZplJz8WqCkD",
        "colab_type": "code",
        "colab": {
          "base_uri": "https://localhost:8080/",
          "height": 85
        },
        "outputId": "c6aeba0a-02f6-4226-91da-44e4e8483c73"
      },
      "source": [
        "!pip install ipython-autotime\n",
        "%load_ext autotime"
      ],
      "execution_count": 20,
      "outputs": [
        {
          "output_type": "stream",
          "text": [
            "Requirement already satisfied: ipython-autotime in /usr/local/lib/python3.6/dist-packages (0.1)\n",
            "The autotime extension is already loaded. To reload it, use:\n",
            "  %reload_ext autotime\n",
            "time: 2.17 s\n"
          ],
          "name": "stdout"
        }
      ]
    },
    {
      "cell_type": "code",
      "metadata": {
        "id": "XQGrAUZLSEy_",
        "colab_type": "code",
        "colab": {
          "base_uri": "https://localhost:8080/",
          "height": 51
        },
        "outputId": "3dcbbb48-3ffc-4389-d83a-e3b5d15e1b64"
      },
      "source": [
        "from google.colab import drive\n",
        "drive.mount('/content/drive')\n"
      ],
      "execution_count": 21,
      "outputs": [
        {
          "output_type": "stream",
          "text": [
            "Drive already mounted at /content/drive; to attempt to forcibly remount, call drive.mount(\"/content/drive\", force_remount=True).\n",
            "time: 1.75 ms\n"
          ],
          "name": "stdout"
        }
      ]
    },
    {
      "cell_type": "code",
      "metadata": {
        "id": "L9UHqdnHqCcv",
        "colab_type": "code",
        "colab": {
          "base_uri": "https://localhost:8080/",
          "height": 360
        },
        "outputId": "59909b03-c4e4-4ea3-852e-ca210d4ed5d6"
      },
      "source": [
        "!pip install pytorchcv\n",
        "!pip install powerlaw\n",
        "!pip install GPUtil\n",
        "import GPUtil"
      ],
      "execution_count": 23,
      "outputs": [
        {
          "output_type": "stream",
          "text": [
            "Requirement already satisfied: pytorchcv in /usr/local/lib/python3.6/dist-packages (0.0.58)\n",
            "Requirement already satisfied: requests in /usr/local/lib/python3.6/dist-packages (from pytorchcv) (2.23.0)\n",
            "Requirement already satisfied: numpy in /usr/local/lib/python3.6/dist-packages (from pytorchcv) (1.18.5)\n",
            "Requirement already satisfied: idna<3,>=2.5 in /usr/local/lib/python3.6/dist-packages (from requests->pytorchcv) (2.9)\n",
            "Requirement already satisfied: chardet<4,>=3.0.2 in /usr/local/lib/python3.6/dist-packages (from requests->pytorchcv) (3.0.4)\n",
            "Requirement already satisfied: certifi>=2017.4.17 in /usr/local/lib/python3.6/dist-packages (from requests->pytorchcv) (2020.4.5.2)\n",
            "Requirement already satisfied: urllib3!=1.25.0,!=1.25.1,<1.26,>=1.21.1 in /usr/local/lib/python3.6/dist-packages (from requests->pytorchcv) (1.24.3)\n",
            "Requirement already satisfied: powerlaw in /usr/local/lib/python3.6/dist-packages (1.4.6)\n",
            "Requirement already satisfied: scipy in /usr/local/lib/python3.6/dist-packages (from powerlaw) (1.4.1)\n",
            "Requirement already satisfied: mpmath in /usr/local/lib/python3.6/dist-packages (from powerlaw) (1.1.0)\n",
            "Requirement already satisfied: matplotlib in /usr/local/lib/python3.6/dist-packages (from powerlaw) (3.2.1)\n",
            "Requirement already satisfied: numpy in /usr/local/lib/python3.6/dist-packages (from powerlaw) (1.18.5)\n",
            "Requirement already satisfied: pyparsing!=2.0.4,!=2.1.2,!=2.1.6,>=2.0.1 in /usr/local/lib/python3.6/dist-packages (from matplotlib->powerlaw) (2.4.7)\n",
            "Requirement already satisfied: python-dateutil>=2.1 in /usr/local/lib/python3.6/dist-packages (from matplotlib->powerlaw) (2.8.1)\n",
            "Requirement already satisfied: cycler>=0.10 in /usr/local/lib/python3.6/dist-packages (from matplotlib->powerlaw) (0.10.0)\n",
            "Requirement already satisfied: kiwisolver>=1.0.1 in /usr/local/lib/python3.6/dist-packages (from matplotlib->powerlaw) (1.2.0)\n",
            "Requirement already satisfied: six>=1.5 in /usr/local/lib/python3.6/dist-packages (from python-dateutil>=2.1->matplotlib->powerlaw) (1.12.0)\n",
            "Requirement already satisfied: GPUtil in /usr/local/lib/python3.6/dist-packages (1.4.0)\n",
            "time: 6.14 s\n"
          ],
          "name": "stdout"
        }
      ]
    },
    {
      "cell_type": "code",
      "metadata": {
        "id": "0rBl2Oq6DQu9",
        "colab_type": "code",
        "colab": {
          "base_uri": "https://localhost:8080/",
          "height": 51
        },
        "outputId": "76be82b5-2db3-484b-8807-11af32aa8829"
      },
      "source": [
        "!import os\n",
        "import time\n",
        "\n",
        "import numpy as np\n",
        "import pandas as pd\n",
        "\n",
        "import torch\n",
        "import torch.nn as nn\n",
        "import torch.nn.functional as F\n",
        "from torch.utils.data import DataLoader\n",
        "from torch.utils.data.dataset import Subset\n",
        "\n",
        "from torchvision import datasets\n",
        "from torchvision import transforms\n",
        "\n",
        "import matplotlib.pyplot as plt\n",
        "from PIL import Image\n",
        "\n",
        "import math\n",
        "import copy\n",
        "\n",
        "import gc\n"
      ],
      "execution_count": 7,
      "outputs": [
        {
          "output_type": "stream",
          "text": [
            "/bin/bash: import: command not found\n",
            "time: 4.07 s\n"
          ],
          "name": "stdout"
        }
      ]
    },
    {
      "cell_type": "markdown",
      "metadata": {
        "id": "eRm23SSZoRyb",
        "colab_type": "text"
      },
      "source": [
        "### Run InstallPhysTheory notebook "
      ]
    },
    {
      "cell_type": "code",
      "metadata": {
        "id": "XcXIRwl3NGhs",
        "colab_type": "code",
        "colab": {
          "base_uri": "https://localhost:8080/",
          "height": 34
        },
        "outputId": "7371db74-ec31-4ded-ba5d-f3a106363206"
      },
      "source": [
        "import sys\n",
        "sys.path.append(\"/content/drive/My Drive/Jacobian\")\n",
        "import jacobian as jac\n",
        "import utils"
      ],
      "execution_count": 8,
      "outputs": [
        {
          "output_type": "stream",
          "text": [
            "time: 793 ms\n"
          ],
          "name": "stdout"
        }
      ]
    },
    {
      "cell_type": "code",
      "metadata": {
        "id": "nT8SeVRcyv2R",
        "colab_type": "code",
        "colab": {
          "base_uri": "https://localhost:8080/",
          "height": 34
        },
        "outputId": "bd802e70-9fa6-41fa-a7e2-8a4965e20db6"
      },
      "source": [
        "import pytorchcv\n",
        "from pytorchcv.model_provider import get_model as ptcv_get_model"
      ],
      "execution_count": 10,
      "outputs": [
        {
          "output_type": "stream",
          "text": [
            "time: 90.9 ms\n"
          ],
          "name": "stdout"
        }
      ]
    },
    {
      "cell_type": "markdown",
      "metadata": {
        "id": "b6pvm9Wh1MJz",
        "colab_type": "text"
      },
      "source": [
        "### Compute JJ, in batches or all at once\n"
      ]
    },
    {
      "cell_type": "code",
      "metadata": {
        "id": "XPJqJb2yZINy",
        "colab_type": "code",
        "colab": {
          "base_uri": "https://localhost:8080/",
          "height": 34
        },
        "outputId": "3a18191c-dbac-4a11-c244-6a9a67da31aa"
      },
      "source": [
        "def get_datasets(thismodel, batch_size):\n",
        "  print(\"getting dataset for \", thismodel)\n",
        "  if thismodel.endswith('cifar100'):\n",
        "    print(\"loading cifar100\")\n",
        "    train_dataset = datasets.CIFAR100(\n",
        "      root='data', \n",
        "      train=True, \n",
        "      transform=transforms.ToTensor(),\n",
        "      download=True)\n",
        "    test_dataset = datasets.CIFAR100(\n",
        "      root='data', \n",
        "      train=False, \n",
        "      transform=transforms.ToTensor(),\n",
        "      download=True) \n",
        " \n",
        "    train_loader = DataLoader(\n",
        "      dataset=train_dataset, \n",
        "      batch_size=batch_size,\n",
        "      num_workers=4,\n",
        "      shuffle=False)\n",
        "    test_loader = DataLoader(\n",
        "      dataset=test_dataset, \n",
        "      batch_size=batch_size,\n",
        "      num_workers=4,\n",
        "      shuffle=False)\n",
        "\n",
        "  else:\n",
        "    print(\"loading cifar10\")\n",
        "    train_dataset, test_dataset, train_loader, test_loader = utils.get_data(batch_size=batch_size)\n",
        "\n",
        "      \n",
        "  return train_dataset, test_dataset, train_loader, test_loader"
      ],
      "execution_count": 11,
      "outputs": [
        {
          "output_type": "stream",
          "text": [
            "time: 7.53 ms\n"
          ],
          "name": "stdout"
        }
      ]
    },
    {
      "cell_type": "code",
      "metadata": {
        "id": "OOrW3nihw7aP",
        "colab_type": "code",
        "colab": {
          "base_uri": "https://localhost:8080/",
          "height": 321,
          "referenced_widgets": [
            "1b441aaf3d01405bb81f7ddcebd29f93",
            "05c9daf1af1b48cb8884ce9d2be697e5",
            "6dd117b0785d4a0faa266334af7a04ee",
            "9fc0af4428f94c19be2bd96cf5976f68",
            "ecbca335ce6a412b985c2d8d6b9d7f61",
            "f00c0a2662ef4b7ab0350f04860ae874",
            "474521a3d8174d97b48fed462030aefc",
            "564a3305315447fe8a5397cb59c01d74"
          ]
        },
        "outputId": "6d684c07-6657-4590-b135-ff74a4d18198"
      },
      "source": [
        "print(thismodel)\n",
        "train_dataset, test_dataset, train_loader, test_loader = get_datasets(thismodel, batch_size)#utils.get_data(batch_size=batch_size)\n",
        "#train_dataset, test_dataset, train_loader, test_loader = utils.get_data(batch_size=batch_size)\n",
        "\n",
        "print(test_dataset)\n",
        "GPUtil.showUtilization()\n"
      ],
      "execution_count": 12,
      "outputs": [
        {
          "output_type": "stream",
          "text": [
            "resnet164bn_cifar100\n",
            "getting dataset for  resnet164bn_cifar100\n",
            "loading cifar100\n",
            "Downloading https://www.cs.toronto.edu/~kriz/cifar-100-python.tar.gz to data/cifar-100-python.tar.gz\n"
          ],
          "name": "stdout"
        },
        {
          "output_type": "display_data",
          "data": {
            "application/vnd.jupyter.widget-view+json": {
              "model_id": "1b441aaf3d01405bb81f7ddcebd29f93",
              "version_minor": 0,
              "version_major": 2
            },
            "text/plain": [
              "HBox(children=(FloatProgress(value=1.0, bar_style='info', max=1.0), HTML(value='')))"
            ]
          },
          "metadata": {
            "tags": []
          }
        },
        {
          "output_type": "stream",
          "text": [
            "Extracting data/cifar-100-python.tar.gz to data\n",
            "Files already downloaded and verified\n",
            "Dataset CIFAR100\n",
            "    Number of datapoints: 10000\n",
            "    Root location: data\n",
            "    Split: Test\n",
            "    StandardTransform\n",
            "Transform: ToTensor()\n",
            "| ID | GPU | MEM |\n",
            "------------------\n",
            "|  0 |  0% |  0% |\n",
            "time: 7.04 s\n"
          ],
          "name": "stdout"
        }
      ]
    },
    {
      "cell_type": "markdown",
      "metadata": {
        "id": "vVOZ1nZatY3C",
        "colab_type": "text"
      },
      "source": [
        "### Hook for model eval later"
      ]
    },
    {
      "cell_type": "code",
      "metadata": {
        "id": "nZsgnzt1co7q",
        "colab_type": "code",
        "colab": {
          "base_uri": "https://localhost:8080/",
          "height": 34
        },
        "outputId": "e0e27a65-3649-49f5-d18f-b778fab8fee3"
      },
      "source": [
        "#model = ptcv_get_model(thismodel, pretrained=True)  "
      ],
      "execution_count": 13,
      "outputs": [
        {
          "output_type": "stream",
          "text": [
            "time: 1.21 ms\n"
          ],
          "name": "stdout"
        }
      ]
    },
    {
      "cell_type": "code",
      "metadata": {
        "id": "hHIBjIe-oeso",
        "colab_type": "code",
        "colab": {
          "base_uri": "https://localhost:8080/",
          "height": 34
        },
        "outputId": "64938d62-15a2-40ad-f663-123b29c03d88"
      },
      "source": [
        "def read_batched_JJMat(modelname, verbose=False):\n",
        "\n",
        "  if verbose:\n",
        "    print(\"Reading batched JJBlocks for \", modelname)\n",
        "    \n",
        "  JJMat = None\n",
        "  import os, glob\n",
        "  os.chdir(Jdir)\n",
        "  for filename in glob.glob(\"Jfull_{}*\".format(modelname)):\n",
        "    if verbose:\n",
        "      print(filename) \n",
        "\n",
        "    JJBlock = np.loadtxt(filename)\n",
        "    JJMat = np.vstack([JJMat, JJBlock]) if JJMat is not None else JJBlock\n",
        "\n",
        "  return JJMat"
      ],
      "execution_count": 35,
      "outputs": [
        {
          "output_type": "stream",
          "text": [
            "time: 3.56 ms\n"
          ],
          "name": "stdout"
        }
      ]
    },
    {
      "cell_type": "code",
      "metadata": {
        "id": "YsxEPxFXk_EK",
        "colab_type": "code",
        "colab": {
          "base_uri": "https://localhost:8080/",
          "height": 443
        },
        "outputId": "cd4191f8-6ca7-45a2-94d9-2a7c549438ac"
      },
      "source": [
        "import powerlaw\n",
        "\n",
        "alphas = []\n",
        "max_evals = []\n",
        "\n",
        "for modelname in modelnames:\n",
        "  print(modelname)\n",
        "  JJMat = read_batched_JJMat(modelname)\n",
        "\n",
        "  norm = num_classes*3*32*32\n",
        "  evals = np.linalg.eigh(JJMat)[0]   #LAPAK routine\n",
        "  evals  = (1.0/ norm)*evals\n",
        "\n",
        "  fit = powerlaw.Fit(evals)\n",
        "  alpha = fit.alpha\n",
        "  D = fit.D\n",
        "  max_eval = np.max(evals)\n",
        "\n",
        "  plt.hist(evals, bins=100)\n",
        "  plt.title(\"{}  alpha = {:0.2f} max  = {:0.2f} \".format(modelname, alpha, max_eval))\n",
        "  plt.show()\n",
        "\n",
        "  print(alpha, D, max_eval)\n",
        "  alphas.append(alpha)\n",
        "  max_evals.append(max_eval)\n",
        "\n"
      ],
      "execution_count": 52,
      "outputs": [
        {
          "output_type": "stream",
          "text": [
            "resnet542bn_cifar100\n"
          ],
          "name": "stdout"
        },
        {
          "output_type": "error",
          "ename": "LinAlgError",
          "evalue": "ignored",
          "traceback": [
            "\u001b[0;31m---------------------------------------------------------------------------\u001b[0m",
            "\u001b[0;31mLinAlgError\u001b[0m                               Traceback (most recent call last)",
            "\u001b[0;32m<ipython-input-52-1309c9bde386>\u001b[0m in \u001b[0;36m<module>\u001b[0;34m()\u001b[0m\n\u001b[1;32m      9\u001b[0m \u001b[0;34m\u001b[0m\u001b[0m\n\u001b[1;32m     10\u001b[0m   \u001b[0mnorm\u001b[0m \u001b[0;34m=\u001b[0m \u001b[0mnum_classes\u001b[0m\u001b[0;34m*\u001b[0m\u001b[0;36m3\u001b[0m\u001b[0;34m*\u001b[0m\u001b[0;36m32\u001b[0m\u001b[0;34m*\u001b[0m\u001b[0;36m32\u001b[0m\u001b[0;34m\u001b[0m\u001b[0;34m\u001b[0m\u001b[0m\n\u001b[0;32m---> 11\u001b[0;31m   \u001b[0mevals\u001b[0m \u001b[0;34m=\u001b[0m \u001b[0mnp\u001b[0m\u001b[0;34m.\u001b[0m\u001b[0mlinalg\u001b[0m\u001b[0;34m.\u001b[0m\u001b[0meigh\u001b[0m\u001b[0;34m(\u001b[0m\u001b[0mJJMat\u001b[0m\u001b[0;34m)\u001b[0m\u001b[0;34m[\u001b[0m\u001b[0;36m0\u001b[0m\u001b[0;34m]\u001b[0m   \u001b[0;31m#LAPAK routine\u001b[0m\u001b[0;34m\u001b[0m\u001b[0;34m\u001b[0m\u001b[0m\n\u001b[0m\u001b[1;32m     12\u001b[0m   \u001b[0mevals\u001b[0m  \u001b[0;34m=\u001b[0m \u001b[0;34m(\u001b[0m\u001b[0;36m1.0\u001b[0m\u001b[0;34m/\u001b[0m \u001b[0mnorm\u001b[0m\u001b[0;34m)\u001b[0m\u001b[0;34m*\u001b[0m\u001b[0mevals\u001b[0m\u001b[0;34m\u001b[0m\u001b[0;34m\u001b[0m\u001b[0m\n\u001b[1;32m     13\u001b[0m \u001b[0;34m\u001b[0m\u001b[0m\n",
            "\u001b[0;32m<__array_function__ internals>\u001b[0m in \u001b[0;36meigh\u001b[0;34m(*args, **kwargs)\u001b[0m\n",
            "\u001b[0;32m/usr/local/lib/python3.6/dist-packages/numpy/linalg/linalg.py\u001b[0m in \u001b[0;36meigh\u001b[0;34m(a, UPLO)\u001b[0m\n\u001b[1;32m   1433\u001b[0m     \u001b[0ma\u001b[0m\u001b[0;34m,\u001b[0m \u001b[0mwrap\u001b[0m \u001b[0;34m=\u001b[0m \u001b[0m_makearray\u001b[0m\u001b[0;34m(\u001b[0m\u001b[0ma\u001b[0m\u001b[0;34m)\u001b[0m\u001b[0;34m\u001b[0m\u001b[0;34m\u001b[0m\u001b[0m\n\u001b[1;32m   1434\u001b[0m     \u001b[0m_assert_stacked_2d\u001b[0m\u001b[0;34m(\u001b[0m\u001b[0ma\u001b[0m\u001b[0;34m)\u001b[0m\u001b[0;34m\u001b[0m\u001b[0;34m\u001b[0m\u001b[0m\n\u001b[0;32m-> 1435\u001b[0;31m     \u001b[0m_assert_stacked_square\u001b[0m\u001b[0;34m(\u001b[0m\u001b[0ma\u001b[0m\u001b[0;34m)\u001b[0m\u001b[0;34m\u001b[0m\u001b[0;34m\u001b[0m\u001b[0m\n\u001b[0m\u001b[1;32m   1436\u001b[0m     \u001b[0mt\u001b[0m\u001b[0;34m,\u001b[0m \u001b[0mresult_t\u001b[0m \u001b[0;34m=\u001b[0m \u001b[0m_commonType\u001b[0m\u001b[0;34m(\u001b[0m\u001b[0ma\u001b[0m\u001b[0;34m)\u001b[0m\u001b[0;34m\u001b[0m\u001b[0;34m\u001b[0m\u001b[0m\n\u001b[1;32m   1437\u001b[0m \u001b[0;34m\u001b[0m\u001b[0m\n",
            "\u001b[0;32m/usr/local/lib/python3.6/dist-packages/numpy/linalg/linalg.py\u001b[0m in \u001b[0;36m_assert_stacked_square\u001b[0;34m(*arrays)\u001b[0m\n\u001b[1;32m    211\u001b[0m         \u001b[0mm\u001b[0m\u001b[0;34m,\u001b[0m \u001b[0mn\u001b[0m \u001b[0;34m=\u001b[0m \u001b[0ma\u001b[0m\u001b[0;34m.\u001b[0m\u001b[0mshape\u001b[0m\u001b[0;34m[\u001b[0m\u001b[0;34m-\u001b[0m\u001b[0;36m2\u001b[0m\u001b[0;34m:\u001b[0m\u001b[0;34m]\u001b[0m\u001b[0;34m\u001b[0m\u001b[0;34m\u001b[0m\u001b[0m\n\u001b[1;32m    212\u001b[0m         \u001b[0;32mif\u001b[0m \u001b[0mm\u001b[0m \u001b[0;34m!=\u001b[0m \u001b[0mn\u001b[0m\u001b[0;34m:\u001b[0m\u001b[0;34m\u001b[0m\u001b[0;34m\u001b[0m\u001b[0m\n\u001b[0;32m--> 213\u001b[0;31m             \u001b[0;32mraise\u001b[0m \u001b[0mLinAlgError\u001b[0m\u001b[0;34m(\u001b[0m\u001b[0;34m'Last 2 dimensions of the array must be square'\u001b[0m\u001b[0;34m)\u001b[0m\u001b[0;34m\u001b[0m\u001b[0;34m\u001b[0m\u001b[0m\n\u001b[0m\u001b[1;32m    214\u001b[0m \u001b[0;34m\u001b[0m\u001b[0m\n\u001b[1;32m    215\u001b[0m \u001b[0;32mdef\u001b[0m \u001b[0m_assert_finite\u001b[0m\u001b[0;34m(\u001b[0m\u001b[0;34m*\u001b[0m\u001b[0marrays\u001b[0m\u001b[0;34m)\u001b[0m\u001b[0;34m:\u001b[0m\u001b[0;34m\u001b[0m\u001b[0;34m\u001b[0m\u001b[0m\n",
            "\u001b[0;31mLinAlgError\u001b[0m: Last 2 dimensions of the array must be square"
          ]
        },
        {
          "output_type": "stream",
          "text": [
            "time: 21.3 s\n"
          ],
          "name": "stdout"
        }
      ]
    },
    {
      "cell_type": "code",
      "metadata": {
        "id": "puBce9sosA_o",
        "colab_type": "code",
        "colab": {
          "base_uri": "https://localhost:8080/",
          "height": 1000
        },
        "outputId": "5e1ea925-f4e0-40c9-c862-e87ed01e8974"
      },
      "source": [
        "!ls *cifar100*"
      ],
      "execution_count": 49,
      "outputs": [
        {
          "output_type": "stream",
          "text": [
            "Jfull_resnet110_cifar100__0.csv     Jfull_resnet20_cifar100__32.csv\n",
            "Jfull_resnet110_cifar100__10.csv    Jfull_resnet20_cifar100__33.csv\n",
            "Jfull_resnet110_cifar100__11.csv    Jfull_resnet20_cifar100__34.csv\n",
            "Jfull_resnet110_cifar100__12.csv    Jfull_resnet20_cifar100__35.csv\n",
            "Jfull_resnet110_cifar100__13.csv    Jfull_resnet20_cifar100__36.csv\n",
            "Jfull_resnet110_cifar100__14.csv    Jfull_resnet20_cifar100__37.csv\n",
            "Jfull_resnet110_cifar100__15.csv    Jfull_resnet20_cifar100__38.csv\n",
            "Jfull_resnet110_cifar100__16.csv    Jfull_resnet20_cifar100__39.csv\n",
            "Jfull_resnet110_cifar100__17.csv    Jfull_resnet20_cifar100__3.csv\n",
            "Jfull_resnet110_cifar100__18.csv    Jfull_resnet20_cifar100__40.csv\n",
            "Jfull_resnet110_cifar100__19.csv    Jfull_resnet20_cifar100__41.csv\n",
            "Jfull_resnet110_cifar100__1.csv     Jfull_resnet20_cifar100__42.csv\n",
            "Jfull_resnet110_cifar100__20.csv    Jfull_resnet20_cifar100__43.csv\n",
            "Jfull_resnet110_cifar100__21.csv    Jfull_resnet20_cifar100__44.csv\n",
            "Jfull_resnet110_cifar100__22.csv    Jfull_resnet20_cifar100__45.csv\n",
            "Jfull_resnet110_cifar100__23.csv    Jfull_resnet20_cifar100__46.csv\n",
            "Jfull_resnet110_cifar100__24.csv    Jfull_resnet20_cifar100__47.csv\n",
            "Jfull_resnet110_cifar100__25.csv    Jfull_resnet20_cifar100__48.csv\n",
            "Jfull_resnet110_cifar100__26.csv    Jfull_resnet20_cifar100__49.csv\n",
            "Jfull_resnet110_cifar100__27.csv    Jfull_resnet20_cifar100__4.csv\n",
            "Jfull_resnet110_cifar100__28.csv    Jfull_resnet20_cifar100__50.csv\n",
            "Jfull_resnet110_cifar100__29.csv    Jfull_resnet20_cifar100__51.csv\n",
            "Jfull_resnet110_cifar100__2.csv     Jfull_resnet20_cifar100__52.csv\n",
            "Jfull_resnet110_cifar100__30.csv    Jfull_resnet20_cifar100__53.csv\n",
            "Jfull_resnet110_cifar100__31.csv    Jfull_resnet20_cifar100__54.csv\n",
            "Jfull_resnet110_cifar100__32.csv    Jfull_resnet20_cifar100__55.csv\n",
            "Jfull_resnet110_cifar100__33.csv    Jfull_resnet20_cifar100__56.csv\n",
            "Jfull_resnet110_cifar100__34.csv    Jfull_resnet20_cifar100__57.csv\n",
            "Jfull_resnet110_cifar100__35.csv    Jfull_resnet20_cifar100__58.csv\n",
            "Jfull_resnet110_cifar100__36.csv    Jfull_resnet20_cifar100__59.csv\n",
            "Jfull_resnet110_cifar100__37.csv    Jfull_resnet20_cifar100__5.csv\n",
            "Jfull_resnet110_cifar100__38.csv    Jfull_resnet20_cifar100__60.csv\n",
            "Jfull_resnet110_cifar100__39.csv    Jfull_resnet20_cifar100__61.csv\n",
            "Jfull_resnet110_cifar100__3.csv     Jfull_resnet20_cifar100__62.csv\n",
            "Jfull_resnet110_cifar100__40.csv    Jfull_resnet20_cifar100__63.csv\n",
            "Jfull_resnet110_cifar100__41.csv    Jfull_resnet20_cifar100__64.csv\n",
            "Jfull_resnet110_cifar100__42.csv    Jfull_resnet20_cifar100__65.csv\n",
            "Jfull_resnet110_cifar100__43.csv    Jfull_resnet20_cifar100__66.csv\n",
            "Jfull_resnet110_cifar100__44.csv    Jfull_resnet20_cifar100__67.csv\n",
            "Jfull_resnet110_cifar100__45.csv    Jfull_resnet20_cifar100__68.csv\n",
            "Jfull_resnet110_cifar100__46.csv    Jfull_resnet20_cifar100__69.csv\n",
            "Jfull_resnet110_cifar100__47.csv    Jfull_resnet20_cifar100__6.csv\n",
            "Jfull_resnet110_cifar100__48.csv    Jfull_resnet20_cifar100__70.csv\n",
            "Jfull_resnet110_cifar100__49.csv    Jfull_resnet20_cifar100__71.csv\n",
            "Jfull_resnet110_cifar100__4.csv     Jfull_resnet20_cifar100__72.csv\n",
            "Jfull_resnet110_cifar100__50.csv    Jfull_resnet20_cifar100__73.csv\n",
            "Jfull_resnet110_cifar100__51.csv    Jfull_resnet20_cifar100__74.csv\n",
            "Jfull_resnet110_cifar100__52.csv    Jfull_resnet20_cifar100__75.csv\n",
            "Jfull_resnet110_cifar100__53.csv    Jfull_resnet20_cifar100__76.csv\n",
            "Jfull_resnet110_cifar100__54.csv    Jfull_resnet20_cifar100__77.csv\n",
            "Jfull_resnet110_cifar100__55.csv    Jfull_resnet20_cifar100__78.csv\n",
            "Jfull_resnet110_cifar100__56.csv    Jfull_resnet20_cifar100__79.csv\n",
            "Jfull_resnet110_cifar100__57.csv    Jfull_resnet20_cifar100__7.csv\n",
            "Jfull_resnet110_cifar100__58.csv    Jfull_resnet20_cifar100__80.csv\n",
            "Jfull_resnet110_cifar100__59.csv    Jfull_resnet20_cifar100__81.csv\n",
            "Jfull_resnet110_cifar100__5.csv     Jfull_resnet20_cifar100__82.csv\n",
            "Jfull_resnet110_cifar100__60.csv    Jfull_resnet20_cifar100__83.csv\n",
            "Jfull_resnet110_cifar100__61.csv    Jfull_resnet20_cifar100__84.csv\n",
            "Jfull_resnet110_cifar100__62.csv    Jfull_resnet20_cifar100__85.csv\n",
            "Jfull_resnet110_cifar100__63.csv    Jfull_resnet20_cifar100__86.csv\n",
            "Jfull_resnet110_cifar100__64.csv    Jfull_resnet20_cifar100__87.csv\n",
            "Jfull_resnet110_cifar100__65.csv    Jfull_resnet20_cifar100__88.csv\n",
            "Jfull_resnet110_cifar100__66.csv    Jfull_resnet20_cifar100__89.csv\n",
            "Jfull_resnet110_cifar100__67.csv    Jfull_resnet20_cifar100__8.csv\n",
            "Jfull_resnet110_cifar100__68.csv    Jfull_resnet20_cifar100__90.csv\n",
            "Jfull_resnet110_cifar100__69.csv    Jfull_resnet20_cifar100__91.csv\n",
            "Jfull_resnet110_cifar100__6.csv     Jfull_resnet20_cifar100__92.csv\n",
            "Jfull_resnet110_cifar100__70.csv    Jfull_resnet20_cifar100__93.csv\n",
            "Jfull_resnet110_cifar100__71.csv    Jfull_resnet20_cifar100__94.csv\n",
            "Jfull_resnet110_cifar100__72.csv    Jfull_resnet20_cifar100__95.csv\n",
            "Jfull_resnet110_cifar100__73.csv    Jfull_resnet20_cifar100__96.csv\n",
            "Jfull_resnet110_cifar100__74.csv    Jfull_resnet20_cifar100__97.csv\n",
            "Jfull_resnet110_cifar100__75.csv    Jfull_resnet20_cifar100__98.csv\n",
            "Jfull_resnet110_cifar100__76.csv    Jfull_resnet20_cifar100__99.csv\n",
            "Jfull_resnet110_cifar100__77.csv    Jfull_resnet20_cifar100__9.csv\n",
            "Jfull_resnet110_cifar100__78.csv    Jfull_resnet272bn_cifar100__0.csv\n",
            "Jfull_resnet110_cifar100__79.csv    Jfull_resnet272bn_cifar100__10.csv\n",
            "Jfull_resnet110_cifar100__7.csv     Jfull_resnet272bn_cifar100__11.csv\n",
            "Jfull_resnet110_cifar100__80.csv    Jfull_resnet272bn_cifar100__12.csv\n",
            "Jfull_resnet110_cifar100__81.csv    Jfull_resnet272bn_cifar100__13.csv\n",
            "Jfull_resnet110_cifar100__82.csv    Jfull_resnet272bn_cifar100__14.csv\n",
            "Jfull_resnet110_cifar100__83.csv    Jfull_resnet272bn_cifar100__15.csv\n",
            "Jfull_resnet110_cifar100__84.csv    Jfull_resnet272bn_cifar100__16.csv\n",
            "Jfull_resnet110_cifar100__85.csv    Jfull_resnet272bn_cifar100__17.csv\n",
            "Jfull_resnet110_cifar100__86.csv    Jfull_resnet272bn_cifar100__18.csv\n",
            "Jfull_resnet110_cifar100__87.csv    Jfull_resnet272bn_cifar100__19.csv\n",
            "Jfull_resnet110_cifar100__88.csv    Jfull_resnet272bn_cifar100__1.csv\n",
            "Jfull_resnet110_cifar100__89.csv    Jfull_resnet272bn_cifar100__20.csv\n",
            "Jfull_resnet110_cifar100__8.csv     Jfull_resnet272bn_cifar100__21.csv\n",
            "Jfull_resnet110_cifar100__90.csv    Jfull_resnet272bn_cifar100__22.csv\n",
            "Jfull_resnet110_cifar100__91.csv    Jfull_resnet272bn_cifar100__23.csv\n",
            "Jfull_resnet110_cifar100__92.csv    Jfull_resnet272bn_cifar100__24.csv\n",
            "Jfull_resnet110_cifar100__93.csv    Jfull_resnet272bn_cifar100__25.csv\n",
            "Jfull_resnet110_cifar100__94.csv    Jfull_resnet272bn_cifar100__26.csv\n",
            "Jfull_resnet110_cifar100__95.csv    Jfull_resnet272bn_cifar100__27.csv\n",
            "Jfull_resnet110_cifar100__96.csv    Jfull_resnet272bn_cifar100__28.csv\n",
            "Jfull_resnet110_cifar100__97.csv    Jfull_resnet272bn_cifar100__29.csv\n",
            "Jfull_resnet110_cifar100__98.csv    Jfull_resnet272bn_cifar100__2.csv\n",
            "Jfull_resnet110_cifar100__99.csv    Jfull_resnet272bn_cifar100__30.csv\n",
            "Jfull_resnet110_cifar100__9.csv     Jfull_resnet272bn_cifar100__31.csv\n",
            "Jfull_resnet164bn_cifar100__0.csv   Jfull_resnet272bn_cifar100__32.csv\n",
            "Jfull_resnet164bn_cifar100__10.csv  Jfull_resnet272bn_cifar100__3.csv\n",
            "Jfull_resnet164bn_cifar100__11.csv  Jfull_resnet272bn_cifar100__4.csv\n",
            "Jfull_resnet164bn_cifar100__12.csv  Jfull_resnet272bn_cifar100__5.csv\n",
            "Jfull_resnet164bn_cifar100__13.csv  Jfull_resnet272bn_cifar100__6.csv\n",
            "Jfull_resnet164bn_cifar100__14.csv  Jfull_resnet272bn_cifar100__7.csv\n",
            "Jfull_resnet164bn_cifar100__15.csv  Jfull_resnet272bn_cifar100__8.csv\n",
            "Jfull_resnet164bn_cifar100__16.csv  Jfull_resnet272bn_cifar100__9.csv\n",
            "Jfull_resnet164bn_cifar100__17.csv  Jfull_resnet542bn_cifar100__0.csv\n",
            "Jfull_resnet164bn_cifar100__18.csv  Jfull_resnet542bn_cifar100__10.csv\n",
            "Jfull_resnet164bn_cifar100__19.csv  Jfull_resnet542bn_cifar100__11.csv\n",
            "Jfull_resnet164bn_cifar100__1.csv   Jfull_resnet542bn_cifar100__12.csv\n",
            "Jfull_resnet164bn_cifar100__20.csv  Jfull_resnet542bn_cifar100__13.csv\n",
            "Jfull_resnet164bn_cifar100__21.csv  Jfull_resnet542bn_cifar100__14.csv\n",
            "Jfull_resnet164bn_cifar100__22.csv  Jfull_resnet542bn_cifar100__15.csv\n",
            "Jfull_resnet164bn_cifar100__23.csv  Jfull_resnet542bn_cifar100__16.csv\n",
            "Jfull_resnet164bn_cifar100__24.csv  Jfull_resnet542bn_cifar100__1.csv\n",
            "Jfull_resnet164bn_cifar100__25.csv  Jfull_resnet542bn_cifar100__2.csv\n",
            "Jfull_resnet164bn_cifar100__26.csv  Jfull_resnet542bn_cifar100__3.csv\n",
            "Jfull_resnet164bn_cifar100__27.csv  Jfull_resnet542bn_cifar100__4.csv\n",
            "Jfull_resnet164bn_cifar100__28.csv  Jfull_resnet542bn_cifar100__5.csv\n",
            "Jfull_resnet164bn_cifar100__29.csv  Jfull_resnet542bn_cifar100__6.csv\n",
            "Jfull_resnet164bn_cifar100__2.csv   Jfull_resnet542bn_cifar100__7.csv\n",
            "Jfull_resnet164bn_cifar100__30.csv  Jfull_resnet542bn_cifar100__8.csv\n",
            "Jfull_resnet164bn_cifar100__31.csv  Jfull_resnet542bn_cifar100__9.csv\n",
            "Jfull_resnet164bn_cifar100__32.csv  Jfull_resnet56_cifar100__0.csv\n",
            "Jfull_resnet164bn_cifar100__33.csv  Jfull_resnet56_cifar100__10.csv\n",
            "Jfull_resnet164bn_cifar100__34.csv  Jfull_resnet56_cifar100__11.csv\n",
            "Jfull_resnet164bn_cifar100__35.csv  Jfull_resnet56_cifar100__12.csv\n",
            "Jfull_resnet164bn_cifar100__36.csv  Jfull_resnet56_cifar100__13.csv\n",
            "Jfull_resnet164bn_cifar100__37.csv  Jfull_resnet56_cifar100__14.csv\n",
            "Jfull_resnet164bn_cifar100__38.csv  Jfull_resnet56_cifar100__15.csv\n",
            "Jfull_resnet164bn_cifar100__39.csv  Jfull_resnet56_cifar100__16.csv\n",
            "Jfull_resnet164bn_cifar100__3.csv   Jfull_resnet56_cifar100__17.csv\n",
            "Jfull_resnet164bn_cifar100__40.csv  Jfull_resnet56_cifar100__18.csv\n",
            "Jfull_resnet164bn_cifar100__41.csv  Jfull_resnet56_cifar100__19.csv\n",
            "Jfull_resnet164bn_cifar100__42.csv  Jfull_resnet56_cifar100__1.csv\n",
            "Jfull_resnet164bn_cifar100__43.csv  Jfull_resnet56_cifar100__20.csv\n",
            "Jfull_resnet164bn_cifar100__44.csv  Jfull_resnet56_cifar100__21.csv\n",
            "Jfull_resnet164bn_cifar100__45.csv  Jfull_resnet56_cifar100__22.csv\n",
            "Jfull_resnet164bn_cifar100__46.csv  Jfull_resnet56_cifar100__23.csv\n",
            "Jfull_resnet164bn_cifar100__47.csv  Jfull_resnet56_cifar100__24.csv\n",
            "Jfull_resnet164bn_cifar100__48.csv  Jfull_resnet56_cifar100__25.csv\n",
            "Jfull_resnet164bn_cifar100__49.csv  Jfull_resnet56_cifar100__26.csv\n",
            "Jfull_resnet164bn_cifar100__4.csv   Jfull_resnet56_cifar100__27.csv\n",
            "Jfull_resnet164bn_cifar100__50.csv  Jfull_resnet56_cifar100__28.csv\n",
            "Jfull_resnet164bn_cifar100__51.csv  Jfull_resnet56_cifar100__29.csv\n",
            "Jfull_resnet164bn_cifar100__52.csv  Jfull_resnet56_cifar100__2.csv\n",
            "Jfull_resnet164bn_cifar100__53.csv  Jfull_resnet56_cifar100__30.csv\n",
            "Jfull_resnet164bn_cifar100__54.csv  Jfull_resnet56_cifar100__31.csv\n",
            "Jfull_resnet164bn_cifar100__55.csv  Jfull_resnet56_cifar100__32.csv\n",
            "Jfull_resnet164bn_cifar100__56.csv  Jfull_resnet56_cifar100__33.csv\n",
            "Jfull_resnet164bn_cifar100__57.csv  Jfull_resnet56_cifar100__34.csv\n",
            "Jfull_resnet164bn_cifar100__58.csv  Jfull_resnet56_cifar100__35.csv\n",
            "Jfull_resnet164bn_cifar100__59.csv  Jfull_resnet56_cifar100__36.csv\n",
            "Jfull_resnet164bn_cifar100__5.csv   Jfull_resnet56_cifar100__37.csv\n",
            "Jfull_resnet164bn_cifar100__60.csv  Jfull_resnet56_cifar100__38.csv\n",
            "Jfull_resnet164bn_cifar100__61.csv  Jfull_resnet56_cifar100__39.csv\n",
            "Jfull_resnet164bn_cifar100__62.csv  Jfull_resnet56_cifar100__3.csv\n",
            "Jfull_resnet164bn_cifar100__63.csv  Jfull_resnet56_cifar100__40.csv\n",
            "Jfull_resnet164bn_cifar100__64.csv  Jfull_resnet56_cifar100__41.csv\n",
            "Jfull_resnet164bn_cifar100__65.csv  Jfull_resnet56_cifar100__42.csv\n",
            "Jfull_resnet164bn_cifar100__66.csv  Jfull_resnet56_cifar100__43.csv\n",
            "Jfull_resnet164bn_cifar100__67.csv  Jfull_resnet56_cifar100__44.csv\n",
            "Jfull_resnet164bn_cifar100__68.csv  Jfull_resnet56_cifar100__45.csv\n",
            "Jfull_resnet164bn_cifar100__69.csv  Jfull_resnet56_cifar100__46.csv\n",
            "Jfull_resnet164bn_cifar100__6.csv   Jfull_resnet56_cifar100__47.csv\n",
            "Jfull_resnet164bn_cifar100__70.csv  Jfull_resnet56_cifar100__48.csv\n",
            "Jfull_resnet164bn_cifar100__71.csv  Jfull_resnet56_cifar100__49.csv\n",
            "Jfull_resnet164bn_cifar100__72.csv  Jfull_resnet56_cifar100__4.csv\n",
            "Jfull_resnet164bn_cifar100__73.csv  Jfull_resnet56_cifar100__50.csv\n",
            "Jfull_resnet164bn_cifar100__74.csv  Jfull_resnet56_cifar100__51.csv\n",
            "Jfull_resnet164bn_cifar100__75.csv  Jfull_resnet56_cifar100__52.csv\n",
            "Jfull_resnet164bn_cifar100__76.csv  Jfull_resnet56_cifar100__53.csv\n",
            "Jfull_resnet164bn_cifar100__77.csv  Jfull_resnet56_cifar100__54.csv\n",
            "Jfull_resnet164bn_cifar100__78.csv  Jfull_resnet56_cifar100__55.csv\n",
            "Jfull_resnet164bn_cifar100__79.csv  Jfull_resnet56_cifar100__56.csv\n",
            "Jfull_resnet164bn_cifar100__7.csv   Jfull_resnet56_cifar100__57.csv\n",
            "Jfull_resnet164bn_cifar100__80.csv  Jfull_resnet56_cifar100__58.csv\n",
            "Jfull_resnet164bn_cifar100__81.csv  Jfull_resnet56_cifar100__59.csv\n",
            "Jfull_resnet164bn_cifar100__82.csv  Jfull_resnet56_cifar100__5.csv\n",
            "Jfull_resnet164bn_cifar100__83.csv  Jfull_resnet56_cifar100__60.csv\n",
            "Jfull_resnet164bn_cifar100__84.csv  Jfull_resnet56_cifar100__61.csv\n",
            "Jfull_resnet164bn_cifar100__85.csv  Jfull_resnet56_cifar100__62.csv\n",
            "Jfull_resnet164bn_cifar100__86.csv  Jfull_resnet56_cifar100__63.csv\n",
            "Jfull_resnet164bn_cifar100__87.csv  Jfull_resnet56_cifar100__64.csv\n",
            "Jfull_resnet164bn_cifar100__88.csv  Jfull_resnet56_cifar100__65.csv\n",
            "Jfull_resnet164bn_cifar100__89.csv  Jfull_resnet56_cifar100__66.csv\n",
            "Jfull_resnet164bn_cifar100__8.csv   Jfull_resnet56_cifar100__67.csv\n",
            "Jfull_resnet164bn_cifar100__90.csv  Jfull_resnet56_cifar100__68.csv\n",
            "Jfull_resnet164bn_cifar100__91.csv  Jfull_resnet56_cifar100__69.csv\n",
            "Jfull_resnet164bn_cifar100__92.csv  Jfull_resnet56_cifar100__6.csv\n",
            "Jfull_resnet164bn_cifar100__93.csv  Jfull_resnet56_cifar100__70.csv\n",
            "Jfull_resnet164bn_cifar100__94.csv  Jfull_resnet56_cifar100__71.csv\n",
            "Jfull_resnet164bn_cifar100__95.csv  Jfull_resnet56_cifar100__72.csv\n",
            "Jfull_resnet164bn_cifar100__96.csv  Jfull_resnet56_cifar100__73.csv\n",
            "Jfull_resnet164bn_cifar100__97.csv  Jfull_resnet56_cifar100__74.csv\n",
            "Jfull_resnet164bn_cifar100__98.csv  Jfull_resnet56_cifar100__75.csv\n",
            "Jfull_resnet164bn_cifar100__99.csv  Jfull_resnet56_cifar100__76.csv\n",
            "Jfull_resnet164bn_cifar100__9.csv   Jfull_resnet56_cifar100__77.csv\n",
            "Jfull_resnet20_cifar100__0.csv\t    Jfull_resnet56_cifar100__78.csv\n",
            "Jfull_resnet20_cifar100__10.csv     Jfull_resnet56_cifar100__79.csv\n",
            "Jfull_resnet20_cifar100__11.csv     Jfull_resnet56_cifar100__7.csv\n",
            "Jfull_resnet20_cifar100__12.csv     Jfull_resnet56_cifar100__80.csv\n",
            "Jfull_resnet20_cifar100__13.csv     Jfull_resnet56_cifar100__81.csv\n",
            "Jfull_resnet20_cifar100__14.csv     Jfull_resnet56_cifar100__82.csv\n",
            "Jfull_resnet20_cifar100__15.csv     Jfull_resnet56_cifar100__83.csv\n",
            "Jfull_resnet20_cifar100__16.csv     Jfull_resnet56_cifar100__84.csv\n",
            "Jfull_resnet20_cifar100__17.csv     Jfull_resnet56_cifar100__85.csv\n",
            "Jfull_resnet20_cifar100__18.csv     Jfull_resnet56_cifar100__86.csv\n",
            "Jfull_resnet20_cifar100__19.csv     Jfull_resnet56_cifar100__87.csv\n",
            "Jfull_resnet20_cifar100__1.csv\t    Jfull_resnet56_cifar100__88.csv\n",
            "Jfull_resnet20_cifar100__20.csv     Jfull_resnet56_cifar100__89.csv\n",
            "Jfull_resnet20_cifar100__21.csv     Jfull_resnet56_cifar100__8.csv\n",
            "Jfull_resnet20_cifar100__22.csv     Jfull_resnet56_cifar100__90.csv\n",
            "Jfull_resnet20_cifar100__23.csv     Jfull_resnet56_cifar100__91.csv\n",
            "Jfull_resnet20_cifar100__24.csv     Jfull_resnet56_cifar100__92.csv\n",
            "Jfull_resnet20_cifar100__25.csv     Jfull_resnet56_cifar100__93.csv\n",
            "Jfull_resnet20_cifar100__26.csv     Jfull_resnet56_cifar100__94.csv\n",
            "Jfull_resnet20_cifar100__27.csv     Jfull_resnet56_cifar100__95.csv\n",
            "Jfull_resnet20_cifar100__28.csv     Jfull_resnet56_cifar100__96.csv\n",
            "Jfull_resnet20_cifar100__29.csv     Jfull_resnet56_cifar100__97.csv\n",
            "Jfull_resnet20_cifar100__2.csv\t    Jfull_resnet56_cifar100__98.csv\n",
            "Jfull_resnet20_cifar100__30.csv     Jfull_resnet56_cifar100__99.csv\n",
            "Jfull_resnet20_cifar100__31.csv     Jfull_resnet56_cifar100__9.csv\n",
            "time: 812 ms\n"
          ],
          "name": "stdout"
        }
      ]
    },
    {
      "cell_type": "code",
      "metadata": {
        "id": "d4ZnbAQ96u6y",
        "colab_type": "code",
        "colab": {
          "base_uri": "https://localhost:8080/",
          "height": 34
        },
        "outputId": "dc9d14ab-8562-45cc-d4c3-837f900269e8"
      },
      "source": [
        "JJMat.shape"
      ],
      "execution_count": 53,
      "outputs": [
        {
          "output_type": "execute_result",
          "data": {
            "text/plain": [
              "(1700, 10000)"
            ]
          },
          "metadata": {
            "tags": []
          },
          "execution_count": 53
        },
        {
          "output_type": "stream",
          "text": [
            "time: 3.26 ms\n"
          ],
          "name": "stdout"
        }
      ]
    },
    {
      "cell_type": "code",
      "metadata": {
        "id": "vld-cLeI7P9b",
        "colab_type": "code",
        "colab": {}
      },
      "source": [
        ""
      ],
      "execution_count": null,
      "outputs": []
    }
  ]
}